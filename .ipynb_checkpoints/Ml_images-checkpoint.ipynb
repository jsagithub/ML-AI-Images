{
 "cells": [
  {
   "cell_type": "code",
   "execution_count": 1,
   "metadata": {},
   "outputs": [],
   "source": [
    "from sklearn import datasets\n",
    "import matplotlib.pyplot as plt\n",
    "import numpy as np\n",
    "\n",
    "#Draw numbers\n",
    "digits = datasets.load_digits()\n",
    "\n",
    "def display_img(img_no):\n",
    "    fig, ax = plt.subplots()\n",
    "    ax.set_xticklabels([])\n",
    "    ax.set_yticklabels([])\n",
    "    ax.matshow(digits.images[img_no], cmap = plt.cm.binary);"
   ]
  },
  {
   "cell_type": "code",
   "execution_count": 2,
   "metadata": {},
   "outputs": [
    {
     "data": {
      "image/png": "[encoded data removed]",
      "text/plain": [
       "<Figure size 432x288 with 1 Axes>"
      ]
     },
     "metadata": {},
     "output_type": "display_data"
    }
   ],
   "source": [
    "display_img(0)"
   ]
  },
  {
   "cell_type": "code",
   "execution_count": 3,
   "metadata": {},
   "outputs": [
    {
     "data": {
      "text/plain": [
       "array([[ 0.,  0.,  5., 13.,  9.,  1.,  0.,  0.],\n",
       "       [ 0.,  0., 13., 15., 10., 15.,  5.,  0.],\n",
       "       [ 0.,  3., 15.,  2.,  0., 11.,  8.,  0.],\n",
       "       [ 0.,  4., 12.,  0.,  0.,  8.,  8.,  0.],\n",
       "       [ 0.,  5.,  8.,  0.,  0.,  9.,  8.,  0.],\n",
       "       [ 0.,  4., 11.,  0.,  1., 12.,  7.,  0.],\n",
       "       [ 0.,  2., 14.,  5., 10., 12.,  0.,  0.],\n",
       "       [ 0.,  0.,  6., 13., 10.,  0.,  0.,  0.]])"
      ]
     },
     "execution_count": 3,
     "metadata": {},
     "output_type": "execute_result"
    }
   ],
   "source": [
    "digits.images[0]"
   ]
  },
  {
   "cell_type": "code",
   "execution_count": 4,
   "metadata": {},
   "outputs": [
    {
     "data": {
      "text/plain": [
       "(64,)"
      ]
     },
     "execution_count": 4,
     "metadata": {},
     "output_type": "execute_result"
    }
   ],
   "source": [
    "digits.data[0].shape"
   ]
  },
  {
   "cell_type": "code",
   "execution_count": 5,
   "metadata": {},
   "outputs": [
    {
     "data": {
      "text/plain": [
       "0"
      ]
     },
     "execution_count": 5,
     "metadata": {},
     "output_type": "execute_result"
    }
   ],
   "source": [
    "digits.target[0]"
   ]
  },
  {
   "cell_type": "code",
   "execution_count": 6,
   "metadata": {},
   "outputs": [],
   "source": [
    "#Search Similar images\n",
    "import pandas as pd\n",
    "from sklearn.metrics.pairwise import cosine_similarity"
   ]
  },
  {
   "cell_type": "code",
   "execution_count": 7,
   "metadata": {},
   "outputs": [],
   "source": [
    "x = digits.data\n",
    "co_sim = cosine_similarity(x[0].reshape(1,-1),x)"
   ]
  },
  {
   "cell_type": "code",
   "execution_count": 8,
   "metadata": {},
   "outputs": [
    {
     "data": {
      "text/html": [
       "<div>\n",
       "<style scoped>\n",
       "    .dataframe tbody tr th:only-of-type {\n",
       "        vertical-align: middle;\n",
       "    }\n",
       "\n",
       "    .dataframe tbody tr th {\n",
       "        vertical-align: top;\n",
       "    }\n",
       "\n",
       "    .dataframe thead th {\n",
       "        text-align: right;\n",
       "    }\n",
       "</style>\n",
       "<table border=\"1\" class=\"dataframe\">\n",
       "  <thead>\n",
       "    <tr style=\"text-align: right;\">\n",
       "      <th></th>\n",
       "      <th>similarity</th>\n",
       "    </tr>\n",
       "  </thead>\n",
       "  <tbody>\n",
       "    <tr>\n",
       "      <th>0</th>\n",
       "      <td>1.000000</td>\n",
       "    </tr>\n",
       "    <tr>\n",
       "      <th>877</th>\n",
       "      <td>0.980739</td>\n",
       "    </tr>\n",
       "    <tr>\n",
       "      <th>464</th>\n",
       "      <td>0.974474</td>\n",
       "    </tr>\n",
       "    <tr>\n",
       "      <th>1365</th>\n",
       "      <td>0.974188</td>\n",
       "    </tr>\n",
       "    <tr>\n",
       "      <th>1541</th>\n",
       "      <td>0.971831</td>\n",
       "    </tr>\n",
       "    <tr>\n",
       "      <th>1167</th>\n",
       "      <td>0.971130</td>\n",
       "    </tr>\n",
       "    <tr>\n",
       "      <th>1029</th>\n",
       "      <td>0.970858</td>\n",
       "    </tr>\n",
       "    <tr>\n",
       "      <th>396</th>\n",
       "      <td>0.968793</td>\n",
       "    </tr>\n",
       "    <tr>\n",
       "      <th>1697</th>\n",
       "      <td>0.966019</td>\n",
       "    </tr>\n",
       "    <tr>\n",
       "      <th>646</th>\n",
       "      <td>0.965490</td>\n",
       "    </tr>\n",
       "    <tr>\n",
       "      <th>1342</th>\n",
       "      <td>0.963990</td>\n",
       "    </tr>\n",
       "    <tr>\n",
       "      <th>160</th>\n",
       "      <td>0.961824</td>\n",
       "    </tr>\n",
       "    <tr>\n",
       "      <th>957</th>\n",
       "      <td>0.960468</td>\n",
       "    </tr>\n",
       "    <tr>\n",
       "      <th>335</th>\n",
       "      <td>0.959937</td>\n",
       "    </tr>\n",
       "    <tr>\n",
       "      <th>1463</th>\n",
       "      <td>0.958401</td>\n",
       "    </tr>\n",
       "    <tr>\n",
       "      <th>855</th>\n",
       "      <td>0.958079</td>\n",
       "    </tr>\n",
       "    <tr>\n",
       "      <th>229</th>\n",
       "      <td>0.957180</td>\n",
       "    </tr>\n",
       "    <tr>\n",
       "      <th>642</th>\n",
       "      <td>0.956975</td>\n",
       "    </tr>\n",
       "    <tr>\n",
       "      <th>682</th>\n",
       "      <td>0.956633</td>\n",
       "    </tr>\n",
       "    <tr>\n",
       "      <th>812</th>\n",
       "      <td>0.954502</td>\n",
       "    </tr>\n",
       "    <tr>\n",
       "      <th>276</th>\n",
       "      <td>0.953733</td>\n",
       "    </tr>\n",
       "    <tr>\n",
       "      <th>311</th>\n",
       "      <td>0.953675</td>\n",
       "    </tr>\n",
       "    <tr>\n",
       "      <th>725</th>\n",
       "      <td>0.953565</td>\n",
       "    </tr>\n",
       "    <tr>\n",
       "      <th>30</th>\n",
       "      <td>0.953453</td>\n",
       "    </tr>\n",
       "    <tr>\n",
       "      <th>666</th>\n",
       "      <td>0.952949</td>\n",
       "    </tr>\n",
       "    <tr>\n",
       "      <th>516</th>\n",
       "      <td>0.952674</td>\n",
       "    </tr>\n",
       "    <tr>\n",
       "      <th>305</th>\n",
       "      <td>0.952255</td>\n",
       "    </tr>\n",
       "    <tr>\n",
       "      <th>724</th>\n",
       "      <td>0.951774</td>\n",
       "    </tr>\n",
       "    <tr>\n",
       "      <th>1494</th>\n",
       "      <td>0.951671</td>\n",
       "    </tr>\n",
       "    <tr>\n",
       "      <th>458</th>\n",
       "      <td>0.951614</td>\n",
       "    </tr>\n",
       "    <tr>\n",
       "      <th>...</th>\n",
       "      <td>...</td>\n",
       "    </tr>\n",
       "    <tr>\n",
       "      <th>1372</th>\n",
       "      <td>0.486735</td>\n",
       "    </tr>\n",
       "    <tr>\n",
       "      <th>1613</th>\n",
       "      <td>0.486612</td>\n",
       "    </tr>\n",
       "    <tr>\n",
       "      <th>517</th>\n",
       "      <td>0.485804</td>\n",
       "    </tr>\n",
       "    <tr>\n",
       "      <th>972</th>\n",
       "      <td>0.484865</td>\n",
       "    </tr>\n",
       "    <tr>\n",
       "      <th>1000</th>\n",
       "      <td>0.479740</td>\n",
       "    </tr>\n",
       "    <tr>\n",
       "      <th>1357</th>\n",
       "      <td>0.479682</td>\n",
       "    </tr>\n",
       "    <tr>\n",
       "      <th>623</th>\n",
       "      <td>0.476078</td>\n",
       "    </tr>\n",
       "    <tr>\n",
       "      <th>215</th>\n",
       "      <td>0.473342</td>\n",
       "    </tr>\n",
       "    <tr>\n",
       "      <th>107</th>\n",
       "      <td>0.472412</td>\n",
       "    </tr>\n",
       "    <tr>\n",
       "      <th>1634</th>\n",
       "      <td>0.471961</td>\n",
       "    </tr>\n",
       "    <tr>\n",
       "      <th>777</th>\n",
       "      <td>0.469736</td>\n",
       "    </tr>\n",
       "    <tr>\n",
       "      <th>85</th>\n",
       "      <td>0.466485</td>\n",
       "    </tr>\n",
       "    <tr>\n",
       "      <th>994</th>\n",
       "      <td>0.466440</td>\n",
       "    </tr>\n",
       "    <tr>\n",
       "      <th>1590</th>\n",
       "      <td>0.463689</td>\n",
       "    </tr>\n",
       "    <tr>\n",
       "      <th>1380</th>\n",
       "      <td>0.456986</td>\n",
       "    </tr>\n",
       "    <tr>\n",
       "      <th>609</th>\n",
       "      <td>0.456557</td>\n",
       "    </tr>\n",
       "    <tr>\n",
       "      <th>1377</th>\n",
       "      <td>0.449912</td>\n",
       "    </tr>\n",
       "    <tr>\n",
       "      <th>267</th>\n",
       "      <td>0.449633</td>\n",
       "    </tr>\n",
       "    <tr>\n",
       "      <th>336</th>\n",
       "      <td>0.446742</td>\n",
       "    </tr>\n",
       "    <tr>\n",
       "      <th>1621</th>\n",
       "      <td>0.442270</td>\n",
       "    </tr>\n",
       "    <tr>\n",
       "      <th>1551</th>\n",
       "      <td>0.440442</td>\n",
       "    </tr>\n",
       "    <tr>\n",
       "      <th>341</th>\n",
       "      <td>0.430761</td>\n",
       "    </tr>\n",
       "    <tr>\n",
       "      <th>1648</th>\n",
       "      <td>0.426239</td>\n",
       "    </tr>\n",
       "    <tr>\n",
       "      <th>1329</th>\n",
       "      <td>0.425764</td>\n",
       "    </tr>\n",
       "    <tr>\n",
       "      <th>1640</th>\n",
       "      <td>0.420540</td>\n",
       "    </tr>\n",
       "    <tr>\n",
       "      <th>1334</th>\n",
       "      <td>0.420014</td>\n",
       "    </tr>\n",
       "    <tr>\n",
       "      <th>1585</th>\n",
       "      <td>0.402730</td>\n",
       "    </tr>\n",
       "    <tr>\n",
       "      <th>1213</th>\n",
       "      <td>0.393677</td>\n",
       "    </tr>\n",
       "    <tr>\n",
       "      <th>1631</th>\n",
       "      <td>0.368377</td>\n",
       "    </tr>\n",
       "    <tr>\n",
       "      <th>1626</th>\n",
       "      <td>0.361120</td>\n",
       "    </tr>\n",
       "  </tbody>\n",
       "</table>\n",
       "<p>1797 rows × 1 columns</p>\n",
       "</div>"
      ],
      "text/plain": [
       "      similarity\n",
       "0       1.000000\n",
       "877     0.980739\n",
       "464     0.974474\n",
       "1365    0.974188\n",
       "1541    0.971831\n",
       "1167    0.971130\n",
       "1029    0.970858\n",
       "396     0.968793\n",
       "1697    0.966019\n",
       "646     0.965490\n",
       "1342    0.963990\n",
       "160     0.961824\n",
       "957     0.960468\n",
       "335     0.959937\n",
       "1463    0.958401\n",
       "855     0.958079\n",
       "229     0.957180\n",
       "642     0.956975\n",
       "682     0.956633\n",
       "812     0.954502\n",
       "276     0.953733\n",
       "311     0.953675\n",
       "725     0.953565\n",
       "30      0.953453\n",
       "666     0.952949\n",
       "516     0.952674\n",
       "305     0.952255\n",
       "724     0.951774\n",
       "1494    0.951671\n",
       "458     0.951614\n",
       "...          ...\n",
       "1372    0.486735\n",
       "1613    0.486612\n",
       "517     0.485804\n",
       "972     0.484865\n",
       "1000    0.479740\n",
       "1357    0.479682\n",
       "623     0.476078\n",
       "215     0.473342\n",
       "107     0.472412\n",
       "1634    0.471961\n",
       "777     0.469736\n",
       "85      0.466485\n",
       "994     0.466440\n",
       "1590    0.463689\n",
       "1380    0.456986\n",
       "609     0.456557\n",
       "1377    0.449912\n",
       "267     0.449633\n",
       "336     0.446742\n",
       "1621    0.442270\n",
       "1551    0.440442\n",
       "341     0.430761\n",
       "1648    0.426239\n",
       "1329    0.425764\n",
       "1640    0.420540\n",
       "1334    0.420014\n",
       "1585    0.402730\n",
       "1213    0.393677\n",
       "1631    0.368377\n",
       "1626    0.361120\n",
       "\n",
       "[1797 rows x 1 columns]"
      ]
     },
     "execution_count": 8,
     "metadata": {},
     "output_type": "execute_result"
    }
   ],
   "source": [
    "cosf = pd.DataFrame(co_sim).T\n",
    "cosf.columns = ['similarity']\n",
    "cosf.sort_values('similarity', ascending=False)"
   ]
  },
  {
   "cell_type": "code",
   "execution_count": 9,
   "metadata": {},
   "outputs": [
    {
     "data": {
      "image/png": "[encoded data removed]",
      "text/plain": [
       "<Figure size 432x288 with 1 Axes>"
      ]
     },
     "metadata": {},
     "output_type": "display_data"
    }
   ],
   "source": [
    "display_img(877)"
   ]
  },
  {
   "cell_type": "code",
   "execution_count": 10,
   "metadata": {},
   "outputs": [
    {
     "data": {
      "image/png": "[encoded data removed]",
      "text/plain": [
       "<Figure size 432x288 with 1 Axes>"
      ]
     },
     "metadata": {},
     "output_type": "display_data"
    }
   ],
   "source": [
    "display_img(1626)"
   ]
  },
  {
   "cell_type": "code",
   "execution_count": 11,
   "metadata": {},
   "outputs": [
    {
     "data": {
      "text/html": [
       "<div>\n",
       "<style scoped>\n",
       "    .dataframe tbody tr th:only-of-type {\n",
       "        vertical-align: middle;\n",
       "    }\n",
       "\n",
       "    .dataframe tbody tr th {\n",
       "        vertical-align: top;\n",
       "    }\n",
       "\n",
       "    .dataframe thead th {\n",
       "        text-align: right;\n",
       "    }\n",
       "</style>\n",
       "<table border=\"1\" class=\"dataframe\">\n",
       "  <thead>\n",
       "    <tr style=\"text-align: right;\">\n",
       "      <th></th>\n",
       "      <th>similarity</th>\n",
       "    </tr>\n",
       "  </thead>\n",
       "  <tbody>\n",
       "    <tr>\n",
       "      <th>0</th>\n",
       "      <td>1.000000e+00</td>\n",
       "    </tr>\n",
       "    <tr>\n",
       "      <th>1167</th>\n",
       "      <td>1.644255e-07</td>\n",
       "    </tr>\n",
       "    <tr>\n",
       "      <th>877</th>\n",
       "      <td>1.040593e-07</td>\n",
       "    </tr>\n",
       "    <tr>\n",
       "      <th>464</th>\n",
       "      <td>1.232666e-08</td>\n",
       "    </tr>\n",
       "    <tr>\n",
       "      <th>1541</th>\n",
       "      <td>8.598399e-09</td>\n",
       "    </tr>\n",
       "    <tr>\n",
       "      <th>1365</th>\n",
       "      <td>8.274881e-09</td>\n",
       "    </tr>\n",
       "    <tr>\n",
       "      <th>1029</th>\n",
       "      <td>1.907361e-09</td>\n",
       "    </tr>\n",
       "    <tr>\n",
       "      <th>855</th>\n",
       "      <td>1.487874e-10</td>\n",
       "    </tr>\n",
       "    <tr>\n",
       "      <th>1697</th>\n",
       "      <td>1.191874e-10</td>\n",
       "    </tr>\n",
       "    <tr>\n",
       "      <th>957</th>\n",
       "      <td>1.870301e-11</td>\n",
       "    </tr>\n",
       "    <tr>\n",
       "      <th>1463</th>\n",
       "      <td>1.714631e-12</td>\n",
       "    </tr>\n",
       "    <tr>\n",
       "      <th>1236</th>\n",
       "      <td>1.528919e-13</td>\n",
       "    </tr>\n",
       "    <tr>\n",
       "      <th>646</th>\n",
       "      <td>8.264444e-14</td>\n",
       "    </tr>\n",
       "    <tr>\n",
       "      <th>335</th>\n",
       "      <td>7.758213e-14</td>\n",
       "    </tr>\n",
       "    <tr>\n",
       "      <th>812</th>\n",
       "      <td>4.250581e-14</td>\n",
       "    </tr>\n",
       "    <tr>\n",
       "      <th>276</th>\n",
       "      <td>2.589843e-14</td>\n",
       "    </tr>\n",
       "    <tr>\n",
       "      <th>305</th>\n",
       "      <td>1.141329e-14</td>\n",
       "    </tr>\n",
       "    <tr>\n",
       "      <th>806</th>\n",
       "      <td>1.101042e-14</td>\n",
       "    </tr>\n",
       "    <tr>\n",
       "      <th>311</th>\n",
       "      <td>6.290698e-15</td>\n",
       "    </tr>\n",
       "    <tr>\n",
       "      <th>1128</th>\n",
       "      <td>5.081774e-15</td>\n",
       "    </tr>\n",
       "    <tr>\n",
       "      <th>1494</th>\n",
       "      <td>4.847325e-15</td>\n",
       "    </tr>\n",
       "    <tr>\n",
       "      <th>166</th>\n",
       "      <td>4.115303e-15</td>\n",
       "    </tr>\n",
       "    <tr>\n",
       "      <th>516</th>\n",
       "      <td>2.819098e-15</td>\n",
       "    </tr>\n",
       "    <tr>\n",
       "      <th>642</th>\n",
       "      <td>1.384852e-15</td>\n",
       "    </tr>\n",
       "    <tr>\n",
       "      <th>229</th>\n",
       "      <td>1.246194e-15</td>\n",
       "    </tr>\n",
       "    <tr>\n",
       "      <th>1002</th>\n",
       "      <td>1.177180e-15</td>\n",
       "    </tr>\n",
       "    <tr>\n",
       "      <th>676</th>\n",
       "      <td>8.403675e-16</td>\n",
       "    </tr>\n",
       "    <tr>\n",
       "      <th>1745</th>\n",
       "      <td>7.786381e-16</td>\n",
       "    </tr>\n",
       "    <tr>\n",
       "      <th>396</th>\n",
       "      <td>7.525816e-16</td>\n",
       "    </tr>\n",
       "    <tr>\n",
       "      <th>941</th>\n",
       "      <td>6.983304e-16</td>\n",
       "    </tr>\n",
       "    <tr>\n",
       "      <th>...</th>\n",
       "      <td>...</td>\n",
       "    </tr>\n",
       "    <tr>\n",
       "      <th>558</th>\n",
       "      <td>1.580173e-124</td>\n",
       "    </tr>\n",
       "    <tr>\n",
       "      <th>537</th>\n",
       "      <td>1.045260e-124</td>\n",
       "    </tr>\n",
       "    <tr>\n",
       "      <th>1718</th>\n",
       "      <td>8.244835e-125</td>\n",
       "    </tr>\n",
       "    <tr>\n",
       "      <th>987</th>\n",
       "      <td>3.545141e-125</td>\n",
       "    </tr>\n",
       "    <tr>\n",
       "      <th>832</th>\n",
       "      <td>1.385241e-125</td>\n",
       "    </tr>\n",
       "    <tr>\n",
       "      <th>947</th>\n",
       "      <td>1.010415e-125</td>\n",
       "    </tr>\n",
       "    <tr>\n",
       "      <th>1551</th>\n",
       "      <td>8.810739e-126</td>\n",
       "    </tr>\n",
       "    <tr>\n",
       "      <th>1000</th>\n",
       "      <td>4.658142e-126</td>\n",
       "    </tr>\n",
       "    <tr>\n",
       "      <th>1648</th>\n",
       "      <td>3.785987e-126</td>\n",
       "    </tr>\n",
       "    <tr>\n",
       "      <th>572</th>\n",
       "      <td>3.661237e-126</td>\n",
       "    </tr>\n",
       "    <tr>\n",
       "      <th>994</th>\n",
       "      <td>3.042558e-126</td>\n",
       "    </tr>\n",
       "    <tr>\n",
       "      <th>312</th>\n",
       "      <td>2.429941e-126</td>\n",
       "    </tr>\n",
       "    <tr>\n",
       "      <th>953</th>\n",
       "      <td>3.466028e-127</td>\n",
       "    </tr>\n",
       "    <tr>\n",
       "      <th>1437</th>\n",
       "      <td>1.789318e-127</td>\n",
       "    </tr>\n",
       "    <tr>\n",
       "      <th>986</th>\n",
       "      <td>7.574662e-128</td>\n",
       "    </tr>\n",
       "    <tr>\n",
       "      <th>215</th>\n",
       "      <td>5.942922e-128</td>\n",
       "    </tr>\n",
       "    <tr>\n",
       "      <th>1640</th>\n",
       "      <td>1.382383e-128</td>\n",
       "    </tr>\n",
       "    <tr>\n",
       "      <th>336</th>\n",
       "      <td>5.279808e-129</td>\n",
       "    </tr>\n",
       "    <tr>\n",
       "      <th>1380</th>\n",
       "      <td>2.082809e-129</td>\n",
       "    </tr>\n",
       "    <tr>\n",
       "      <th>1329</th>\n",
       "      <td>4.867742e-131</td>\n",
       "    </tr>\n",
       "    <tr>\n",
       "      <th>517</th>\n",
       "      <td>1.673149e-131</td>\n",
       "    </tr>\n",
       "    <tr>\n",
       "      <th>1334</th>\n",
       "      <td>7.601630e-132</td>\n",
       "    </tr>\n",
       "    <tr>\n",
       "      <th>1626</th>\n",
       "      <td>4.137893e-132</td>\n",
       "    </tr>\n",
       "    <tr>\n",
       "      <th>341</th>\n",
       "      <td>2.398919e-132</td>\n",
       "    </tr>\n",
       "    <tr>\n",
       "      <th>623</th>\n",
       "      <td>6.193922e-133</td>\n",
       "    </tr>\n",
       "    <tr>\n",
       "      <th>1585</th>\n",
       "      <td>1.176835e-133</td>\n",
       "    </tr>\n",
       "    <tr>\n",
       "      <th>916</th>\n",
       "      <td>4.820881e-134</td>\n",
       "    </tr>\n",
       "    <tr>\n",
       "      <th>1213</th>\n",
       "      <td>1.319706e-134</td>\n",
       "    </tr>\n",
       "    <tr>\n",
       "      <th>1631</th>\n",
       "      <td>5.139275e-138</td>\n",
       "    </tr>\n",
       "    <tr>\n",
       "      <th>609</th>\n",
       "      <td>2.381570e-138</td>\n",
       "    </tr>\n",
       "  </tbody>\n",
       "</table>\n",
       "<p>1797 rows × 1 columns</p>\n",
       "</div>"
      ],
      "text/plain": [
       "         similarity\n",
       "0      1.000000e+00\n",
       "1167   1.644255e-07\n",
       "877    1.040593e-07\n",
       "464    1.232666e-08\n",
       "1541   8.598399e-09\n",
       "1365   8.274881e-09\n",
       "1029   1.907361e-09\n",
       "855    1.487874e-10\n",
       "1697   1.191874e-10\n",
       "957    1.870301e-11\n",
       "1463   1.714631e-12\n",
       "1236   1.528919e-13\n",
       "646    8.264444e-14\n",
       "335    7.758213e-14\n",
       "812    4.250581e-14\n",
       "276    2.589843e-14\n",
       "305    1.141329e-14\n",
       "806    1.101042e-14\n",
       "311    6.290698e-15\n",
       "1128   5.081774e-15\n",
       "1494   4.847325e-15\n",
       "166    4.115303e-15\n",
       "516    2.819098e-15\n",
       "642    1.384852e-15\n",
       "229    1.246194e-15\n",
       "1002   1.177180e-15\n",
       "676    8.403675e-16\n",
       "1745   7.786381e-16\n",
       "396    7.525816e-16\n",
       "941    6.983304e-16\n",
       "...             ...\n",
       "558   1.580173e-124\n",
       "537   1.045260e-124\n",
       "1718  8.244835e-125\n",
       "987   3.545141e-125\n",
       "832   1.385241e-125\n",
       "947   1.010415e-125\n",
       "1551  8.810739e-126\n",
       "1000  4.658142e-126\n",
       "1648  3.785987e-126\n",
       "572   3.661237e-126\n",
       "994   3.042558e-126\n",
       "312   2.429941e-126\n",
       "953   3.466028e-127\n",
       "1437  1.789318e-127\n",
       "986   7.574662e-128\n",
       "215   5.942922e-128\n",
       "1640  1.382383e-128\n",
       "336   5.279808e-129\n",
       "1380  2.082809e-129\n",
       "1329  4.867742e-131\n",
       "517   1.673149e-131\n",
       "1334  7.601630e-132\n",
       "1626  4.137893e-132\n",
       "341   2.398919e-132\n",
       "623   6.193922e-133\n",
       "1585  1.176835e-133\n",
       "916   4.820881e-134\n",
       "1213  1.319706e-134\n",
       "1631  5.139275e-138\n",
       "609   2.381570e-138\n",
       "\n",
       "[1797 rows x 1 columns]"
      ]
     },
     "execution_count": 11,
     "metadata": {},
     "output_type": "execute_result"
    }
   ],
   "source": [
    "from sklearn.metrics.pairwise import chi2_kernel\n",
    "k_sim = chi2_kernel(x[0].reshape(1,-1),x)\n",
    "kf = pd.DataFrame(k_sim).T\n",
    "kf.columns = ['similarity']\n",
    "kf.sort_values('similarity', ascending=False)"
   ]
  },
  {
   "cell_type": "code",
   "execution_count": 12,
   "metadata": {},
   "outputs": [],
   "source": [
    "import graphlab"
   ]
  },
  {
   "cell_type": "code",
   "execution_count": 13,
   "metadata": {},
   "outputs": [
    {
     "name": "stdout",
     "output_type": "stream",
     "text": [
      "Canvas is accessible via web browser at the URL: http://localhost:33361/index.html\n",
      "Opening Canvas in default web browser.\n"
     ]
    }
   ],
   "source": [
    "graphlab.canvas.show()"
   ]
  },
  {
   "cell_type": "code",
   "execution_count": 14,
   "metadata": {},
   "outputs": [],
   "source": [
    "graphlab.canvas.set_target('ipynb')"
   ]
  },
  {
   "cell_type": "code",
   "execution_count": 15,
   "metadata": {},
   "outputs": [
    {
     "name": "stdout",
     "output_type": "stream",
     "text": [
      "This non-commercial license of GraphLab Create for academic use is assigned to josesa.jsa@gmail.com and will expire on June 15, 2019.\n"
     ]
    },
    {
     "name": "stderr",
     "output_type": "stream",
     "text": [
      "[INFO] graphlab.cython.cy_server: GraphLab Create v2.1 started. Logging: /tmp/graphlab_server_1529085119.log\n"
     ]
    },
    {
     "data": {
      "text/html": [
       "<pre>Downloading http://s3.amazonaws.com/dato-datasets/coursera/deep_learning/image_train_data/dir_archive.ini to /var/tmp/graphlab-jsa/6987/6a82ff8c-592c-43ee-adc0-961ec0ff7dbf.ini</pre>"
      ],
      "text/plain": [
       "Downloading http://s3.amazonaws.com/dato-datasets/coursera/deep_learning/image_train_data/dir_archive.ini to /var/tmp/graphlab-jsa/6987/6a82ff8c-592c-43ee-adc0-961ec0ff7dbf.ini"
      ]
     },
     "metadata": {},
     "output_type": "display_data"
    },
    {
     "data": {
      "text/html": [
       "<pre>Downloading http://s3.amazonaws.com/dato-datasets/coursera/deep_learning/image_train_data/objects.bin to /var/tmp/graphlab-jsa/6987/1245695c-376f-4f38-9384-73825939e671.bin</pre>"
      ],
      "text/plain": [
       "Downloading http://s3.amazonaws.com/dato-datasets/coursera/deep_learning/image_train_data/objects.bin to /var/tmp/graphlab-jsa/6987/1245695c-376f-4f38-9384-73825939e671.bin"
      ]
     },
     "metadata": {},
     "output_type": "display_data"
    },
    {
     "data": {
      "text/html": [
       "<pre>Downloading http://s3.amazonaws.com/dato-datasets/coursera/deep_learning/image_train_data/m_8b0619884fada761.frame_idx to /var/tmp/graphlab-jsa/6987/343511e5-0a65-46cf-8393-07e542557cc5.frame_idx</pre>"
      ],
      "text/plain": [
       "Downloading http://s3.amazonaws.com/dato-datasets/coursera/deep_learning/image_train_data/m_8b0619884fada761.frame_idx to /var/tmp/graphlab-jsa/6987/343511e5-0a65-46cf-8393-07e542557cc5.frame_idx"
      ]
     },
     "metadata": {},
     "output_type": "display_data"
    },
    {
     "data": {
      "text/html": [
       "<pre>Downloading http://s3.amazonaws.com/dato-datasets/coursera/deep_learning/image_train_data/m_8b0619884fada761.sidx to /var/tmp/graphlab-jsa/6987/23405e1b-5fbf-482a-9d05-b8f5edf61832.sidx</pre>"
      ],
      "text/plain": [
       "Downloading http://s3.amazonaws.com/dato-datasets/coursera/deep_learning/image_train_data/m_8b0619884fada761.sidx to /var/tmp/graphlab-jsa/6987/23405e1b-5fbf-482a-9d05-b8f5edf61832.sidx"
      ]
     },
     "metadata": {},
     "output_type": "display_data"
    },
    {
     "data": {
      "text/html": [
       "<pre>Downloading http://s3.amazonaws.com/dato-datasets/coursera/deep_learning/image_train_data/m_8b0619884fada761.0000 to /var/tmp/graphlab-jsa/6987/b852f52f-7bd4-49ba-a20a-96dc7b6b6c01.0000</pre>"
      ],
      "text/plain": [
       "Downloading http://s3.amazonaws.com/dato-datasets/coursera/deep_learning/image_train_data/m_8b0619884fada761.0000 to /var/tmp/graphlab-jsa/6987/b852f52f-7bd4-49ba-a20a-96dc7b6b6c01.0000"
      ]
     },
     "metadata": {},
     "output_type": "display_data"
    },
    {
     "data": {
      "text/html": [
       "<div style=\"max-height:1000px;max-width:1500px;overflow:auto;\"><table frame=\"box\" rules=\"cols\">\n",
       "    <tr>\n",
       "        <th style=\"padding-left: 1em; padding-right: 1em; text-align: center\">id</th>\n",
       "        <th style=\"padding-left: 1em; padding-right: 1em; text-align: center\">image</th>\n",
       "        <th style=\"padding-left: 1em; padding-right: 1em; text-align: center\">label</th>\n",
       "        <th style=\"padding-left: 1em; padding-right: 1em; text-align: center\">deep_features</th>\n",
       "        <th style=\"padding-left: 1em; padding-right: 1em; text-align: center\">image_array</th>\n",
       "    </tr>\n",
       "    <tr>\n",
       "        <td style=\"padding-left: 1em; padding-right: 1em; text-align: center; vertical-align: top\">24</td>\n",
       "        <td style=\"padding-left: 1em; padding-right: 1em; text-align: center; vertical-align: top\">Height: 32 Width: 32</td>\n",
       "        <td style=\"padding-left: 1em; padding-right: 1em; text-align: center; vertical-align: top\">bird</td>\n",
       "        <td style=\"padding-left: 1em; padding-right: 1em; text-align: center; vertical-align: top\">[0.242871761322,<br>1.09545373917, 0.0, ...</td>\n",
       "        <td style=\"padding-left: 1em; padding-right: 1em; text-align: center; vertical-align: top\">[73.0, 77.0, 58.0, 71.0,<br>68.0, 50.0, 77.0, 69.0, ...</td>\n",
       "    </tr>\n",
       "    <tr>\n",
       "        <td style=\"padding-left: 1em; padding-right: 1em; text-align: center; vertical-align: top\">33</td>\n",
       "        <td style=\"padding-left: 1em; padding-right: 1em; text-align: center; vertical-align: top\">Height: 32 Width: 32</td>\n",
       "        <td style=\"padding-left: 1em; padding-right: 1em; text-align: center; vertical-align: top\">cat</td>\n",
       "        <td style=\"padding-left: 1em; padding-right: 1em; text-align: center; vertical-align: top\">[0.525087952614, 0.0,<br>0.0, 0.0, 0.0, 0.0, ...</td>\n",
       "        <td style=\"padding-left: 1em; padding-right: 1em; text-align: center; vertical-align: top\">[7.0, 5.0, 8.0, 7.0, 5.0,<br>8.0, 5.0, 4.0, 6.0, 7.0, ...</td>\n",
       "    </tr>\n",
       "    <tr>\n",
       "        <td style=\"padding-left: 1em; padding-right: 1em; text-align: center; vertical-align: top\">36</td>\n",
       "        <td style=\"padding-left: 1em; padding-right: 1em; text-align: center; vertical-align: top\">Height: 32 Width: 32</td>\n",
       "        <td style=\"padding-left: 1em; padding-right: 1em; text-align: center; vertical-align: top\">cat</td>\n",
       "        <td style=\"padding-left: 1em; padding-right: 1em; text-align: center; vertical-align: top\">[0.566015958786, 0.0,<br>0.0, 0.0, 0.0, 0.0, ...</td>\n",
       "        <td style=\"padding-left: 1em; padding-right: 1em; text-align: center; vertical-align: top\">[169.0, 122.0, 65.0,<br>131.0, 108.0, 75.0, ...</td>\n",
       "    </tr>\n",
       "    <tr>\n",
       "        <td style=\"padding-left: 1em; padding-right: 1em; text-align: center; vertical-align: top\">70</td>\n",
       "        <td style=\"padding-left: 1em; padding-right: 1em; text-align: center; vertical-align: top\">Height: 32 Width: 32</td>\n",
       "        <td style=\"padding-left: 1em; padding-right: 1em; text-align: center; vertical-align: top\">dog</td>\n",
       "        <td style=\"padding-left: 1em; padding-right: 1em; text-align: center; vertical-align: top\">[1.12979578972, 0.0, 0.0,<br>0.778194487095, 0.0, ...</td>\n",
       "        <td style=\"padding-left: 1em; padding-right: 1em; text-align: center; vertical-align: top\">[154.0, 179.0, 152.0,<br>159.0, 183.0, 157.0, ...</td>\n",
       "    </tr>\n",
       "    <tr>\n",
       "        <td style=\"padding-left: 1em; padding-right: 1em; text-align: center; vertical-align: top\">90</td>\n",
       "        <td style=\"padding-left: 1em; padding-right: 1em; text-align: center; vertical-align: top\">Height: 32 Width: 32</td>\n",
       "        <td style=\"padding-left: 1em; padding-right: 1em; text-align: center; vertical-align: top\">bird</td>\n",
       "        <td style=\"padding-left: 1em; padding-right: 1em; text-align: center; vertical-align: top\">[1.71786928177, 0.0, 0.0,<br>0.0, 0.0, 0.0, ...</td>\n",
       "        <td style=\"padding-left: 1em; padding-right: 1em; text-align: center; vertical-align: top\">[216.0, 195.0, 180.0,<br>201.0, 178.0, 160.0, ...</td>\n",
       "    </tr>\n",
       "    <tr>\n",
       "        <td style=\"padding-left: 1em; padding-right: 1em; text-align: center; vertical-align: top\">97</td>\n",
       "        <td style=\"padding-left: 1em; padding-right: 1em; text-align: center; vertical-align: top\">Height: 32 Width: 32</td>\n",
       "        <td style=\"padding-left: 1em; padding-right: 1em; text-align: center; vertical-align: top\">automobile</td>\n",
       "        <td style=\"padding-left: 1em; padding-right: 1em; text-align: center; vertical-align: top\">[1.57818555832, 0.0, 0.0,<br>0.0, 0.0, 0.0, ...</td>\n",
       "        <td style=\"padding-left: 1em; padding-right: 1em; text-align: center; vertical-align: top\">[33.0, 44.0, 27.0, 29.0,<br>44.0, 31.0, 32.0, 45.0, ...</td>\n",
       "    </tr>\n",
       "    <tr>\n",
       "        <td style=\"padding-left: 1em; padding-right: 1em; text-align: center; vertical-align: top\">107</td>\n",
       "        <td style=\"padding-left: 1em; padding-right: 1em; text-align: center; vertical-align: top\">Height: 32 Width: 32</td>\n",
       "        <td style=\"padding-left: 1em; padding-right: 1em; text-align: center; vertical-align: top\">dog</td>\n",
       "        <td style=\"padding-left: 1em; padding-right: 1em; text-align: center; vertical-align: top\">[0.0, 0.0,<br>0.220677852631, 0.0,  ...</td>\n",
       "        <td style=\"padding-left: 1em; padding-right: 1em; text-align: center; vertical-align: top\">[97.0, 51.0, 31.0, 104.0,<br>58.0, 38.0, 107.0, 61.0, ...</td>\n",
       "    </tr>\n",
       "    <tr>\n",
       "        <td style=\"padding-left: 1em; padding-right: 1em; text-align: center; vertical-align: top\">121</td>\n",
       "        <td style=\"padding-left: 1em; padding-right: 1em; text-align: center; vertical-align: top\">Height: 32 Width: 32</td>\n",
       "        <td style=\"padding-left: 1em; padding-right: 1em; text-align: center; vertical-align: top\">bird</td>\n",
       "        <td style=\"padding-left: 1em; padding-right: 1em; text-align: center; vertical-align: top\">[0.0, 0.23753464222, 0.0,<br>0.0, 0.0, 0.0, ...</td>\n",
       "        <td style=\"padding-left: 1em; padding-right: 1em; text-align: center; vertical-align: top\">[93.0, 96.0, 88.0, 102.0,<br>106.0, 97.0, 117.0, ...</td>\n",
       "    </tr>\n",
       "    <tr>\n",
       "        <td style=\"padding-left: 1em; padding-right: 1em; text-align: center; vertical-align: top\">136</td>\n",
       "        <td style=\"padding-left: 1em; padding-right: 1em; text-align: center; vertical-align: top\">Height: 32 Width: 32</td>\n",
       "        <td style=\"padding-left: 1em; padding-right: 1em; text-align: center; vertical-align: top\">automobile</td>\n",
       "        <td style=\"padding-left: 1em; padding-right: 1em; text-align: center; vertical-align: top\">[0.0, 0.0, 0.0, 0.0, 0.0,<br>0.0, 7.5737862587, 0.0, ...</td>\n",
       "        <td style=\"padding-left: 1em; padding-right: 1em; text-align: center; vertical-align: top\">[35.0, 59.0, 53.0, 36.0,<br>56.0, 56.0, 42.0, 62.0, ...</td>\n",
       "    </tr>\n",
       "    <tr>\n",
       "        <td style=\"padding-left: 1em; padding-right: 1em; text-align: center; vertical-align: top\">138</td>\n",
       "        <td style=\"padding-left: 1em; padding-right: 1em; text-align: center; vertical-align: top\">Height: 32 Width: 32</td>\n",
       "        <td style=\"padding-left: 1em; padding-right: 1em; text-align: center; vertical-align: top\">bird</td>\n",
       "        <td style=\"padding-left: 1em; padding-right: 1em; text-align: center; vertical-align: top\">[0.658935725689, 0.0,<br>0.0, 0.0, 0.0, 0.0, ...</td>\n",
       "        <td style=\"padding-left: 1em; padding-right: 1em; text-align: center; vertical-align: top\">[205.0, 193.0, 195.0,<br>200.0, 187.0, 193.0, ...</td>\n",
       "    </tr>\n",
       "</table>\n",
       "[2005 rows x 5 columns]<br/>Note: Only the head of the SFrame is printed.<br/>You can use print_rows(num_rows=m, num_columns=n) to print more rows and columns.\n",
       "</div>"
      ],
      "text/plain": [
       "Columns:\n",
       "\tid\tint\n",
       "\timage\tImage\n",
       "\tlabel\tstr\n",
       "\tdeep_features\tarray\n",
       "\timage_array\tarray\n",
       "\n",
       "Rows: 2005\n",
       "\n",
       "Data:\n",
       "+-----+----------------------+------------+-------------------------------+\n",
       "|  id |        image         |   label    |         deep_features         |\n",
       "+-----+----------------------+------------+-------------------------------+\n",
       "|  24 | Height: 32 Width: 32 |    bird    | [0.242871761322, 1.0954537... |\n",
       "|  33 | Height: 32 Width: 32 |    cat     | [0.525087952614, 0.0, 0.0,... |\n",
       "|  36 | Height: 32 Width: 32 |    cat     | [0.566015958786, 0.0, 0.0,... |\n",
       "|  70 | Height: 32 Width: 32 |    dog     | [1.12979578972, 0.0, 0.0, ... |\n",
       "|  90 | Height: 32 Width: 32 |    bird    | [1.71786928177, 0.0, 0.0, ... |\n",
       "|  97 | Height: 32 Width: 32 | automobile | [1.57818555832, 0.0, 0.0, ... |\n",
       "| 107 | Height: 32 Width: 32 |    dog     | [0.0, 0.0, 0.220677852631,... |\n",
       "| 121 | Height: 32 Width: 32 |    bird    | [0.0, 0.23753464222, 0.0, ... |\n",
       "| 136 | Height: 32 Width: 32 | automobile | [0.0, 0.0, 0.0, 0.0, 0.0, ... |\n",
       "| 138 | Height: 32 Width: 32 |    bird    | [0.658935725689, 0.0, 0.0,... |\n",
       "+-----+----------------------+------------+-------------------------------+\n",
       "+-------------------------------+\n",
       "|          image_array          |\n",
       "+-------------------------------+\n",
       "| [73.0, 77.0, 58.0, 71.0, 6... |\n",
       "| [7.0, 5.0, 8.0, 7.0, 5.0, ... |\n",
       "| [169.0, 122.0, 65.0, 131.0... |\n",
       "| [154.0, 179.0, 152.0, 159.... |\n",
       "| [216.0, 195.0, 180.0, 201.... |\n",
       "| [33.0, 44.0, 27.0, 29.0, 4... |\n",
       "| [97.0, 51.0, 31.0, 104.0, ... |\n",
       "| [93.0, 96.0, 88.0, 102.0, ... |\n",
       "| [35.0, 59.0, 53.0, 36.0, 5... |\n",
       "| [205.0, 193.0, 195.0, 200.... |\n",
       "+-------------------------------+\n",
       "[2005 rows x 5 columns]\n",
       "Note: Only the head of the SFrame is printed.\n",
       "You can use print_rows(num_rows=m, num_columns=n) to print more rows and columns."
      ]
     },
     "execution_count": 15,
     "metadata": {},
     "output_type": "execute_result"
    }
   ],
   "source": [
    "gl_img = graphlab.SFrame('http://s3.amazonaws.com/dato-datasets/coursera/deep_learning/image_train_data')\n",
    "gl_img"
   ]
  },
  {
   "cell_type": "code",
   "execution_count": 16,
   "metadata": {},
   "outputs": [
    {
     "data": {
      "application/javascript": [
       "$(\"head\").append($(\"<link/>\").attr({\n",
       "  rel:  \"stylesheet\",\n",
       "  type: \"text/css\",\n",
       "  href: \"//cdnjs.cloudflare.com/ajax/libs/font-awesome/4.1.0/css/font-awesome.min.css\"\n",
       "}));\n",
       "$(\"head\").append($(\"<link/>\").attr({\n",
       "  rel:  \"stylesheet\",\n",
       "  type: \"text/css\",\n",
       "  href: \"https://static.turi.com/products/graphlab-create/2.1/canvas/css/canvas.css\"\n",
       "}));\n",
       "\n",
       "            (function(){\n",
       "\n",
       "                var e = null;\n",
       "                if (typeof element == 'undefined') {\n",
       "                    var scripts = document.getElementsByTagName('script');\n",
       "                    var thisScriptTag = scripts[scripts.length-1];\n",
       "                    var parentDiv = thisScriptTag.parentNode;\n",
       "                    e = document.createElement('div');\n",
       "                    parentDiv.appendChild(e);\n",
       "                } else {\n",
       "                    e = element[0];\n",
       "                }\n",
       "\n",
       "                if (typeof requirejs !== 'undefined') {\n",
       "                    // disable load timeout; ipython_app.js is large and can take a while to load.\n",
       "                    requirejs.config({waitSeconds: 0});\n",
       "                }\n",
       "\n",
       "                require(['https://static.turi.com/products/graphlab-create/2.1/canvas/js/ipython_app.js'], function(IPythonApp){\n",
       "                    var app = new IPythonApp();\n",
       "                    app.attachView('sarray','Images', {\"ipython\": true, \"rows\": [{\"format\": \"raw\", \"value\": [73, 77, 58, 71, 68, 50, 77, 69, 44, 120, 116, 83, 125, 120, 90, 155, 148, 117, 147, 152, 106, 133, 136, 92, 112, 101, 75, 100, 84, 68, 100, 78, 74, 69, 49, 51, 22, 16, 13, 35, 27, 24, 52, 40, 40, 70, 55, 54, 117, 97, 89, 122, 101, 99, 103, 85, 88, 88, 74, 73, 68, 59, 52, 72, 65, 52, 82, 73, 60, 84, 72, 68, 84, 67, 73, 77, 56, 65, 93, 75, 81, 117, 102, 98, 174, 171, 146, 183, 210, 149, 180, 214, 143, 185, 225, 144, 73, 74, 52, 75, 68, 55, 78, 64, 50, 103, 90, 64, 80, 65, 35, 127, 110, 80, 136, 127, 98, 141, 134, 109, 129, 113, 92, 115, 97, 72, 111, 91, 61, 115, 96, 67, 94, 83, 65, 92, 78, 65, 78, 60, 53, 89, 68, 64, 123, 99, 92, 117, 93, 92, 118, 97, 102, 121, 103, 103, 137, 125, 116, 168, 159, 141, 134, 124, 104, 98, 86, 74, 135, 124, 115, 133, 131, 108, 158, 167, 126, 163, 185, 125, 184, 217, 143, 181, 229, 139, 172, 220, 129, 174, 218, 127, 77, 72, 64, 94, 82, 79, 99, 81, 73, 116, 97, 74, 130, 106, 74, 149, 122, 93, 138, 118, 101, 134, 121, 109, 148, 140, 117, 154, 143, 113, 149, 137, 99, 145, 127, 87, 168, 136, 102, 174, 137, 111, 180, 137, 121, 178, 134, 126, 160, 126, 127, 141, 112, 124, 110, 84, 100, 110, 87, 99, 105, 90, 94, 124, 121, 106, 151, 162, 119, 155, 177, 117, 190, 216, 152, 192, 220, 151, 201, 236, 156, 193, 234, 155, 165, 208, 135, 175, 213, 139, 191, 230, 152, 185, 226, 142, 90, 85, 88, 99, 88, 91, 107, 92, 91, 108, 90, 78, 114, 92, 74, 137, 109, 98, 146, 115, 114, 130, 106, 113, 114, 100, 103, 130, 120, 106, 145, 137, 111, 129, 117, 87, 173, 142, 118, 164, 125, 112, 151, 112, 102, 150, 116, 102, 138, 111, 110, 146, 121, 130, 121, 97, 107, 100, 76, 86, 122, 108, 114, 137, 133, 128, 145, 151, 127, 150, 166, 125, 157, 172, 127, 148, 153, 116, 130, 133, 97, 114, 124, 83, 88, 105, 75, 191, 209, 166, 206, 238, 174, 186, 224, 154, 88, 82, 94, 94, 85, 89, 96, 85, 83, 120, 109, 98, 87, 71, 61, 110, 87, 85, 133, 101, 107, 130, 100, 117, 117, 96, 115, 112, 98, 95, 119, 110, 93, 125, 116, 98, 163, 140, 132, 145, 113, 113, 118, 87, 84, 125, 105, 89, 112, 99, 88, 94, 82, 77, 87, 75, 71, 73, 59, 59, 83, 73, 73, 68, 59, 59, 66, 59, 55, 76, 69, 62, 49, 42, 31, 52, 40, 38, 61, 48, 39, 85, 85, 49, 176, 188, 152, 213, 235, 182, 199, 229, 163, 121, 145, 94, 72, 67, 75, 77, 70, 68, 96, 86, 78, 151, 145, 124, 87, 79, 58, 96, 80, 71, 121, 96, 99, 117, 91, 107, 101, 81, 99, 99, 83, 87, 92, 80, 79, 79, 67, 68, 176, 153, 156, 152, 118, 118, 111, 74, 69, 111, 83, 70, 113, 105, 85, 74, 72, 54, 49, 46, 34, 41, 36, 31, 38, 32, 31, 34, 27, 25, 46, 36, 32, 74, 61, 54, 46, 32, 28, 42, 30, 37, 60, 57, 44, 144, 154, 101, 215, 233, 174, 195, 224, 158, 134, 154, 98, 60, 61, 35, 66, 64, 49, 69, 63, 49, 80, 70, 58, 128, 127, 99, 83, 84, 53, 71, 62, 48, 89, 70, 72, 91, 70, 80, 73, 54, 61, 71, 57, 56, 63, 51, 52, 95, 83, 93, 195, 172, 185, 136, 100, 103, 112, 71, 65, 98, 61, 52, 107, 96, 69, 104, 102, 74, 64, 59, 43, 34, 27, 21, 29, 25, 24, 41, 35, 34, 47, 34, 31, 86, 66, 62, 54, 35, 34, 38, 29, 35, 78, 85, 66, 176, 193, 131, 173, 190, 130, 112, 129, 92, 62, 62, 41, 56, 41, 36, 103, 106, 70, 73, 71, 46, 66, 58, 44, 104, 106, 77, 80, 87, 52, 49, 46, 29, 53, 43, 41, 52, 37, 41, 50, 35, 36, 58, 43, 44, 52, 36, 44, 142, 124, 144, 188, 161, 187, 128, 86, 89, 110, 65, 54, 89, 57, 44, 119, 108, 79, 128, 126, 92, 93, 89, 69, 65, 60, 45, 39, 32, 20, 38, 30, 25, 42, 29, 26, 86, 62, 60, 74, 43, 41, 103, 83, 82, 126, 128, 112, 134, 144, 105, 82, 84, 55, 52, 47, 46, 56, 40, 46, 63, 41, 46, 58, 62, 34, 61, 60, 38, 67, 62, 47, 134, 139, 111, 129, 139, 107, 51, 54, 35, 38, 35, 29, 25, 18, 19, 30, 21, 26, 38, 25, 37, 70, 52, 72, 160, 139, 163, 134, 110, 126, 131, 104, 104, 155, 133, 117, 132, 119, 98, 120, 116, 92, 136, 138, 103, 112, 114, 90, 87, 88, 61, 81, 72, 44, 58, 44, 34, 56, 41, 39, 100, 72, 72, 145, 103, 101, 155, 119, 116, 110, 99, 91, 87, 82, 76, 76, 62, 61, 65, 51, 48, 64, 51, 45, 58, 43, 34, 9, 9, 5, 27, 24, 16, 59, 53, 42, 152, 154, 130, 182, 188, 161, 58, 61, 42, 43, 44, 33, 17, 16, 13, 18, 16, 20, 50, 43, 55, 89, 78, 99, 102, 87, 105, 106, 96, 98, 115, 131, 146, 172, 195, 207, 222, 229, 224, 142, 146, 140, 123, 126, 101, 138, 137, 112, 107, 109, 85, 98, 91, 65, 82, 63, 53, 79, 55, 55, 110, 77, 78, 148, 109, 109, 125, 94, 92, 76, 60, 54, 76, 65, 59, 81, 67, 58, 90, 85, 57, 93, 91, 57, 84, 85, 47, 9, 8, 13, 15, 11, 10, 36, 30, 26, 106, 104, 88, 186, 187, 165, 73, 76, 58, 51, 56, 40, 64, 67, 55, 92, 89, 83, 84, 77, 79, 74, 62, 72, 99, 84, 98, 120, 118, 136, 83, 109, 145, 145, 180, 210, 205, 226, 242, 149, 163, 185, 129, 135, 120, 136, 132, 104, 105, 107, 87, 112, 113, 90, 86, 72, 61, 92, 66, 67, 94, 66, 66, 70, 43, 41, 68, 42, 43, 74, 53, 51, 76, 59, 52, 57, 43, 31, 74, 64, 41, 86, 82, 54, 91, 95, 61, 32, 28, 26, 44, 37, 37, 45, 34, 33, 84, 75, 65, 176, 174, 155, 95, 98, 78, 53, 60, 40, 83, 86, 66, 131, 123, 109, 100, 87, 80, 116, 97, 99, 93, 74, 83, 50, 47, 64, 52, 63, 81, 164, 189, 201, 175, 210, 230, 107, 134, 166, 106, 113, 102, 115, 107, 80, 110, 106, 91, 103, 110, 85, 88, 86, 66, 67, 50, 43, 75, 59, 50, 71, 58, 52, 52, 33, 34, 77, 56, 51, 91, 73, 61, 60, 45, 34, 68, 48, 49, 56, 42, 36, 38, 34, 17, 72, 53, 46, 68, 47, 48, 84, 64, 60, 97, 80, 72, 170, 165, 148, 117, 122, 96, 57, 63, 39, 80, 80, 61, 77, 72, 56, 95, 83, 79, 101, 80, 86, 88, 62, 74, 63, 42, 56, 29, 30, 39, 104, 132, 154, 110, 154, 201, 69, 104, 131, 73, 78, 64, 118, 97, 83, 128, 110, 100, 118, 118, 89, 102, 104, 70, 82, 79, 50, 112, 106, 78, 100, 93, 78, 52, 40, 38, 87, 69, 57, 91, 74, 59, 64, 51, 43, 69, 54, 54, 59, 52, 35, 94, 100, 57, 66, 48, 39, 75, 56, 52, 83, 65, 59, 85, 73, 64, 155, 155, 136, 131, 138, 115, 58, 61, 48, 71, 69, 57, 56, 54, 36, 60, 50, 42, 79, 61, 68, 118, 92, 112, 115, 88, 109, 95, 86, 109, 80, 93, 136, 58, 85, 153, 74, 92, 137, 67, 62, 58, 123, 105, 89, 120, 115, 100, 111, 115, 90, 114, 115, 87, 88, 86, 57, 90, 85, 54, 111, 103, 75, 93, 78, 58, 106, 86, 68, 82, 65, 53, 60, 49, 40, 77, 72, 49, 131, 138, 100, 142, 167, 109, 81, 68, 55, 70, 57, 46, 79, 64, 59, 55, 50, 42, 125, 133, 112, 132, 144, 116, 66, 69, 48, 62, 61, 44, 62, 64, 42, 49, 45, 27, 95, 80, 86, 174, 151, 179, 117, 97, 124, 88, 78, 117, 67, 70, 131, 58, 69, 151, 74, 81, 147, 57, 48, 56, 113, 97, 80, 104, 104, 87, 99, 106, 80, 108, 109, 81, 106, 103, 77, 82, 76, 53, 115, 108, 78, 165, 155, 122, 122, 107, 88, 63, 55, 42, 63, 67, 49, 144, 152, 126, 158, 172, 143, 126, 151, 117, 99, 88, 72, 70, 60, 42, 48, 37, 31, 35, 35, 28, 104, 117, 94, 128, 144, 105, 95, 104, 60, 71, 75, 40, 67, 74, 45, 110, 111, 86, 138, 128, 130, 94, 77, 103, 37, 29, 51, 42, 39, 85, 60, 63, 138, 77, 85, 178, 69, 76, 157, 52, 44, 59, 104, 82, 64, 93, 85, 70, 96, 102, 71, 105, 107, 74, 106, 103, 84, 82, 74, 69, 104, 97, 96, 105, 98, 105, 89, 80, 101, 82, 83, 102, 110, 124, 131, 133, 148, 145, 104, 116, 120, 84, 94, 105, 98, 94, 62, 107, 106, 66, 67, 76, 43, 82, 98, 63, 102, 119, 79, 110, 128, 83, 96, 114, 58, 101, 122, 59, 101, 122, 70, 173, 185, 156, 125, 130, 112, 72, 76, 53, 57, 62, 50, 47, 49, 100, 71, 74, 176, 101, 108, 225, 76, 74, 167, 67, 53, 64, 116, 80, 70, 103, 82, 83, 85, 86, 73, 81, 80, 74, 78, 77, 87, 79, 78, 103, 82, 83, 114, 81, 84, 116, 98, 98, 137, 106, 105, 148, 106, 109, 148, 84, 97, 122, 82, 90, 122, 80, 82, 119, 91, 97, 56, 126, 139, 75, 128, 153, 87, 143, 173, 105, 124, 149, 87, 113, 130, 79, 102, 115, 63, 131, 147, 94, 136, 157, 116, 150, 165, 140, 127, 141, 111, 83, 97, 55, 45, 58, 45, 71, 81, 140, 110, 122, 232, 109, 123, 240, 79, 75, 154, 71, 61, 70, 77, 62, 71, 75, 63, 84, 72, 69, 83, 85, 83, 106, 97, 97, 126, 88, 89, 124, 84, 89, 124, 84, 89, 122, 92, 94, 130, 100, 97, 138, 91, 89, 129, 80, 88, 117, 76, 82, 118, 81, 84, 122, 58, 66, 45, 112, 133, 80, 90, 115, 57, 148, 177, 108, 115, 141, 73, 101, 116, 66, 102, 106, 64, 137, 142, 107, 118, 131, 106, 120, 134, 108, 137, 154, 118, 62, 81, 40, 20, 40, 33, 67, 82, 144, 119, 137, 240, 109, 131, 240, 70, 65, 141, 53, 29, 46, 38, 34, 49, 41, 44, 73, 59, 57, 85, 63, 67, 100, 81, 83, 116, 85, 87, 120, 82, 85, 118, 88, 93, 126, 91, 94, 127, 86, 85, 119, 61, 59, 91, 67, 71, 97, 69, 74, 107, 64, 70, 103, 74, 77, 56, 140, 158, 110, 96, 112, 64, 128, 142, 90, 103, 117, 66, 86, 95, 57, 69, 76, 39, 114, 122, 86, 98, 109, 76, 88, 104, 65, 92, 112, 70, 57, 80, 35, 65, 83, 62, 78, 90, 143, 112, 126, 231, 111, 130, 248, 103, 89, 194, 148, 81, 110, 72, 39, 33, 22, 28, 42, 41, 48, 68, 47, 59, 82, 68, 75, 103, 80, 81, 115, 75, 77, 113, 68, 74, 108, 64, 67, 98, 60, 59, 87, 46, 44, 68, 45, 46, 70, 57, 60, 91, 47, 56, 85, 69, 61, 41, 118, 122, 84, 97, 105, 55, 74, 85, 34, 66, 72, 33, 64, 63, 39, 52, 50, 30, 104, 106, 78, 136, 144, 105, 98, 116, 70, 99, 121, 80, 107, 127, 87, 87, 109, 74, 82, 100, 143, 96, 115, 220, 96, 124, 246, 121, 116, 239, 192, 103, 167, 78, 40, 46, 36, 43, 54, 80, 78, 105, 79, 90, 117, 74, 79, 108, 66, 65, 98, 64, 62, 92, 38, 39, 61, 36, 36, 58, 42, 40, 63, 41, 38, 60, 42, 42, 63, 60, 62, 91, 54, 61, 89, 64, 59, 52, 70, 72, 49, 78, 88, 39, 94, 109, 52, 113, 120, 80, 77, 71, 51, 57, 52, 37, 82, 81, 58, 145, 152, 117, 151, 169, 126, 138, 156, 120, 104, 118, 85, 78, 100, 67, 64, 84, 117, 77, 97, 190, 74, 102, 213, 80, 103, 200, 149, 124, 193, 70, 57, 107, 37, 49, 80, 56, 60, 89, 56, 61, 94, 47, 50, 79, 38, 37, 65, 34, 31, 56, 30, 26, 49, 30, 26, 48, 36, 33, 54, 39, 36, 56, 46, 45, 65, 55, 56, 83, 50, 54, 81, 98, 107, 103, 86, 93, 74, 111, 120, 76, 140, 152, 99, 147, 154, 115, 92, 91, 66, 66, 69, 44, 76, 83, 53, 135, 143, 110, 119, 134, 96, 106, 117, 86, 89, 94, 71, 52, 64, 40, 39, 51, 67, 71, 82, 143, 73, 85, 169, 39, 58, 119, 102, 121, 172, 122, 105, 183, 54, 48, 98, 34, 44, 63, 33, 32, 56, 31, 31, 52, 25, 26, 43, 22, 21, 41, 26, 22, 45, 29, 26, 47, 34, 31, 49, 41, 38, 56, 54, 50, 73, 48, 45, 73, 41, 43, 66, 75, 88, 83, 83, 86, 77, 106, 101, 79, 127, 131, 90, 133, 139, 99, 112, 115, 84, 84, 96, 60, 91, 105, 69, 100, 108, 78, 109, 121, 86, 61, 64, 38, 77, 71, 58, 74, 75, 62, 30, 34, 33, 67, 70, 99, 85, 83, 141, 40, 39, 82, 63, 65, 100, 93, 83, 140, 60, 49, 88, 37, 32, 47, 25, 19, 35, 25, 24, 36, 19, 22, 30, 25, 28, 31, 24, 24, 26, 23, 22, 30, 35, 33, 47, 38, 34, 53, 53, 45, 70, 52, 46, 73, 40, 40, 58, 62, 68, 57, 86, 77, 72, 87, 73, 63, 95, 94, 64, 128, 134, 100, 89, 92, 66, 70, 80, 47, 94, 105, 72, 73, 82, 52, 117, 128, 91, 85, 90, 60, 81, 79, 61, 63, 67, 47, 25, 25, 12, 66, 53, 66, 74, 64, 99, 30, 28, 54, 44, 40, 57, 43, 51, 70, 33, 39, 55, 29, 22, 35, 23, 19, 32, 19, 19, 27, 26, 29, 32, 96, 103, 88, 109, 118, 80, 59, 66, 36, 39, 41, 35, 43, 41, 60, 46, 42, 72, 53, 50, 73, 48, 46, 57, 78, 74, 64, 73, 57, 47, 92, 78, 62, 95, 95, 66, 114, 120, 92, 83, 86, 66, 95, 98, 75, 112, 116, 93, 77, 83, 59, 92, 99, 65, 106, 113, 79, 59, 63, 37, 46, 51, 29, 35, 30, 20, 92, 57, 71, 91, 65, 85, 21, 19, 32, 23, 24, 35, 32, 34, 45, 30, 32, 43, 21, 22, 34, 19, 21, 31, 17, 19, 25, 22, 24, 28, 100, 109, 91, 172, 191, 135, 156, 177, 108, 108, 124, 74, 46, 57, 44, 35, 44, 60, 45, 48, 69, 48, 44, 66, 72, 64, 59, 78, 67, 51, 96, 86, 58, 129, 129, 91, 101, 107, 73, 91, 97, 73, 109, 118, 94, 126, 131, 112, 95, 92, 83, 67, 65, 49, 126, 125, 102, 71, 68, 48, 58, 54, 50, 56, 43, 46, 116, 67, 84, 120, 72, 90, 21, 11, 21, 11, 11, 19, 21, 20, 28, 25, 25, 33, 23, 22, 30, 16, 16, 24, 13, 13, 20, 18, 18, 24, 39, 45, 46, 135, 151, 129, 175, 199, 144, 163, 192, 123, 122, 150, 89, 61, 82, 44, 34, 43, 45, 37, 36, 60, 83, 88, 64, 87, 96, 61, 98, 102, 60, 140, 143, 95, 103, 109, 67, 96, 107, 78, 94, 111, 84, 127, 140, 114, 113, 114, 96, 54, 54, 43, 111, 111, 97, 98, 96, 80, 70, 69, 61, 63, 55, 51, 127, 75, 86, 149, 85, 102, 35, 18, 26, 5, 5, 10, 15, 12, 17, 19, 16, 21, 21, 18, 23, 19, 17, 22, 15, 12, 20, 16, 13, 23, 21, 19, 33, 41, 46, 51, 129, 144, 123, 183, 207, 169, 178, 206, 159, 154, 181, 124, 76, 96, 59, 27, 35, 25, 92, 112, 62, 84, 109, 57, 110, 127, 76, 136, 147, 93, 102, 112, 69, 109, 123, 97, 112, 133, 109, 99, 119, 84, 130, 141, 104, 83, 91, 70, 73, 80, 64, 117, 123, 102, 66, 80, 49, 73, 80, 57, 131, 89, 91, 158, 92, 106, 70, 46, 52, 10, 5, 7, 12, 7, 10, 13, 7, 11, 16, 11, 14, 19, 14, 18, 23, 18, 26, 23, 18, 30, 27, 22, 34, 29, 25, 34, 39, 42, 47, 141, 151, 158, 181, 196, 203, 174, 195, 176, 156, 177, 138, 59, 71, 48, 84, 106, 56, 86, 105, 58, 118, 133, 84, 119, 138, 88, 90, 109, 78, 126, 142, 131, 149, 167, 153, 79, 95, 68, 117, 128, 95, 130, 139, 108, 69, 76, 47, 121, 131, 97, 102, 121, 77, 79, 80, 56, 143, 100, 102, 169, 93, 108, 116, 71, 78, 44, 28, 29, 13, 9, 10, 14, 8, 15, 16, 10, 16, 16, 13, 18, 14, 14, 19, 19, 22, 26, 18, 21, 24, 21, 24, 22, 28, 35, 27, 32, 42, 38, 54, 67, 68, 79, 95, 78, 159, 177, 137, 117, 133, 94, 76, 96, 60, 81, 98, 56, 103, 116, 73, 110, 125, 82, 99, 114, 84, 94, 107, 91, 82, 96, 76, 77, 85, 59, 98, 97, 69, 137, 137, 108, 103, 104, 76, 122, 127, 94, 141, 148, 108, 86, 71, 52, 138, 84, 90, 183, 104, 119, 133, 86, 91, 68, 47, 49, 29, 20, 25, 9, 6, 17, 11, 10, 18, 16, 18, 21, 13, 19, 21, 14, 23, 24, 44, 54, 56, 123, 134, 127, 106, 126, 88, 87, 115, 51, 72, 101, 36, 56, 80, 36, 69, 90, 40, 104, 120, 69, 102, 120, 92, 91, 109, 62, 95, 110, 62, 103, 114, 75, 88, 96, 65, 72, 81, 52, 85, 94, 64, 80, 83, 53, 94, 89, 62, 120, 119, 91, 135, 139, 110, 90, 102, 68, 136, 157, 117, 128, 132, 104, 112, 98, 73, 147, 127, 97, 110, 95, 74, 74, 57, 49, 64, 47, 49, 20, 9, 20, 12, 7, 15, 11, 10, 14, 12, 14, 18, 14, 19, 22, 49, 57, 55, 129, 143, 122, 119, 141, 87, 107, 138, 53, 104, 139, 46, 100, 134, 55, 72, 97, 38, 48, 59, 29], \"height\": 32, \"channels\": 3, \"width\": 32, \"type\": \"image\", \"id\": 139863839878352}, {\"format\": \"raw\", \"value\": [7, 5, 8, 7, 5, 8, 5, 4, 6, 7, 4, 7, 11, 5, 9, 11, 5, 9, 17, 11, 15, 25, 19, 23, 18, 9, 17, 9, 1, 9, 13, 7, 15, 24, 19, 27, 21, 19, 25, 34, 32, 35, 52, 43, 42, 40, 27, 26, 19, 9, 10, 11, 6, 10, 20, 16, 18, 36, 29, 28, 25, 20, 22, 23, 19, 22, 32, 21, 22, 33, 26, 29, 58, 57, 61, 73, 75, 81, 83, 91, 94, 61, 68, 66, 69, 71, 66, 82, 84, 78, 80, 85, 81, 69, 73, 68, 6, 4, 8, 6, 4, 9, 5, 3, 8, 7, 4, 8, 10, 3, 9, 8, 2, 8, 11, 5, 11, 21, 15, 21, 12, 6, 13, 5, 1, 8, 16, 16, 24, 35, 39, 49, 55, 63, 69, 97, 104, 102, 131, 130, 123, 87, 82, 73, 49, 44, 38, 48, 46, 41, 71, 67, 59, 86, 79, 68, 87, 84, 75, 93, 91, 85, 80, 75, 70, 67, 67, 64, 113, 118, 119, 129, 140, 142, 114, 124, 124, 76, 81, 76, 76, 77, 68, 85, 86, 77, 86, 88, 81, 81, 80, 72, 1, 1, 6, 7, 7, 12, 8, 8, 13, 10, 9, 14, 18, 17, 22, 19, 17, 23, 18, 16, 22, 31, 29, 35, 36, 36, 42, 38, 39, 45, 79, 83, 89, 84, 90, 96, 93, 100, 102, 148, 154, 146, 148, 145, 131, 114, 105, 89, 102, 91, 76, 85, 71, 59, 88, 67, 54, 92, 69, 52, 90, 69, 55, 97, 82, 70, 108, 100, 87, 98, 96, 86, 88, 94, 88, 128, 141, 138, 130, 139, 135, 94, 96, 86, 97, 94, 81, 98, 96, 83, 96, 96, 85, 86, 84, 73, 33, 38, 43, 62, 68, 73, 68, 73, 79, 68, 74, 79, 56, 61, 66, 40, 45, 50, 58, 64, 69, 71, 77, 82, 63, 70, 76, 70, 76, 81, 99, 104, 105, 79, 82, 80, 132, 133, 127, 162, 157, 145, 118, 102, 84, 109, 86, 64, 95, 70, 47, 73, 47, 27, 84, 55, 34, 101, 68, 45, 92, 62, 41, 76, 51, 32, 85, 68, 48, 114, 104, 87, 96, 97, 85, 104, 112, 104, 135, 141, 132, 114, 113, 100, 113, 108, 91, 108, 104, 87, 98, 97, 83, 84, 83, 74, 79, 89, 93, 99, 109, 112, 103, 113, 116, 99, 110, 113, 74, 86, 89, 93, 104, 108, 116, 127, 130, 106, 118, 121, 89, 99, 104, 79, 86, 88, 97, 99, 93, 119, 115, 103, 142, 133, 119, 117, 100, 83, 116, 89, 66, 126, 91, 64, 105, 69, 42, 89, 60, 34, 98, 70, 41, 114, 83, 51, 115, 86, 56, 109, 83, 56, 84, 59, 34, 97, 79, 58, 112, 105, 90, 102, 103, 91, 116, 118, 106, 112, 110, 94, 114, 109, 89, 112, 106, 87, 106, 103, 88, 79, 80, 70, 54, 60, 62, 85, 94, 94, 91, 102, 100, 91, 101, 102, 88, 97, 102, 81, 91, 94, 103, 113, 115, 127, 138, 138, 87, 92, 93, 131, 132, 125, 162, 158, 140, 165, 154, 130, 139, 119, 95, 118, 91, 66, 135, 105, 75, 129, 95, 65, 112, 76, 50, 104, 71, 44, 114, 82, 50, 130, 96, 60, 139, 107, 71, 135, 105, 75, 119, 89, 67, 87, 65, 44, 112, 97, 80, 107, 100, 84, 103, 98, 82, 109, 104, 85, 111, 107, 84, 109, 107, 87, 101, 100, 85, 86, 86, 72, 39, 43, 50, 55, 60, 66, 62, 70, 75, 44, 52, 58, 19, 25, 35, 59, 66, 73, 140, 148, 154, 74, 82, 86, 70, 71, 69, 179, 175, 162, 172, 162, 138, 157, 140, 111, 143, 118, 90, 131, 99, 71, 141, 108, 75, 135, 100, 68, 127, 91, 63, 115, 79, 48, 123, 88, 54, 142, 109, 75, 147, 117, 83, 134, 104, 73, 136, 104, 79, 122, 96, 73, 144, 126, 104, 133, 122, 101, 110, 102, 83, 110, 103, 83, 111, 107, 85, 104, 102, 83, 95, 94, 81, 92, 91, 83, 36, 38, 48, 28, 31, 42, 33, 38, 49, 23, 29, 42, 27, 31, 46, 106, 111, 124, 80, 86, 97, 27, 32, 40, 111, 111, 106, 165, 156, 138, 159, 141, 116, 148, 127, 96, 143, 118, 88, 145, 114, 84, 149, 116, 82, 142, 108, 75, 134, 97, 69, 132, 95, 63, 132, 101, 70, 145, 121, 95, 145, 121, 92, 136, 108, 76, 128, 94, 64, 141, 112, 84, 175, 154, 127, 166, 152, 126, 135, 126, 105, 107, 101, 81, 107, 103, 83, 102, 100, 82, 98, 97, 82, 87, 87, 78, 43, 43, 49, 25, 27, 36, 31, 34, 45, 35, 38, 52, 37, 40, 56, 37, 40, 55, 40, 43, 56, 93, 96, 106, 162, 162, 154, 161, 151, 131, 143, 122, 97, 148, 125, 96, 145, 122, 94, 139, 112, 83, 145, 117, 83, 148, 118, 85, 146, 113, 85, 149, 117, 89, 159, 138, 116, 188, 177, 160, 154, 138, 114, 138, 110, 77, 132, 98, 65, 146, 119, 87, 187, 168, 137, 170, 157, 128, 157, 150, 125, 113, 108, 87, 101, 96, 79, 102, 100, 83, 103, 103, 84, 84, 85, 69, 83, 84, 79, 47, 49, 50, 39, 43, 47, 38, 41, 51, 29, 31, 46, 36, 38, 51, 77, 79, 90, 83, 86, 94, 146, 150, 141, 201, 193, 173, 156, 133, 110, 145, 122, 97, 160, 140, 116, 135, 114, 88, 129, 106, 76, 135, 110, 81, 133, 106, 82, 163, 141, 120, 194, 188, 176, 210, 213, 206, 154, 144, 126, 144, 116, 83, 140, 110, 77, 149, 126, 94, 187, 172, 141, 172, 164, 134, 172, 166, 139, 136, 131, 110, 95, 90, 76, 104, 102, 85, 105, 105, 85, 94, 94, 81, 95, 94, 87, 96, 97, 89, 75, 77, 73, 49, 52, 55, 41, 43, 53, 35, 35, 46, 17, 19, 29, 48, 49, 52, 130, 130, 117, 193, 186, 168, 184, 168, 148, 166, 150, 129, 187, 173, 151, 158, 143, 118, 146, 130, 102, 165, 146, 119, 160, 140, 115, 180, 167, 151, 215, 216, 212, 214, 220, 218, 151, 140, 122, 152, 125, 91, 162, 137, 103, 155, 131, 100, 176, 158, 129, 173, 165, 136, 181, 177, 151, 148, 143, 124, 91, 85, 71, 101, 97, 81, 99, 99, 81, 87, 88, 81, 74, 71, 67, 105, 103, 92, 114, 112, 100, 79, 82, 74, 67, 70, 69, 59, 55, 61, 16, 19, 29, 78, 76, 73, 131, 123, 104, 165, 159, 140, 190, 186, 170, 181, 175, 159, 186, 178, 158, 179, 169, 144, 180, 168, 142, 196, 182, 155, 180, 165, 138, 181, 175, 157, 222, 223, 217, 218, 215, 210, 148, 130, 110, 154, 128, 91, 171, 151, 113, 156, 128, 97, 170, 145, 116, 181, 169, 140, 184, 184, 159, 155, 152, 133, 94, 85, 69, 100, 93, 77, 94, 93, 78, 78, 81, 74, 73, 71, 70, 65, 63, 63, 100, 100, 88, 112, 115, 99, 106, 105, 95, 92, 86, 83, 37, 41, 46, 96, 98, 90, 138, 131, 108, 155, 150, 130, 185, 185, 172, 197, 196, 185, 200, 194, 179, 200, 191, 169, 208, 197, 174, 202, 189, 164, 186, 173, 146, 193, 184, 164, 215, 211, 200, 205, 197, 186, 140, 118, 94, 147, 119, 81, 169, 149, 112, 157, 131, 100, 170, 146, 118, 192, 181, 152, 184, 181, 155, 148, 142, 122, 95, 84, 67, 101, 93, 77, 100, 97, 83, 85, 87, 82, 45, 44, 56, 36, 34, 55, 61, 61, 66, 93, 95, 84, 123, 118, 103, 116, 110, 97, 74, 80, 76, 131, 135, 122, 148, 142, 116, 147, 142, 121, 198, 198, 185, 216, 217, 208, 211, 208, 196, 204, 197, 177, 209, 200, 179, 205, 194, 172, 205, 192, 168, 206, 194, 172, 210, 201, 184, 186, 176, 157, 138, 114, 86, 149, 119, 82, 168, 147, 112, 162, 140, 109, 170, 150, 122, 190, 178, 150, 185, 177, 152, 141, 132, 112, 94, 86, 69, 108, 101, 86, 96, 92, 81, 87, 87, 83, 29, 30, 52, 17, 17, 46, 38, 40, 59, 45, 48, 50, 95, 90, 76, 143, 137, 120, 132, 137, 125, 150, 152, 133, 145, 134, 108, 147, 138, 116, 208, 206, 191, 213, 213, 201, 209, 206, 192, 197, 191, 174, 200, 192, 174, 192, 182, 163, 201, 190, 169, 208, 194, 172, 208, 197, 176, 183, 173, 149, 142, 121, 91, 154, 125, 90, 169, 148, 115, 164, 146, 115, 165, 149, 122, 178, 166, 140, 188, 176, 155, 138, 130, 112, 81, 77, 63, 87, 84, 75, 83, 81, 74, 82, 82, 75, 57, 63, 75, 28, 34, 46, 27, 33, 47, 51, 56, 64, 66, 64, 57, 123, 117, 101, 144, 146, 130, 152, 148, 126, 130, 111, 86, 150, 135, 113, 204, 198, 179, 215, 212, 192, 217, 214, 194, 214, 208, 193, 219, 212, 196, 208, 200, 182, 213, 202, 183, 208, 195, 175, 199, 189, 168, 199, 191, 166, 155, 137, 108, 139, 113, 81, 157, 135, 104, 171, 154, 125, 161, 147, 120, 178, 167, 142, 187, 175, 156, 118, 113, 99, 73, 76, 66, 71, 75, 71, 84, 85, 83, 89, 89, 77, 54, 61, 71, 46, 54, 59, 39, 46, 54, 75, 80, 90, 76, 76, 80, 69, 67, 64, 142, 141, 130, 150, 138, 117, 121, 101, 74, 158, 142, 120, 198, 192, 174, 216, 214, 195, 205, 201, 184, 217, 209, 196, 239, 228, 213, 213, 202, 186, 211, 201, 186, 215, 206, 188, 201, 195, 175, 200, 195, 173, 166, 152, 125, 140, 117, 85, 153, 132, 95, 167, 149, 118, 165, 153, 127, 172, 166, 142, 177, 167, 152, 102, 97, 89, 85, 90, 87, 76, 84, 85, 84, 89, 91, 73, 78, 74, 37, 42, 61, 44, 50, 64, 41, 48, 59, 53, 57, 67, 48, 48, 61, 30, 34, 44, 119, 115, 111, 131, 115, 95, 133, 116, 87, 173, 162, 138, 207, 204, 188, 222, 221, 210, 218, 213, 200, 192, 180, 159, 205, 190, 167, 209, 197, 176, 216, 209, 192, 217, 213, 196, 231, 230, 212, 208, 205, 186, 169, 157, 133, 148, 129, 94, 164, 143, 101, 161, 140, 108, 169, 155, 131, 163, 159, 138, 154, 147, 135, 89, 83, 81, 83, 88, 90, 93, 100, 102, 110, 117, 119, 56, 67, 71, 35, 41, 62, 55, 62, 79, 59, 67, 79, 41, 46, 57, 63, 65, 78, 65, 70, 80, 74, 71, 67, 117, 102, 82, 156, 140, 112, 170, 161, 137, 200, 197, 182, 226, 227, 216, 224, 218, 201, 176, 160, 129, 171, 155, 124, 212, 200, 174, 229, 225, 205, 221, 219, 202, 224, 222, 204, 203, 198, 178, 172, 160, 135, 160, 141, 109, 166, 142, 105, 153, 130, 99, 171, 154, 131, 163, 156, 139, 118, 114, 105, 76, 73, 70, 71, 73, 70, 95, 98, 94, 130, 134, 128, 123, 130, 127, 48, 55, 76, 78, 86, 102, 80, 90, 101, 47, 53, 64, 44, 47, 59, 104, 111, 120, 107, 106, 101, 128, 115, 94, 168, 153, 126, 179, 171, 149, 201, 200, 187, 225, 226, 217, 226, 221, 207, 184, 165, 141, 174, 156, 133, 226, 215, 198, 233, 232, 221, 225, 226, 213, 214, 212, 194, 186, 178, 156, 176, 163, 137, 173, 155, 126, 163, 138, 106, 140, 116, 87, 171, 154, 132, 157, 149, 137, 90, 88, 81, 84, 82, 75, 83, 82, 73, 96, 95, 85, 111, 113, 103, 139, 146, 137, 38, 47, 63, 80, 91, 102, 115, 126, 133, 76, 84, 92, 35, 40, 52, 38, 46, 54, 111, 112, 106, 161, 150, 129, 171, 157, 130, 179, 173, 152, 194, 195, 182, 210, 213, 205, 222, 220, 211, 203, 190, 177, 200, 188, 174, 233, 225, 216, 226, 227, 222, 224, 227, 217, 209, 206, 188, 182, 173, 149, 184, 171, 144, 178, 162, 136, 161, 140, 112, 140, 119, 90, 165, 152, 130, 141, 136, 127, 103, 101, 93, 120, 115, 101, 114, 110, 94, 116, 115, 101, 102, 108, 98, 109, 117, 113, 77, 90, 100, 76, 89, 95, 132, 146, 147, 132, 142, 147, 84, 90, 101, 50, 60, 67, 103, 105, 99, 171, 161, 139, 176, 164, 138, 181, 175, 155, 186, 187, 175, 203, 206, 198, 209, 210, 201, 196, 194, 181, 206, 201, 186, 214, 211, 197, 220, 222, 211, 215, 219, 207, 194, 191, 172, 184, 173, 148, 193, 179, 153, 180, 167, 142, 168, 151, 125, 147, 132, 102, 158, 150, 127, 123, 122, 114, 87, 84, 74, 119, 111, 93, 115, 108, 89, 123, 124, 108, 133, 143, 135, 117, 128, 129, 85, 99, 103, 146, 160, 160, 139, 155, 154, 163, 177, 178, 152, 163, 164, 99, 110, 110, 113, 116, 113, 178, 172, 153, 182, 173, 149, 188, 179, 159, 185, 178, 160, 197, 193, 178, 203, 201, 186, 182, 182, 165, 150, 150, 137, 172, 170, 155, 194, 192, 172, 192, 190, 170, 197, 193, 170, 199, 190, 164, 195, 185, 158, 180, 170, 144, 173, 162, 137, 151, 144, 115, 149, 147, 128, 105, 107, 106, 59, 58, 60, 88, 85, 76, 103, 100, 84, 117, 116, 97, 150, 153, 137, 142, 150, 142, 119, 131, 133, 129, 139, 136, 164, 178, 176, 146, 160, 160, 160, 172, 167, 159, 170, 166, 109, 112, 112, 169, 166, 150, 194, 190, 170, 194, 186, 167, 182, 171, 149, 198, 189, 168, 210, 205, 185, 186, 183, 165, 123, 122, 111, 149, 146, 133, 190, 183, 162, 204, 195, 170, 208, 200, 176, 190, 183, 160, 194, 188, 165, 185, 178, 157, 175, 168, 150, 142, 138, 119, 119, 119, 109, 76, 76, 84, 37, 39, 51, 63, 64, 67, 82, 83, 77, 96, 94, 84, 116, 114, 104, 125, 130, 118, 145, 150, 152, 97, 100, 98, 123, 129, 127, 131, 141, 141, 95, 106, 103, 113, 124, 122, 125, 128, 131, 155, 153, 141, 198, 198, 182, 199, 195, 179, 191, 181, 159, 183, 172, 149, 208, 200, 178, 204, 200, 181, 149, 148, 135, 176, 172, 158, 209, 200, 178, 214, 202, 176, 196, 184, 161, 197, 189, 169, 199, 195, 178, 166, 162, 148, 163, 157, 143, 129, 125, 109, 102, 100, 92, 62, 61, 66, 73, 75, 81, 109, 112, 111, 101, 102, 98, 104, 105, 104, 104, 105, 103, 129, 134, 122, 108, 110, 109, 112, 112, 107, 73, 76, 72, 59, 65, 65, 72, 81, 80, 46, 56, 57, 69, 73, 81, 128, 128, 122, 171, 173, 161, 196, 195, 180, 210, 201, 180, 192, 182, 160, 182, 173, 151, 180, 175, 155, 131, 127, 115, 170, 164, 150, 198, 188, 165, 195, 180, 155, 194, 181, 159, 207, 199, 180, 179, 176, 161, 145, 143, 128, 157, 155, 132, 144, 143, 119, 134, 133, 114, 121, 121, 109, 133, 135, 122, 142, 145, 128, 124, 128, 111, 104, 107, 97, 121, 123, 118, 131, 133, 122, 106, 108, 104, 119, 119, 112, 117, 120, 113, 93, 99, 97, 77, 83, 84, 60, 68, 72, 46, 51, 62, 107, 107, 105, 165, 166, 153, 174, 172, 156, 201, 193, 174, 211, 204, 185, 202, 196, 177, 171, 165, 144, 130, 125, 112, 166, 159, 144, 164, 152, 128, 163, 151, 125, 167, 157, 135, 159, 151, 129, 151, 145, 126, 153, 150, 129, 146, 146, 120, 139, 139, 113, 132, 131, 108, 136, 135, 114, 134, 132, 108, 136, 135, 108, 135, 136, 110, 113, 114, 96, 107, 108, 97, 127, 129, 119, 120, 125, 119, 115, 118, 109, 137, 143, 134, 170, 177, 174, 133, 138, 140, 81, 89, 95, 34, 40, 54, 80, 83, 85, 160, 159, 148, 160, 155, 139, 161, 154, 136, 175, 171, 156, 186, 183, 167, 166, 160, 139, 154, 149, 133, 166, 159, 142, 159, 149, 125, 157, 149, 122, 150, 144, 119, 158, 152, 126, 168, 162, 134, 161, 156, 130, 135, 135, 116, 133, 131, 115, 132, 129, 112, 140, 136, 118, 133, 127, 109, 134, 127, 107, 138, 133, 112, 138, 136, 120, 125, 125, 116, 125, 126, 119, 165, 175, 168, 159, 166, 160, 136, 143, 138, 158, 163, 157, 185, 188, 180, 148, 156, 154, 85, 95, 99, 79, 85, 87, 122, 116, 117, 152, 145, 128, 147, 141, 119, 153, 147, 132, 161, 156, 139, 160, 154, 135, 163, 159, 136, 167, 163, 139, 167, 161, 139, 168, 162, 137, 163, 158, 135, 163, 157, 137, 163, 159, 132, 159, 158, 127, 153, 150, 128, 157, 152, 135, 159, 155, 131, 164, 159, 136, 152, 149, 135, 138, 137, 121, 133, 130, 114, 117, 116, 108, 115, 116, 119, 94, 99, 105, 150, 153, 139, 135, 136, 121, 129, 129, 113, 141, 134, 110, 156, 144, 110, 164, 157, 128, 148, 143, 115, 139, 130, 103, 142, 130, 111, 152, 143, 111, 163, 155, 120, 176, 169, 143, 169, 161, 138, 168, 158, 139, 176, 168, 141, 183, 175, 144, 182, 174, 145, 184, 174, 151, 188, 176, 159, 188, 176, 159, 176, 164, 143, 168, 159, 127, 167, 161, 127, 169, 162, 134, 153, 149, 112, 164, 159, 125, 165, 159, 134, 137, 131, 104, 112, 107, 87, 72, 72, 69, 45, 51, 63, 26, 32, 51, 156, 156, 139, 153, 151, 130, 138, 136, 110, 141, 129, 95, 151, 126, 83, 156, 136, 93, 144, 125, 79, 153, 131, 82, 156, 138, 100, 146, 134, 90, 165, 155, 117, 182, 174, 148, 159, 150, 127, 122, 107, 89, 173, 159, 131, 177, 163, 128, 179, 165, 128, 177, 163, 124, 178, 164, 123, 175, 158, 117, 167, 150, 105, 161, 145, 98, 160, 151, 115, 165, 156, 127, 155, 148, 110, 160, 155, 119, 165, 151, 116, 148, 132, 93, 103, 93, 68, 57, 58, 56, 23, 32, 48, 38, 45, 64, 183, 193, 183, 191, 199, 185, 182, 189, 171, 165, 163, 142, 159, 146, 123, 142, 133, 109, 138, 128, 100, 140, 126, 94, 123, 109, 80, 128, 119, 86, 133, 126, 104, 134, 130, 121, 135, 131, 119, 124, 115, 97, 144, 133, 106, 139, 126, 92, 148, 134, 100, 161, 148, 110, 144, 133, 91, 137, 125, 84, 139, 126, 86, 141, 131, 96, 148, 143, 123, 163, 156, 141, 150, 142, 115, 146, 136, 110, 145, 129, 97, 138, 121, 82, 121, 110, 82, 83, 83, 76, 67, 74, 81, 114, 120, 119], \"height\": 32, \"channels\": 3, \"width\": 32, \"type\": \"image\", \"id\": 139863839877328}, {\"format\": \"raw\", \"value\": [169, 122, 65, 131, 108, 75, 193, 196, 192, 218, 221, 222, 211, 215, 216, 206, 214, 216, 200, 211, 212, 193, 206, 206, 186, 201, 201, 182, 197, 196, 178, 192, 192, 173, 187, 187, 167, 182, 182, 160, 175, 175, 155, 169, 169, 150, 164, 164, 144, 158, 158, 139, 153, 153, 134, 148, 148, 133, 144, 144, 130, 140, 141, 126, 136, 137, 125, 136, 137, 128, 138, 139, 131, 141, 142, 131, 144, 144, 149, 163, 163, 176, 194, 192, 173, 192, 190, 172, 187, 187, 169, 183, 183, 166, 181, 181, 165, 119, 62, 127, 104, 72, 189, 192, 187, 217, 220, 221, 209, 213, 215, 204, 211, 214, 198, 208, 209, 190, 204, 204, 184, 199, 199, 180, 194, 194, 175, 189, 189, 171, 185, 185, 165, 179, 179, 159, 172, 172, 155, 167, 168, 151, 163, 163, 146, 157, 158, 140, 152, 152, 136, 147, 147, 133, 143, 144, 129, 139, 140, 126, 136, 137, 126, 136, 137, 128, 138, 139, 131, 141, 141, 132, 144, 145, 151, 166, 165, 176, 193, 192, 173, 191, 189, 172, 186, 186, 169, 183, 183, 166, 180, 180, 163, 117, 60, 126, 103, 71, 186, 189, 185, 218, 221, 222, 210, 214, 215, 203, 210, 213, 197, 208, 209, 192, 205, 205, 186, 201, 201, 180, 195, 194, 176, 190, 190, 171, 185, 185, 165, 179, 179, 159, 172, 172, 157, 166, 168, 154, 162, 163, 148, 156, 158, 143, 151, 153, 138, 146, 148, 133, 143, 144, 130, 140, 141, 128, 138, 139, 128, 138, 139, 128, 138, 139, 131, 141, 142, 134, 146, 147, 154, 169, 168, 176, 194, 192, 174, 192, 190, 173, 187, 187, 170, 184, 184, 168, 182, 182, 160, 114, 57, 125, 101, 69, 184, 187, 183, 218, 221, 222, 209, 213, 215, 203, 210, 212, 197, 208, 208, 191, 205, 205, 186, 201, 200, 180, 194, 194, 176, 190, 190, 171, 185, 185, 165, 179, 179, 160, 173, 173, 159, 166, 169, 155, 160, 163, 149, 155, 158, 144, 150, 152, 139, 145, 148, 133, 143, 144, 130, 139, 140, 128, 138, 139, 128, 138, 139, 128, 138, 139, 131, 141, 142, 135, 146, 147, 159, 173, 173, 178, 195, 193, 175, 192, 191, 173, 188, 187, 170, 184, 184, 167, 182, 181, 163, 109, 55, 126, 97, 67, 183, 183, 180, 218, 220, 221, 209, 212, 214, 202, 210, 212, 196, 207, 207, 190, 204, 204, 184, 199, 199, 178, 194, 193, 176, 190, 190, 173, 185, 185, 168, 178, 179, 159, 168, 170, 151, 158, 161, 150, 158, 160, 147, 155, 157, 141, 149, 151, 138, 145, 147, 134, 143, 144, 129, 137, 139, 127, 136, 138, 127, 135, 137, 127, 135, 135, 131, 136, 134, 136, 141, 141, 164, 172, 173, 179, 190, 191, 176, 188, 189, 172, 187, 187, 168, 183, 183, 167, 182, 181, 166, 108, 55, 128, 96, 67, 180, 179, 176, 218, 219, 221, 209, 212, 214, 202, 210, 212, 194, 205, 206, 188, 202, 202, 182, 197, 196, 178, 193, 192, 175, 189, 188, 171, 181, 182, 165, 172, 174, 158, 163, 166, 147, 154, 155, 139, 146, 147, 129, 136, 137, 123, 130, 131, 122, 129, 130, 127, 133, 136, 130, 136, 139, 129, 135, 137, 125, 132, 134, 121, 127, 129, 120, 123, 122, 125, 129, 130, 158, 165, 168, 167, 176, 180, 153, 164, 168, 161, 175, 175, 167, 181, 180, 166, 180, 180, 167, 109, 56, 129, 98, 68, 177, 176, 173, 218, 219, 221, 208, 211, 213, 202, 209, 212, 194, 205, 206, 187, 201, 201, 182, 197, 196, 180, 192, 192, 175, 185, 186, 161, 168, 171, 159, 164, 167, 164, 167, 170, 164, 168, 168, 147, 151, 150, 126, 129, 129, 119, 123, 122, 111, 115, 115, 109, 112, 115, 122, 125, 128, 130, 133, 136, 127, 130, 133, 124, 128, 130, 123, 128, 129, 148, 154, 157, 177, 186, 190, 157, 170, 175, 135, 148, 153, 159, 171, 171, 168, 180, 180, 167, 178, 179, 167, 110, 56, 129, 98, 68, 176, 175, 172, 220, 220, 222, 209, 212, 214, 202, 209, 212, 195, 206, 207, 188, 202, 202, 183, 198, 197, 182, 193, 194, 168, 176, 178, 147, 152, 155, 166, 168, 172, 173, 173, 176, 175, 176, 175, 170, 171, 169, 157, 158, 156, 135, 136, 133, 126, 127, 126, 115, 115, 118, 116, 116, 121, 135, 135, 140, 149, 148, 153, 134, 136, 140, 137, 144, 147, 158, 168, 171, 158, 170, 175, 121, 136, 144, 124, 138, 144, 166, 175, 177, 170, 178, 180, 168, 177, 179, 161, 107, 56, 125, 95, 65, 174, 173, 169, 221, 222, 224, 211, 214, 216, 204, 211, 214, 197, 207, 208, 189, 202, 202, 184, 197, 197, 184, 191, 193, 161, 165, 168, 141, 143, 147, 177, 176, 181, 196, 194, 198, 188, 188, 185, 175, 175, 170, 160, 160, 156, 149, 149, 144, 130, 129, 127, 119, 118, 122, 123, 122, 127, 144, 143, 147, 127, 125, 130, 93, 94, 98, 108, 117, 121, 113, 125, 130, 97, 111, 117, 93, 109, 118, 105, 120, 127, 151, 158, 161, 172, 178, 180, 168, 174, 176, 112, 86, 54, 100, 79, 55, 177, 171, 161, 221, 222, 222, 212, 216, 219, 208, 213, 216, 201, 207, 209, 194, 201, 203, 189, 195, 197, 185, 188, 189, 162, 163, 164, 146, 147, 148, 184, 184, 185, 209, 208, 208, 191, 189, 184, 170, 168, 161, 160, 157, 151, 153, 150, 144, 134, 132, 127, 117, 119, 118, 125, 127, 128, 132, 134, 135, 89, 91, 92, 63, 68, 69, 79, 91, 94, 84, 97, 101, 96, 110, 114, 105, 120, 125, 99, 113, 118, 136, 145, 150, 146, 157, 157, 164, 173, 171, 103, 90, 68, 95, 81, 61, 172, 165, 154, 222, 225, 224, 213, 217, 220, 210, 214, 217, 203, 207, 210, 197, 201, 204, 192, 196, 198, 180, 181, 182, 165, 165, 164, 166, 166, 165, 182, 182, 182, 206, 206, 205, 200, 198, 193, 186, 184, 178, 175, 173, 167, 160, 158, 152, 155, 155, 149, 136, 139, 137, 125, 129, 128, 135, 139, 138, 87, 91, 90, 74, 80, 80, 89, 102, 105, 92, 107, 110, 128, 142, 145, 131, 145, 148, 137, 150, 154, 136, 148, 152, 136, 151, 151, 154, 166, 165, 110, 94, 69, 95, 85, 68, 165, 162, 154, 220, 223, 222, 212, 216, 219, 209, 213, 216, 203, 207, 210, 197, 201, 204, 184, 188, 190, 162, 163, 163, 153, 153, 153, 165, 165, 165, 175, 175, 175, 194, 194, 193, 189, 189, 186, 174, 175, 171, 166, 166, 162, 134, 134, 130, 168, 169, 165, 160, 164, 162, 141, 145, 144, 143, 147, 146, 84, 88, 87, 68, 74, 74, 86, 99, 101, 102, 116, 120, 134, 148, 151, 142, 156, 159, 145, 159, 161, 133, 148, 150, 132, 149, 154, 111, 124, 130, 99, 81, 55, 77, 71, 57, 159, 160, 156, 218, 221, 222, 212, 216, 219, 210, 214, 217, 202, 206, 209, 176, 181, 184, 148, 152, 154, 139, 139, 140, 141, 141, 141, 153, 153, 153, 150, 150, 150, 159, 160, 159, 138, 139, 138, 127, 129, 127, 145, 146, 145, 82, 84, 82, 141, 143, 141, 188, 192, 191, 142, 146, 145, 95, 99, 98, 77, 81, 80, 54, 60, 60, 83, 96, 98, 99, 113, 116, 120, 134, 137, 144, 158, 161, 131, 145, 147, 132, 149, 152, 96, 115, 125, 72, 87, 100, 106, 86, 58, 75, 73, 61, 153, 158, 156, 221, 224, 224, 215, 219, 221, 209, 213, 216, 169, 173, 176, 136, 139, 142, 132, 135, 138, 134, 134, 135, 133, 133, 133, 145, 145, 145, 145, 145, 145, 149, 149, 149, 157, 160, 160, 152, 156, 156, 130, 133, 133, 111, 114, 114, 135, 138, 138, 190, 194, 193, 154, 158, 157, 102, 106, 105, 67, 70, 69, 50, 56, 56, 93, 105, 107, 115, 129, 133, 124, 139, 143, 126, 140, 144, 115, 130, 131, 105, 124, 125, 79, 99, 112, 86, 102, 119, 118, 92, 59, 81, 77, 65, 152, 155, 153, 224, 223, 220, 220, 220, 219, 192, 193, 195, 133, 134, 135, 127, 129, 130, 134, 135, 136, 134, 134, 134, 129, 129, 129, 132, 132, 132, 158, 158, 158, 163, 163, 163, 169, 169, 170, 167, 168, 169, 141, 142, 142, 155, 157, 157, 175, 176, 176, 148, 148, 146, 150, 151, 149, 118, 122, 121, 54, 60, 60, 57, 63, 63, 113, 124, 124, 132, 153, 162, 113, 141, 155, 116, 138, 147, 114, 128, 131, 90, 104, 107, 98, 113, 120, 124, 138, 147, 124, 96, 62, 87, 82, 69, 149, 151, 147, 226, 224, 220, 206, 205, 204, 150, 150, 150, 125, 125, 125, 128, 128, 128, 131, 131, 131, 132, 132, 132, 137, 137, 137, 136, 136, 136, 140, 140, 140, 170, 170, 170, 196, 196, 196, 214, 214, 214, 215, 214, 214, 209, 209, 209, 202, 201, 201, 164, 164, 160, 171, 171, 169, 117, 120, 119, 48, 54, 55, 56, 64, 66, 135, 150, 153, 131, 160, 174, 114, 151, 173, 124, 154, 169, 162, 179, 186, 179, 186, 191, 167, 173, 179, 143, 149, 155, 126, 103, 72, 91, 84, 69, 145, 146, 140, 222, 221, 218, 173, 173, 172, 126, 126, 126, 130, 130, 130, 132, 132, 132, 131, 131, 131, 134, 134, 134, 148, 148, 148, 149, 149, 149, 133, 133, 133, 140, 140, 140, 172, 172, 172, 200, 200, 200, 214, 214, 214, 217, 217, 217, 206, 206, 205, 179, 179, 175, 151, 151, 149, 124, 127, 126, 81, 88, 88, 85, 96, 98, 139, 161, 169, 130, 162, 178, 113, 151, 172, 129, 163, 182, 171, 193, 206, 223, 225, 233, 224, 224, 232, 190, 190, 198, 134, 115, 88, 98, 89, 73, 145, 143, 136, 198, 199, 197, 134, 134, 134, 117, 116, 116, 120, 120, 120, 130, 130, 130, 132, 132, 132, 134, 134, 134, 154, 154, 154, 165, 165, 165, 154, 154, 154, 150, 150, 150, 153, 153, 153, 162, 162, 162, 171, 171, 171, 181, 181, 181, 180, 180, 179, 168, 168, 165, 164, 165, 162, 152, 155, 154, 123, 130, 130, 123, 134, 138, 139, 162, 172, 149, 177, 191, 133, 164, 181, 152, 184, 202, 152, 175, 190, 215, 218, 226, 237, 238, 245, 211, 213, 221, 126, 110, 85, 98, 87, 69, 138, 135, 126, 154, 156, 155, 112, 113, 113, 115, 115, 115, 116, 116, 116, 123, 123, 123, 132, 132, 132, 134, 134, 134, 148, 148, 148, 161, 161, 161, 171, 171, 171, 179, 179, 179, 180, 180, 180, 170, 170, 170, 174, 174, 174, 182, 183, 182, 185, 184, 184, 181, 181, 178, 172, 173, 170, 176, 178, 178, 149, 155, 156, 137, 147, 151, 146, 165, 173, 169, 189, 197, 177, 198, 207, 151, 177, 189, 153, 176, 188, 198, 209, 214, 189, 199, 203, 207, 216, 221, 138, 112, 72, 122, 97, 65, 131, 116, 101, 120, 119, 119, 109, 110, 111, 114, 114, 114, 119, 120, 120, 139, 139, 139, 137, 137, 137, 133, 133, 133, 150, 150, 150, 161, 161, 161, 175, 175, 175, 183, 184, 184, 175, 178, 177, 188, 190, 190, 196, 198, 198, 205, 208, 207, 203, 206, 205, 169, 172, 172, 176, 174, 177, 201, 197, 201, 155, 159, 161, 145, 159, 162, 137, 158, 168, 177, 192, 197, 213, 223, 226, 171, 186, 193, 168, 187, 196, 170, 187, 191, 165, 180, 182, 194, 204, 207, 155, 107, 60, 145, 103, 64, 120, 97, 79, 104, 102, 102, 117, 118, 119, 127, 126, 126, 126, 126, 126, 147, 147, 147, 152, 152, 152, 138, 138, 138, 145, 145, 145, 157, 157, 157, 155, 155, 155, 169, 170, 170, 175, 179, 178, 183, 187, 186, 206, 210, 209, 211, 215, 213, 202, 207, 206, 165, 171, 173, 172, 171, 176, 171, 167, 173, 172, 174, 177, 162, 175, 179, 146, 166, 176, 179, 191, 197, 228, 234, 236, 213, 222, 226, 193, 207, 212, 195, 209, 209, 221, 231, 232, 232, 238, 239, 160, 96, 50, 143, 93, 55, 102, 78, 59, 97, 98, 98, 118, 121, 122, 134, 134, 133, 141, 141, 141, 144, 144, 144, 152, 152, 152, 166, 166, 166, 161, 161, 161, 174, 174, 174, 178, 178, 178, 194, 194, 194, 204, 207, 206, 185, 189, 188, 189, 193, 192, 195, 199, 198, 186, 191, 191, 141, 151, 152, 135, 142, 144, 174, 177, 180, 193, 196, 199, 168, 175, 179, 149, 164, 171, 159, 171, 177, 198, 207, 210, 224, 232, 234, 222, 229, 231, 221, 226, 225, 236, 242, 241, 242, 249, 251, 160, 93, 41, 141, 88, 47, 91, 67, 48, 95, 97, 98, 129, 131, 133, 161, 161, 160, 157, 157, 157, 147, 147, 147, 155, 155, 155, 189, 189, 189, 199, 199, 199, 176, 177, 176, 159, 159, 159, 153, 154, 154, 155, 158, 158, 164, 168, 167, 171, 175, 174, 158, 162, 161, 148, 153, 152, 129, 142, 141, 141, 156, 156, 170, 182, 182, 189, 193, 196, 180, 180, 185, 148, 156, 161, 149, 161, 166, 172, 183, 187, 206, 211, 212, 227, 228, 227, 231, 233, 236, 217, 225, 229, 205, 219, 225, 154, 97, 38, 137, 90, 45, 92, 69, 49, 97, 98, 100, 133, 135, 137, 159, 158, 157, 151, 151, 151, 138, 137, 137, 153, 152, 152, 187, 186, 187, 221, 221, 221, 205, 205, 205, 178, 178, 178, 156, 156, 156, 160, 164, 163, 175, 179, 178, 176, 180, 179, 147, 151, 150, 124, 129, 128, 151, 166, 165, 158, 179, 177, 158, 176, 175, 180, 184, 187, 184, 180, 185, 163, 168, 169, 162, 173, 177, 173, 186, 191, 212, 215, 214, 222, 221, 218, 224, 230, 236, 184, 197, 207, 155, 179, 193, 152, 100, 37, 136, 90, 40, 110, 86, 62, 112, 111, 110, 135, 132, 133, 163, 157, 155, 155, 151, 150, 148, 144, 144, 159, 156, 157, 179, 178, 180, 215, 214, 217, 220, 219, 222, 197, 196, 200, 188, 187, 190, 169, 172, 172, 143, 147, 146, 161, 165, 164, 161, 165, 164, 108, 114, 112, 136, 150, 147, 167, 183, 180, 183, 196, 193, 191, 196, 196, 191, 190, 191, 175, 176, 176, 163, 168, 169, 190, 195, 197, 231, 232, 232, 215, 214, 213, 219, 222, 225, 207, 214, 219, 212, 223, 230, 154, 97, 31, 136, 88, 37, 109, 84, 58, 112, 112, 109, 136, 137, 141, 154, 152, 155, 165, 163, 166, 185, 183, 185, 182, 180, 182, 171, 173, 176, 185, 188, 190, 193, 196, 199, 186, 189, 192, 180, 183, 185, 178, 182, 182, 172, 176, 175, 156, 160, 159, 151, 155, 154, 143, 149, 147, 156, 167, 164, 192, 203, 199, 211, 218, 215, 228, 232, 231, 237, 239, 238, 219, 219, 219, 202, 202, 202, 217, 217, 217, 238, 238, 238, 234, 234, 234, 220, 220, 220, 202, 202, 202, 233, 233, 232, 160, 99, 30, 145, 96, 44, 114, 86, 59, 105, 98, 91, 117, 120, 123, 153, 157, 162, 181, 184, 187, 197, 198, 202, 191, 192, 194, 170, 176, 175, 156, 163, 161, 176, 184, 182, 195, 203, 201, 199, 205, 204, 202, 206, 205, 198, 202, 201, 161, 165, 164, 143, 147, 146, 159, 165, 163, 184, 193, 190, 208, 217, 214, 223, 229, 227, 234, 236, 235, 244, 244, 244, 245, 245, 245, 232, 232, 232, 225, 225, 225, 242, 242, 242, 242, 242, 242, 222, 222, 223, 218, 218, 218, 226, 226, 226, 166, 106, 39, 160, 111, 59, 146, 110, 75, 127, 102, 80, 118, 102, 86, 149, 138, 126, 183, 177, 169, 202, 200, 196, 207, 208, 207, 193, 196, 194, 166, 169, 167, 177, 180, 177, 200, 203, 200, 215, 218, 216, 218, 222, 221, 210, 214, 213, 189, 193, 192, 170, 174, 173, 173, 178, 177, 187, 193, 191, 206, 211, 209, 228, 230, 229, 234, 233, 233, 237, 235, 235, 234, 234, 234, 231, 231, 231, 229, 229, 229, 233, 233, 233, 230, 230, 230, 223, 223, 223, 225, 225, 225, 228, 228, 228, 155, 102, 41, 145, 97, 46, 149, 103, 60, 149, 103, 63, 150, 103, 62, 150, 110, 73, 154, 129, 102, 164, 153, 138, 169, 166, 159, 174, 168, 165, 122, 114, 112, 114, 107, 105, 130, 123, 122, 159, 154, 153, 215, 217, 216, 226, 230, 229, 215, 219, 218, 200, 204, 203, 204, 208, 207, 213, 217, 216, 215, 217, 217, 222, 221, 222, 226, 222, 224, 226, 222, 224, 222, 221, 221, 221, 221, 221, 223, 223, 223, 224, 224, 224, 224, 224, 224, 220, 220, 220, 219, 219, 219, 222, 222, 222, 147, 93, 35, 139, 85, 39, 145, 91, 42, 159, 103, 42, 187, 121, 47, 192, 123, 47, 173, 114, 43, 152, 109, 47, 142, 112, 63, 142, 110, 78, 127, 94, 71, 124, 95, 79, 123, 96, 89, 140, 118, 115, 185, 174, 167, 213, 206, 200, 227, 225, 220, 231, 233, 231, 235, 238, 236, 234, 236, 235, 230, 230, 234, 226, 226, 235, 223, 223, 232, 222, 221, 226, 222, 221, 221, 222, 221, 220, 222, 222, 222, 222, 222, 222, 222, 222, 222, 220, 220, 220, 218, 218, 218, 219, 219, 219, 146, 87, 31, 143, 83, 39, 152, 94, 43, 170, 113, 45, 190, 124, 43, 198, 125, 37, 203, 129, 38, 198, 132, 43, 189, 133, 49, 184, 130, 50, 180, 128, 55, 170, 123, 62, 156, 113, 63, 145, 106, 64, 140, 109, 73, 143, 116, 86, 157, 136, 112, 176, 160, 143, 192, 180, 165, 206, 196, 183, 219, 209, 205, 229, 220, 225, 232, 225, 229, 232, 227, 226, 232, 229, 226, 228, 226, 224, 224, 224, 224, 222, 224, 225, 222, 223, 225, 221, 221, 222, 220, 220, 220, 219, 219, 219, 148, 87, 28, 143, 82, 31, 146, 85, 30, 153, 94, 30, 169, 110, 41, 185, 122, 49, 196, 129, 49, 201, 132, 48, 204, 136, 47, 207, 141, 39, 208, 144, 42, 208, 147, 52, 205, 146, 58, 199, 144, 61, 186, 137, 63, 175, 128, 62, 165, 119, 64, 152, 109, 64, 144, 105, 66, 141, 109, 73, 150, 120, 95, 165, 138, 123, 184, 161, 146, 201, 183, 167, 211, 200, 192, 225, 218, 212, 229, 226, 223, 228, 229, 229, 226, 228, 229, 223, 223, 223, 221, 221, 221, 220, 220, 220], \"height\": 32, \"channels\": 3, \"width\": 32, \"type\": \"image\", \"id\": 139863839876240}, {\"format\": \"raw\", \"value\": [154, 179, 152, 159, 183, 157, 165, 189, 162, 174, 199, 171, 168, 194, 164, 162, 187, 158, 156, 182, 152, 157, 182, 154, 149, 173, 147, 146, 170, 144, 146, 170, 144, 148, 172, 146, 153, 178, 152, 156, 181, 155, 156, 180, 154, 149, 173, 146, 141, 163, 136, 148, 171, 143, 159, 182, 154, 153, 175, 147, 136, 160, 133, 126, 150, 124, 125, 149, 123, 135, 160, 133, 144, 169, 142, 144, 169, 142, 136, 160, 134, 130, 154, 127, 131, 157, 131, 129, 161, 137, 125, 158, 133, 122, 155, 131, 156, 177, 152, 160, 180, 155, 163, 184, 159, 163, 186, 161, 165, 190, 164, 163, 187, 161, 151, 176, 150, 144, 168, 143, 142, 166, 143, 138, 162, 138, 141, 165, 141, 152, 176, 153, 156, 180, 156, 158, 182, 159, 157, 181, 157, 156, 180, 157, 154, 178, 153, 157, 181, 156, 157, 181, 156, 154, 178, 152, 150, 174, 148, 143, 167, 141, 142, 166, 140, 138, 162, 136, 142, 167, 141, 139, 166, 139, 138, 165, 138, 127, 154, 127, 117, 145, 118, 118, 150, 126, 120, 152, 128, 118, 150, 126, 146, 169, 143, 130, 152, 126, 128, 151, 125, 131, 155, 130, 138, 163, 139, 141, 164, 141, 140, 164, 140, 140, 164, 142, 145, 168, 148, 140, 163, 143, 136, 160, 139, 137, 160, 140, 142, 165, 144, 148, 171, 151, 152, 175, 155, 152, 175, 154, 150, 175, 151, 151, 177, 153, 152, 178, 154, 151, 177, 153, 150, 175, 149, 142, 166, 140, 148, 172, 146, 145, 169, 143, 133, 159, 133, 124, 153, 125, 126, 156, 128, 125, 154, 126, 122, 151, 124, 118, 150, 126, 112, 144, 120, 107, 139, 115, 141, 168, 140, 131, 157, 131, 121, 147, 121, 115, 140, 117, 110, 133, 112, 109, 133, 111, 117, 142, 119, 126, 151, 129, 133, 156, 136, 130, 153, 133, 131, 154, 135, 128, 151, 132, 136, 159, 139, 136, 159, 139, 133, 157, 137, 133, 157, 137, 130, 158, 135, 126, 155, 131, 123, 151, 128, 120, 148, 124, 122, 148, 123, 122, 146, 120, 120, 145, 118, 115, 139, 113, 107, 134, 107, 104, 134, 106, 109, 139, 111, 113, 143, 114, 113, 144, 116, 111, 143, 119, 105, 137, 113, 107, 139, 115, 135, 161, 134, 133, 158, 135, 133, 158, 136, 135, 157, 139, 115, 138, 117, 104, 130, 106, 102, 131, 109, 101, 130, 110, 111, 140, 119, 124, 151, 132, 139, 163, 145, 141, 164, 148, 139, 163, 144, 135, 159, 140, 125, 152, 132, 114, 143, 122, 108, 142, 120, 115, 148, 125, 122, 150, 127, 119, 143, 119, 112, 138, 111, 99, 127, 100, 100, 128, 100, 94, 122, 94, 94, 122, 94, 104, 132, 105, 113, 142, 115, 116, 145, 118, 110, 140, 113, 97, 129, 104, 98, 130, 106, 106, 138, 114, 140, 164, 139, 130, 154, 132, 131, 154, 134, 136, 158, 139, 131, 154, 133, 134, 159, 140, 126, 152, 142, 113, 142, 135, 106, 137, 126, 105, 133, 120, 125, 151, 135, 128, 153, 134, 129, 154, 135, 121, 148, 129, 116, 146, 125, 106, 139, 118, 99, 134, 113, 104, 136, 115, 112, 139, 117, 119, 142, 119, 114, 140, 114, 107, 136, 108, 105, 134, 106, 109, 139, 110, 111, 140, 114, 112, 140, 117, 121, 149, 125, 114, 142, 119, 113, 142, 118, 103, 135, 110, 98, 131, 105, 100, 133, 107, 126, 150, 125, 119, 143, 121, 118, 141, 121, 119, 143, 121, 110, 134, 113, 117, 139, 126, 195, 213, 216, 200, 221, 231, 198, 224, 227, 142, 167, 164, 109, 132, 123, 120, 143, 129, 116, 139, 124, 119, 144, 129, 124, 152, 136, 120, 150, 133, 106, 135, 119, 102, 129, 112, 108, 133, 113, 111, 133, 113, 116, 143, 117, 118, 147, 119, 117, 146, 118, 115, 144, 116, 110, 138, 113, 100, 128, 105, 104, 132, 109, 109, 137, 114, 104, 133, 109, 100, 133, 105, 97, 130, 102, 99, 132, 104, 119, 144, 118, 112, 136, 114, 110, 132, 113, 114, 138, 116, 105, 128, 107, 116, 136, 124, 204, 218, 222, 189, 204, 217, 174, 192, 202, 113, 130, 137, 92, 106, 112, 106, 120, 122, 104, 119, 117, 112, 128, 125, 115, 134, 130, 120, 141, 136, 118, 140, 129, 109, 131, 117, 107, 130, 113, 95, 118, 99, 97, 123, 99, 103, 133, 104, 111, 140, 112, 111, 140, 112, 115, 144, 116, 108, 137, 110, 102, 131, 103, 100, 129, 102, 100, 129, 102, 95, 127, 97, 100, 133, 102, 98, 131, 100, 122, 147, 122, 121, 146, 124, 120, 144, 124, 117, 142, 121, 114, 139, 116, 119, 138, 123, 110, 123, 122, 91, 102, 112, 72, 82, 97, 52, 59, 75, 62, 67, 85, 66, 69, 88, 65, 69, 82, 91, 97, 108, 117, 126, 136, 83, 95, 103, 93, 110, 107, 117, 136, 126, 117, 138, 124, 107, 129, 111, 101, 128, 103, 98, 127, 98, 101, 130, 101, 99, 128, 99, 113, 142, 111, 126, 155, 121, 127, 157, 123, 122, 151, 117, 112, 142, 108, 105, 138, 106, 104, 137, 106, 105, 138, 106, 120, 149, 125, 122, 150, 127, 112, 141, 118, 115, 144, 118, 115, 143, 117, 120, 142, 126, 99, 116, 118, 62, 74, 89, 116, 124, 140, 79, 81, 101, 74, 74, 96, 74, 76, 97, 38, 39, 59, 44, 46, 65, 98, 103, 118, 49, 55, 69, 34, 46, 52, 73, 89, 86, 114, 133, 119, 115, 137, 113, 107, 132, 103, 102, 129, 100, 94, 121, 91, 88, 115, 86, 98, 126, 94, 111, 138, 103, 118, 146, 111, 122, 149, 114, 122, 150, 116, 120, 150, 121, 118, 149, 120, 109, 140, 110, 115, 144, 122, 120, 149, 127, 116, 145, 123, 120, 148, 124, 121, 147, 123, 128, 150, 136, 117, 134, 138, 70, 83, 99, 91, 100, 116, 72, 74, 93, 113, 114, 131, 112, 116, 133, 48, 50, 67, 30, 31, 46, 53, 55, 66, 62, 66, 75, 49, 61, 64, 75, 92, 87, 97, 119, 101, 106, 131, 102, 108, 134, 104, 98, 124, 95, 96, 122, 93, 98, 124, 95, 101, 127, 99, 103, 129, 101, 103, 129, 101, 99, 125, 98, 109, 135, 108, 120, 149, 121, 123, 152, 124, 104, 133, 106, 105, 131, 112, 106, 132, 113, 108, 134, 115, 109, 134, 115, 103, 126, 108, 115, 134, 123, 182, 196, 200, 162, 175, 186, 109, 119, 131, 114, 117, 130, 75, 76, 91, 62, 67, 80, 135, 139, 149, 90, 92, 100, 42, 41, 48, 69, 69, 74, 90, 97, 97, 108, 122, 114, 103, 124, 106, 100, 127, 99, 108, 135, 107, 113, 138, 112, 110, 136, 110, 109, 135, 109, 111, 137, 113, 109, 133, 114, 102, 127, 108, 94, 119, 100, 93, 118, 98, 97, 124, 100, 100, 127, 103, 97, 124, 100, 101, 125, 109, 109, 132, 117, 114, 137, 122, 116, 138, 124, 104, 123, 111, 144, 160, 153, 188, 199, 204, 119, 131, 141, 163, 173, 179, 235, 238, 244, 198, 200, 207, 133, 139, 147, 124, 129, 139, 60, 61, 71, 37, 34, 43, 51, 43, 52, 71, 67, 72, 101, 105, 104, 121, 134, 123, 112, 134, 116, 108, 133, 110, 110, 136, 111, 111, 137, 113, 108, 133, 109, 107, 132, 110, 102, 126, 109, 100, 124, 107, 95, 120, 103, 95, 120, 102, 96, 119, 99, 98, 121, 101, 101, 124, 104, 112, 134, 121, 112, 133, 120, 126, 148, 134, 121, 141, 130, 110, 128, 117, 119, 134, 127, 131, 143, 148, 101, 112, 122, 159, 169, 175, 185, 189, 195, 118, 121, 128, 51, 57, 66, 18, 23, 35, 17, 17, 30, 28, 22, 34, 37, 27, 40, 56, 46, 58, 69, 64, 72, 94, 99, 99, 116, 128, 123, 117, 138, 122, 100, 125, 104, 100, 125, 104, 92, 118, 96, 92, 118, 97, 92, 118, 97, 97, 122, 102, 96, 121, 101, 91, 116, 95, 89, 112, 92, 94, 118, 97, 95, 118, 98, 102, 126, 110, 100, 124, 106, 98, 122, 102, 97, 121, 100, 98, 121, 99, 102, 124, 108, 116, 135, 132, 118, 134, 143, 96, 108, 123, 50, 59, 74, 26, 33, 48, 20, 26, 40, 20, 24, 34, 22, 20, 31, 27, 24, 35, 38, 38, 48, 53, 51, 65, 56, 54, 68, 60, 61, 71, 84, 85, 93, 107, 119, 116, 98, 119, 108, 99, 122, 108, 95, 121, 104, 88, 115, 97, 90, 117, 99, 86, 113, 93, 84, 109, 88, 88, 114, 91, 88, 116, 92, 95, 123, 98, 92, 120, 96, 99, 124, 107, 97, 122, 102, 94, 120, 98, 96, 121, 98, 101, 125, 101, 101, 125, 105, 99, 121, 112, 125, 144, 150, 83, 100, 115, 46, 61, 76, 37, 48, 66, 18, 28, 44, 21, 24, 37, 26, 23, 37, 35, 33, 47, 45, 47, 60, 46, 47, 62, 45, 44, 59, 48, 48, 60, 54, 54, 64, 71, 77, 80, 86, 97, 94, 99, 113, 106, 104, 121, 111, 91, 111, 99, 96, 120, 106, 86, 111, 94, 86, 111, 91, 87, 113, 91, 90, 115, 92, 100, 124, 102, 95, 120, 97, 117, 142, 125, 105, 130, 110, 104, 129, 108, 97, 121, 100, 90, 114, 90, 92, 116, 93, 89, 111, 97, 130, 151, 149, 173, 193, 199, 116, 133, 142, 85, 99, 112, 69, 81, 97, 35, 38, 54, 29, 25, 44, 38, 34, 53, 39, 41, 57, 34, 35, 50, 36, 35, 50, 40, 40, 52, 47, 47, 56, 59, 58, 65, 71, 70, 76, 85, 87, 89, 99, 104, 103, 93, 104, 98, 89, 107, 96, 85, 107, 93, 87, 111, 93, 85, 111, 90, 90, 111, 92, 97, 119, 99, 94, 116, 96, 105, 130, 114, 104, 129, 109, 94, 120, 98, 91, 115, 94, 106, 130, 107, 109, 133, 109, 101, 124, 106, 94, 115, 105, 154, 172, 167, 172, 188, 187, 209, 221, 225, 157, 168, 176, 48, 52, 64, 33, 30, 44, 35, 33, 47, 30, 32, 45, 27, 28, 43, 32, 31, 45, 34, 34, 46, 42, 42, 51, 54, 50, 61, 63, 58, 70, 67, 65, 73, 80, 81, 85, 101, 107, 106, 104, 117, 110, 102, 120, 110, 106, 130, 115, 106, 133, 115, 106, 131, 112, 98, 122, 103, 96, 120, 101, 99, 123, 106, 104, 129, 109, 99, 123, 102, 92, 115, 95, 103, 127, 104, 104, 128, 103, 97, 121, 100, 87, 110, 92, 80, 101, 85, 101, 117, 108, 150, 161, 161, 51, 60, 65, 18, 21, 29, 24, 22, 31, 26, 24, 34, 23, 24, 34, 22, 23, 37, 27, 26, 40, 28, 28, 40, 35, 35, 46, 47, 45, 57, 53, 49, 63, 52, 51, 61, 59, 60, 66, 74, 78, 80, 96, 105, 101, 114, 129, 120, 106, 129, 114, 112, 140, 121, 117, 145, 126, 106, 134, 115, 104, 132, 113, 98, 121, 102, 102, 125, 106, 99, 122, 103, 86, 109, 90, 90, 113, 94, 95, 118, 99, 89, 112, 93, 88, 114, 94, 97, 122, 105, 133, 148, 142, 170, 180, 184, 35, 44, 53, 15, 18, 25, 21, 22, 31, 46, 46, 58, 29, 30, 43, 23, 24, 38, 27, 29, 42, 29, 31, 44, 32, 34, 46, 35, 36, 50, 36, 36, 49, 36, 35, 46, 47, 44, 52, 62, 60, 65, 78, 80, 80, 91, 101, 93, 87, 108, 90, 97, 124, 101, 107, 129, 111, 109, 132, 114, 101, 124, 106, 85, 108, 90, 88, 111, 93, 87, 110, 92, 87, 110, 93, 93, 116, 99, 90, 113, 96, 88, 111, 94, 92, 112, 97, 154, 166, 156, 194, 200, 198, 177, 182, 188, 38, 47, 57, 17, 26, 37, 43, 50, 64, 71, 78, 94, 25, 31, 49, 18, 22, 37, 22, 25, 39, 19, 21, 36, 29, 31, 46, 39, 42, 55, 31, 32, 44, 29, 27, 38, 34, 30, 39, 47, 43, 49, 65, 65, 67, 77, 85, 80, 85, 103, 89, 90, 112, 94, 97, 117, 101, 105, 125, 109, 95, 115, 99, 80, 102, 88, 73, 95, 81, 78, 101, 86, 83, 106, 91, 83, 105, 91, 79, 102, 87, 78, 101, 86, 84, 105, 92, 83, 99, 91, 69, 82, 79, 114, 130, 131, 100, 120, 124, 98, 114, 127, 139, 154, 169, 128, 142, 160, 49, 62, 82, 26, 33, 50, 12, 17, 33, 52, 56, 71, 141, 145, 160, 87, 90, 104, 40, 41, 53, 30, 28, 39, 24, 20, 29, 33, 30, 36, 46, 48, 51, 66, 72, 71, 67, 79, 73, 67, 83, 74, 83, 99, 87, 86, 103, 90, 97, 113, 101, 99, 121, 109, 82, 104, 92, 73, 95, 83, 75, 97, 85, 76, 98, 85, 78, 100, 87, 84, 106, 93, 81, 106, 94, 65, 90, 82, 53, 71, 67, 176, 193, 191, 226, 245, 245, 212, 228, 237, 127, 143, 156, 102, 118, 134, 87, 102, 120, 53, 62, 80, 94, 100, 117, 187, 194, 207, 144, 151, 167, 51, 55, 71, 36, 37, 49, 31, 29, 40, 27, 23, 32, 37, 34, 40, 49, 50, 55, 62, 67, 70, 70, 76, 79, 73, 82, 82, 67, 80, 71, 77, 91, 81, 96, 109, 99, 98, 122, 108, 81, 105, 92, 81, 105, 92, 75, 99, 86, 78, 101, 89, 88, 110, 98, 85, 107, 95, 90, 111, 103, 112, 128, 125, 160, 167, 167, 242, 245, 247, 251, 255, 255, 213, 226, 231, 114, 128, 136, 84, 97, 109, 94, 107, 120, 104, 113, 128, 192, 200, 213, 131, 139, 154, 29, 36, 55, 31, 35, 50, 31, 31, 44, 26, 25, 36, 31, 28, 36, 42, 40, 46, 41, 42, 48, 37, 39, 45, 40, 42, 50, 64, 68, 74, 91, 102, 96, 95, 107, 99, 105, 117, 108, 77, 106, 85, 78, 106, 89, 90, 117, 104, 91, 119, 107, 87, 115, 103, 87, 112, 101, 88, 110, 101, 132, 147, 143, 217, 222, 224, 238, 242, 244, 220, 224, 226, 225, 229, 232, 223, 233, 236, 219, 231, 234, 199, 210, 214, 186, 197, 202, 194, 207, 211, 159, 172, 178, 35, 44, 56, 22, 28, 43, 28, 31, 44, 27, 29, 39, 30, 32, 39, 36, 38, 43, 38, 40, 44, 39, 42, 46, 35, 38, 43, 32, 35, 40, 47, 51, 54, 105, 110, 107, 113, 119, 113, 112, 118, 108, 79, 107, 89, 88, 115, 99, 87, 114, 101, 88, 115, 103, 102, 129, 117, 97, 121, 110, 102, 123, 113, 125, 142, 135, 141, 153, 151, 137, 150, 147, 104, 117, 115, 111, 125, 123, 117, 135, 132, 110, 128, 125, 89, 107, 104, 90, 109, 106, 98, 115, 113, 95, 110, 111, 66, 78, 83, 64, 72, 80, 53, 62, 65, 56, 66, 64, 61, 72, 67, 72, 84, 76, 73, 84, 76, 80, 91, 84, 82, 94, 86, 87, 98, 91, 91, 102, 94, 114, 122, 110, 118, 126, 112, 114, 122, 106, 103, 128, 115, 106, 131, 117, 101, 126, 112, 100, 126, 112, 105, 129, 115, 104, 126, 113, 107, 126, 114, 125, 145, 133, 102, 124, 114, 104, 126, 116, 104, 126, 116, 90, 113, 102, 93, 117, 105, 92, 116, 105, 100, 124, 113, 114, 137, 126, 104, 126, 116, 106, 124, 117, 124, 139, 136, 117, 129, 129, 101, 116, 108, 100, 118, 103, 107, 125, 108, 98, 116, 97, 92, 110, 90, 108, 126, 107, 117, 136, 117, 103, 122, 103, 106, 123, 103, 107, 119, 98, 108, 119, 98, 117, 129, 107, 122, 144, 136, 118, 140, 130, 125, 148, 135, 118, 141, 126, 107, 129, 114, 116, 136, 122, 120, 136, 123, 121, 139, 126, 115, 139, 124, 122, 145, 130, 128, 151, 137, 116, 139, 124, 118, 141, 124, 105, 128, 111, 116, 138, 121, 118, 141, 124, 110, 134, 117, 108, 130, 116, 119, 138, 127, 122, 138, 131, 130, 145, 134, 130, 146, 130, 128, 145, 126, 111, 128, 107, 98, 115, 93, 107, 123, 102, 115, 132, 110, 111, 128, 107, 122, 138, 116, 112, 125, 102, 110, 123, 102, 114, 127, 109, 115, 135, 127, 124, 144, 133, 136, 157, 142, 118, 141, 123, 118, 140, 123, 119, 139, 123, 120, 137, 123, 116, 134, 119, 118, 140, 124, 117, 139, 122, 120, 141, 124, 120, 141, 123, 111, 131, 111, 112, 132, 113, 115, 135, 115, 113, 133, 113, 106, 129, 108, 113, 134, 116, 119, 138, 125, 117, 134, 122, 127, 141, 128, 124, 137, 123, 122, 136, 119, 124, 138, 120, 115, 130, 111, 111, 126, 107, 110, 125, 106, 120, 135, 116, 133, 149, 128, 125, 140, 117, 107, 122, 101, 118, 132, 114, 125, 146, 129, 126, 147, 127, 124, 146, 124, 115, 139, 116, 119, 145, 122, 116, 140, 119, 120, 143, 125, 125, 148, 132, 120, 143, 126, 124, 145, 127, 125, 144, 125, 123, 141, 121, 132, 153, 134, 127, 148, 129, 104, 125, 106, 109, 129, 110, 123, 140, 119, 115, 130, 114, 121, 135, 125, 127, 140, 128, 127, 142, 127, 107, 123, 108, 100, 117, 101, 109, 125, 109, 108, 126, 108, 99, 120, 99, 100, 121, 100, 106, 127, 106, 116, 136, 115, 123, 141, 117, 126, 140, 118, 131, 144, 122, 125, 145, 127, 127, 148, 128, 125, 146, 124, 116, 138, 115, 118, 141, 118, 109, 132, 111, 118, 141, 123, 117, 140, 123, 107, 130, 112, 110, 131, 112, 123, 142, 121, 130, 149, 127, 129, 150, 130, 118, 140, 120, 115, 136, 116, 126, 147, 127, 131, 148, 126, 115, 130, 114, 123, 137, 127, 126, 141, 128, 118, 134, 119, 110, 127, 111, 95, 112, 96, 101, 118, 102, 100, 118, 101, 97, 118, 99, 104, 125, 107, 99, 120, 101, 109, 130, 111, 120, 137, 119, 128, 142, 125, 129, 141, 125, 119, 136, 120, 121, 138, 119, 135, 153, 132, 119, 136, 114, 113, 130, 109, 113, 133, 114, 110, 133, 115, 112, 137, 118, 102, 126, 105, 102, 124, 102, 105, 124, 100, 115, 134, 110, 115, 137, 114, 113, 136, 113, 131, 153, 130, 134, 156, 132, 132, 152, 129, 117, 135, 119, 102, 120, 109, 121, 139, 126, 130, 147, 131, 119, 136, 120, 101, 118, 102, 110, 127, 111, 101, 119, 103, 95, 115, 99, 97, 118, 101, 99, 120, 103, 115, 135, 119, 132, 148, 135, 136, 149, 137, 146, 157, 146], \"height\": 32, \"channels\": 3, \"width\": 32, \"type\": \"image\", \"id\": 139863839875216}, {\"format\": \"raw\", \"value\": [216, 195, 180, 201, 178, 160, 210, 184, 164, 212, 188, 171, 217, 195, 178, 202, 178, 158, 177, 150, 128, 188, 162, 141, 198, 176, 157, 196, 173, 157, 198, 175, 162, 207, 184, 173, 197, 177, 162, 197, 178, 163, 213, 194, 179, 201, 182, 166, 187, 169, 150, 193, 176, 156, 209, 191, 175, 186, 168, 155, 140, 120, 100, 131, 112, 91, 80, 64, 46, 62, 43, 21, 96, 73, 51, 133, 110, 93, 139, 119, 101, 149, 132, 112, 142, 124, 105, 172, 149, 130, 196, 177, 153, 202, 189, 166, 202, 179, 164, 222, 197, 179, 211, 184, 165, 200, 176, 162, 200, 178, 164, 200, 176, 157, 187, 161, 136, 194, 169, 141, 199, 176, 149, 199, 175, 155, 196, 171, 158, 212, 187, 178, 210, 191, 176, 192, 173, 158, 183, 164, 149, 205, 186, 171, 198, 180, 163, 178, 161, 144, 194, 177, 161, 163, 146, 130, 137, 116, 95, 122, 104, 83, 81, 65, 48, 66, 47, 26, 85, 63, 44, 120, 98, 83, 122, 97, 80, 123, 95, 75, 133, 104, 83, 164, 139, 119, 173, 152, 128, 176, 160, 137, 190, 165, 150, 186, 159, 142, 222, 193, 174, 210, 185, 171, 191, 169, 154, 194, 170, 150, 202, 175, 152, 201, 175, 148, 198, 174, 145, 199, 173, 149, 193, 166, 149, 198, 173, 158, 208, 188, 173, 189, 170, 155, 170, 151, 136, 184, 165, 150, 198, 180, 166, 169, 151, 136, 167, 150, 132, 152, 135, 116, 129, 109, 86, 93, 75, 53, 75, 60, 43, 72, 54, 32, 79, 57, 36, 95, 74, 55, 119, 94, 74, 133, 103, 82, 131, 99, 78, 143, 115, 94, 145, 122, 96, 133, 115, 90, 194, 167, 154, 160, 131, 116, 183, 152, 134, 199, 174, 156, 213, 192, 171, 193, 170, 150, 182, 156, 137, 196, 169, 148, 197, 170, 146, 207, 180, 156, 203, 176, 151, 203, 177, 154, 195, 175, 159, 179, 159, 144, 188, 169, 154, 191, 172, 157, 199, 181, 168, 194, 176, 162, 181, 164, 146, 170, 153, 133, 130, 110, 87, 69, 50, 29, 76, 60, 43, 72, 54, 33, 75, 53, 28, 104, 84, 57, 117, 96, 72, 140, 117, 96, 130, 105, 85, 134, 106, 84, 147, 123, 96, 159, 140, 114, 187, 162, 153, 180, 153, 139, 182, 157, 139, 193, 170, 155, 208, 186, 168, 211, 189, 165, 197, 173, 151, 199, 173, 154, 190, 164, 144, 196, 167, 146, 214, 182, 159, 216, 185, 162, 207, 184, 164, 197, 171, 155, 199, 172, 158, 202, 178, 164, 208, 187, 175, 209, 189, 177, 206, 186, 172, 197, 177, 162, 119, 99, 82, 58, 39, 22, 65, 47, 31, 79, 60, 43, 70, 47, 28, 107, 82, 61, 128, 107, 86, 137, 119, 99, 141, 123, 102, 134, 111, 87, 137, 115, 91, 145, 127, 105, 192, 170, 160, 194, 170, 157, 186, 167, 150, 182, 160, 149, 188, 162, 148, 200, 173, 150, 195, 167, 143, 186, 159, 138, 180, 154, 133, 167, 139, 117, 200, 168, 145, 211, 180, 155, 227, 202, 177, 220, 190, 169, 205, 175, 157, 209, 185, 167, 208, 189, 174, 202, 184, 170, 221, 203, 189, 209, 191, 177, 102, 83, 69, 60, 41, 26, 73, 54, 39, 89, 70, 55, 93, 71, 56, 116, 92, 75, 142, 121, 103, 159, 142, 123, 145, 129, 108, 145, 124, 100, 135, 114, 92, 136, 118, 99, 201, 179, 165, 173, 151, 139, 144, 129, 115, 150, 130, 119, 160, 133, 121, 172, 142, 124, 183, 149, 129, 198, 166, 145, 193, 167, 144, 157, 131, 106, 169, 142, 115, 197, 171, 141, 210, 187, 157, 212, 184, 158, 210, 181, 158, 233, 211, 189, 224, 209, 191, 221, 207, 191, 228, 214, 197, 180, 167, 150, 88, 71, 55, 83, 64, 49, 92, 73, 58, 99, 80, 65, 110, 91, 75, 118, 99, 82, 138, 120, 103, 163, 146, 128, 149, 131, 113, 158, 136, 115, 149, 128, 107, 125, 107, 86, 198, 177, 160, 129, 110, 98, 77, 66, 57, 104, 94, 85, 138, 122, 114, 159, 136, 128, 180, 152, 138, 191, 162, 144, 205, 178, 159, 205, 180, 158, 178, 155, 129, 213, 193, 164, 206, 184, 155, 209, 181, 156, 222, 193, 171, 226, 203, 181, 237, 221, 202, 231, 217, 199, 230, 217, 198, 177, 163, 144, 81, 64, 47, 97, 78, 63, 97, 78, 63, 100, 81, 66, 110, 93, 78, 121, 107, 91, 128, 112, 96, 150, 133, 118, 161, 143, 127, 165, 143, 126, 162, 141, 121, 128, 111, 88, 206, 186, 165, 164, 147, 136, 99, 90, 84, 72, 73, 66, 89, 89, 86, 108, 99, 98, 150, 133, 126, 191, 168, 154, 195, 166, 153, 208, 182, 167, 213, 193, 172, 200, 181, 158, 193, 170, 146, 210, 181, 161, 214, 184, 167, 204, 179, 163, 220, 201, 182, 226, 208, 188, 233, 216, 197, 158, 141, 121, 93, 74, 58, 101, 82, 67, 102, 84, 68, 116, 96, 81, 107, 92, 76, 129, 119, 103, 135, 122, 107, 147, 129, 116, 168, 148, 135, 183, 160, 145, 178, 157, 138, 151, 134, 110, 223, 201, 182, 202, 182, 169, 181, 165, 152, 120, 113, 101, 82, 80, 75, 79, 76, 78, 83, 78, 80, 138, 124, 119, 200, 176, 163, 213, 191, 178, 215, 198, 183, 194, 179, 164, 196, 180, 167, 210, 191, 176, 201, 180, 165, 180, 161, 148, 186, 171, 157, 208, 193, 179, 206, 192, 178, 162, 148, 134, 140, 126, 110, 106, 92, 75, 90, 74, 59, 118, 100, 87, 95, 80, 67, 94, 82, 68, 134, 118, 104, 125, 104, 89, 147, 124, 107, 188, 164, 145, 189, 168, 148, 148, 132, 109, 211, 188, 172, 201, 177, 164, 209, 186, 167, 202, 183, 165, 178, 164, 154, 126, 117, 113, 70, 64, 67, 67, 61, 62, 134, 128, 123, 192, 187, 183, 155, 153, 152, 153, 151, 150, 166, 158, 152, 163, 154, 140, 171, 160, 144, 173, 159, 148, 175, 165, 156, 186, 178, 168, 200, 191, 181, 204, 195, 185, 182, 172, 159, 160, 148, 133, 138, 123, 108, 136, 119, 103, 99, 82, 68, 94, 77, 64, 131, 110, 94, 145, 119, 99, 148, 121, 98, 174, 149, 126, 176, 155, 133, 146, 130, 109, 204, 181, 165, 206, 182, 169, 206, 184, 165, 207, 186, 166, 217, 196, 179, 215, 195, 182, 150, 137, 129, 70, 67, 65, 85, 90, 94, 125, 131, 137, 106, 115, 122, 122, 130, 136, 144, 138, 134, 146, 138, 126, 157, 147, 132, 170, 158, 148, 177, 168, 160, 188, 181, 173, 203, 196, 187, 193, 185, 177, 164, 153, 146, 157, 143, 134, 158, 142, 127, 170, 152, 132, 128, 111, 92, 109, 90, 75, 142, 119, 101, 159, 132, 110, 178, 148, 124, 180, 153, 131, 150, 127, 106, 137, 119, 99, 224, 200, 185, 207, 184, 171, 194, 172, 153, 207, 185, 166, 220, 195, 175, 222, 196, 174, 193, 177, 161, 125, 117, 109, 114, 109, 104, 126, 122, 119, 111, 110, 109, 126, 125, 124, 140, 135, 131, 151, 145, 134, 151, 143, 130, 160, 150, 141, 167, 160, 153, 186, 181, 174, 198, 194, 186, 171, 166, 158, 115, 107, 104, 92, 81, 79, 97, 85, 76, 107, 94, 80, 128, 113, 99, 128, 111, 98, 148, 128, 112, 153, 128, 108, 163, 134, 112, 175, 146, 125, 146, 120, 100, 130, 110, 91, 215, 191, 176, 204, 181, 168, 204, 181, 163, 206, 186, 170, 217, 192, 172, 231, 203, 178, 161, 146, 127, 116, 108, 97, 115, 103, 94, 114, 104, 96, 126, 119, 113, 136, 131, 127, 159, 156, 153, 162, 158, 148, 146, 139, 128, 149, 141, 133, 161, 156, 151, 187, 184, 178, 194, 191, 185, 144, 140, 135, 58, 56, 54, 131, 128, 128, 155, 150, 149, 71, 64, 63, 33, 23, 20, 86, 75, 66, 148, 133, 121, 165, 146, 131, 136, 111, 93, 147, 115, 95, 145, 117, 98, 142, 120, 102, 209, 186, 171, 206, 183, 169, 205, 182, 165, 201, 182, 166, 205, 184, 166, 212, 189, 167, 184, 167, 149, 122, 113, 99, 104, 98, 87, 96, 90, 86, 108, 101, 100, 113, 107, 105, 141, 137, 133, 152, 148, 140, 158, 153, 144, 156, 149, 143, 150, 145, 140, 179, 175, 171, 185, 181, 178, 101, 98, 96, 160, 162, 162, 212, 216, 219, 120, 121, 126, 93, 93, 98, 65, 68, 74, 118, 120, 120, 115, 103, 92, 129, 109, 91, 112, 90, 70, 101, 75, 51, 106, 83, 60, 129, 109, 91, 196, 172, 158, 203, 180, 166, 200, 177, 163, 188, 168, 152, 198, 179, 162, 204, 185, 168, 202, 183, 166, 156, 142, 125, 99, 93, 80, 96, 88, 87, 91, 81, 84, 94, 86, 83, 119, 113, 107, 144, 139, 133, 156, 151, 145, 168, 163, 157, 149, 142, 138, 136, 132, 129, 180, 178, 176, 105, 105, 105, 188, 193, 194, 226, 233, 235, 177, 184, 187, 155, 161, 166, 137, 150, 161, 177, 190, 197, 122, 112, 101, 106, 84, 63, 116, 94, 73, 127, 106, 80, 109, 89, 67, 118, 100, 83, 186, 163, 148, 191, 168, 153, 192, 169, 154, 186, 164, 148, 194, 174, 157, 210, 190, 173, 203, 183, 166, 191, 170, 156, 125, 106, 98, 102, 88, 86, 97, 90, 90, 97, 94, 91, 117, 112, 107, 135, 130, 124, 138, 133, 127, 148, 143, 137, 153, 149, 144, 134, 131, 128, 157, 157, 154, 108, 110, 110, 165, 171, 167, 225, 235, 229, 217, 226, 226, 179, 186, 191, 133, 144, 153, 149, 159, 163, 145, 138, 129, 114, 97, 81, 135, 116, 99, 174, 151, 130, 155, 133, 115, 138, 118, 104, 201, 178, 159, 196, 173, 155, 194, 172, 153, 186, 162, 146, 197, 174, 158, 211, 188, 172, 202, 179, 163, 181, 155, 141, 139, 112, 102, 106, 88, 77, 97, 89, 81, 92, 90, 84, 101, 96, 90, 121, 116, 110, 129, 124, 118, 129, 124, 118, 144, 141, 136, 167, 167, 162, 175, 177, 174, 142, 146, 145, 117, 122, 117, 199, 204, 197, 217, 222, 219, 170, 174, 174, 120, 125, 126, 119, 120, 117, 142, 133, 123, 144, 128, 113, 148, 129, 112, 146, 120, 102, 168, 144, 126, 173, 151, 135, 201, 179, 157, 202, 180, 159, 213, 192, 170, 207, 183, 166, 188, 162, 147, 185, 159, 145, 152, 126, 112, 119, 91, 76, 114, 87, 67, 124, 105, 82, 96, 85, 68, 74, 66, 58, 78, 73, 68, 99, 94, 89, 119, 114, 108, 129, 125, 118, 142, 141, 135, 175, 177, 171, 200, 204, 201, 193, 199, 198, 134, 135, 135, 110, 106, 105, 175, 172, 168, 158, 156, 148, 125, 119, 108, 125, 112, 100, 131, 116, 101, 160, 141, 123, 159, 136, 116, 149, 122, 101, 134, 108, 86, 156, 133, 109, 181, 157, 137, 183, 159, 140, 183, 159, 140, 182, 157, 138, 170, 142, 122, 117, 88, 67, 94, 66, 47, 99, 73, 54, 105, 79, 57, 116, 91, 62, 115, 94, 69, 101, 86, 69, 81, 74, 62, 84, 78, 69, 90, 84, 78, 97, 93, 89, 132, 131, 128, 179, 180, 178, 203, 207, 205, 212, 221, 219, 208, 207, 210, 136, 129, 128, 127, 121, 112, 136, 127, 113, 124, 112, 93, 135, 119, 100, 147, 129, 114, 163, 141, 123, 163, 137, 115, 162, 135, 110, 138, 111, 86, 135, 111, 83, 166, 142, 124, 162, 138, 120, 133, 109, 91, 108, 83, 61, 108, 78, 51, 88, 54, 24, 78, 47, 20, 102, 76, 56, 116, 88, 70, 113, 80, 55, 87, 58, 32, 126, 108, 84, 145, 134, 112, 93, 85, 68, 73, 67, 57, 76, 73, 69, 116, 115, 118, 190, 191, 194, 203, 206, 207, 201, 208, 206, 208, 209, 207, 197, 194, 186, 181, 176, 161, 173, 162, 148, 124, 110, 93, 146, 130, 110, 168, 149, 135, 178, 154, 138, 163, 138, 114, 166, 140, 113, 145, 119, 92, 143, 117, 91, 154, 133, 116, 147, 127, 109, 145, 125, 108, 103, 81, 61, 91, 63, 39, 100, 70, 43, 83, 56, 31, 103, 77, 56, 114, 85, 64, 97, 68, 46, 62, 39, 19, 81, 66, 47, 160, 151, 126, 153, 146, 122, 137, 130, 110, 141, 137, 121, 101, 103, 102, 171, 174, 176, 196, 197, 194, 187, 187, 180, 188, 186, 180, 180, 176, 167, 165, 159, 145, 95, 89, 81, 67, 55, 43, 124, 102, 83, 150, 126, 108, 179, 155, 132, 192, 168, 140, 171, 145, 120, 156, 130, 104, 136, 110, 85, 174, 158, 141, 189, 173, 157, 185, 169, 153, 145, 127, 110, 93, 70, 50, 105, 79, 55, 82, 59, 37, 84, 61, 41, 79, 54, 33, 58, 37, 20, 45, 27, 13, 50, 34, 20, 101, 93, 68, 161, 153, 125, 177, 168, 140, 186, 179, 151, 97, 96, 86, 83, 82, 77, 148, 143, 132, 167, 159, 146, 169, 160, 147, 139, 128, 113, 94, 81, 68, 30, 26, 19, 25, 17, 9, 68, 46, 32, 114, 91, 71, 148, 125, 99, 181, 157, 130, 183, 157, 133, 150, 124, 100, 114, 88, 65, 183, 171, 155, 184, 172, 156, 167, 155, 139, 167, 152, 136, 154, 135, 117, 135, 112, 91, 106, 86, 68, 74, 58, 44, 54, 39, 27, 35, 22, 13, 40, 23, 12, 54, 33, 18, 59, 50, 31, 99, 91, 66, 128, 116, 86, 147, 133, 100, 127, 113, 86, 73, 59, 39, 68, 54, 38, 96, 80, 65, 113, 96, 75, 117, 95, 71, 99, 76, 57, 40, 31, 19, 15, 14, 9, 24, 15, 8, 61, 47, 28, 105, 83, 60, 141, 113, 93, 146, 119, 99, 135, 108, 87, 102, 75, 54, 167, 156, 140, 168, 157, 141, 173, 162, 147, 183, 169, 156, 181, 164, 148, 184, 165, 147, 159, 142, 125, 132, 119, 105, 124, 116, 103, 92, 82, 71, 94, 75, 60, 108, 83, 64, 86, 72, 55, 80, 67, 47, 84, 71, 47, 89, 76, 49, 99, 81, 51, 104, 81, 53, 87, 65, 44, 86, 69, 53, 103, 83, 57, 130, 99, 70, 124, 94, 74, 42, 32, 20, 11, 15, 8, 17, 15, 8, 39, 27, 11, 83, 60, 40, 119, 91, 73, 124, 96, 77, 115, 89, 71, 84, 59, 42, 162, 150, 133, 162, 150, 135, 167, 155, 143, 171, 155, 144, 167, 150, 137, 169, 152, 136, 166, 150, 132, 160, 146, 130, 132, 121, 104, 126, 112, 89, 126, 109, 84, 110, 89, 67, 145, 124, 103, 156, 139, 120, 121, 109, 94, 68, 61, 48, 44, 35, 19, 61, 40, 22, 83, 57, 38, 106, 92, 75, 116, 100, 73, 140, 111, 86, 134, 106, 93, 39, 33, 25, 9, 15, 6, 23, 17, 8, 42, 24, 13, 60, 38, 21, 64, 44, 23, 105, 80, 61, 81, 60, 44, 45, 30, 19, 172, 163, 148, 184, 175, 163, 173, 164, 154, 156, 141, 129, 164, 146, 131, 152, 135, 117, 159, 142, 122, 156, 139, 120, 141, 126, 107, 127, 111, 85, 121, 103, 77, 130, 111, 90, 151, 135, 117, 166, 150, 133, 162, 147, 129, 121, 107, 89, 66, 54, 36, 72, 52, 32, 93, 69, 47, 100, 85, 65, 101, 87, 64, 137, 114, 94, 118, 96, 85, 28, 21, 14, 13, 17, 10, 24, 22, 16, 31, 21, 14, 35, 22, 11, 34, 22, 7, 81, 67, 50, 56, 44, 30, 25, 18, 7, 195, 186, 171, 200, 191, 179, 211, 201, 192, 201, 185, 171, 183, 163, 144, 162, 142, 121, 154, 135, 111, 133, 114, 90, 134, 115, 92, 131, 113, 85, 128, 111, 84, 121, 105, 86, 134, 122, 107, 136, 121, 104, 126, 107, 85, 113, 91, 67, 108, 90, 67, 108, 88, 62, 110, 88, 61, 111, 93, 70, 120, 104, 84, 109, 92, 75, 113, 96, 83, 82, 72, 62, 32, 29, 23, 14, 14, 12, 24, 23, 19, 17, 14, 8, 16, 11, 4, 48, 42, 30, 47, 42, 31, 36, 34, 24, 146, 132, 113, 167, 153, 136, 162, 147, 134, 150, 131, 114, 152, 131, 108, 152, 132, 106, 156, 136, 108, 144, 122, 94, 133, 109, 82, 137, 116, 86, 130, 112, 86, 125, 108, 89, 135, 119, 102, 119, 102, 83, 131, 110, 88, 148, 125, 102, 130, 109, 85, 118, 98, 68, 112, 92, 60, 123, 102, 76, 137, 118, 98, 133, 115, 97, 127, 109, 91, 167, 148, 130, 137, 123, 112, 40, 38, 35, 10, 12, 7, 12, 12, 7, 16, 11, 7, 18, 15, 9, 23, 19, 14, 36, 33, 27, 138, 119, 95, 150, 131, 110, 152, 132, 114, 157, 135, 114, 161, 137, 113, 158, 136, 109, 152, 129, 100, 137, 113, 85, 132, 108, 80, 139, 118, 88, 126, 108, 83, 145, 127, 108, 139, 119, 98, 113, 93, 73, 156, 135, 113, 170, 149, 126, 136, 113, 87, 133, 112, 81, 134, 115, 81, 148, 125, 97, 131, 108, 87, 122, 100, 80, 125, 103, 80, 163, 138, 114, 185, 164, 145, 129, 123, 114, 12, 13, 7, 4, 5, 0, 15, 9, 7, 10, 5, 3, 13, 8, 5, 32, 25, 21, 140, 116, 95, 134, 113, 92, 171, 153, 131, 162, 138, 115, 150, 123, 99, 157, 131, 106, 149, 122, 97, 153, 130, 106, 145, 128, 108, 140, 123, 103, 133, 117, 97, 147, 130, 112, 157, 135, 119, 132, 109, 91, 144, 122, 100, 157, 135, 111, 149, 126, 100, 156, 132, 105, 149, 126, 99, 153, 129, 102, 143, 121, 94, 130, 105, 81, 123, 97, 76, 166, 144, 122, 175, 160, 132, 174, 164, 139, 119, 114, 103, 22, 20, 16, 17, 13, 9, 22, 18, 11, 28, 24, 16, 28, 24, 16, 123, 99, 78, 132, 111, 90, 159, 141, 119, 144, 121, 97, 133, 107, 82, 149, 123, 98, 153, 127, 102, 156, 134, 111, 152, 135, 116, 147, 130, 111, 141, 124, 105, 155, 137, 118, 165, 142, 126, 150, 127, 109, 142, 119, 98, 152, 130, 107, 164, 140, 116, 163, 140, 115, 158, 134, 110, 158, 135, 111, 150, 129, 103, 140, 117, 93, 134, 109, 87, 169, 150, 129, 182, 167, 142, 185, 169, 144, 188, 174, 162, 84, 74, 70, 20, 15, 10, 33, 29, 20, 42, 38, 29, 30, 26, 17], \"height\": 32, \"channels\": 3, \"width\": 32, \"type\": \"image\", \"id\": 139863839876176}], \"selected_variable\": {\"name\": [\"<SArray>\"], \"dtype\": \"Image\", \"view_component\": \"Images\", \"view_file\": \"sarray\", \"descriptives\": {\"rows\": 5}, \"type\": \"SArray\", \"view_components\": [\"Images\"]}}, e);\n",
       "                });\n",
       "            })();\n",
       "        "
      ]
     },
     "metadata": {},
     "output_type": "display_data"
    }
   ],
   "source": [
    "gl_img['image'][0:5].show()"
   ]
  },
  {
   "cell_type": "code",
   "execution_count": 17,
   "metadata": {},
   "outputs": [
    {
     "data": {
      "application/javascript": [
       "$(\"head\").append($(\"<link/>\").attr({\n",
       "  rel:  \"stylesheet\",\n",
       "  type: \"text/css\",\n",
       "  href: \"//cdnjs.cloudflare.com/ajax/libs/font-awesome/4.1.0/css/font-awesome.min.css\"\n",
       "}));\n",
       "$(\"head\").append($(\"<link/>\").attr({\n",
       "  rel:  \"stylesheet\",\n",
       "  type: \"text/css\",\n",
       "  href: \"https://static.turi.com/products/graphlab-create/2.1/canvas/css/canvas.css\"\n",
       "}));\n",
       "\n",
       "            (function(){\n",
       "\n",
       "                var e = null;\n",
       "                if (typeof element == 'undefined') {\n",
       "                    var scripts = document.getElementsByTagName('script');\n",
       "                    var thisScriptTag = scripts[scripts.length-1];\n",
       "                    var parentDiv = thisScriptTag.parentNode;\n",
       "                    e = document.createElement('div');\n",
       "                    parentDiv.appendChild(e);\n",
       "                } else {\n",
       "                    e = element[0];\n",
       "                }\n",
       "\n",
       "                if (typeof requirejs !== 'undefined') {\n",
       "                    // disable load timeout; ipython_app.js is large and can take a while to load.\n",
       "                    requirejs.config({waitSeconds: 0});\n",
       "                }\n",
       "\n",
       "                require(['https://static.turi.com/products/graphlab-create/2.1/canvas/js/ipython_app.js'], function(IPythonApp){\n",
       "                    var app = new IPythonApp();\n",
       "                    app.attachView('sarray','Images', {\"ipython\": true, \"rows\": [{\"format\": \"png\", \"value\": \"image/png;base64,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\\n\", \"height\": 96, \"channels\": 3, \"width\": 96, \"type\": \"image\", \"id\": 139863839736144}], \"selected_variable\": {\"name\": [\"<SArray>\"], \"dtype\": \"Image\", \"view_component\": \"Images\", \"view_file\": \"sarray\", \"descriptives\": {\"rows\": 1}, \"type\": \"SArray\", \"view_components\": [\"Images\"]}}, e);\n",
       "                });\n",
       "            })();\n",
       "        "
      ]
     },
     "metadata": {},
     "output_type": "display_data"
    }
   ],
   "source": [
    "graphlab.image_analysis.resize(gl_img['image'][2:3], 96,96).show()"
   ]
  },
  {
   "cell_type": "code",
   "execution_count": 18,
   "metadata": {},
   "outputs": [
    {
     "data": {
      "application/javascript": [
       "$(\"head\").append($(\"<link/>\").attr({\n",
       "  rel:  \"stylesheet\",\n",
       "  type: \"text/css\",\n",
       "  href: \"//cdnjs.cloudflare.com/ajax/libs/font-awesome/4.1.0/css/font-awesome.min.css\"\n",
       "}));\n",
       "$(\"head\").append($(\"<link/>\").attr({\n",
       "  rel:  \"stylesheet\",\n",
       "  type: \"text/css\",\n",
       "  href: \"https://static.turi.com/products/graphlab-create/2.1/canvas/css/canvas.css\"\n",
       "}));\n",
       "\n",
       "            (function(){\n",
       "\n",
       "                var e = null;\n",
       "                if (typeof element == 'undefined') {\n",
       "                    var scripts = document.getElementsByTagName('script');\n",
       "                    var thisScriptTag = scripts[scripts.length-1];\n",
       "                    var parentDiv = thisScriptTag.parentNode;\n",
       "                    e = document.createElement('div');\n",
       "                    parentDiv.appendChild(e);\n",
       "                } else {\n",
       "                    e = element[0];\n",
       "                }\n",
       "\n",
       "                if (typeof requirejs !== 'undefined') {\n",
       "                    // disable load timeout; ipython_app.js is large and can take a while to load.\n",
       "                    requirejs.config({waitSeconds: 0});\n",
       "                }\n",
       "\n",
       "                require(['https://static.turi.com/products/graphlab-create/2.1/canvas/js/ipython_app.js'], function(IPythonApp){\n",
       "                    var app = new IPythonApp();\n",
       "                    app.attachView('sarray','Images', {\"ipython\": true, \"rows\": [{\"format\": \"png\", \"value\": \"image/png;base64,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\\n\", \"height\": 32, \"channels\": 3, \"width\": 32, \"type\": \"image\", \"id\": 139863131867600}], \"selected_variable\": {\"name\": [\"<SArray>\"], \"dtype\": \"Image\", \"view_component\": \"Images\", \"view_file\": \"sarray\", \"descriptives\": {\"rows\": 1}, \"type\": \"SArray\", \"view_components\": [\"Images\"]}}, e);\n",
       "                });\n",
       "            })();\n",
       "        "
      ]
     },
     "metadata": {},
     "output_type": "display_data"
    }
   ],
   "source": [
    "img = graphlab.Image('test.jpg')\n",
    "ppsf = graphlab.SArray([img])\n",
    "ppsf = graphlab.image_analysis.resize(ppsf, 32,32)\n",
    "ppsf.show()"
   ]
  },
  {
   "cell_type": "code",
   "execution_count": 19,
   "metadata": {},
   "outputs": [
    {
     "data": {
      "text/html": [
       "<div style=\"max-height:1000px;max-width:1500px;overflow:auto;\"><table frame=\"box\" rules=\"cols\">\n",
       "    <tr>\n",
       "        <th style=\"padding-left: 1em; padding-right: 1em; text-align: center\">image</th>\n",
       "    </tr>\n",
       "    <tr>\n",
       "        <td style=\"padding-left: 1em; padding-right: 1em; text-align: center; vertical-align: top\">Height: 32 Width: 32</td>\n",
       "    </tr>\n",
       "</table>\n",
       "[1 rows x 1 columns]<br/>\n",
       "</div>"
      ],
      "text/plain": [
       "Columns:\n",
       "\timage\tImage\n",
       "\n",
       "Rows: 1\n",
       "\n",
       "Data:\n",
       "+----------------------+\n",
       "|        image         |\n",
       "+----------------------+\n",
       "| Height: 32 Width: 32 |\n",
       "+----------------------+\n",
       "[1 rows x 1 columns]"
      ]
     },
     "execution_count": 19,
     "metadata": {},
     "output_type": "execute_result"
    }
   ],
   "source": [
    "ppsf = graphlab.SFrame(ppsf).rename({'X1': 'image'})\n",
    "ppsf"
   ]
  },
  {
   "cell_type": "code",
   "execution_count": 23,
   "metadata": {
    "scrolled": true
   },
   "outputs": [
    {
     "data": {
      "text/html": [
       "<pre>Downloading http://s3.amazonaws.com/GraphLab-Datasets/deeplearning/imagenet_model_iter45/dir_archive.ini to /var/tmp/graphlab-jsa/6987/bb092aad-c436-4e3c-8e95-44ff77305455.ini</pre>"
      ],
      "text/plain": [
       "Downloading http://s3.amazonaws.com/GraphLab-Datasets/deeplearning/imagenet_model_iter45/dir_archive.ini to /var/tmp/graphlab-jsa/6987/bb092aad-c436-4e3c-8e95-44ff77305455.ini"
      ]
     },
     "metadata": {},
     "output_type": "display_data"
    },
    {
     "data": {
      "text/html": [
       "<pre>Downloading http://s3.amazonaws.com/GraphLab-Datasets/deeplearning/imagenet_model_iter45/objects.bin to /var/tmp/graphlab-jsa/6987/7dbfa1f0-8434-4991-877d-ceff1c3ba81b.bin</pre>"
      ],
      "text/plain": [
       "Downloading http://s3.amazonaws.com/GraphLab-Datasets/deeplearning/imagenet_model_iter45/objects.bin to /var/tmp/graphlab-jsa/6987/7dbfa1f0-8434-4991-877d-ceff1c3ba81b.bin"
      ]
     },
     "metadata": {},
     "output_type": "display_data"
    },
    {
     "data": {
      "text/html": [
       "<pre>Images being resized.</pre>"
      ],
      "text/plain": [
       "Images being resized."
      ]
     },
     "metadata": {},
     "output_type": "display_data"
    },
    {
     "data": {
      "text/html": [
       "<div style=\"max-height:1000px;max-width:1500px;overflow:auto;\"><table frame=\"box\" rules=\"cols\">\n",
       "    <tr>\n",
       "        <th style=\"padding-left: 1em; padding-right: 1em; text-align: center\">image</th>\n",
       "        <th style=\"padding-left: 1em; padding-right: 1em; text-align: center\">deep_features</th>\n",
       "    </tr>\n",
       "    <tr>\n",
       "        <td style=\"padding-left: 1em; padding-right: 1em; text-align: center; vertical-align: top\">Height: 32 Width: 32</td>\n",
       "        <td style=\"padding-left: 1em; padding-right: 1em; text-align: center; vertical-align: top\">[0.278660058975, 0.0,<br>0.0, 0.0, ...</td>\n",
       "    </tr>\n",
       "</table>\n",
       "[1 rows x 2 columns]<br/>\n",
       "</div>"
      ],
      "text/plain": [
       "Columns:\n",
       "\timage\tImage\n",
       "\tdeep_features\tarray\n",
       "\n",
       "Rows: 1\n",
       "\n",
       "Data:\n",
       "+----------------------+-------------------------------+\n",
       "|        image         |         deep_features         |\n",
       "+----------------------+-------------------------------+\n",
       "| Height: 32 Width: 32 | [0.278660058975, 0.0, 0.0,... |\n",
       "+----------------------+-------------------------------+\n",
       "[1 rows x 2 columns]"
      ]
     },
     "execution_count": 23,
     "metadata": {},
     "output_type": "execute_result"
    }
   ],
   "source": [
    "deep_learning_model = graphlab.load_model('http://s3.amazonaws.com/GraphLab-Datasets/deeplearning/imagenet_model_iter45')\n",
    "ppsf['deep_features'] = deep_learning_model.extract_features(ppsf)\n",
    "ppsf"
   ]
  },
  {
   "cell_type": "code",
   "execution_count": 24,
   "metadata": {},
   "outputs": [
    {
     "data": {
      "text/plain": [
       "49970"
      ]
     },
     "execution_count": 24,
     "metadata": {},
     "output_type": "execute_result"
    }
   ],
   "source": [
    "ppsf['label'] = 'me'\n",
    "gl_img['id'].max()"
   ]
  },
  {
   "cell_type": "code",
   "execution_count": 25,
   "metadata": {},
   "outputs": [
    {
     "data": {
      "text/html": [
       "<div style=\"max-height:1000px;max-width:1500px;overflow:auto;\"><table frame=\"box\" rules=\"cols\">\n",
       "    <tr>\n",
       "        <th style=\"padding-left: 1em; padding-right: 1em; text-align: center\">image</th>\n",
       "        <th style=\"padding-left: 1em; padding-right: 1em; text-align: center\">deep_features</th>\n",
       "        <th style=\"padding-left: 1em; padding-right: 1em; text-align: center\">label</th>\n",
       "        <th style=\"padding-left: 1em; padding-right: 1em; text-align: center\">id</th>\n",
       "    </tr>\n",
       "    <tr>\n",
       "        <td style=\"padding-left: 1em; padding-right: 1em; text-align: center; vertical-align: top\">Height: 32 Width: 32</td>\n",
       "        <td style=\"padding-left: 1em; padding-right: 1em; text-align: center; vertical-align: top\">[0.278660058975, 0.0,<br>0.0, 0.0, ...</td>\n",
       "        <td style=\"padding-left: 1em; padding-right: 1em; text-align: center; vertical-align: top\">me</td>\n",
       "        <td style=\"padding-left: 1em; padding-right: 1em; text-align: center; vertical-align: top\">50000</td>\n",
       "    </tr>\n",
       "</table>\n",
       "[1 rows x 4 columns]<br/>\n",
       "</div>"
      ],
      "text/plain": [
       "Columns:\n",
       "\timage\tImage\n",
       "\tdeep_features\tarray\n",
       "\tlabel\tstr\n",
       "\tid\tint\n",
       "\n",
       "Rows: 1\n",
       "\n",
       "Data:\n",
       "+----------------------+-------------------------------+-------+-------+\n",
       "|        image         |         deep_features         | label |   id  |\n",
       "+----------------------+-------------------------------+-------+-------+\n",
       "| Height: 32 Width: 32 | [0.278660058975, 0.0, 0.0,... |   me  | 50000 |\n",
       "+----------------------+-------------------------------+-------+-------+\n",
       "[1 rows x 4 columns]"
      ]
     },
     "execution_count": 25,
     "metadata": {},
     "output_type": "execute_result"
    }
   ],
   "source": [
    "ppsf['id'] = 50000\n",
    "ppsf"
   ]
  },
  {
   "cell_type": "code",
   "execution_count": 26,
   "metadata": {},
   "outputs": [
    {
     "data": {
      "text/html": [
       "<div style=\"max-height:1000px;max-width:1500px;overflow:auto;\"><table frame=\"box\" rules=\"cols\">\n",
       "    <tr>\n",
       "        <th style=\"padding-left: 1em; padding-right: 1em; text-align: center\">id</th>\n",
       "        <th style=\"padding-left: 1em; padding-right: 1em; text-align: center\">image</th>\n",
       "        <th style=\"padding-left: 1em; padding-right: 1em; text-align: center\">label</th>\n",
       "        <th style=\"padding-left: 1em; padding-right: 1em; text-align: center\">deep_features</th>\n",
       "    </tr>\n",
       "    <tr>\n",
       "        <td style=\"padding-left: 1em; padding-right: 1em; text-align: center; vertical-align: top\">49840</td>\n",
       "        <td style=\"padding-left: 1em; padding-right: 1em; text-align: center; vertical-align: top\">Height: 32 Width: 32</td>\n",
       "        <td style=\"padding-left: 1em; padding-right: 1em; text-align: center; vertical-align: top\">cat</td>\n",
       "        <td style=\"padding-left: 1em; padding-right: 1em; text-align: center; vertical-align: top\">[0.0344250798225, 0.0,<br>0.0, 0.0, 0.0, 0.0, ...</td>\n",
       "    </tr>\n",
       "    <tr>\n",
       "        <td style=\"padding-left: 1em; padding-right: 1em; text-align: center; vertical-align: top\">49845</td>\n",
       "        <td style=\"padding-left: 1em; padding-right: 1em; text-align: center; vertical-align: top\">Height: 32 Width: 32</td>\n",
       "        <td style=\"padding-left: 1em; padding-right: 1em; text-align: center; vertical-align: top\">dog</td>\n",
       "        <td style=\"padding-left: 1em; padding-right: 1em; text-align: center; vertical-align: top\">[0.125242829323, 0.0,<br>0.0, 0.0, 0.0, 0.0, ...</td>\n",
       "    </tr>\n",
       "    <tr>\n",
       "        <td style=\"padding-left: 1em; padding-right: 1em; text-align: center; vertical-align: top\">49881</td>\n",
       "        <td style=\"padding-left: 1em; padding-right: 1em; text-align: center; vertical-align: top\">Height: 32 Width: 32</td>\n",
       "        <td style=\"padding-left: 1em; padding-right: 1em; text-align: center; vertical-align: top\">bird</td>\n",
       "        <td style=\"padding-left: 1em; padding-right: 1em; text-align: center; vertical-align: top\">[0.0, 0.0, 0.0, 0.0, 0.0,<br>0.0, 9.30746841431, 0.0, ...</td>\n",
       "    </tr>\n",
       "    <tr>\n",
       "        <td style=\"padding-left: 1em; padding-right: 1em; text-align: center; vertical-align: top\">49896</td>\n",
       "        <td style=\"padding-left: 1em; padding-right: 1em; text-align: center; vertical-align: top\">Height: 32 Width: 32</td>\n",
       "        <td style=\"padding-left: 1em; padding-right: 1em; text-align: center; vertical-align: top\">cat</td>\n",
       "        <td style=\"padding-left: 1em; padding-right: 1em; text-align: center; vertical-align: top\">[0.0, 0.0,<br>0.592454433441, 0.0,  ...</td>\n",
       "    </tr>\n",
       "    <tr>\n",
       "        <td style=\"padding-left: 1em; padding-right: 1em; text-align: center; vertical-align: top\">49913</td>\n",
       "        <td style=\"padding-left: 1em; padding-right: 1em; text-align: center; vertical-align: top\">Height: 32 Width: 32</td>\n",
       "        <td style=\"padding-left: 1em; padding-right: 1em; text-align: center; vertical-align: top\">automobile</td>\n",
       "        <td style=\"padding-left: 1em; padding-right: 1em; text-align: center; vertical-align: top\">[1.2023819685,<br>0.342965483665, 0.0,  ...</td>\n",
       "    </tr>\n",
       "    <tr>\n",
       "        <td style=\"padding-left: 1em; padding-right: 1em; text-align: center; vertical-align: top\">49919</td>\n",
       "        <td style=\"padding-left: 1em; padding-right: 1em; text-align: center; vertical-align: top\">Height: 32 Width: 32</td>\n",
       "        <td style=\"padding-left: 1em; padding-right: 1em; text-align: center; vertical-align: top\">automobile</td>\n",
       "        <td style=\"padding-left: 1em; padding-right: 1em; text-align: center; vertical-align: top\">[0.0, 0.0, 0.0,<br>0.769036352634, 0.0,  ...</td>\n",
       "    </tr>\n",
       "    <tr>\n",
       "        <td style=\"padding-left: 1em; padding-right: 1em; text-align: center; vertical-align: top\">49927</td>\n",
       "        <td style=\"padding-left: 1em; padding-right: 1em; text-align: center; vertical-align: top\">Height: 32 Width: 32</td>\n",
       "        <td style=\"padding-left: 1em; padding-right: 1em; text-align: center; vertical-align: top\">dog</td>\n",
       "        <td style=\"padding-left: 1em; padding-right: 1em; text-align: center; vertical-align: top\">[0.558163285255, 0.0,<br>1.05110442638, 0.0, 0.0, ...</td>\n",
       "    </tr>\n",
       "    <tr>\n",
       "        <td style=\"padding-left: 1em; padding-right: 1em; text-align: center; vertical-align: top\">49958</td>\n",
       "        <td style=\"padding-left: 1em; padding-right: 1em; text-align: center; vertical-align: top\">Height: 32 Width: 32</td>\n",
       "        <td style=\"padding-left: 1em; padding-right: 1em; text-align: center; vertical-align: top\">cat</td>\n",
       "        <td style=\"padding-left: 1em; padding-right: 1em; text-align: center; vertical-align: top\">[0.674960494041, 0.0,<br>0.0, 1.9640891552, ...</td>\n",
       "    </tr>\n",
       "    <tr>\n",
       "        <td style=\"padding-left: 1em; padding-right: 1em; text-align: center; vertical-align: top\">49970</td>\n",
       "        <td style=\"padding-left: 1em; padding-right: 1em; text-align: center; vertical-align: top\">Height: 32 Width: 32</td>\n",
       "        <td style=\"padding-left: 1em; padding-right: 1em; text-align: center; vertical-align: top\">cat</td>\n",
       "        <td style=\"padding-left: 1em; padding-right: 1em; text-align: center; vertical-align: top\">[1.07501864433, 0.0, 0.0,<br>0.0, 0.0, 0.0, ...</td>\n",
       "    </tr>\n",
       "    <tr>\n",
       "        <td style=\"padding-left: 1em; padding-right: 1em; text-align: center; vertical-align: top\">50000</td>\n",
       "        <td style=\"padding-left: 1em; padding-right: 1em; text-align: center; vertical-align: top\">Height: 32 Width: 32</td>\n",
       "        <td style=\"padding-left: 1em; padding-right: 1em; text-align: center; vertical-align: top\">me</td>\n",
       "        <td style=\"padding-left: 1em; padding-right: 1em; text-align: center; vertical-align: top\">[0.278660058975, 0.0,<br>0.0, 0.0, ...</td>\n",
       "    </tr>\n",
       "</table>\n",
       "[10 rows x 4 columns]<br/>\n",
       "</div>"
      ],
      "text/plain": [
       "Columns:\n",
       "\tid\tint\n",
       "\timage\tImage\n",
       "\tlabel\tstr\n",
       "\tdeep_features\tarray\n",
       "\n",
       "Rows: 10\n",
       "\n",
       "Data:\n",
       "+-------+----------------------+------------+-------------------------------+\n",
       "|   id  |        image         |   label    |         deep_features         |\n",
       "+-------+----------------------+------------+-------------------------------+\n",
       "| 49840 | Height: 32 Width: 32 |    cat     | [0.0344250798225, 0.0, 0.0... |\n",
       "| 49845 | Height: 32 Width: 32 |    dog     | [0.125242829323, 0.0, 0.0,... |\n",
       "| 49881 | Height: 32 Width: 32 |    bird    | [0.0, 0.0, 0.0, 0.0, 0.0, ... |\n",
       "| 49896 | Height: 32 Width: 32 |    cat     | [0.0, 0.0, 0.592454433441,... |\n",
       "| 49913 | Height: 32 Width: 32 | automobile | [1.2023819685, 0.342965483... |\n",
       "| 49919 | Height: 32 Width: 32 | automobile | [0.0, 0.0, 0.0, 0.76903635... |\n",
       "| 49927 | Height: 32 Width: 32 |    dog     | [0.558163285255, 0.0, 1.05... |\n",
       "| 49958 | Height: 32 Width: 32 |    cat     | [0.674960494041, 0.0, 0.0,... |\n",
       "| 49970 | Height: 32 Width: 32 |    cat     | [1.07501864433, 0.0, 0.0, ... |\n",
       "| 50000 | Height: 32 Width: 32 |     me     | [0.278660058975, 0.0, 0.0,... |\n",
       "+-------+----------------------+------------+-------------------------------+\n",
       "[10 rows x 4 columns]"
      ]
     },
     "execution_count": 26,
     "metadata": {},
     "output_type": "execute_result"
    }
   ],
   "source": [
    "labels = ['id', 'image', 'label', 'deep_features']\n",
    "part_train = gl_img[labels]\n",
    "new_train = part_train.append(ppsf[labels])\n",
    "new_train.tail()"
   ]
  },
  {
   "cell_type": "code",
   "execution_count": 27,
   "metadata": {},
   "outputs": [
    {
     "data": {
      "text/html": [
       "<pre>Starting brute force nearest neighbors model training.</pre>"
      ],
      "text/plain": [
       "Starting brute force nearest neighbors model training."
      ]
     },
     "metadata": {},
     "output_type": "display_data"
    }
   ],
   "source": [
    "knn_model = graphlab.nearest_neighbors.create(new_train,features=['deep_features'], label='id')"
   ]
  },
  {
   "cell_type": "code",
   "execution_count": 28,
   "metadata": {},
   "outputs": [
    {
     "data": {
      "application/javascript": [
       "$(\"head\").append($(\"<link/>\").attr({\n",
       "  rel:  \"stylesheet\",\n",
       "  type: \"text/css\",\n",
       "  href: \"//cdnjs.cloudflare.com/ajax/libs/font-awesome/4.1.0/css/font-awesome.min.css\"\n",
       "}));\n",
       "$(\"head\").append($(\"<link/>\").attr({\n",
       "  rel:  \"stylesheet\",\n",
       "  type: \"text/css\",\n",
       "  href: \"https://static.turi.com/products/graphlab-create/2.1/canvas/css/canvas.css\"\n",
       "}));\n",
       "\n",
       "            (function(){\n",
       "\n",
       "                var e = null;\n",
       "                if (typeof element == 'undefined') {\n",
       "                    var scripts = document.getElementsByTagName('script');\n",
       "                    var thisScriptTag = scripts[scripts.length-1];\n",
       "                    var parentDiv = thisScriptTag.parentNode;\n",
       "                    e = document.createElement('div');\n",
       "                    parentDiv.appendChild(e);\n",
       "                } else {\n",
       "                    e = element[0];\n",
       "                }\n",
       "\n",
       "                if (typeof requirejs !== 'undefined') {\n",
       "                    // disable load timeout; ipython_app.js is large and can take a while to load.\n",
       "                    requirejs.config({waitSeconds: 0});\n",
       "                }\n",
       "\n",
       "                require(['https://static.turi.com/products/graphlab-create/2.1/canvas/js/ipython_app.js'], function(IPythonApp){\n",
       "                    var app = new IPythonApp();\n",
       "                    app.attachView('sarray','Images', {\"ipython\": true, \"rows\": [{\"format\": \"png\", \"value\": \"image/png;base64,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\\n\", \"height\": 96, \"channels\": 3, \"width\": 96, \"type\": \"image\", \"id\": 139863129572944}], \"selected_variable\": {\"name\": [\"<SArray>\"], \"dtype\": \"Image\", \"view_component\": \"Images\", \"view_file\": \"sarray\", \"descriptives\": {\"rows\": 1}, \"type\": \"SArray\", \"view_components\": [\"Images\"]}}, e);\n",
       "                });\n",
       "            })();\n",
       "        "
      ]
     },
     "metadata": {},
     "output_type": "display_data"
    }
   ],
   "source": [
    "cat_test = new_train[-2:-1]\n",
    "graphlab.image_analysis.resize(cat_test['image'], 96,96).show()"
   ]
  },
  {
   "cell_type": "code",
   "execution_count": 29,
   "metadata": {},
   "outputs": [
    {
     "data": {
      "text/html": [
       "<pre>Starting pairwise querying.</pre>"
      ],
      "text/plain": [
       "Starting pairwise querying."
      ]
     },
     "metadata": {},
     "output_type": "display_data"
    },
    {
     "data": {
      "text/html": [
       "<pre>+--------------+---------+-------------+--------------+</pre>"
      ],
      "text/plain": [
       "+--------------+---------+-------------+--------------+"
      ]
     },
     "metadata": {},
     "output_type": "display_data"
    },
    {
     "data": {
      "text/html": [
       "<pre>| Query points | # Pairs | % Complete. | Elapsed Time |</pre>"
      ],
      "text/plain": [
       "| Query points | # Pairs | % Complete. | Elapsed Time |"
      ]
     },
     "metadata": {},
     "output_type": "display_data"
    },
    {
     "data": {
      "text/html": [
       "<pre>+--------------+---------+-------------+--------------+</pre>"
      ],
      "text/plain": [
       "+--------------+---------+-------------+--------------+"
      ]
     },
     "metadata": {},
     "output_type": "display_data"
    },
    {
     "data": {
      "text/html": [
       "<pre>| 0            | 1       | 0.0498504   | 74.914ms     |</pre>"
      ],
      "text/plain": [
       "| 0            | 1       | 0.0498504   | 74.914ms     |"
      ]
     },
     "metadata": {},
     "output_type": "display_data"
    },
    {
     "data": {
      "text/html": [
       "<pre>| Done         |         | 100         | 330.613ms    |</pre>"
      ],
      "text/plain": [
       "| Done         |         | 100         | 330.613ms    |"
      ]
     },
     "metadata": {},
     "output_type": "display_data"
    },
    {
     "data": {
      "text/html": [
       "<pre>+--------------+---------+-------------+--------------+</pre>"
      ],
      "text/plain": [
       "+--------------+---------+-------------+--------------+"
      ]
     },
     "metadata": {},
     "output_type": "display_data"
    },
    {
     "data": {
      "text/html": [
       "<div style=\"max-height:1000px;max-width:1500px;overflow:auto;\"><table frame=\"box\" rules=\"cols\">\n",
       "    <tr>\n",
       "        <th style=\"padding-left: 1em; padding-right: 1em; text-align: center\">query_label</th>\n",
       "        <th style=\"padding-left: 1em; padding-right: 1em; text-align: center\">reference_label</th>\n",
       "        <th style=\"padding-left: 1em; padding-right: 1em; text-align: center\">distance</th>\n",
       "        <th style=\"padding-left: 1em; padding-right: 1em; text-align: center\">rank</th>\n",
       "    </tr>\n",
       "    <tr>\n",
       "        <td style=\"padding-left: 1em; padding-right: 1em; text-align: center; vertical-align: top\">0</td>\n",
       "        <td style=\"padding-left: 1em; padding-right: 1em; text-align: center; vertical-align: top\">49970</td>\n",
       "        <td style=\"padding-left: 1em; padding-right: 1em; text-align: center; vertical-align: top\">0.0</td>\n",
       "        <td style=\"padding-left: 1em; padding-right: 1em; text-align: center; vertical-align: top\">1</td>\n",
       "    </tr>\n",
       "    <tr>\n",
       "        <td style=\"padding-left: 1em; padding-right: 1em; text-align: center; vertical-align: top\">0</td>\n",
       "        <td style=\"padding-left: 1em; padding-right: 1em; text-align: center; vertical-align: top\">6186</td>\n",
       "        <td style=\"padding-left: 1em; padding-right: 1em; text-align: center; vertical-align: top\">38.0348505275</td>\n",
       "        <td style=\"padding-left: 1em; padding-right: 1em; text-align: center; vertical-align: top\">2</td>\n",
       "    </tr>\n",
       "    <tr>\n",
       "        <td style=\"padding-left: 1em; padding-right: 1em; text-align: center; vertical-align: top\">0</td>\n",
       "        <td style=\"padding-left: 1em; padding-right: 1em; text-align: center; vertical-align: top\">15882</td>\n",
       "        <td style=\"padding-left: 1em; padding-right: 1em; text-align: center; vertical-align: top\">39.0333337944</td>\n",
       "        <td style=\"padding-left: 1em; padding-right: 1em; text-align: center; vertical-align: top\">3</td>\n",
       "    </tr>\n",
       "    <tr>\n",
       "        <td style=\"padding-left: 1em; padding-right: 1em; text-align: center; vertical-align: top\">0</td>\n",
       "        <td style=\"padding-left: 1em; padding-right: 1em; text-align: center; vertical-align: top\">24302</td>\n",
       "        <td style=\"padding-left: 1em; padding-right: 1em; text-align: center; vertical-align: top\">40.5205578019</td>\n",
       "        <td style=\"padding-left: 1em; padding-right: 1em; text-align: center; vertical-align: top\">4</td>\n",
       "    </tr>\n",
       "    <tr>\n",
       "        <td style=\"padding-left: 1em; padding-right: 1em; text-align: center; vertical-align: top\">0</td>\n",
       "        <td style=\"padding-left: 1em; padding-right: 1em; text-align: center; vertical-align: top\">16289</td>\n",
       "        <td style=\"padding-left: 1em; padding-right: 1em; text-align: center; vertical-align: top\">40.6156967032</td>\n",
       "        <td style=\"padding-left: 1em; padding-right: 1em; text-align: center; vertical-align: top\">5</td>\n",
       "    </tr>\n",
       "</table>\n",
       "[5 rows x 4 columns]<br/>\n",
       "</div>"
      ],
      "text/plain": [
       "Columns:\n",
       "\tquery_label\tint\n",
       "\treference_label\tint\n",
       "\tdistance\tfloat\n",
       "\trank\tint\n",
       "\n",
       "Rows: 5\n",
       "\n",
       "Data:\n",
       "+-------------+-----------------+---------------+------+\n",
       "| query_label | reference_label |    distance   | rank |\n",
       "+-------------+-----------------+---------------+------+\n",
       "|      0      |      49970      |      0.0      |  1   |\n",
       "|      0      |       6186      | 38.0348505275 |  2   |\n",
       "|      0      |      15882      | 39.0333337944 |  3   |\n",
       "|      0      |      24302      | 40.5205578019 |  4   |\n",
       "|      0      |      16289      | 40.6156967032 |  5   |\n",
       "+-------------+-----------------+---------------+------+\n",
       "[5 rows x 4 columns]"
      ]
     },
     "execution_count": 29,
     "metadata": {},
     "output_type": "execute_result"
    }
   ],
   "source": [
    "sim_frame = knn_model.query(cat_test)\n",
    "sim_frame"
   ]
  },
  {
   "cell_type": "code",
   "execution_count": 30,
   "metadata": {},
   "outputs": [
    {
     "data": {
      "text/html": [
       "<pre>Starting pairwise querying.</pre>"
      ],
      "text/plain": [
       "Starting pairwise querying."
      ]
     },
     "metadata": {},
     "output_type": "display_data"
    },
    {
     "data": {
      "text/html": [
       "<pre>+--------------+---------+-------------+--------------+</pre>"
      ],
      "text/plain": [
       "+--------------+---------+-------------+--------------+"
      ]
     },
     "metadata": {},
     "output_type": "display_data"
    },
    {
     "data": {
      "text/html": [
       "<pre>| Query points | # Pairs | % Complete. | Elapsed Time |</pre>"
      ],
      "text/plain": [
       "| Query points | # Pairs | % Complete. | Elapsed Time |"
      ]
     },
     "metadata": {},
     "output_type": "display_data"
    },
    {
     "data": {
      "text/html": [
       "<pre>+--------------+---------+-------------+--------------+</pre>"
      ],
      "text/plain": [
       "+--------------+---------+-------------+--------------+"
      ]
     },
     "metadata": {},
     "output_type": "display_data"
    },
    {
     "data": {
      "text/html": [
       "<pre>| 0            | 1       | 0.0498504   | 14.696ms     |</pre>"
      ],
      "text/plain": [
       "| 0            | 1       | 0.0498504   | 14.696ms     |"
      ]
     },
     "metadata": {},
     "output_type": "display_data"
    },
    {
     "data": {
      "text/html": [
       "<pre>| Done         |         | 100         | 317.102ms    |</pre>"
      ],
      "text/plain": [
       "| Done         |         | 100         | 317.102ms    |"
      ]
     },
     "metadata": {},
     "output_type": "display_data"
    },
    {
     "data": {
      "text/html": [
       "<pre>+--------------+---------+-------------+--------------+</pre>"
      ],
      "text/plain": [
       "+--------------+---------+-------------+--------------+"
      ]
     },
     "metadata": {},
     "output_type": "display_data"
    },
    {
     "data": {
      "application/javascript": [
       "$(\"head\").append($(\"<link/>\").attr({\n",
       "  rel:  \"stylesheet\",\n",
       "  type: \"text/css\",\n",
       "  href: \"//cdnjs.cloudflare.com/ajax/libs/font-awesome/4.1.0/css/font-awesome.min.css\"\n",
       "}));\n",
       "$(\"head\").append($(\"<link/>\").attr({\n",
       "  rel:  \"stylesheet\",\n",
       "  type: \"text/css\",\n",
       "  href: \"https://static.turi.com/products/graphlab-create/2.1/canvas/css/canvas.css\"\n",
       "}));\n",
       "\n",
       "            (function(){\n",
       "\n",
       "                var e = null;\n",
       "                if (typeof element == 'undefined') {\n",
       "                    var scripts = document.getElementsByTagName('script');\n",
       "                    var thisScriptTag = scripts[scripts.length-1];\n",
       "                    var parentDiv = thisScriptTag.parentNode;\n",
       "                    e = document.createElement('div');\n",
       "                    parentDiv.appendChild(e);\n",
       "                } else {\n",
       "                    e = element[0];\n",
       "                }\n",
       "\n",
       "                if (typeof requirejs !== 'undefined') {\n",
       "                    // disable load timeout; ipython_app.js is large and can take a while to load.\n",
       "                    requirejs.config({waitSeconds: 0});\n",
       "                }\n",
       "\n",
       "                require(['https://static.turi.com/products/graphlab-create/2.1/canvas/js/ipython_app.js'], function(IPythonApp){\n",
       "                    var app = new IPythonApp();\n",
       "                    app.attachView('sarray','Images', {\"ipython\": true, \"rows\": [{\"format\": \"raw\", \"value\": [255, 255, 255, 255, 255, 255, 255, 255, 255, 255, 255, 255, 255, 255, 255, 255, 255, 255, 255, 255, 255, 255, 255, 255, 255, 255, 255, 255, 255, 255, 255, 255, 255, 252, 255, 255, 242, 240, 240, 126, 112, 111, 73, 53, 50, 96, 79, 76, 174, 164, 162, 255, 255, 255, 255, 255, 255, 255, 255, 255, 255, 255, 255, 255, 255, 255, 255, 255, 255, 255, 255, 255, 254, 255, 255, 255, 255, 255, 255, 255, 255, 252, 247, 245, 213, 205, 202, 190, 183, 178, 224, 220, 217, 252, 249, 250, 252, 252, 252, 253, 253, 253, 254, 254, 254, 254, 254, 254, 254, 254, 254, 254, 254, 254, 254, 254, 254, 254, 254, 254, 254, 254, 254, 254, 254, 254, 253, 254, 254, 251, 252, 252, 237, 232, 233, 119, 102, 103, 86, 60, 59, 95, 69, 69, 92, 72, 73, 196, 187, 189, 253, 249, 251, 253, 251, 252, 254, 252, 253, 253, 253, 253, 252, 253, 253, 248, 253, 252, 248, 254, 250, 252, 251, 248, 216, 208, 206, 133, 116, 115, 93, 68, 68, 83, 63, 60, 130, 119, 116, 233, 228, 228, 253, 253, 253, 254, 254, 254, 254, 254, 254, 254, 254, 254, 254, 254, 254, 254, 254, 254, 254, 254, 254, 254, 254, 254, 254, 254, 254, 254, 254, 254, 254, 255, 254, 249, 253, 253, 243, 242, 242, 131, 116, 116, 72, 45, 44, 98, 71, 71, 74, 50, 53, 116, 101, 104, 235, 225, 229, 255, 253, 255, 255, 254, 255, 255, 255, 255, 253, 255, 255, 251, 254, 251, 249, 248, 245, 186, 179, 177, 85, 69, 67, 56, 31, 30, 85, 54, 53, 106, 77, 75, 129, 110, 106, 218, 212, 210, 253, 253, 253, 254, 254, 254, 254, 254, 254, 254, 254, 254, 254, 254, 254, 254, 254, 254, 254, 254, 254, 254, 254, 254, 254, 254, 254, 254, 254, 254, 254, 255, 255, 245, 252, 252, 244, 247, 246, 139, 127, 126, 63, 39, 38, 86, 60, 60, 71, 49, 51, 79, 60, 64, 188, 173, 177, 232, 222, 225, 234, 228, 229, 241, 238, 238, 248, 247, 246, 244, 238, 237, 176, 164, 163, 75, 59, 57, 48, 26, 24, 67, 40, 39, 87, 56, 54, 115, 82, 80, 146, 122, 119, 215, 208, 206, 253, 253, 253, 254, 254, 254, 254, 254, 254, 254, 254, 254, 254, 254, 254, 254, 254, 254, 254, 254, 254, 254, 254, 254, 254, 254, 254, 254, 254, 254, 254, 255, 255, 246, 251, 251, 250, 250, 251, 166, 152, 152, 72, 47, 46, 69, 43, 44, 51, 30, 32, 55, 36, 37, 90, 70, 70, 112, 93, 93, 109, 91, 90, 112, 94, 94, 129, 112, 111, 121, 101, 100, 67, 43, 42, 43, 18, 17, 54, 26, 25, 68, 38, 38, 89, 57, 57, 111, 74, 76, 139, 113, 114, 220, 215, 214, 253, 253, 253, 254, 254, 254, 254, 254, 254, 254, 254, 254, 254, 254, 254, 254, 254, 254, 254, 254, 254, 254, 254, 254, 254, 254, 254, 254, 254, 254, 254, 254, 254, 252, 252, 253, 246, 240, 241, 151, 132, 132, 69, 41, 40, 63, 35, 36, 58, 33, 35, 63, 42, 42, 69, 48, 47, 71, 49, 48, 56, 35, 34, 44, 22, 21, 41, 20, 19, 39, 17, 15, 40, 15, 14, 43, 17, 15, 51, 24, 23, 56, 27, 26, 76, 45, 46, 109, 73, 75, 148, 125, 125, 232, 229, 229, 253, 253, 253, 254, 254, 254, 254, 254, 254, 254, 254, 254, 254, 254, 254, 254, 254, 254, 254, 254, 254, 254, 254, 254, 254, 254, 254, 254, 254, 254, 254, 253, 254, 253, 247, 250, 182, 169, 170, 92, 71, 69, 72, 46, 42, 76, 50, 47, 78, 52, 53, 62, 40, 40, 59, 38, 37, 65, 44, 43, 69, 49, 48, 66, 45, 44, 54, 33, 32, 56, 36, 34, 71, 51, 47, 62, 39, 36, 52, 27, 25, 44, 17, 16, 57, 29, 28, 104, 73, 73, 180, 163, 162, 242, 243, 241, 253, 253, 253, 254, 254, 254, 254, 254, 254, 254, 254, 254, 254, 254, 254, 254, 254, 254, 254, 254, 254, 254, 254, 254, 254, 254, 254, 252, 252, 252, 254, 254, 254, 203, 195, 196, 105, 89, 89, 78, 62, 56, 77, 60, 51, 91, 73, 65, 82, 62, 58, 61, 40, 38, 60, 39, 38, 68, 47, 46, 79, 58, 57, 66, 45, 45, 62, 41, 40, 66, 47, 44, 74, 55, 51, 76, 56, 52, 66, 44, 41, 50, 25, 23, 54, 28, 26, 117, 91, 89, 213, 202, 199, 246, 251, 249, 253, 253, 253, 254, 254, 254, 254, 254, 254, 254, 254, 254, 254, 254, 254, 254, 253, 254, 254, 253, 254, 253, 253, 253, 252, 252, 251, 254, 254, 253, 230, 226, 226, 153, 141, 142, 106, 92, 90, 111, 99, 93, 113, 102, 93, 125, 111, 104, 101, 83, 80, 72, 52, 51, 73, 53, 52, 78, 58, 57, 62, 42, 41, 54, 35, 34, 52, 33, 31, 62, 44, 40, 58, 39, 36, 71, 52, 48, 104, 84, 81, 103, 81, 79, 77, 53, 51, 148, 127, 125, 232, 226, 222, 247, 253, 250, 253, 253, 253, 254, 254, 254, 254, 254, 254, 254, 254, 254, 254, 254, 254, 254, 252, 254, 254, 252, 253, 252, 253, 252, 253, 253, 250, 212, 206, 204, 131, 116, 116, 112, 91, 93, 101, 81, 83, 105, 88, 89, 118, 102, 102, 121, 103, 104, 113, 91, 93, 89, 69, 71, 78, 61, 62, 56, 40, 40, 53, 37, 35, 101, 86, 82, 103, 87, 82, 109, 90, 87, 81, 60, 59, 84, 63, 62, 92, 71, 70, 119, 97, 96, 136, 116, 115, 182, 172, 172, 249, 248, 248, 251, 251, 251, 253, 253, 253, 254, 254, 254, 254, 254, 254, 254, 254, 254, 254, 254, 254, 253, 254, 254, 252, 254, 253, 251, 250, 249, 194, 188, 186, 106, 90, 90, 87, 62, 65, 113, 87, 91, 104, 83, 85, 115, 97, 99, 122, 106, 107, 101, 81, 83, 88, 65, 68, 71, 50, 53, 68, 50, 51, 74, 56, 56, 89, 71, 70, 96, 79, 75, 95, 78, 72, 89, 69, 66, 74, 53, 52, 88, 67, 66, 72, 51, 50, 89, 68, 67, 162, 141, 141, 209, 200, 200, 249, 249, 249, 252, 252, 252, 253, 253, 253, 254, 254, 254, 254, 254, 254, 254, 253, 253, 253, 253, 253, 249, 251, 251, 251, 252, 252, 198, 191, 192, 92, 74, 76, 79, 53, 57, 90, 60, 65, 116, 89, 94, 125, 103, 106, 148, 130, 131, 142, 126, 127, 64, 45, 47, 46, 24, 27, 72, 50, 53, 107, 86, 88, 95, 75, 76, 86, 66, 66, 64, 45, 42, 55, 36, 31, 50, 30, 27, 66, 45, 44, 76, 55, 54, 51, 30, 29, 78, 57, 56, 141, 121, 120, 215, 206, 206, 253, 253, 253, 252, 252, 252, 253, 253, 253, 254, 254, 254, 254, 254, 255, 255, 255, 255, 255, 255, 255, 249, 248, 250, 200, 194, 197, 115, 98, 103, 77, 52, 57, 76, 50, 54, 85, 60, 63, 112, 87, 90, 118, 97, 100, 142, 125, 126, 160, 145, 145, 89, 70, 72, 101, 79, 82, 123, 99, 103, 112, 89, 92, 93, 70, 72, 69, 47, 47, 55, 33, 31, 50, 28, 24, 51, 29, 27, 58, 37, 36, 68, 47, 46, 65, 44, 43, 82, 61, 60, 126, 106, 105, 206, 198, 198, 254, 254, 254, 252, 252, 252, 251, 253, 252, 252, 254, 252, 252, 252, 250, 244, 241, 239, 209, 202, 201, 162, 150, 152, 113, 96, 100, 89, 65, 70, 86, 59, 64, 77, 52, 56, 94, 71, 73, 107, 83, 86, 106, 83, 86, 111, 90, 93, 111, 92, 94, 79, 57, 60, 100, 76, 80, 106, 81, 85, 89, 65, 68, 73, 50, 51, 58, 34, 35, 50, 27, 25, 46, 23, 21, 48, 26, 25, 52, 31, 30, 64, 43, 42, 78, 57, 56, 98, 77, 76, 114, 94, 93, 167, 156, 155, 246, 245, 243, 252, 252, 250, 247, 251, 251, 251, 255, 252, 220, 220, 214, 142, 130, 125, 93, 70, 67, 84, 58, 59, 94, 69, 72, 97, 72, 75, 94, 69, 72, 93, 68, 71, 98, 73, 75, 88, 61, 66, 102, 75, 80, 97, 70, 75, 75, 48, 53, 74, 47, 52, 71, 44, 49, 67, 43, 45, 67, 46, 45, 57, 36, 35, 46, 25, 24, 46, 25, 24, 48, 27, 26, 51, 30, 29, 53, 32, 31, 59, 38, 37, 85, 64, 63, 125, 104, 103, 121, 100, 99, 113, 97, 96, 215, 208, 205, 253, 252, 248, 250, 252, 252, 237, 236, 234, 139, 131, 127, 70, 52, 48, 65, 40, 37, 79, 52, 51, 94, 68, 69, 95, 69, 69, 90, 64, 64, 94, 68, 69, 95, 69, 69, 72, 45, 48, 73, 47, 51, 91, 65, 68, 92, 66, 70, 92, 66, 69, 81, 55, 58, 64, 41, 41, 60, 39, 37, 56, 35, 34, 50, 29, 28, 46, 25, 24, 43, 22, 21, 43, 22, 21, 50, 29, 28, 72, 51, 50, 111, 90, 89, 136, 115, 114, 111, 90, 89, 85, 66, 66, 171, 159, 157, 245, 241, 238, 247, 245, 246, 190, 181, 182, 96, 79, 78, 68, 44, 42, 59, 32, 29, 73, 45, 44, 92, 64, 63, 90, 62, 60, 75, 46, 45, 84, 56, 55, 87, 59, 58, 64, 38, 38, 55, 29, 30, 61, 35, 36, 70, 44, 45, 68, 42, 43, 64, 39, 39, 60, 37, 37, 57, 36, 35, 57, 36, 35, 49, 28, 27, 45, 24, 23, 43, 22, 21, 46, 25, 24, 61, 39, 38, 85, 64, 63, 112, 91, 90, 118, 97, 96, 91, 70, 69, 82, 60, 60, 130, 112, 113, 211, 203, 201, 222, 216, 219, 128, 111, 114, 88, 61, 64, 80, 51, 50, 64, 36, 33, 74, 45, 42, 88, 59, 55, 83, 53, 50, 70, 40, 37, 84, 54, 51, 81, 51, 48, 61, 33, 31, 53, 27, 25, 49, 23, 22, 52, 26, 25, 50, 24, 23, 44, 18, 17, 35, 12, 11, 28, 7, 7, 35, 14, 13, 34, 13, 12, 35, 14, 13, 37, 16, 15, 37, 16, 15, 48, 27, 26, 66, 45, 44, 93, 72, 71, 96, 76, 75, 78, 57, 56, 83, 57, 60, 102, 78, 81, 163, 151, 151, 170, 159, 162, 90, 68, 72, 89, 60, 64, 94, 64, 65, 79, 51, 50, 71, 42, 40, 81, 51, 48, 78, 48, 45, 70, 39, 37, 82, 52, 49, 77, 47, 44, 59, 31, 28, 53, 26, 23, 48, 21, 18, 49, 23, 19, 52, 26, 23, 52, 26, 23, 40, 16, 14, 32, 9, 9, 29, 8, 7, 27, 6, 7, 31, 11, 12, 32, 12, 13, 30, 9, 9, 49, 27, 25, 72, 49, 48, 85, 62, 61, 73, 50, 49, 67, 44, 43, 87, 59, 60, 91, 66, 66, 130, 116, 115, 118, 102, 105, 78, 54, 58, 80, 52, 56, 95, 66, 68, 84, 56, 58, 71, 42, 41, 79, 49, 47, 77, 47, 46, 69, 39, 37, 82, 52, 50, 77, 47, 45, 65, 36, 33, 54, 26, 23, 49, 21, 18, 53, 25, 22, 53, 25, 22, 52, 24, 21, 50, 24, 22, 44, 20, 18, 35, 12, 12, 29, 8, 8, 28, 9, 10, 33, 14, 16, 36, 14, 15, 54, 30, 28, 80, 55, 54, 84, 60, 58, 60, 36, 34, 64, 39, 38, 95, 68, 66, 80, 56, 52, 99, 86, 82, 90, 74, 77, 76, 52, 57, 70, 42, 46, 89, 60, 63, 83, 56, 57, 74, 45, 45, 85, 55, 53, 82, 52, 50, 72, 42, 40, 85, 55, 53, 79, 49, 47, 67, 39, 36, 57, 29, 26, 55, 27, 24, 56, 28, 25, 52, 24, 21, 53, 25, 22, 53, 26, 22, 48, 22, 19, 42, 17, 15, 37, 13, 13, 34, 13, 13, 41, 20, 21, 50, 27, 27, 62, 36, 35, 85, 59, 58, 74, 48, 47, 48, 22, 21, 73, 47, 46, 100, 72, 70, 75, 52, 48, 95, 82, 78, 91, 75, 78, 77, 53, 58, 64, 35, 39, 77, 48, 51, 83, 56, 57, 73, 44, 44, 81, 51, 49, 82, 52, 50, 76, 45, 43, 79, 49, 47, 75, 46, 43, 68, 39, 37, 65, 38, 35, 58, 30, 27, 55, 27, 24, 50, 22, 19, 48, 20, 17, 50, 21, 17, 48, 20, 15, 47, 20, 16, 41, 16, 13, 40, 16, 15, 48, 25, 25, 66, 40, 40, 87, 58, 58, 86, 57, 56, 66, 37, 36, 70, 42, 41, 98, 70, 69, 96, 67, 65, 79, 56, 52, 115, 101, 97, 100, 84, 87, 75, 51, 56, 62, 33, 37, 65, 36, 38, 84, 57, 58, 87, 58, 57, 84, 54, 52, 79, 49, 47, 75, 45, 43, 78, 48, 46, 78, 48, 46, 70, 41, 38, 71, 43, 40, 67, 39, 36, 58, 30, 28, 52, 24, 21, 50, 22, 18, 52, 22, 17, 53, 23, 17, 52, 23, 18, 46, 18, 14, 48, 22, 19, 67, 42, 41, 90, 62, 61, 84, 54, 54, 74, 44, 44, 72, 41, 41, 101, 70, 71, 107, 77, 77, 88, 59, 57, 85, 61, 57, 156, 143, 139, 120, 105, 108, 81, 53, 59, 69, 35, 40, 63, 31, 35, 72, 44, 45, 88, 60, 60, 94, 66, 64, 86, 57, 56, 78, 49, 48, 76, 47, 46, 77, 48, 46, 74, 47, 43, 73, 47, 43, 71, 44, 40, 63, 37, 33, 60, 34, 30, 53, 27, 22, 50, 21, 18, 53, 23, 20, 50, 21, 18, 50, 22, 20, 69, 44, 42, 86, 62, 60, 66, 43, 40, 65, 41, 38, 87, 58, 57, 106, 73, 73, 113, 80, 80, 92, 61, 61, 88, 58, 59, 130, 107, 108, 216, 208, 206, 137, 124, 126, 90, 63, 68, 80, 46, 52, 66, 33, 37, 60, 33, 34, 67, 41, 40, 84, 56, 55, 89, 62, 61, 78, 51, 50, 78, 50, 50, 80, 52, 51, 78, 50, 47, 75, 47, 43, 77, 48, 45, 72, 44, 41, 68, 39, 36, 68, 39, 36, 64, 33, 33, 56, 25, 26, 51, 22, 21, 53, 26, 25, 68, 43, 41, 66, 42, 40, 64, 45, 41, 98, 77, 73, 119, 91, 90, 125, 92, 92, 115, 82, 82, 100, 69, 69, 103, 74, 77, 162, 143, 146, 235, 230, 231, 163, 154, 155, 83, 64, 67, 84, 58, 61, 70, 42, 44, 62, 37, 37, 62, 35, 34, 69, 41, 40, 86, 58, 57, 86, 58, 57, 77, 49, 48, 79, 51, 50, 81, 51, 50, 80, 48, 49, 83, 51, 51, 82, 51, 51, 82, 50, 50, 80, 48, 48, 73, 41, 42, 67, 37, 37, 63, 34, 34, 62, 35, 34, 75, 50, 49, 74, 50, 48, 108, 84, 83, 142, 116, 117, 126, 97, 98, 120, 89, 91, 117, 88, 90, 116, 92, 92, 94, 74, 74, 106, 92, 93, 206, 202, 202, 221, 216, 216, 117, 106, 106, 70, 52, 53, 72, 50, 50, 61, 38, 38, 62, 35, 35, 61, 33, 32, 72, 44, 43, 95, 67, 66, 93, 65, 64, 75, 47, 46, 65, 36, 36, 62, 32, 34, 62, 33, 34, 65, 35, 37, 76, 47, 48, 79, 49, 51, 72, 41, 42, 70, 39, 39, 65, 36, 35, 63, 36, 36, 89, 63, 62, 136, 112, 110, 158, 134, 135, 137, 113, 115, 112, 87, 90, 124, 101, 103, 160, 144, 144, 196, 188, 185, 203, 198, 195, 212, 208, 205, 239, 237, 236, 251, 249, 248, 212, 208, 206, 116, 105, 103, 72, 56, 54, 60, 38, 38, 58, 32, 31, 61, 33, 32, 56, 28, 27, 65, 37, 36, 83, 55, 54, 89, 62, 61, 72, 48, 49, 50, 27, 29, 38, 15, 17, 32, 9, 10, 43, 21, 22, 59, 36, 37, 64, 36, 36, 63, 33, 33, 62, 33, 33, 72, 45, 44, 135, 110, 109, 189, 166, 164, 144, 124, 124, 95, 76, 78, 118, 101, 102, 201, 189, 189, 239, 238, 234, 247, 253, 247, 255, 255, 254, 255, 255, 255, 253, 253, 252, 252, 252, 251, 255, 255, 255, 220, 218, 216, 131, 126, 125, 88, 79, 79, 78, 58, 59, 84, 59, 60, 67, 42, 43, 39, 14, 15, 39, 14, 16, 61, 36, 38, 96, 72, 75, 86, 63, 66, 56, 34, 36, 36, 15, 16, 28, 8, 9, 33, 13, 14, 42, 22, 21, 56, 35, 33, 78, 57, 56, 137, 118, 116, 187, 169, 167, 131, 112, 110, 66, 44, 45, 94, 74, 75, 177, 165, 165, 246, 242, 240, 253, 255, 253, 250, 254, 252, 251, 253, 252, 252, 252, 251, 252, 252, 251, 253, 253, 253, 253, 253, 253, 251, 251, 251, 233, 233, 233, 173, 172, 172, 130, 119, 119, 110, 94, 95, 89, 73, 73, 65, 49, 50, 59, 43, 44, 57, 41, 42, 76, 59, 60, 103, 83, 85, 79, 57, 60, 59, 36, 38, 50, 24, 28, 46, 19, 23, 45, 23, 23, 44, 25, 24, 75, 56, 55, 135, 116, 114, 96, 77, 76, 50, 30, 29, 69, 47, 48, 132, 112, 113, 220, 210, 209, 255, 254, 252, 253, 254, 253, 254, 254, 255, 254, 254, 255, 254, 254, 254, 253, 253, 253, 252, 252, 252, 254, 254, 254, 251, 251, 251, 252, 252, 252, 245, 244, 244, 230, 226, 225, 215, 210, 208, 215, 211, 209, 216, 212, 210, 216, 212, 210, 217, 213, 211, 202, 195, 194, 148, 135, 136, 95, 77, 79, 70, 47, 51, 68, 40, 46, 76, 45, 52, 80, 55, 58, 72, 50, 52, 65, 43, 45, 63, 41, 43, 64, 42, 43, 77, 55, 57, 96, 76, 77, 135, 121, 120, 217, 211, 209, 255, 255, 253, 252, 254, 253, 255, 254, 255, 255, 254, 255, 254, 254, 254, 253, 253, 253, 253, 253, 253, 254, 254, 254, 254, 254, 254, 254, 254, 254, 255, 255, 255, 255, 255, 255, 255, 255, 255, 255, 255, 255, 255, 255, 255, 255, 255, 255, 255, 255, 255, 255, 255, 255, 219, 213, 215, 149, 139, 141, 106, 92, 96, 81, 65, 69, 92, 73, 78, 91, 71, 75, 74, 55, 58, 69, 50, 54, 87, 68, 71, 98, 79, 83, 109, 90, 93, 130, 115, 115, 180, 172, 169, 229, 226, 222, 252, 254, 250, 253, 254, 253, 255, 254, 255, 255, 254, 255, 254, 254, 254, 253, 253, 253], \"height\": 32, \"channels\": 3, \"width\": 32, \"type\": \"image\", \"id\": 139863839804304}, {\"format\": \"raw\", \"value\": [255, 255, 255, 255, 255, 255, 255, 255, 255, 255, 255, 255, 255, 255, 255, 255, 255, 255, 255, 255, 255, 255, 255, 255, 255, 255, 255, 255, 255, 255, 255, 255, 255, 255, 255, 255, 255, 255, 255, 255, 255, 255, 255, 255, 255, 255, 255, 255, 255, 255, 255, 255, 255, 255, 255, 254, 247, 244, 227, 214, 234, 212, 199, 244, 231, 219, 255, 255, 246, 255, 255, 255, 255, 255, 255, 255, 255, 255, 255, 255, 255, 255, 255, 255, 255, 255, 255, 255, 255, 255, 255, 255, 255, 255, 255, 255, 255, 255, 255, 254, 254, 254, 255, 255, 255, 255, 255, 255, 255, 255, 255, 255, 255, 255, 255, 255, 255, 255, 255, 255, 255, 255, 255, 255, 255, 255, 255, 255, 255, 255, 255, 255, 255, 255, 255, 255, 255, 255, 253, 255, 255, 250, 255, 255, 251, 254, 254, 255, 252, 248, 236, 219, 204, 214, 182, 156, 240, 207, 181, 235, 209, 187, 244, 229, 216, 255, 254, 250, 251, 254, 254, 253, 254, 255, 255, 255, 255, 255, 255, 255, 255, 255, 255, 255, 255, 255, 254, 254, 254, 255, 255, 255, 255, 255, 255, 255, 255, 255, 255, 255, 255, 255, 255, 255, 255, 255, 255, 255, 255, 255, 255, 255, 255, 255, 255, 255, 255, 255, 255, 255, 255, 255, 255, 255, 255, 255, 255, 255, 255, 255, 255, 255, 255, 255, 255, 255, 254, 253, 253, 251, 254, 254, 251, 243, 236, 228, 191, 168, 150, 217, 183, 154, 254, 227, 200, 242, 219, 200, 234, 214, 205, 255, 250, 248, 250, 255, 255, 251, 255, 255, 255, 255, 255, 255, 255, 255, 255, 255, 255, 255, 255, 255, 255, 255, 255, 255, 255, 255, 255, 255, 255, 254, 254, 254, 254, 255, 255, 253, 254, 255, 252, 254, 254, 251, 254, 255, 253, 254, 255, 254, 255, 255, 255, 255, 255, 255, 255, 255, 255, 255, 255, 255, 255, 255, 254, 254, 254, 253, 254, 254, 254, 254, 253, 254, 250, 248, 255, 251, 245, 208, 194, 183, 160, 133, 113, 231, 198, 173, 250, 232, 212, 242, 225, 211, 235, 216, 207, 255, 249, 245, 248, 255, 254, 250, 255, 255, 255, 255, 255, 255, 255, 255, 255, 255, 255, 255, 255, 255, 255, 255, 255, 255, 255, 255, 255, 255, 255, 252, 253, 252, 242, 242, 241, 248, 249, 248, 255, 255, 255, 252, 255, 255, 250, 254, 255, 253, 254, 254, 254, 254, 253, 254, 253, 252, 254, 252, 253, 254, 252, 253, 253, 252, 254, 255, 255, 255, 255, 255, 255, 255, 255, 255, 250, 240, 232, 172, 150, 130, 158, 124, 99, 231, 192, 169, 248, 228, 210, 245, 224, 208, 227, 203, 188, 236, 227, 216, 244, 252, 249, 249, 255, 255, 255, 255, 255, 255, 255, 255, 255, 255, 255, 255, 255, 255, 255, 255, 255, 255, 255, 255, 255, 255, 255, 253, 252, 248, 231, 223, 215, 203, 190, 179, 198, 186, 174, 228, 217, 205, 247, 240, 229, 255, 251, 243, 255, 255, 249, 255, 255, 252, 255, 255, 253, 255, 254, 251, 252, 247, 244, 237, 231, 227, 213, 204, 197, 181, 163, 149, 173, 151, 126, 132, 106, 73, 140, 110, 78, 213, 181, 154, 248, 220, 201, 242, 212, 196, 201, 168, 154, 150, 129, 117, 217, 212, 203, 255, 255, 254, 255, 255, 255, 255, 255, 255, 255, 255, 255, 255, 255, 255, 255, 255, 255, 255, 255, 255, 255, 255, 255, 255, 253, 249, 255, 248, 238, 212, 197, 182, 132, 110, 88, 127, 103, 79, 147, 127, 105, 159, 143, 125, 169, 156, 140, 172, 162, 150, 163, 154, 146, 154, 143, 133, 136, 121, 108, 99, 81, 67, 67, 44, 31, 99, 68, 42, 141, 109, 71, 122, 91, 49, 135, 104, 65, 196, 164, 133, 237, 205, 183, 221, 187, 170, 195, 162, 148, 120, 92, 78, 164, 145, 128, 251, 247, 240, 253, 254, 254, 253, 253, 253, 255, 255, 255, 255, 255, 255, 255, 255, 255, 255, 255, 255, 255, 255, 255, 254, 254, 253, 255, 254, 251, 250, 248, 243, 193, 180, 164, 114, 95, 71, 96, 77, 52, 78, 58, 33, 72, 50, 23, 45, 28, 9, 19, 6, 0, 40, 22, 6, 63, 39, 17, 76, 47, 22, 64, 33, 10, 96, 63, 38, 133, 99, 63, 163, 127, 84, 191, 151, 111, 206, 165, 132, 230, 197, 171, 210, 182, 163, 180, 154, 138, 137, 112, 92, 118, 95, 66, 218, 210, 198, 253, 254, 255, 254, 254, 254, 255, 255, 255, 255, 255, 255, 255, 255, 255, 255, 255, 255, 255, 255, 255, 254, 255, 255, 253, 255, 255, 251, 253, 254, 234, 233, 225, 151, 141, 122, 101, 82, 59, 99, 74, 50, 67, 44, 24, 54, 32, 12, 68, 46, 19, 85, 65, 37, 80, 58, 30, 85, 56, 23, 126, 91, 53, 107, 71, 36, 98, 66, 29, 121, 89, 49, 139, 101, 58, 168, 125, 83, 209, 173, 136, 194, 161, 129, 119, 90, 64, 84, 59, 39, 65, 46, 27, 148, 137, 125, 244, 239, 235, 255, 253, 252, 254, 255, 255, 255, 255, 255, 255, 255, 254, 255, 255, 255, 255, 255, 255, 255, 255, 255, 254, 254, 254, 252, 252, 252, 251, 252, 249, 215, 207, 194, 148, 125, 101, 118, 89, 64, 56, 34, 18, 82, 58, 34, 104, 75, 36, 110, 89, 54, 76, 56, 27, 95, 70, 37, 143, 110, 66, 152, 114, 66, 133, 100, 57, 108, 80, 41, 110, 77, 34, 127, 87, 41, 132, 92, 52, 124, 84, 47, 104, 67, 33, 82, 55, 31, 53, 37, 22, 85, 69, 56, 205, 193, 182, 255, 254, 251, 254, 255, 255, 255, 255, 254, 255, 254, 253, 255, 255, 255, 255, 255, 255, 254, 254, 254, 254, 254, 254, 253, 253, 253, 255, 255, 255, 225, 214, 205, 136, 109, 84, 96, 66, 33, 70, 48, 23, 108, 87, 56, 132, 106, 71, 124, 100, 67, 96, 72, 40, 131, 106, 72, 107, 77, 40, 128, 92, 50, 130, 96, 55, 114, 81, 41, 122, 87, 46, 113, 77, 36, 101, 64, 34, 100, 62, 31, 110, 74, 39, 105, 77, 44, 74, 57, 29, 68, 52, 34, 159, 146, 136, 250, 248, 244, 255, 255, 255, 254, 254, 253, 255, 254, 253, 255, 255, 255, 255, 255, 255, 255, 255, 255, 255, 255, 255, 255, 255, 255, 255, 254, 250, 201, 188, 172, 135, 107, 76, 117, 84, 47, 97, 72, 37, 122, 101, 70, 155, 130, 100, 159, 131, 99, 113, 83, 51, 138, 112, 81, 106, 80, 50, 116, 84, 48, 128, 91, 51, 140, 101, 60, 153, 116, 76, 108, 75, 40, 83, 52, 22, 117, 83, 49, 117, 82, 44, 116, 87, 50, 93, 71, 38, 63, 45, 24, 140, 127, 117, 238, 235, 232, 254, 255, 255, 253, 253, 252, 254, 253, 252, 255, 255, 255, 255, 255, 255, 255, 255, 255, 255, 255, 255, 255, 255, 255, 250, 248, 235, 169, 153, 124, 129, 98, 60, 136, 101, 62, 125, 96, 64, 179, 159, 135, 191, 169, 144, 169, 139, 108, 139, 106, 74, 119, 92, 64, 92, 69, 46, 98, 67, 37, 128, 89, 50, 161, 118, 76, 142, 104, 67, 121, 91, 60, 109, 83, 46, 115, 85, 44, 118, 85, 44, 133, 102, 67, 102, 77, 50, 60, 40, 21, 153, 140, 129, 234, 230, 227, 251, 252, 253, 254, 253, 252, 254, 253, 252, 255, 255, 255, 255, 255, 255, 255, 255, 255, 255, 255, 255, 255, 255, 255, 240, 232, 219, 150, 128, 99, 126, 98, 60, 114, 85, 49, 145, 119, 91, 235, 220, 207, 229, 216, 209, 202, 177, 158, 192, 163, 133, 110, 87, 58, 67, 45, 25, 122, 84, 53, 158, 117, 75, 153, 115, 70, 109, 73, 39, 102, 71, 45, 117, 91, 58, 101, 72, 35, 105, 73, 38, 113, 85, 56, 80, 58, 39, 65, 42, 21, 158, 142, 122, 231, 229, 220, 245, 250, 247, 253, 255, 252, 254, 254, 252, 255, 255, 255, 255, 255, 255, 255, 255, 255, 254, 254, 254, 255, 255, 255, 230, 225, 220, 120, 108, 92, 102, 85, 57, 75, 58, 33, 89, 77, 62, 221, 214, 211, 254, 249, 250, 248, 232, 218, 183, 157, 129, 128, 99, 64, 122, 91, 61, 144, 102, 64, 180, 140, 90, 139, 103, 53, 119, 84, 41, 129, 95, 59, 125, 94, 57, 117, 85, 45, 130, 95, 54, 132, 101, 65, 81, 57, 31, 72, 50, 26, 144, 128, 107, 236, 233, 221, 246, 249, 244, 252, 255, 251, 254, 255, 252, 255, 255, 255, 255, 255, 255, 255, 255, 255, 255, 255, 255, 255, 255, 255, 242, 238, 232, 152, 135, 114, 169, 142, 106, 138, 111, 78, 76, 58, 39, 197, 191, 185, 255, 255, 255, 253, 244, 233, 166, 143, 119, 110, 76, 42, 152, 115, 74, 137, 102, 57, 124, 90, 43, 115, 81, 35, 121, 87, 42, 135, 102, 56, 113, 81, 36, 117, 81, 34, 160, 122, 72, 149, 114, 70, 87, 60, 26, 86, 67, 46, 188, 177, 163, 247, 241, 230, 246, 243, 237, 252, 253, 250, 254, 255, 254, 255, 255, 255, 255, 255, 255, 255, 255, 255, 255, 255, 255, 255, 255, 255, 255, 252, 245, 194, 171, 145, 140, 99, 54, 140, 101, 56, 115, 90, 64, 207, 199, 190, 255, 255, 255, 247, 245, 240, 174, 165, 154, 156, 134, 113, 178, 151, 121, 139, 120, 86, 96, 75, 46, 89, 65, 38, 121, 95, 62, 152, 126, 85, 154, 125, 81, 163, 129, 83, 155, 119, 76, 128, 95, 58, 121, 97, 69, 152, 141, 128, 242, 236, 228, 247, 237, 227, 242, 234, 227, 253, 252, 250, 254, 255, 255, 255, 255, 255, 255, 255, 255, 254, 255, 254, 255, 255, 254, 254, 254, 253, 255, 255, 254, 214, 202, 187, 144, 116, 83, 163, 135, 102, 177, 163, 147, 242, 239, 231, 255, 255, 248, 254, 255, 253, 239, 242, 240, 238, 235, 229, 247, 241, 229, 235, 232, 217, 172, 164, 154, 144, 131, 123, 143, 126, 111, 133, 115, 90, 144, 123, 95, 155, 131, 103, 163, 137, 109, 165, 143, 120, 206, 190, 175, 241, 235, 231, 250, 243, 240, 238, 224, 217, 246, 235, 229, 255, 253, 252, 253, 254, 254, 255, 255, 255, 252, 255, 255, 252, 254, 251, 253, 253, 249, 253, 251, 246, 255, 252, 245, 242, 233, 224, 202, 187, 173, 226, 208, 192, 224, 207, 193, 199, 179, 165, 180, 156, 141, 203, 187, 177, 248, 243, 239, 255, 255, 255, 252, 255, 255, 252, 254, 254, 244, 244, 244, 242, 239, 236, 226, 219, 212, 226, 218, 209, 236, 231, 222, 238, 232, 223, 238, 232, 223, 246, 242, 233, 253, 249, 242, 249, 245, 240, 249, 242, 240, 236, 222, 220, 239, 225, 224, 254, 249, 247, 255, 254, 252, 255, 255, 255, 253, 255, 253, 253, 253, 248, 254, 252, 246, 254, 251, 243, 255, 250, 242, 228, 220, 212, 198, 185, 175, 234, 218, 206, 191, 175, 162, 125, 92, 74, 117, 68, 48, 159, 123, 109, 244, 230, 223, 255, 252, 253, 252, 251, 254, 250, 250, 251, 251, 250, 249, 247, 244, 242, 251, 247, 243, 255, 254, 249, 255, 253, 248, 251, 249, 244, 253, 251, 246, 255, 254, 249, 251, 248, 244, 246, 244, 239, 238, 231, 228, 228, 214, 214, 241, 227, 226, 244, 238, 234, 253, 252, 249, 255, 255, 255, 254, 253, 249, 252, 249, 244, 254, 250, 243, 249, 243, 234, 194, 187, 179, 99, 91, 85, 104, 94, 86, 201, 188, 178, 244, 231, 220, 184, 161, 143, 137, 104, 79, 206, 185, 164, 247, 242, 228, 250, 255, 250, 248, 254, 252, 251, 250, 246, 248, 244, 241, 244, 240, 238, 248, 246, 244, 252, 251, 249, 252, 249, 248, 252, 249, 248, 255, 253, 252, 255, 252, 251, 249, 246, 244, 227, 226, 221, 219, 214, 210, 241, 231, 229, 250, 241, 239, 245, 241, 237, 250, 250, 247, 255, 255, 255, 255, 254, 247, 254, 250, 242, 252, 246, 237, 167, 158, 148, 58, 51, 44, 43, 37, 32, 73, 65, 59, 140, 130, 122, 231, 218, 209, 250, 237, 225, 210, 197, 182, 212, 205, 192, 243, 242, 231, 244, 249, 241, 245, 250, 242, 248, 242, 235, 246, 240, 235, 250, 249, 246, 251, 251, 251, 253, 254, 255, 255, 255, 255, 250, 247, 248, 203, 199, 200, 196, 192, 194, 238, 235, 235, 237, 237, 233, 244, 243, 238, 254, 247, 244, 252, 245, 242, 251, 250, 244, 250, 252, 248, 255, 255, 255, 255, 254, 251, 255, 251, 244, 242, 235, 224, 136, 128, 113, 51, 43, 32, 42, 35, 29, 70, 61, 57, 164, 154, 147, 198, 188, 173, 214, 201, 188, 226, 213, 206, 238, 228, 221, 251, 244, 236, 252, 244, 235, 248, 239, 230, 246, 237, 229, 254, 249, 243, 255, 254, 253, 255, 255, 255, 242, 243, 248, 198, 197, 200, 147, 145, 146, 165, 162, 164, 212, 209, 211, 247, 245, 246, 253, 254, 251, 250, 250, 245, 250, 246, 243, 253, 251, 247, 253, 253, 248, 251, 252, 249, 255, 255, 255, 255, 252, 255, 253, 247, 244, 253, 249, 238, 211, 207, 191, 113, 106, 90, 62, 53, 42, 77, 67, 63, 182, 172, 166, 234, 227, 211, 214, 205, 188, 214, 201, 191, 233, 221, 211, 239, 230, 220, 240, 229, 219, 239, 227, 217, 244, 237, 229, 230, 225, 220, 200, 196, 197, 175, 173, 179, 140, 138, 148, 129, 129, 132, 176, 176, 175, 242, 242, 242, 255, 255, 255, 254, 253, 253, 254, 254, 251, 250, 251, 246, 250, 251, 246, 253, 254, 249, 252, 253, 248, 251, 251, 249, 255, 255, 255, 255, 254, 255, 254, 251, 249, 251, 248, 241, 250, 248, 237, 229, 224, 208, 130, 124, 107, 80, 73, 63, 186, 179, 173, 255, 254, 250, 255, 251, 246, 253, 248, 241, 242, 235, 228, 232, 224, 218, 235, 227, 220, 244, 238, 231, 251, 246, 241, 184, 181, 178, 79, 78, 78, 71, 72, 76, 151, 153, 157, 233, 233, 234, 255, 255, 255, 255, 255, 255, 252, 252, 252, 253, 253, 253, 252, 253, 250, 252, 253, 248, 253, 253, 249, 251, 252, 247, 250, 251, 246, 251, 251, 249, 255, 255, 255, 255, 255, 255, 254, 254, 253, 254, 253, 251, 253, 253, 250, 255, 254, 247, 226, 223, 212, 150, 147, 134, 186, 183, 174, 255, 252, 251, 255, 253, 253, 255, 255, 252, 255, 255, 252, 255, 254, 252, 255, 254, 251, 254, 253, 251, 254, 252, 251, 244, 243, 242, 202, 204, 204, 207, 211, 211, 248, 253, 253, 255, 255, 255, 255, 254, 254, 255, 255, 255, 255, 255, 255, 255, 255, 254, 254, 254, 251, 253, 254, 249, 253, 254, 249, 252, 253, 248, 252, 253, 248, 254, 254, 252, 255, 255, 255, 255, 255, 255, 254, 255, 255, 255, 255, 255, 254, 255, 255, 254, 253, 254, 254, 253, 251, 234, 234, 223, 230, 230, 217, 251, 250, 243, 254, 254, 252, 254, 255, 255, 254, 255, 255, 254, 255, 255, 254, 255, 255, 254, 254, 254, 253, 253, 254, 254, 255, 255, 255, 255, 255, 253, 255, 255, 249, 255, 252, 253, 254, 253, 255, 255, 255, 255, 255, 255, 255, 255, 255, 255, 255, 255, 254, 254, 251, 253, 254, 249, 253, 254, 249, 252, 253, 248, 253, 254, 249, 255, 255, 253, 255, 255, 255, 255, 255, 255, 254, 255, 255, 255, 255, 255, 255, 255, 255, 255, 254, 255, 254, 254, 254, 255, 255, 252, 255, 255, 251, 254, 254, 251, 254, 254, 252, 254, 255, 253, 254, 255, 252, 254, 255, 252, 255, 255, 253, 255, 255, 253, 255, 255, 255, 254, 255, 255, 252, 254, 253, 252, 254, 253, 253, 255, 254, 254, 255, 255, 255, 255, 255, 255, 255, 255, 255, 255, 255, 255, 255, 255, 254, 254, 253, 253, 253, 252, 253, 253, 252, 254, 254, 253, 254, 255, 253, 255, 255, 254, 255, 255, 255, 255, 255, 255, 255, 255, 255, 255, 255, 255, 255, 255, 255, 255, 255, 255, 255, 255, 255, 255, 255, 255, 255, 255, 255, 255, 255, 255, 254, 254, 253, 253, 254, 249, 252, 253, 248, 252, 253, 248, 254, 254, 250, 254, 255, 251, 255, 255, 255, 255, 255, 255, 255, 255, 255, 255, 255, 255, 255, 255, 255, 255, 255, 255, 255, 255, 255, 255, 255, 255, 255, 255, 255, 255, 255, 255, 254, 254, 254, 253, 253, 253, 253, 253, 253, 255, 255, 255, 255, 255, 255, 255, 255, 255, 255, 255, 255, 255, 255, 255, 255, 255, 255, 255, 255, 255, 255, 255, 255, 255, 255, 255, 255, 255, 255, 255, 255, 255, 255, 255, 255, 255, 255, 255, 255, 255, 253, 254, 254, 250, 251, 252, 247, 249, 249, 245, 251, 252, 246, 253, 254, 250, 254, 254, 254, 254, 254, 254, 254, 254, 254, 254, 254, 254, 253, 253, 253, 255, 255, 255, 255, 255, 255, 255, 255, 255, 255, 255, 255, 255, 255, 255, 254, 254, 254, 254, 254, 254, 254, 254, 254, 255, 255, 255, 255, 255, 255, 255, 255, 255, 255, 255, 255, 255, 255, 255, 254, 254, 254, 255, 255, 255, 255, 255, 255, 255, 255, 255, 255, 255, 255, 255, 255, 255, 255, 255, 255, 255, 255, 255, 255, 255, 253, 255, 255, 251, 254, 254, 250, 253, 253, 249, 252, 253, 248, 252, 253, 249, 253, 253, 252, 253, 253, 253, 253, 253, 253, 252, 252, 252, 251, 251, 251, 254, 254, 254, 255, 255, 255, 255, 255, 255, 255, 255, 255, 255, 255, 255, 255, 255, 255, 255, 255, 255, 255, 255, 255, 255, 255, 255, 255, 255, 255, 254, 254, 254, 255, 255, 255, 255, 255, 255, 255, 255, 255, 255, 255, 255, 255, 255, 255, 255, 255, 255, 255, 255, 255, 255, 255, 255, 255, 255, 255, 255, 255, 255, 255, 255, 255, 255, 255, 255, 255, 255, 255, 255, 255, 255, 255, 255, 255, 255, 255, 255, 255, 255, 255, 255, 255, 255, 255, 255, 255, 255, 255, 255, 255, 255, 255, 255, 255, 255, 255, 255, 255, 255, 255, 255, 255, 255, 255, 255, 255, 255, 255, 255, 255, 255, 255, 255, 255, 255, 255, 255, 255, 255, 255, 255, 255, 255, 255, 255, 255, 255, 255], \"height\": 32, \"channels\": 3, \"width\": 32, \"type\": \"image\", \"id\": 139863129572560}, {\"format\": \"raw\", \"value\": [215, 219, 231, 215, 219, 232, 216, 219, 233, 214, 217, 230, 213, 216, 230, 209, 215, 226, 208, 217, 221, 206, 215, 219, 201, 208, 217, 197, 203, 218, 194, 200, 221, 199, 204, 221, 142, 128, 131, 76, 46, 46, 81, 55, 57, 147, 136, 139, 160, 149, 154, 152, 141, 144, 156, 147, 150, 159, 148, 154, 160, 153, 157, 164, 156, 160, 160, 154, 158, 158, 151, 156, 159, 149, 157, 159, 150, 156, 157, 147, 154, 156, 145, 153, 152, 142, 149, 147, 137, 143, 141, 131, 136, 142, 131, 136, 215, 219, 231, 215, 219, 232, 215, 219, 232, 213, 217, 229, 212, 216, 229, 212, 214, 217, 206, 215, 217, 203, 211, 219, 197, 205, 218, 194, 201, 218, 196, 201, 218, 178, 180, 192, 92, 56, 55, 77, 50, 49, 112, 98, 100, 173, 162, 169, 162, 153, 157, 160, 152, 154, 164, 157, 159, 164, 155, 160, 165, 158, 163, 165, 155, 162, 167, 160, 166, 164, 155, 162, 160, 148, 155, 153, 142, 149, 160, 150, 159, 162, 154, 162, 157, 151, 156, 152, 143, 148, 139, 129, 133, 135, 124, 128, 215, 219, 231, 215, 219, 231, 214, 218, 230, 214, 218, 229, 214, 217, 227, 216, 211, 207, 207, 213, 215, 200, 207, 218, 195, 202, 220, 193, 201, 216, 196, 202, 216, 125, 101, 101, 79, 49, 48, 88, 67, 67, 157, 147, 152, 168, 160, 166, 164, 155, 158, 170, 163, 168, 169, 164, 166, 169, 160, 165, 169, 162, 167, 167, 159, 167, 166, 156, 164, 166, 155, 163, 163, 153, 158, 160, 150, 157, 160, 151, 158, 159, 150, 156, 157, 148, 155, 155, 145, 152, 152, 141, 147, 143, 131, 135, 216, 220, 232, 215, 219, 231, 214, 218, 230, 214, 218, 230, 214, 217, 227, 216, 213, 207, 205, 210, 216, 199, 203, 219, 196, 202, 219, 194, 204, 220, 164, 155, 162, 89, 54, 48, 77, 52, 52, 126, 110, 113, 173, 162, 168, 167, 159, 163, 170, 162, 166, 172, 163, 168, 171, 164, 168, 171, 163, 168, 171, 162, 169, 169, 161, 167, 165, 153, 160, 165, 154, 160, 163, 153, 158, 166, 155, 162, 165, 154, 160, 155, 144, 149, 156, 144, 151, 153, 143, 151, 151, 140, 148, 143, 131, 137, 217, 221, 233, 215, 219, 231, 215, 219, 231, 215, 219, 231, 217, 219, 229, 221, 222, 219, 199, 203, 211, 195, 202, 217, 198, 202, 220, 190, 193, 206, 109, 80, 77, 78, 50, 49, 94, 72, 74, 163, 154, 155, 166, 157, 158, 169, 158, 158, 173, 163, 167, 170, 158, 161, 172, 161, 168, 173, 166, 170, 173, 163, 170, 171, 161, 164, 169, 155, 160, 170, 158, 162, 162, 151, 157, 162, 151, 157, 167, 156, 164, 164, 153, 160, 158, 147, 153, 157, 146, 151, 149, 138, 144, 143, 132, 137, 217, 221, 233, 215, 219, 231, 214, 218, 230, 213, 217, 229, 222, 224, 232, 228, 227, 233, 192, 196, 211, 196, 202, 220, 196, 209, 225, 150, 128, 133, 80, 48, 46, 76, 51, 56, 144, 129, 134, 167, 158, 161, 165, 155, 156, 173, 161, 163, 175, 164, 168, 173, 162, 168, 175, 167, 171, 175, 165, 167, 174, 162, 169, 168, 157, 159, 156, 145, 146, 171, 159, 162, 168, 157, 163, 167, 156, 163, 167, 155, 165, 168, 157, 165, 159, 147, 155, 151, 140, 144, 145, 133, 137, 149, 137, 141, 217, 221, 233, 216, 220, 232, 214, 218, 230, 215, 219, 231, 166, 167, 174, 200, 198, 206, 194, 201, 218, 194, 200, 219, 177, 173, 184, 93, 65, 61, 75, 53, 53, 120, 100, 97, 172, 162, 166, 169, 158, 161, 167, 154, 156, 177, 166, 169, 181, 171, 175, 174, 166, 173, 175, 166, 172, 171, 160, 164, 173, 163, 171, 136, 125, 129, 101, 91, 88, 155, 141, 141, 175, 164, 169, 174, 162, 170, 167, 156, 165, 165, 154, 162, 161, 150, 157, 150, 138, 143, 148, 136, 140, 147, 135, 139, 217, 221, 233, 216, 220, 232, 215, 219, 231, 217, 221, 234, 113, 108, 113, 140, 130, 127, 163, 161, 169, 144, 143, 149, 153, 139, 139, 139, 122, 116, 132, 114, 102, 164, 147, 139, 161, 150, 142, 150, 138, 130, 135, 122, 116, 152, 138, 134, 149, 132, 127, 175, 162, 161, 180, 168, 175, 176, 164, 170, 177, 171, 180, 136, 126, 130, 87, 76, 68, 137, 121, 119, 178, 168, 173, 173, 162, 169, 168, 157, 164, 163, 152, 158, 158, 146, 151, 160, 147, 155, 163, 150, 158, 160, 147, 154, 218, 220, 233, 216, 219, 232, 215, 219, 232, 208, 212, 224, 92, 82, 85, 96, 78, 69, 111, 99, 93, 129, 116, 110, 167, 156, 155, 179, 168, 171, 171, 161, 158, 157, 137, 124, 120, 103, 92, 117, 98, 86, 102, 86, 81, 127, 108, 96, 147, 122, 108, 139, 122, 116, 168, 157, 155, 155, 145, 145, 200, 199, 207, 157, 149, 147, 116, 102, 91, 150, 137, 137, 176, 166, 170, 173, 162, 168, 169, 156, 164, 159, 147, 153, 159, 146, 150, 164, 151, 158, 166, 153, 161, 159, 145, 153, 217, 219, 232, 216, 218, 231, 217, 218, 229, 193, 195, 207, 95, 79, 74, 110, 88, 80, 154, 138, 132, 181, 165, 159, 207, 200, 205, 205, 207, 219, 199, 200, 209, 159, 138, 131, 143, 118, 101, 137, 110, 93, 115, 98, 91, 118, 103, 92, 184, 166, 159, 125, 113, 114, 149, 132, 126, 117, 101, 102, 213, 214, 226, 172, 170, 179, 133, 121, 123, 157, 143, 143, 147, 131, 129, 174, 158, 166, 169, 156, 165, 162, 149, 157, 168, 156, 164, 166, 154, 162, 162, 151, 158, 158, 146, 154, 218, 220, 233, 216, 218, 232, 216, 220, 234, 174, 176, 187, 90, 73, 70, 148, 125, 109, 194, 169, 157, 215, 204, 208, 220, 221, 230, 220, 223, 231, 218, 216, 224, 174, 154, 152, 162, 140, 127, 127, 100, 84, 146, 120, 103, 147, 124, 116, 169, 145, 133, 138, 122, 113, 148, 134, 124, 123, 103, 97, 154, 143, 141, 153, 143, 144, 133, 124, 127, 151, 136, 137, 140, 119, 111, 156, 139, 134, 175, 164, 169, 175, 160, 169, 170, 156, 165, 164, 151, 158, 156, 144, 150, 158, 146, 152, 218, 220, 233, 214, 218, 231, 216, 219, 233, 173, 164, 169, 134, 106, 90, 184, 152, 131, 205, 184, 171, 218, 214, 222, 221, 222, 232, 225, 226, 235, 218, 220, 231, 187, 172, 169, 156, 136, 127, 140, 116, 102, 147, 115, 98, 126, 99, 84, 171, 135, 105, 105, 81, 71, 132, 112, 105, 95, 80, 75, 130, 118, 114, 140, 127, 123, 128, 115, 114, 140, 125, 124, 159, 143, 139, 126, 113, 112, 165, 156, 163, 159, 144, 150, 163, 147, 148, 161, 145, 149, 161, 145, 149, 163, 148, 151, 217, 219, 232, 214, 218, 230, 218, 216, 229, 152, 133, 128, 169, 146, 138, 194, 172, 157, 201, 173, 151, 210, 197, 193, 215, 213, 223, 216, 218, 226, 203, 201, 209, 157, 129, 111, 145, 112, 92, 141, 114, 99, 133, 104, 90, 114, 84, 72, 183, 145, 108, 135, 106, 86, 143, 110, 95, 110, 95, 93, 200, 199, 207, 153, 147, 148, 129, 112, 111, 119, 102, 100, 144, 131, 127, 152, 145, 156, 188, 186, 198, 108, 92, 95, 99, 83, 78, 160, 140, 141, 176, 157, 168, 153, 134, 136, 218, 220, 233, 217, 219, 232, 209, 210, 222, 141, 114, 104, 212, 201, 202, 212, 206, 208, 184, 150, 123, 193, 164, 138, 202, 187, 180, 209, 207, 215, 200, 193, 196, 146, 111, 92, 141, 107, 88, 120, 97, 84, 86, 68, 60, 117, 87, 74, 163, 126, 95, 140, 103, 84, 139, 102, 78, 169, 141, 129, 218, 219, 228, 131, 123, 125, 104, 88, 81, 98, 83, 76, 122, 105, 97, 143, 138, 161, 209, 208, 226, 154, 141, 139, 99, 80, 73, 153, 127, 129, 156, 139, 144, 135, 116, 116, 219, 221, 234, 216, 218, 232, 204, 204, 219, 154, 126, 110, 213, 204, 206, 217, 214, 217, 170, 136, 110, 157, 118, 88, 170, 135, 108, 197, 174, 168, 170, 142, 125, 143, 103, 83, 122, 90, 75, 98, 76, 68, 68, 55, 55, 76, 59, 56, 118, 84, 71, 111, 79, 63, 107, 76, 63, 158, 121, 101, 196, 192, 200, 115, 101, 104, 106, 90, 83, 103, 87, 77, 128, 107, 97, 111, 97, 127, 206, 205, 220, 206, 209, 220, 157, 142, 127, 113, 91, 76, 121, 105, 101, 164, 149, 152, 220, 221, 234, 215, 218, 232, 208, 209, 223, 159, 136, 126, 213, 211, 218, 204, 202, 208, 140, 115, 102, 132, 104, 88, 148, 112, 93, 160, 124, 97, 136, 92, 70, 122, 86, 69, 97, 73, 60, 101, 74, 64, 84, 63, 60, 67, 53, 52, 82, 62, 57, 92, 71, 60, 82, 59, 53, 145, 116, 103, 125, 116, 120, 105, 91, 87, 92, 77, 76, 94, 76, 73, 119, 96, 84, 131, 113, 124, 207, 209, 223, 217, 219, 236, 157, 150, 150, 127, 115, 114, 138, 122, 119, 173, 160, 166, 219, 221, 234, 218, 223, 235, 173, 164, 171, 129, 109, 105, 219, 218, 228, 186, 179, 188, 102, 86, 85, 96, 82, 77, 108, 88, 76, 136, 106, 91, 129, 93, 74, 105, 73, 61, 79, 60, 55, 76, 57, 54, 73, 55, 54, 74, 55, 53, 71, 57, 55, 88, 70, 68, 84, 66, 63, 79, 66, 70, 76, 65, 70, 99, 87, 86, 67, 53, 55, 102, 84, 78, 118, 94, 83, 150, 132, 131, 211, 204, 220, 213, 184, 201, 202, 191, 208, 177, 176, 188, 146, 130, 133, 170, 157, 160, 219, 221, 233, 211, 210, 220, 116, 88, 81, 132, 117, 117, 226, 229, 238, 171, 156, 160, 104, 84, 77, 96, 80, 77, 95, 83, 77, 105, 87, 80, 119, 94, 77, 95, 70, 60, 72, 56, 54, 68, 54, 55, 75, 56, 53, 77, 60, 55, 78, 65, 63, 95, 79, 77, 79, 65, 65, 51, 40, 52, 84, 74, 81, 94, 83, 86, 74, 60, 60, 127, 109, 101, 125, 102, 92, 140, 120, 118, 207, 199, 211, 216, 198, 214, 195, 188, 197, 183, 180, 187, 146, 132, 139, 169, 153, 163, 222, 227, 240, 167, 132, 134, 121, 81, 62, 101, 85, 78, 172, 167, 178, 163, 155, 154, 127, 115, 110, 130, 116, 114, 125, 113, 112, 111, 95, 90, 117, 98, 88, 79, 63, 58, 63, 51, 52, 71, 56, 55, 88, 69, 62, 90, 72, 69, 90, 75, 73, 101, 87, 79, 70, 58, 61, 55, 45, 56, 109, 100, 107, 68, 56, 59, 86, 72, 72, 133, 116, 110, 130, 109, 101, 113, 94, 92, 210, 210, 217, 221, 228, 244, 177, 167, 158, 122, 107, 95, 140, 123, 124, 168, 151, 161, 201, 189, 197, 125, 74, 57, 137, 92, 70, 99, 73, 63, 69, 58, 67, 117, 113, 124, 138, 134, 143, 123, 113, 115, 124, 112, 112, 152, 136, 134, 114, 97, 90, 76, 60, 57, 64, 52, 54, 82, 68, 66, 96, 80, 73, 104, 90, 85, 77, 66, 65, 68, 56, 58, 65, 55, 62, 63, 53, 64, 83, 74, 81, 78, 66, 67, 117, 104, 103, 120, 105, 102, 90, 71, 67, 113, 97, 98, 222, 223, 233, 211, 207, 217, 150, 131, 121, 127, 101, 90, 145, 122, 128, 165, 147, 150, 149, 103, 96, 116, 73, 57, 133, 95, 73, 122, 85, 68, 65, 55, 58, 73, 68, 72, 122, 118, 130, 121, 114, 121, 107, 95, 98, 136, 121, 117, 102, 87, 81, 75, 59, 57, 77, 64, 66, 92, 79, 77, 87, 74, 70, 100, 89, 86, 79, 69, 66, 66, 50, 55, 51, 39, 48, 63, 53, 60, 89, 78, 82, 104, 92, 93, 94, 83, 81, 93, 80, 81, 127, 110, 113, 162, 149, 155, 199, 193, 203, 141, 122, 124, 104, 83, 79, 151, 126, 128, 168, 146, 155, 160, 140, 144, 118, 60, 49, 113, 84, 73, 131, 92, 70, 126, 97, 72, 90, 77, 71, 70, 62, 64, 74, 67, 71, 91, 85, 89, 87, 77, 78, 103, 90, 86, 78, 66, 65, 74, 61, 61, 88, 75, 76, 98, 85, 83, 93, 82, 83, 87, 76, 78, 87, 73, 70, 83, 64, 58, 52, 39, 44, 60, 49, 53, 81, 69, 71, 93, 80, 80, 117, 104, 102, 164, 150, 155, 188, 172, 179, 188, 174, 182, 171, 157, 162, 134, 117, 120, 143, 124, 126, 172, 153, 156, 169, 151, 157, 167, 147, 154, 100, 62, 57, 106, 83, 73, 111, 83, 67, 118, 97, 89, 167, 154, 161, 153, 145, 150, 118, 109, 114, 78, 69, 74, 87, 78, 80, 86, 76, 76, 77, 65, 65, 76, 62, 60, 87, 72, 71, 125, 112, 111, 158, 149, 153, 174, 164, 169, 158, 145, 152, 119, 105, 106, 75, 62, 65, 86, 75, 79, 131, 117, 121, 169, 155, 157, 174, 158, 161, 180, 164, 168, 182, 165, 170, 185, 169, 172, 189, 174, 177, 190, 174, 181, 186, 169, 179, 178, 159, 165, 174, 158, 161, 178, 161, 167, 90, 71, 67, 84, 66, 64, 92, 73, 70, 163, 145, 150, 187, 175, 181, 191, 181, 188, 191, 179, 189, 181, 170, 178, 174, 165, 171, 159, 148, 153, 128, 117, 121, 139, 128, 129, 163, 151, 155, 189, 177, 183, 191, 179, 185, 191, 178, 186, 193, 180, 191, 191, 180, 188, 171, 160, 163, 175, 162, 165, 187, 170, 174, 188, 171, 177, 185, 168, 174, 186, 170, 175, 186, 169, 175, 187, 171, 175, 186, 169, 174, 186, 170, 176, 185, 170, 177, 180, 161, 167, 176, 159, 163, 176, 159, 166, 75, 61, 60, 70, 60, 54, 138, 124, 124, 195, 182, 186, 195, 183, 184, 195, 183, 187, 191, 179, 184, 186, 174, 175, 189, 177, 179, 195, 184, 188, 194, 183, 188, 194, 182, 185, 196, 184, 190, 195, 183, 191, 195, 182, 189, 191, 179, 184, 189, 178, 184, 191, 179, 185, 193, 180, 183, 186, 169, 172, 183, 165, 169, 186, 168, 174, 190, 173, 179, 188, 172, 177, 188, 171, 176, 192, 175, 181, 193, 177, 182, 191, 175, 181, 188, 173, 179, 181, 163, 167, 181, 164, 168, 182, 165, 173, 65, 57, 56, 126, 114, 115, 191, 176, 178, 195, 183, 184, 201, 187, 193, 202, 188, 197, 200, 186, 192, 192, 175, 177, 189, 172, 176, 196, 181, 188, 193, 179, 185, 193, 178, 182, 195, 180, 187, 199, 186, 194, 197, 185, 191, 193, 182, 188, 191, 178, 183, 190, 175, 180, 190, 173, 177, 187, 168, 172, 182, 165, 168, 183, 165, 168, 184, 167, 170, 186, 170, 173, 184, 168, 172, 186, 170, 176, 188, 173, 179, 186, 171, 176, 185, 168, 173, 180, 161, 165, 184, 167, 171, 185, 168, 177, 87, 78, 82, 186, 171, 175, 202, 186, 189, 203, 192, 196, 201, 188, 194, 199, 184, 191, 200, 188, 192, 203, 191, 194, 195, 180, 184, 199, 185, 192, 199, 186, 193, 198, 186, 193, 200, 186, 192, 199, 187, 193, 199, 188, 192, 195, 183, 187, 193, 176, 181, 191, 173, 178, 192, 174, 180, 188, 171, 175, 184, 168, 171, 180, 163, 166, 182, 163, 165, 187, 171, 172, 187, 170, 172, 186, 169, 174, 185, 169, 176, 186, 170, 176, 185, 168, 174, 182, 163, 167, 187, 170, 177, 185, 169, 178, 150, 139, 143, 195, 180, 182, 196, 182, 181, 203, 190, 191, 204, 189, 193, 204, 186, 191, 195, 178, 179, 198, 185, 186, 198, 183, 187, 203, 189, 196, 202, 190, 196, 199, 188, 194, 202, 188, 195, 196, 183, 189, 197, 184, 188, 191, 177, 181, 193, 176, 182, 194, 180, 185, 195, 180, 186, 195, 180, 184, 192, 177, 181, 186, 168, 171, 183, 164, 166, 186, 169, 172, 190, 172, 175, 191, 173, 176, 186, 170, 175, 187, 170, 176, 185, 168, 174, 186, 167, 171, 189, 171, 178, 189, 173, 181, 190, 177, 181, 200, 183, 186, 202, 187, 188, 204, 189, 194, 203, 190, 195, 203, 190, 193, 199, 183, 182, 197, 182, 181, 203, 189, 192, 204, 191, 197, 199, 186, 191, 196, 182, 186, 203, 189, 195, 198, 183, 188, 196, 181, 185, 195, 179, 184, 196, 182, 186, 198, 186, 190, 199, 184, 190, 193, 178, 183, 190, 175, 178, 187, 169, 170, 190, 171, 173, 190, 174, 178, 190, 172, 176, 184, 167, 169, 185, 169, 174, 189, 172, 178, 186, 168, 174, 187, 168, 171, 185, 166, 171, 191, 173, 180, 200, 186, 189, 201, 185, 187, 201, 184, 188, 206, 191, 198, 204, 192, 197, 203, 191, 195, 199, 185, 185, 197, 180, 179, 202, 188, 191, 204, 191, 196, 202, 187, 190, 195, 180, 181, 198, 184, 190, 198, 183, 187, 199, 184, 186, 194, 179, 181, 192, 180, 181, 193, 178, 181, 193, 176, 181, 190, 172, 176, 184, 167, 169, 185, 167, 167, 187, 170, 170, 190, 175, 178, 191, 172, 177, 192, 174, 179, 193, 176, 182, 193, 176, 182, 186, 168, 174, 181, 162, 164, 177, 157, 160, 183, 164, 168, 204, 190, 194, 198, 182, 182, 195, 177, 175, 203, 188, 188, 203, 189, 191, 203, 186, 190, 201, 181, 184, 195, 177, 174, 203, 189, 191, 204, 191, 197, 202, 188, 191, 193, 178, 178, 192, 177, 181, 197, 182, 186, 199, 185, 187, 192, 176, 176, 184, 168, 168, 189, 171, 172, 188, 168, 170, 187, 168, 169, 185, 166, 166, 185, 166, 166, 186, 169, 169, 190, 173, 176, 192, 174, 179, 195, 179, 185, 195, 179, 186, 194, 178, 184, 187, 169, 175, 182, 163, 165, 177, 158, 160, 187, 169, 173, 206, 192, 195, 203, 187, 187, 195, 176, 172, 196, 175, 172, 198, 182, 180, 195, 178, 175, 193, 172, 169, 191, 171, 166, 198, 182, 181, 201, 187, 194, 199, 185, 190, 190, 173, 174, 190, 175, 175, 194, 179, 185, 193, 179, 182, 186, 168, 167, 187, 167, 167, 187, 167, 168, 187, 167, 169, 186, 166, 164, 186, 166, 165, 183, 163, 163, 188, 169, 169, 191, 172, 174, 193, 177, 183, 196, 182, 188, 193, 178, 185, 192, 176, 184, 187, 170, 176, 188, 170, 173, 192, 173, 177, 194, 178, 187], \"height\": 32, \"channels\": 3, \"width\": 32, \"type\": \"image\", \"id\": 139863129573008}, {\"format\": \"raw\", \"value\": [174, 170, 176, 158, 159, 161, 157, 157, 157, 184, 180, 182, 167, 162, 160, 164, 159, 158, 172, 167, 166, 166, 158, 158, 166, 155, 156, 159, 150, 150, 156, 151, 149, 158, 156, 156, 185, 185, 195, 188, 191, 201, 183, 188, 197, 179, 186, 195, 181, 184, 194, 183, 184, 194, 180, 182, 191, 177, 178, 188, 175, 176, 184, 179, 175, 184, 185, 176, 187, 177, 173, 182, 187, 188, 197, 180, 184, 193, 170, 173, 182, 168, 172, 181, 159, 162, 171, 160, 161, 171, 158, 158, 168, 160, 160, 170, 172, 167, 172, 115, 112, 110, 68, 61, 54, 133, 116, 109, 109, 89, 77, 99, 80, 68, 111, 91, 80, 122, 98, 88, 113, 85, 77, 91, 70, 59, 73, 59, 45, 75, 67, 57, 162, 162, 166, 184, 187, 193, 179, 184, 191, 174, 180, 189, 176, 177, 186, 179, 178, 186, 176, 175, 183, 172, 171, 179, 170, 170, 178, 173, 169, 178, 177, 167, 178, 174, 170, 179, 182, 182, 191, 179, 181, 190, 159, 161, 171, 150, 152, 162, 156, 158, 167, 161, 161, 171, 155, 155, 165, 153, 153, 163, 166, 161, 166, 92, 84, 78, 65, 49, 35, 78, 53, 41, 86, 61, 45, 99, 73, 58, 99, 74, 59, 99, 71, 57, 98, 68, 55, 69, 45, 29, 50, 31, 14, 44, 31, 15, 123, 119, 113, 170, 168, 167, 186, 186, 188, 184, 184, 190, 177, 175, 182, 175, 173, 179, 172, 170, 176, 167, 164, 171, 164, 164, 171, 172, 167, 177, 173, 164, 175, 171, 167, 176, 166, 165, 174, 174, 173, 183, 148, 147, 158, 135, 133, 144, 156, 155, 165, 160, 160, 170, 155, 155, 165, 153, 153, 163, 171, 166, 170, 99, 88, 79, 84, 62, 43, 84, 59, 46, 93, 71, 58, 89, 68, 55, 70, 49, 36, 59, 40, 26, 66, 48, 33, 58, 40, 25, 48, 30, 15, 56, 40, 26, 85, 74, 60, 91, 83, 72, 122, 115, 110, 140, 135, 134, 148, 143, 147, 156, 151, 157, 164, 159, 164, 162, 158, 163, 159, 157, 164, 153, 149, 158, 163, 154, 165, 163, 160, 169, 154, 154, 163, 158, 156, 167, 144, 142, 153, 135, 133, 143, 138, 136, 146, 150, 149, 159, 154, 153, 164, 150, 150, 160, 190, 184, 186, 100, 92, 83, 71, 54, 34, 85, 65, 48, 85, 67, 54, 76, 60, 46, 64, 51, 36, 49, 39, 22, 47, 37, 17, 52, 38, 20, 79, 60, 49, 109, 90, 81, 82, 67, 51, 43, 33, 17, 44, 36, 21, 63, 52, 41, 100, 87, 81, 85, 73, 68, 90, 81, 75, 117, 110, 103, 136, 128, 127, 133, 124, 129, 140, 134, 142, 151, 150, 161, 162, 163, 174, 151, 151, 162, 142, 140, 149, 143, 139, 147, 132, 128, 136, 138, 136, 146, 140, 138, 148, 142, 140, 151, 193, 189, 189, 105, 99, 92, 65, 52, 33, 82, 63, 43, 89, 69, 53, 95, 79, 62, 78, 66, 48, 60, 45, 25, 66, 46, 25, 62, 42, 25, 93, 75, 63, 98, 80, 71, 64, 49, 34, 61, 52, 35, 54, 46, 28, 64, 50, 34, 100, 82, 70, 70, 53, 41, 47, 33, 21, 56, 45, 32, 88, 70, 61, 109, 88, 84, 122, 107, 106, 159, 148, 152, 165, 160, 166, 145, 145, 154, 153, 152, 160, 161, 159, 167, 149, 147, 154, 139, 136, 147, 136, 133, 144, 135, 131, 142, 195, 192, 194, 117, 110, 106, 69, 53, 37, 84, 61, 42, 102, 79, 61, 112, 89, 71, 77, 57, 38, 109, 80, 61, 132, 97, 78, 80, 55, 40, 88, 70, 58, 73, 56, 42, 58, 44, 28, 64, 54, 37, 55, 43, 27, 78, 59, 46, 93, 71, 59, 73, 52, 40, 67, 47, 34, 85, 65, 52, 117, 89, 75, 129, 96, 82, 121, 91, 80, 135, 107, 98, 150, 132, 128, 161, 155, 159, 181, 177, 184, 176, 176, 185, 161, 162, 173, 148, 145, 156, 136, 133, 144, 136, 133, 144, 191, 189, 194, 126, 119, 116, 83, 63, 51, 130, 104, 84, 129, 103, 82, 88, 60, 39, 65, 36, 16, 142, 105, 83, 153, 114, 93, 86, 61, 47, 79, 62, 48, 71, 53, 36, 59, 45, 29, 60, 48, 32, 63, 47, 32, 102, 77, 65, 105, 79, 67, 98, 72, 60, 113, 85, 73, 128, 99, 88, 146, 111, 96, 148, 111, 92, 142, 106, 88, 134, 98, 81, 123, 93, 81, 143, 125, 120, 185, 174, 174, 174, 171, 177, 176, 176, 186, 173, 170, 181, 157, 154, 165, 156, 153, 164, 182, 182, 187, 140, 131, 131, 80, 58, 48, 98, 70, 50, 116, 87, 62, 101, 68, 45, 107, 70, 49, 154, 115, 90, 116, 83, 58, 69, 51, 36, 85, 70, 54, 70, 50, 29, 69, 56, 39, 68, 56, 40, 82, 63, 49, 126, 98, 87, 126, 97, 85, 129, 100, 87, 144, 111, 99, 153, 117, 106, 154, 119, 106, 149, 115, 101, 142, 108, 93, 137, 102, 86, 132, 97, 80, 118, 88, 72, 134, 114, 106, 173, 163, 164, 183, 179, 187, 181, 178, 189, 173, 170, 181, 170, 167, 178, 181, 179, 186, 141, 131, 133, 97, 77, 70, 62, 39, 21, 88, 63, 39, 107, 76, 50, 123, 84, 62, 129, 91, 70, 87, 62, 42, 72, 53, 39, 77, 61, 45, 74, 56, 38, 87, 70, 56, 92, 74, 59, 107, 82, 69, 139, 108, 95, 131, 102, 90, 132, 104, 92, 143, 111, 100, 152, 116, 107, 152, 120, 109, 149, 120, 107, 141, 111, 98, 134, 103, 89, 131, 98, 82, 123, 92, 76, 105, 79, 70, 131, 111, 109, 183, 169, 173, 177, 173, 182, 172, 171, 178, 172, 170, 178, 176, 173, 181, 117, 106, 111, 123, 106, 101, 108, 89, 75, 87, 65, 44, 84, 58, 32, 114, 80, 58, 120, 90, 74, 82, 62, 47, 77, 55, 41, 104, 81, 67, 113, 91, 78, 93, 73, 60, 101, 78, 64, 116, 87, 73, 141, 110, 95, 134, 107, 94, 127, 100, 89, 139, 110, 100, 146, 114, 104, 149, 118, 107, 145, 116, 102, 140, 111, 97, 138, 109, 95, 132, 104, 89, 127, 99, 85, 107, 80, 71, 92, 67, 63, 145, 124, 124, 171, 165, 170, 162, 163, 167, 161, 161, 167, 169, 167, 176, 137, 127, 134, 128, 115, 112, 127, 109, 98, 81, 60, 42, 65, 43, 19, 95, 71, 49, 90, 69, 51, 65, 47, 30, 103, 80, 65, 154, 123, 111, 136, 105, 93, 90, 70, 57, 99, 76, 63, 117, 89, 74, 141, 110, 96, 132, 106, 94, 121, 96, 84, 134, 106, 95, 139, 109, 99, 144, 114, 102, 141, 112, 98, 137, 108, 94, 135, 106, 92, 128, 99, 85, 126, 98, 84, 112, 85, 74, 85, 61, 53, 90, 69, 65, 154, 145, 144, 160, 158, 161, 154, 153, 161, 150, 148, 157, 181, 175, 184, 169, 160, 161, 135, 123, 115, 76, 61, 46, 48, 33, 12, 59, 42, 23, 91, 72, 54, 118, 96, 77, 151, 124, 107, 165, 130, 115, 137, 102, 89, 84, 64, 51, 101, 78, 64, 120, 91, 77, 143, 113, 98, 121, 98, 84, 106, 84, 71, 123, 97, 85, 130, 102, 91, 139, 110, 98, 140, 110, 96, 143, 114, 100, 138, 109, 95, 124, 95, 81, 120, 92, 80, 111, 86, 73, 89, 66, 53, 75, 54, 42, 112, 98, 92, 163, 157, 162, 157, 154, 165, 147, 145, 153, 187, 183, 193, 200, 196, 200, 175, 173, 166, 93, 89, 74, 40, 30, 11, 55, 38, 23, 100, 75, 61, 154, 122, 105, 165, 133, 115, 160, 125, 108, 124, 92, 76, 78, 58, 44, 93, 70, 57, 112, 83, 69, 134, 103, 88, 109, 87, 73, 86, 66, 53, 105, 82, 69, 121, 95, 84, 136, 108, 95, 144, 114, 100, 143, 114, 100, 129, 100, 86, 119, 89, 77, 110, 82, 70, 102, 76, 62, 85, 62, 47, 77, 56, 39, 75, 58, 47, 140, 131, 137, 157, 153, 165, 155, 155, 166, 187, 186, 198, 192, 185, 186, 169, 160, 151, 146, 137, 122, 92, 79, 62, 88, 70, 56, 124, 98, 85, 148, 115, 98, 141, 107, 88, 141, 109, 92, 112, 85, 70, 71, 52, 39, 79, 57, 42, 104, 77, 61, 118, 89, 71, 107, 86, 70, 89, 70, 56, 96, 74, 62, 112, 87, 77, 126, 99, 87, 126, 100, 83, 112, 86, 69, 106, 79, 66, 108, 81, 69, 99, 73, 60, 90, 66, 52, 86, 63, 47, 87, 65, 48, 68, 50, 36, 106, 95, 97, 157, 152, 162, 156, 158, 170, 182, 181, 192, 185, 173, 168, 153, 135, 121, 160, 141, 127, 149, 130, 116, 149, 130, 116, 155, 135, 120, 151, 127, 108, 140, 108, 88, 124, 90, 73, 113, 84, 71, 85, 64, 51, 94, 71, 56, 121, 95, 77, 111, 84, 64, 91, 70, 54, 98, 78, 65, 102, 79, 68, 111, 84, 75, 106, 81, 68, 92, 69, 49, 84, 61, 40, 84, 60, 46, 86, 62, 51, 86, 63, 49, 90, 67, 53, 90, 67, 53, 90, 68, 53, 72, 55, 40, 76, 63, 62, 154, 147, 154, 143, 142, 148, 180, 170, 172, 187, 171, 162, 165, 146, 132, 159, 140, 126, 156, 137, 123, 157, 138, 124, 156, 139, 125, 161, 142, 123, 163, 133, 112, 151, 113, 95, 129, 94, 80, 96, 71, 56, 119, 93, 78, 126, 99, 82, 97, 70, 53, 88, 66, 52, 117, 96, 83, 121, 96, 83, 106, 79, 66, 104, 77, 62, 108, 83, 62, 105, 79, 58, 100, 74, 59, 94, 68, 57, 86, 63, 49, 86, 63, 49, 89, 66, 52, 84, 61, 47, 70, 52, 37, 65, 51, 46, 141, 133, 137, 140, 128, 130, 181, 155, 148, 187, 160, 147, 169, 148, 134, 162, 143, 129, 159, 140, 126, 159, 139, 125, 158, 141, 127, 161, 143, 126, 170, 140, 120, 181, 143, 123, 142, 105, 89, 116, 86, 70, 127, 98, 82, 114, 86, 71, 109, 82, 68, 126, 102, 91, 134, 109, 97, 118, 92, 77, 106, 78, 60, 116, 88, 69, 116, 89, 67, 117, 91, 67, 113, 85, 68, 105, 78, 65, 93, 69, 56, 85, 62, 48, 85, 61, 48, 81, 58, 44, 70, 49, 36, 61, 45, 36, 122, 113, 112, 143, 114, 114, 157, 110, 97, 196, 155, 140, 185, 160, 147, 167, 148, 134, 160, 141, 127, 161, 142, 128, 161, 141, 130, 161, 137, 126, 176, 144, 125, 168, 135, 112, 132, 101, 80, 138, 104, 86, 122, 89, 73, 104, 75, 62, 116, 89, 78, 131, 106, 97, 118, 92, 81, 114, 86, 69, 119, 90, 68, 117, 87, 66, 117, 88, 65, 122, 93, 68, 121, 90, 72, 113, 84, 72, 102, 80, 65, 97, 75, 60, 86, 63, 49, 80, 56, 43, 73, 49, 36, 58, 41, 28, 105, 94, 90, 158, 136, 137, 143, 99, 87, 165, 112, 94, 192, 156, 139, 180, 158, 144, 166, 146, 135, 160, 143, 130, 162, 141, 129, 172, 142, 130, 182, 148, 130, 167, 133, 111, 148, 117, 95, 131, 98, 79, 113, 84, 68, 141, 116, 102, 147, 119, 105, 116, 85, 72, 112, 83, 70, 120, 91, 75, 117, 84, 64, 116, 81, 60, 121, 87, 65, 123, 92, 70, 125, 95, 79, 118, 90, 79, 111, 85, 74, 111, 85, 73, 96, 73, 60, 75, 51, 39, 71, 49, 35, 58, 43, 25, 95, 86, 77, 180, 179, 184, 188, 169, 165, 143, 92, 76, 168, 113, 92, 188, 155, 138, 169, 154, 141, 161, 144, 132, 170, 143, 129, 182, 149, 134, 178, 143, 125, 170, 133, 114, 150, 113, 92, 115, 87, 67, 148, 127, 111, 173, 151, 133, 182, 152, 129, 128, 92, 69, 118, 87, 71, 115, 86, 74, 103, 68, 52, 111, 72, 52, 124, 86, 67, 126, 94, 79, 120, 94, 83, 110, 85, 77, 107, 80, 71, 99, 74, 64, 90, 68, 57, 72, 52, 41, 61, 46, 30, 51, 41, 20, 87, 81, 71, 187, 187, 191, 202, 193, 193, 168, 139, 135, 114, 62, 45, 163, 118, 95, 180, 153, 134, 178, 148, 133, 183, 148, 134, 181, 150, 134, 171, 138, 119, 159, 124, 104, 127, 93, 71, 164, 138, 119, 178, 155, 136, 180, 152, 129, 176, 142, 115, 111, 77, 58, 108, 78, 64, 106, 78, 63, 94, 63, 46, 113, 79, 60, 131, 98, 81, 128, 99, 85, 120, 96, 85, 107, 86, 75, 97, 77, 65, 85, 67, 55, 73, 58, 45, 62, 49, 35, 55, 42, 25, 46, 38, 19, 87, 81, 76, 188, 187, 191, 199, 197, 199, 167, 157, 162, 69, 49, 35, 110, 65, 43, 182, 119, 106, 188, 147, 131, 181, 159, 140, 186, 157, 140, 171, 140, 121, 156, 123, 102, 135, 103, 82, 191, 167, 149, 187, 161, 140, 180, 149, 125, 134, 103, 80, 92, 64, 50, 112, 84, 72, 104, 77, 60, 88, 62, 43, 113, 87, 69, 118, 92, 77, 122, 98, 84, 130, 107, 94, 122, 102, 90, 101, 84, 72, 82, 68, 55, 69, 58, 44, 56, 47, 32, 49, 39, 21, 43, 35, 22, 94, 90, 89, 190, 189, 192, 197, 194, 193, 179, 174, 178, 112, 109, 106, 66, 45, 34, 116, 72, 59, 175, 137, 120, 185, 160, 142, 182, 156, 139, 174, 146, 126, 165, 134, 112, 147, 117, 95, 161, 137, 119, 178, 151, 130, 161, 137, 118, 127, 110, 97, 110, 90, 84, 118, 92, 81, 102, 76, 56, 90, 69, 49, 80, 62, 47, 81, 61, 49, 109, 89, 76, 127, 108, 94, 130, 111, 98, 120, 102, 90, 101, 85, 73, 72, 59, 46, 49, 38, 23, 45, 37, 18, 48, 42, 32, 116, 114, 117, 194, 193, 195, 193, 190, 187, 186, 183, 183, 177, 171, 178, 125, 125, 125, 115, 114, 103, 144, 119, 108, 181, 143, 131, 184, 154, 135, 173, 149, 126, 165, 139, 117, 163, 133, 114, 153, 126, 106, 135, 109, 90, 146, 128, 116, 163, 155, 153, 160, 147, 146, 133, 111, 102, 97, 72, 54, 88, 69, 49, 84, 68, 53, 89, 72, 58, 104, 85, 71, 118, 98, 84, 130, 109, 97, 130, 108, 97, 116, 97, 85, 84, 68, 54, 60, 46, 31, 46, 37, 22, 77, 71, 67, 135, 133, 140, 192, 196, 197, 186, 187, 188, 182, 181, 183, 180, 181, 183, 174, 174, 183, 176, 172, 183, 168, 159, 157, 152, 126, 113, 181, 145, 126, 178, 155, 128, 170, 149, 127, 158, 129, 113, 158, 127, 103, 151, 124, 107, 112, 93, 87, 155, 142, 143, 174, 160, 158, 132, 112, 103, 95, 73, 58, 103, 84, 70, 127, 111, 96, 101, 84, 69, 115, 96, 81, 113, 91, 78, 119, 96, 84, 125, 103, 90, 118, 98, 84, 107, 90, 74, 76, 61, 46, 60, 49, 44, 121, 113, 119, 137, 134, 145, 187, 192, 193, 179, 181, 184, 176, 176, 179, 179, 178, 181, 174, 171, 181, 169, 165, 177, 175, 174, 174, 163, 155, 144, 154, 129, 114, 182, 149, 127, 179, 146, 122, 173, 143, 118, 158, 124, 98, 147, 116, 97, 111, 87, 75, 136, 117, 110, 160, 136, 128, 124, 97, 84, 94, 70, 57, 122, 107, 98, 155, 142, 137, 112, 97, 91, 104, 86, 77, 102, 83, 70, 101, 81, 67, 104, 85, 71, 106, 88, 74, 89, 74, 59, 48, 36, 23, 93, 85, 84, 135, 129, 138, 134, 133, 145, 183, 186, 191, 176, 177, 182, 172, 171, 177, 176, 173, 179, 172, 168, 177, 168, 167, 177, 164, 165, 168, 173, 175, 173, 157, 146, 140, 149, 114, 100, 160, 122, 97, 157, 128, 98, 163, 130, 105, 147, 116, 94, 128, 102, 84, 118, 94, 79, 136, 106, 90, 113, 83, 65, 98, 74, 60, 139, 128, 121, 151, 142, 144, 146, 134, 134, 128, 115, 109, 105, 91, 78, 97, 81, 66, 89, 74, 59, 77, 64, 51, 46, 36, 24, 45, 37, 29, 115, 112, 114, 133, 130, 141, 134, 133, 145, 179, 182, 189, 172, 173, 180, 168, 167, 175, 168, 169, 176, 167, 170, 176, 165, 166, 173, 165, 165, 172, 169, 168, 175, 162, 157, 159, 104, 89, 77, 109, 84, 63, 134, 106, 84, 133, 103, 84, 133, 105, 86, 126, 102, 81, 121, 98, 77, 119, 95, 74, 99, 74, 53, 89, 71, 53, 81, 75, 63, 67, 64, 58, 77, 70, 63, 87, 79, 70, 92, 81, 70, 87, 76, 60, 73, 63, 45, 53, 44, 30, 31, 24, 14, 65, 61, 56, 124, 125, 131, 134, 134, 147, 133, 132, 145, 174, 177, 184, 168, 169, 176, 163, 161, 169, 159, 164, 170, 162, 171, 175, 159, 161, 166, 167, 164, 174, 166, 159, 174, 157, 154, 163, 93, 96, 89, 57, 48, 35, 90, 67, 57, 102, 82, 70, 107, 89, 75, 76, 59, 42, 62, 47, 28, 57, 43, 25, 49, 35, 16, 43, 32, 13, 32, 29, 12, 33, 32, 17, 35, 31, 17, 37, 31, 18, 40, 32, 22, 43, 35, 21, 41, 34, 16, 33, 27, 14, 49, 44, 38, 112, 109, 109, 134, 137, 146, 134, 136, 149, 131, 131, 144, 166, 169, 177, 164, 165, 171, 160, 159, 164, 156, 159, 163, 158, 163, 168, 157, 159, 164, 161, 159, 166, 168, 165, 176, 159, 158, 169, 143, 145, 150, 128, 128, 129, 123, 120, 119, 143, 139, 137, 152, 150, 146, 116, 113, 109, 88, 85, 81, 69, 64, 57, 69, 63, 54, 69, 63, 55, 56, 52, 44, 52, 48, 40, 48, 42, 35, 42, 37, 30, 40, 34, 28, 41, 36, 28, 52, 48, 39, 70, 66, 62, 96, 92, 95, 135, 131, 139, 129, 130, 140, 130, 130, 141, 131, 131, 141, 158, 161, 170, 158, 159, 166, 157, 156, 161, 154, 156, 161, 154, 158, 165, 156, 157, 165, 155, 154, 162, 163, 162, 171, 163, 163, 173, 156, 156, 165, 165, 166, 173, 175, 177, 180, 169, 169, 170, 163, 164, 165, 168, 169, 170, 167, 166, 167, 158, 154, 155, 157, 152, 153, 154, 150, 151, 140, 135, 137, 136, 133, 134, 127, 126, 126, 114, 113, 113, 100, 99, 99, 111, 109, 108, 125, 124, 123, 133, 131, 134, 130, 127, 136, 137, 134, 146, 135, 135, 145, 132, 132, 142, 130, 130, 140], \"height\": 32, \"channels\": 3, \"width\": 32, \"type\": \"image\", \"id\": 139863129571920}, {\"format\": \"raw\", \"value\": [255, 255, 255, 255, 255, 255, 255, 255, 255, 255, 255, 255, 255, 255, 255, 255, 255, 255, 255, 255, 255, 255, 255, 255, 255, 255, 255, 255, 255, 255, 255, 255, 255, 255, 255, 255, 255, 255, 255, 255, 255, 255, 255, 255, 255, 255, 255, 255, 255, 255, 255, 255, 255, 255, 255, 255, 255, 255, 255, 255, 255, 255, 255, 255, 255, 255, 255, 255, 255, 255, 255, 255, 255, 255, 255, 255, 255, 255, 255, 255, 255, 255, 255, 255, 255, 255, 255, 255, 255, 255, 255, 255, 255, 255, 255, 255, 255, 255, 255, 254, 254, 254, 254, 254, 254, 254, 254, 254, 254, 254, 254, 254, 254, 254, 254, 254, 254, 254, 254, 254, 254, 254, 254, 254, 254, 254, 254, 254, 254, 254, 254, 254, 254, 254, 254, 254, 254, 254, 254, 254, 254, 254, 254, 254, 254, 254, 254, 254, 254, 254, 254, 254, 254, 254, 254, 254, 254, 254, 254, 253, 254, 254, 251, 254, 253, 249, 249, 240, 198, 195, 183, 183, 179, 171, 248, 247, 245, 255, 255, 255, 254, 254, 254, 254, 254, 254, 254, 254, 254, 254, 254, 254, 255, 255, 255, 254, 254, 254, 255, 255, 255, 255, 255, 255, 255, 255, 255, 255, 255, 255, 255, 255, 255, 255, 255, 255, 255, 255, 255, 255, 255, 255, 254, 254, 254, 255, 255, 254, 255, 255, 255, 255, 255, 255, 255, 255, 255, 255, 255, 255, 255, 255, 255, 255, 255, 254, 254, 254, 254, 254, 254, 254, 254, 254, 254, 254, 254, 255, 254, 254, 254, 205, 194, 180, 150, 131, 111, 158, 141, 129, 238, 232, 230, 255, 255, 255, 254, 254, 254, 255, 255, 255, 255, 255, 255, 255, 255, 255, 255, 255, 255, 254, 254, 254, 255, 255, 255, 255, 255, 255, 255, 255, 255, 255, 255, 255, 255, 255, 255, 255, 255, 255, 252, 255, 254, 254, 255, 255, 255, 255, 255, 255, 255, 255, 253, 254, 255, 254, 254, 254, 253, 254, 255, 254, 255, 255, 254, 253, 254, 254, 255, 255, 255, 255, 255, 255, 255, 255, 255, 255, 255, 255, 255, 255, 222, 215, 212, 169, 149, 136, 161, 135, 119, 153, 131, 121, 224, 216, 214, 255, 255, 255, 254, 254, 254, 255, 255, 255, 255, 255, 255, 255, 255, 255, 255, 255, 255, 254, 254, 254, 255, 255, 255, 255, 255, 255, 255, 255, 255, 255, 255, 255, 255, 255, 255, 254, 255, 255, 250, 254, 253, 248, 249, 248, 235, 230, 231, 237, 234, 233, 251, 251, 248, 255, 255, 254, 251, 254, 255, 250, 253, 254, 255, 254, 254, 240, 237, 237, 216, 211, 212, 221, 214, 214, 220, 214, 214, 220, 212, 208, 167, 148, 134, 154, 128, 120, 144, 119, 115, 135, 118, 116, 223, 218, 217, 255, 255, 255, 254, 254, 254, 255, 255, 255, 255, 255, 255, 255, 255, 255, 255, 255, 255, 254, 254, 254, 255, 255, 255, 255, 255, 255, 255, 255, 255, 255, 255, 255, 255, 255, 255, 254, 254, 254, 255, 254, 255, 221, 212, 214, 156, 139, 134, 171, 156, 141, 202, 193, 175, 235, 231, 224, 251, 252, 250, 254, 255, 253, 215, 210, 203, 139, 119, 111, 66, 42, 39, 72, 52, 51, 76, 56, 55, 101, 78, 70, 118, 86, 70, 121, 85, 77, 108, 77, 78, 124, 105, 110, 232, 227, 229, 255, 255, 255, 254, 254, 254, 255, 255, 255, 255, 255, 255, 255, 255, 255, 255, 255, 255, 254, 254, 254, 255, 255, 255, 255, 255, 255, 255, 255, 255, 255, 255, 255, 255, 255, 255, 254, 254, 254, 255, 255, 255, 236, 226, 229, 155, 132, 127, 169, 144, 127, 182, 161, 140, 177, 159, 146, 187, 176, 168, 169, 157, 150, 101, 82, 69, 97, 66, 49, 49, 22, 15, 28, 13, 14, 33, 16, 16, 50, 27, 20, 66, 40, 28, 95, 62, 56, 98, 66, 65, 115, 91, 92, 224, 217, 217, 255, 255, 255, 254, 254, 254, 255, 255, 255, 255, 255, 255, 255, 255, 255, 255, 255, 255, 254, 254, 254, 255, 255, 255, 255, 255, 255, 255, 255, 255, 255, 255, 255, 255, 255, 255, 254, 255, 255, 253, 255, 255, 251, 246, 247, 180, 159, 158, 167, 141, 133, 167, 138, 124, 151, 118, 103, 120, 93, 84, 79, 53, 44, 73, 40, 27, 84, 52, 34, 38, 21, 14, 17, 16, 21, 16, 13, 16, 22, 14, 8, 30, 22, 16, 65, 45, 40, 102, 74, 67, 124, 98, 88, 189, 180, 175, 250, 250, 250, 255, 255, 255, 255, 255, 255, 255, 255, 255, 255, 255, 255, 255, 255, 255, 254, 254, 254, 255, 255, 255, 255, 255, 255, 255, 255, 255, 255, 255, 255, 255, 255, 255, 255, 255, 255, 253, 254, 254, 255, 255, 255, 228, 218, 216, 155, 129, 119, 134, 98, 82, 137, 100, 86, 95, 66, 58, 51, 29, 22, 46, 26, 18, 29, 17, 9, 18, 12, 11, 18, 14, 20, 17, 15, 18, 30, 29, 24, 31, 27, 17, 48, 32, 19, 69, 47, 32, 73, 53, 41, 142, 130, 126, 246, 242, 242, 255, 255, 255, 254, 254, 255, 255, 254, 255, 255, 255, 255, 255, 255, 255, 254, 254, 254, 255, 255, 255, 255, 255, 255, 255, 255, 255, 255, 255, 255, 255, 255, 255, 255, 255, 255, 255, 255, 254, 255, 255, 255, 253, 249, 246, 173, 150, 139, 131, 97, 79, 144, 110, 96, 92, 64, 53, 39, 21, 12, 27, 17, 11, 27, 20, 15, 44, 31, 27, 61, 42, 39, 57, 43, 38, 83, 76, 69, 72, 59, 50, 69, 48, 34, 66, 41, 28, 57, 35, 28, 130, 115, 114, 240, 235, 235, 254, 255, 255, 253, 254, 255, 255, 254, 255, 255, 255, 255, 255, 255, 255, 254, 254, 254, 255, 255, 255, 255, 255, 255, 255, 255, 255, 255, 255, 255, 255, 255, 255, 255, 255, 255, 255, 255, 253, 254, 254, 254, 255, 254, 254, 208, 192, 186, 140, 112, 99, 117, 86, 70, 81, 50, 32, 50, 28, 14, 49, 41, 34, 79, 70, 62, 114, 91, 78, 148, 116, 101, 135, 111, 98, 93, 81, 72, 56, 42, 36, 73, 50, 39, 74, 46, 37, 68, 44, 40, 103, 87, 87, 199, 193, 192, 250, 251, 251, 254, 255, 255, 255, 254, 255, 255, 255, 255, 255, 255, 255, 254, 254, 254, 255, 255, 255, 255, 255, 255, 255, 255, 255, 255, 255, 255, 255, 255, 255, 255, 255, 255, 255, 255, 252, 254, 254, 253, 255, 255, 255, 215, 204, 202, 123, 102, 94, 87, 59, 42, 98, 63, 38, 98, 73, 51, 70, 63, 54, 95, 92, 85, 155, 130, 116, 173, 135, 115, 126, 100, 85, 61, 53, 46, 56, 50, 44, 90, 74, 65, 53, 34, 25, 38, 22, 18, 59, 46, 46, 177, 171, 170, 250, 252, 251, 254, 254, 255, 255, 254, 255, 255, 255, 255, 255, 255, 255, 254, 254, 254, 255, 255, 255, 255, 255, 255, 255, 255, 255, 255, 255, 255, 254, 254, 254, 253, 254, 253, 254, 254, 252, 255, 255, 255, 255, 252, 254, 181, 169, 170, 101, 81, 73, 98, 70, 51, 99, 69, 46, 114, 94, 77, 94, 89, 82, 83, 78, 75, 108, 87, 76, 171, 135, 119, 104, 78, 69, 39, 37, 33, 68, 66, 60, 48, 40, 32, 27, 16, 10, 26, 18, 15, 53, 44, 45, 198, 193, 193, 255, 255, 255, 253, 254, 254, 255, 254, 255, 255, 255, 255, 255, 255, 255, 254, 254, 254, 255, 255, 255, 255, 255, 255, 255, 254, 255, 255, 255, 255, 253, 254, 252, 252, 254, 251, 255, 254, 255, 236, 230, 233, 177, 164, 165, 118, 97, 98, 103, 77, 69, 98, 70, 53, 54, 38, 29, 80, 71, 67, 105, 95, 90, 99, 82, 77, 66, 48, 37, 175, 138, 129, 148, 112, 111, 44, 33, 30, 59, 46, 38, 80, 68, 62, 60, 51, 47, 42, 35, 32, 79, 74, 74, 217, 214, 215, 255, 255, 255, 253, 254, 254, 253, 255, 255, 255, 255, 255, 255, 255, 255, 254, 254, 254, 254, 254, 253, 254, 254, 254, 255, 254, 255, 255, 254, 255, 255, 254, 254, 249, 246, 244, 183, 170, 171, 103, 84, 87, 86, 61, 64, 101, 72, 76, 99, 72, 71, 66, 50, 43, 64, 53, 49, 50, 37, 31, 77, 56, 43, 88, 64, 48, 106, 84, 66, 165, 120, 111, 158, 103, 102, 182, 150, 145, 168, 148, 137, 160, 141, 133, 122, 106, 99, 111, 98, 93, 173, 166, 166, 244, 242, 243, 255, 255, 255, 253, 255, 255, 253, 255, 255, 255, 255, 255, 255, 255, 255, 254, 254, 254, 255, 255, 255, 255, 255, 255, 253, 254, 254, 253, 252, 253, 255, 252, 253, 189, 178, 178, 78, 57, 55, 64, 38, 37, 75, 48, 49, 87, 58, 61, 80, 56, 56, 75, 64, 58, 87, 77, 74, 78, 63, 55, 133, 107, 91, 158, 132, 111, 171, 154, 136, 210, 174, 167, 188, 138, 137, 216, 183, 176, 209, 188, 181, 165, 146, 140, 151, 134, 131, 176, 162, 161, 234, 227, 228, 255, 255, 255, 254, 254, 254, 253, 255, 255, 253, 255, 255, 255, 255, 255, 255, 255, 255, 241, 241, 241, 212, 211, 211, 234, 235, 235, 255, 255, 255, 255, 255, 255, 236, 226, 228, 107, 88, 89, 57, 35, 28, 76, 53, 45, 66, 45, 41, 64, 44, 44, 76, 57, 54, 96, 80, 71, 81, 70, 65, 84, 71, 65, 139, 119, 106, 186, 164, 147, 199, 191, 177, 210, 194, 191, 207, 182, 180, 203, 188, 179, 194, 179, 178, 175, 162, 164, 152, 142, 146, 136, 128, 134, 181, 176, 179, 246, 244, 245, 255, 255, 255, 253, 255, 255, 253, 255, 255, 255, 255, 255, 255, 255, 255, 213, 211, 212, 86, 81, 83, 103, 99, 100, 167, 164, 164, 187, 178, 176, 153, 135, 132, 74, 48, 42, 73, 43, 34, 82, 54, 44, 59, 38, 32, 56, 41, 39, 65, 50, 48, 99, 78, 76, 112, 96, 96, 109, 97, 97, 145, 134, 133, 190, 181, 178, 212, 209, 205, 217, 209, 207, 218, 204, 200, 201, 190, 183, 184, 173, 174, 164, 154, 158, 127, 121, 126, 102, 98, 104, 117, 111, 115, 217, 212, 214, 255, 255, 255, 254, 254, 254, 254, 255, 255, 255, 255, 255, 255, 255, 255, 243, 240, 241, 126, 118, 121, 43, 34, 37, 37, 27, 28, 63, 46, 44, 87, 61, 56, 73, 39, 31, 88, 51, 41, 89, 56, 47, 62, 38, 32, 49, 34, 31, 55, 43, 44, 71, 55, 60, 73, 60, 65, 123, 114, 118, 175, 170, 172, 194, 190, 190, 202, 195, 193, 201, 190, 187, 196, 182, 176, 178, 164, 159, 159, 147, 146, 147, 137, 139, 118, 112, 115, 69, 66, 71, 75, 68, 72, 201, 194, 196, 255, 255, 255, 254, 254, 254, 254, 255, 255, 255, 255, 255, 255, 255, 255, 255, 254, 255, 220, 214, 216, 131, 122, 126, 69, 58, 60, 88, 69, 68, 94, 65, 62, 74, 38, 32, 94, 57, 47, 95, 64, 54, 65, 42, 36, 46, 31, 29, 48, 38, 39, 51, 41, 47, 52, 43, 47, 86, 77, 78, 113, 105, 102, 153, 142, 137, 202, 189, 183, 210, 197, 191, 197, 184, 178, 173, 160, 155, 154, 142, 142, 142, 133, 134, 107, 101, 104, 64, 61, 66, 78, 71, 75, 186, 179, 181, 254, 252, 253, 255, 255, 255, 254, 255, 255, 255, 255, 255, 255, 255, 255, 254, 252, 253, 255, 251, 253, 238, 234, 236, 203, 200, 199, 200, 189, 186, 156, 135, 129, 88, 59, 50, 90, 55, 45, 92, 60, 50, 60, 36, 30, 38, 23, 21, 42, 31, 31, 52, 40, 41, 54, 40, 36, 75, 59, 49, 128, 110, 96, 185, 165, 152, 192, 174, 164, 194, 178, 170, 185, 172, 166, 177, 166, 163, 169, 157, 157, 140, 131, 133, 122, 116, 119, 95, 92, 97, 93, 87, 90, 206, 199, 201, 255, 255, 255, 254, 254, 254, 255, 255, 255, 255, 255, 255, 255, 255, 255, 254, 253, 254, 255, 252, 254, 255, 255, 255, 255, 255, 255, 255, 255, 255, 235, 227, 220, 151, 135, 126, 101, 71, 61, 83, 51, 42, 44, 21, 16, 34, 19, 18, 42, 31, 30, 49, 36, 33, 64, 48, 41, 102, 82, 68, 147, 123, 105, 151, 127, 112, 148, 126, 114, 153, 135, 126, 136, 121, 115, 151, 137, 133, 173, 161, 159, 159, 148, 149, 146, 137, 140, 114, 108, 114, 134, 127, 131, 243, 238, 240, 255, 255, 255, 254, 254, 255, 254, 255, 255, 255, 255, 255, 255, 255, 255, 254, 254, 254, 255, 255, 255, 255, 255, 255, 254, 254, 254, 253, 253, 253, 252, 252, 252, 225, 223, 222, 151, 130, 124, 76, 48, 41, 48, 26, 22, 49, 31, 30, 52, 38, 39, 43, 33, 35, 51, 38, 37, 63, 48, 42, 70, 50, 43, 82, 61, 53, 109, 88, 80, 116, 95, 87, 111, 90, 83, 121, 102, 95, 143, 129, 124, 142, 127, 126, 113, 97, 101, 90, 74, 82, 166, 158, 163, 255, 255, 255, 255, 255, 255, 252, 255, 255, 252, 255, 255, 255, 255, 255, 255, 255, 255, 254, 254, 254, 255, 255, 255, 255, 255, 255, 255, 255, 255, 255, 254, 255, 253, 253, 253, 250, 249, 249, 210, 202, 203, 118, 105, 105, 57, 40, 36, 55, 33, 26, 63, 42, 34, 51, 34, 28, 61, 42, 36, 71, 51, 42, 69, 47, 38, 55, 36, 29, 75, 58, 51, 77, 60, 53, 67, 51, 44, 83, 68, 62, 108, 95, 93, 105, 92, 92, 76, 63, 65, 57, 44, 47, 89, 80, 82, 181, 176, 177, 240, 238, 238, 255, 255, 255, 253, 255, 254, 255, 255, 255, 255, 255, 255, 254, 254, 254, 255, 255, 255, 255, 255, 255, 255, 255, 255, 255, 255, 255, 255, 255, 255, 254, 254, 254, 245, 245, 250, 215, 212, 217, 150, 139, 137, 97, 77, 69, 65, 42, 32, 57, 35, 25, 62, 41, 32, 72, 52, 44, 67, 49, 42, 66, 53, 47, 94, 85, 78, 63, 53, 47, 64, 54, 47, 64, 53, 50, 72, 62, 64, 95, 85, 86, 127, 117, 116, 124, 115, 112, 94, 85, 83, 151, 143, 141, 225, 220, 217, 254, 253, 249, 255, 255, 251, 255, 255, 255, 255, 255, 255, 254, 254, 254, 255, 255, 255, 255, 255, 255, 255, 255, 255, 255, 255, 255, 255, 255, 255, 255, 255, 255, 252, 253, 255, 252, 250, 253, 248, 242, 241, 198, 188, 183, 113, 98, 91, 78, 59, 52, 74, 58, 53, 85, 72, 70, 58, 48, 48, 76, 70, 67, 76, 71, 66, 54, 49, 44, 65, 60, 55, 43, 38, 35, 54, 47, 51, 143, 136, 138, 214, 208, 205, 215, 210, 203, 196, 187, 182, 217, 207, 203, 232, 225, 220, 243, 240, 234, 255, 254, 249, 255, 255, 254, 255, 255, 255, 254, 254, 254, 255, 255, 255, 255, 255, 255, 255, 255, 255, 255, 255, 255, 255, 255, 255, 255, 255, 255, 255, 255, 255, 254, 254, 254, 254, 252, 252, 247, 245, 244, 223, 219, 217, 170, 163, 162, 97, 93, 92, 63, 60, 61, 39, 37, 38, 47, 43, 39, 57, 51, 46, 78, 72, 67, 71, 66, 60, 79, 73, 68, 169, 162, 158, 229, 222, 217, 232, 225, 218, 223, 217, 207, 224, 214, 205, 219, 209, 202, 224, 217, 211, 229, 224, 219, 249, 247, 243, 255, 255, 255, 255, 255, 255, 254, 254, 254, 255, 255, 255, 255, 255, 255, 255, 255, 255, 255, 255, 255, 255, 255, 255, 255, 255, 255, 255, 255, 255, 255, 255, 255, 254, 254, 254, 254, 254, 254, 254, 254, 254, 247, 247, 247, 226, 227, 227, 206, 206, 206, 189, 189, 188, 183, 179, 176, 175, 169, 163, 133, 127, 122, 133, 127, 122, 195, 189, 183, 237, 231, 222, 234, 228, 219, 229, 224, 214, 226, 221, 212, 223, 214, 205, 192, 182, 175, 203, 196, 191, 228, 225, 222, 249, 248, 246, 255, 255, 255, 255, 255, 255, 254, 254, 254, 255, 255, 255, 255, 255, 255, 255, 255, 255, 255, 255, 255, 255, 255, 255, 255, 255, 255, 255, 255, 255, 255, 255, 255, 255, 255, 255, 255, 255, 255, 254, 254, 254, 254, 254, 254, 255, 255, 255, 255, 255, 255, 255, 255, 255, 255, 255, 255, 254, 252, 250, 238, 236, 233, 238, 236, 234, 251, 248, 245, 248, 246, 240, 239, 237, 230, 234, 232, 225, 227, 224, 218, 218, 212, 206, 218, 212, 207, 235, 233, 229, 250, 249, 248, 254, 254, 254, 255, 255, 255, 255, 255, 255, 254, 254, 254, 255, 255, 255, 255, 255, 255, 255, 255, 255, 255, 255, 255, 255, 255, 255, 255, 255, 255, 255, 255, 255, 255, 255, 255, 255, 255, 255, 255, 255, 255, 255, 255, 255, 255, 255, 255, 254, 254, 254, 254, 254, 254, 254, 254, 254, 254, 254, 254, 255, 255, 254, 255, 255, 255, 255, 255, 255, 254, 255, 253, 254, 254, 250, 252, 252, 249, 250, 250, 246, 245, 245, 241, 246, 244, 240, 255, 254, 251, 255, 255, 255, 254, 255, 255, 253, 255, 255, 255, 255, 255, 255, 255, 255, 254, 254, 254, 255, 255, 255, 255, 255, 255, 255, 255, 255, 255, 255, 255, 255, 255, 255, 255, 255, 255, 255, 255, 255, 255, 255, 255, 255, 255, 255, 255, 255, 255, 255, 255, 255, 255, 255, 255, 255, 255, 255, 255, 255, 255, 255, 255, 255, 255, 255, 255, 254, 255, 255, 254, 254, 254, 254, 254, 255, 254, 255, 255, 254, 255, 253, 254, 255, 253, 254, 255, 253, 255, 255, 254, 255, 255, 253, 255, 254, 252, 254, 254, 254, 253, 255, 255, 252, 255, 255, 255, 255, 255, 255, 255, 255, 254, 254, 254, 255, 255, 255, 255, 255, 255, 255, 255, 255, 255, 255, 255, 255, 255, 255, 255, 255, 255, 255, 255, 255, 255, 255, 255, 255, 255, 255, 255, 255, 255, 255, 255, 255, 255, 255, 255, 255, 255, 255, 255, 255, 255, 255, 255, 255, 255, 255, 255, 255, 255, 255, 255, 255, 255, 255, 255, 255, 255, 255, 255, 255, 255, 255, 255, 255, 255, 255, 255, 255, 255, 255, 255, 255, 255, 254, 255, 255, 255, 255, 255, 255, 255, 255, 255, 255, 255, 255, 255, 255, 255], \"height\": 32, \"channels\": 3, \"width\": 32, \"type\": \"image\", \"id\": 139863129573264}], \"selected_variable\": {\"name\": [\"<SArray>\"], \"dtype\": \"Image\", \"view_component\": \"Images\", \"view_file\": \"sarray\", \"descriptives\": {\"rows\": 5}, \"type\": \"SArray\", \"view_components\": [\"Images\"]}}, e);\n",
       "                });\n",
       "            })();\n",
       "        "
      ]
     },
     "metadata": {},
     "output_type": "display_data"
    }
   ],
   "source": [
    "def reveal_my_twin(x):\n",
    "    return gl_img.filter_by(x['reference_label'],'id')\n",
    "spirit_animal = reveal_my_twin(knn_model.query(cat_test))\n",
    "spirit_animal['image'].show()"
   ]
  },
  {
   "cell_type": "code",
   "execution_count": 31,
   "metadata": {},
   "outputs": [
    {
     "data": {
      "application/javascript": [
       "$(\"head\").append($(\"<link/>\").attr({\n",
       "  rel:  \"stylesheet\",\n",
       "  type: \"text/css\",\n",
       "  href: \"//cdnjs.cloudflare.com/ajax/libs/font-awesome/4.1.0/css/font-awesome.min.css\"\n",
       "}));\n",
       "$(\"head\").append($(\"<link/>\").attr({\n",
       "  rel:  \"stylesheet\",\n",
       "  type: \"text/css\",\n",
       "  href: \"https://static.turi.com/products/graphlab-create/2.1/canvas/css/canvas.css\"\n",
       "}));\n",
       "\n",
       "            (function(){\n",
       "\n",
       "                var e = null;\n",
       "                if (typeof element == 'undefined') {\n",
       "                    var scripts = document.getElementsByTagName('script');\n",
       "                    var thisScriptTag = scripts[scripts.length-1];\n",
       "                    var parentDiv = thisScriptTag.parentNode;\n",
       "                    e = document.createElement('div');\n",
       "                    parentDiv.appendChild(e);\n",
       "                } else {\n",
       "                    e = element[0];\n",
       "                }\n",
       "\n",
       "                if (typeof requirejs !== 'undefined') {\n",
       "                    // disable load timeout; ipython_app.js is large and can take a while to load.\n",
       "                    requirejs.config({waitSeconds: 0});\n",
       "                }\n",
       "\n",
       "                require(['https://static.turi.com/products/graphlab-create/2.1/canvas/js/ipython_app.js'], function(IPythonApp){\n",
       "                    var app = new IPythonApp();\n",
       "                    app.attachView('sarray','Images', {\"ipython\": true, \"rows\": [{\"format\": \"png\", \"value\": \"image/png;base64,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\\n\", \"height\": 96, \"channels\": 3, \"width\": 96, \"type\": \"image\", \"id\": 139863129575376}], \"selected_variable\": {\"name\": [\"<SArray>\"], \"dtype\": \"Image\", \"view_component\": \"Images\", \"view_file\": \"sarray\", \"descriptives\": {\"rows\": 1}, \"type\": \"SArray\", \"view_components\": [\"Images\"]}}, e);\n",
       "                });\n",
       "            })();\n",
       "        "
      ]
     },
     "metadata": {},
     "output_type": "display_data"
    }
   ],
   "source": [
    "me_test = new_train[-1:]\n",
    "graphlab.image_analysis.resize(me_test['image'], 96,96).show()"
   ]
  },
  {
   "cell_type": "code",
   "execution_count": 32,
   "metadata": {},
   "outputs": [
    {
     "data": {
      "text/html": [
       "<pre>Starting pairwise querying.</pre>"
      ],
      "text/plain": [
       "Starting pairwise querying."
      ]
     },
     "metadata": {},
     "output_type": "display_data"
    },
    {
     "data": {
      "text/html": [
       "<pre>+--------------+---------+-------------+--------------+</pre>"
      ],
      "text/plain": [
       "+--------------+---------+-------------+--------------+"
      ]
     },
     "metadata": {},
     "output_type": "display_data"
    },
    {
     "data": {
      "text/html": [
       "<pre>| Query points | # Pairs | % Complete. | Elapsed Time |</pre>"
      ],
      "text/plain": [
       "| Query points | # Pairs | % Complete. | Elapsed Time |"
      ]
     },
     "metadata": {},
     "output_type": "display_data"
    },
    {
     "data": {
      "text/html": [
       "<pre>+--------------+---------+-------------+--------------+</pre>"
      ],
      "text/plain": [
       "+--------------+---------+-------------+--------------+"
      ]
     },
     "metadata": {},
     "output_type": "display_data"
    },
    {
     "data": {
      "text/html": [
       "<pre>| 0            | 1       | 0.0498504   | 14.131ms     |</pre>"
      ],
      "text/plain": [
       "| 0            | 1       | 0.0498504   | 14.131ms     |"
      ]
     },
     "metadata": {},
     "output_type": "display_data"
    },
    {
     "data": {
      "text/html": [
       "<pre>| Done         |         | 100         | 297.887ms    |</pre>"
      ],
      "text/plain": [
       "| Done         |         | 100         | 297.887ms    |"
      ]
     },
     "metadata": {},
     "output_type": "display_data"
    },
    {
     "data": {
      "text/html": [
       "<pre>+--------------+---------+-------------+--------------+</pre>"
      ],
      "text/plain": [
       "+--------------+---------+-------------+--------------+"
      ]
     },
     "metadata": {},
     "output_type": "display_data"
    },
    {
     "data": {
      "text/html": [
       "<div style=\"max-height:1000px;max-width:1500px;overflow:auto;\"><table frame=\"box\" rules=\"cols\">\n",
       "    <tr>\n",
       "        <th style=\"padding-left: 1em; padding-right: 1em; text-align: center\">query_label</th>\n",
       "        <th style=\"padding-left: 1em; padding-right: 1em; text-align: center\">reference_label</th>\n",
       "        <th style=\"padding-left: 1em; padding-right: 1em; text-align: center\">distance</th>\n",
       "        <th style=\"padding-left: 1em; padding-right: 1em; text-align: center\">rank</th>\n",
       "    </tr>\n",
       "    <tr>\n",
       "        <td style=\"padding-left: 1em; padding-right: 1em; text-align: center; vertical-align: top\">0</td>\n",
       "        <td style=\"padding-left: 1em; padding-right: 1em; text-align: center; vertical-align: top\">50000</td>\n",
       "        <td style=\"padding-left: 1em; padding-right: 1em; text-align: center; vertical-align: top\">0.0</td>\n",
       "        <td style=\"padding-left: 1em; padding-right: 1em; text-align: center; vertical-align: top\">1</td>\n",
       "    </tr>\n",
       "    <tr>\n",
       "        <td style=\"padding-left: 1em; padding-right: 1em; text-align: center; vertical-align: top\">0</td>\n",
       "        <td style=\"padding-left: 1em; padding-right: 1em; text-align: center; vertical-align: top\">20348</td>\n",
       "        <td style=\"padding-left: 1em; padding-right: 1em; text-align: center; vertical-align: top\">48.396766772</td>\n",
       "        <td style=\"padding-left: 1em; padding-right: 1em; text-align: center; vertical-align: top\">2</td>\n",
       "    </tr>\n",
       "    <tr>\n",
       "        <td style=\"padding-left: 1em; padding-right: 1em; text-align: center; vertical-align: top\">0</td>\n",
       "        <td style=\"padding-left: 1em; padding-right: 1em; text-align: center; vertical-align: top\">25512</td>\n",
       "        <td style=\"padding-left: 1em; padding-right: 1em; text-align: center; vertical-align: top\">49.5122230196</td>\n",
       "        <td style=\"padding-left: 1em; padding-right: 1em; text-align: center; vertical-align: top\">3</td>\n",
       "    </tr>\n",
       "    <tr>\n",
       "        <td style=\"padding-left: 1em; padding-right: 1em; text-align: center; vertical-align: top\">0</td>\n",
       "        <td style=\"padding-left: 1em; padding-right: 1em; text-align: center; vertical-align: top\">41360</td>\n",
       "        <td style=\"padding-left: 1em; padding-right: 1em; text-align: center; vertical-align: top\">50.0852708321</td>\n",
       "        <td style=\"padding-left: 1em; padding-right: 1em; text-align: center; vertical-align: top\">4</td>\n",
       "    </tr>\n",
       "    <tr>\n",
       "        <td style=\"padding-left: 1em; padding-right: 1em; text-align: center; vertical-align: top\">0</td>\n",
       "        <td style=\"padding-left: 1em; padding-right: 1em; text-align: center; vertical-align: top\">23494</td>\n",
       "        <td style=\"padding-left: 1em; padding-right: 1em; text-align: center; vertical-align: top\">50.7146276021</td>\n",
       "        <td style=\"padding-left: 1em; padding-right: 1em; text-align: center; vertical-align: top\">5</td>\n",
       "    </tr>\n",
       "</table>\n",
       "[5 rows x 4 columns]<br/>\n",
       "</div>"
      ],
      "text/plain": [
       "Columns:\n",
       "\tquery_label\tint\n",
       "\treference_label\tint\n",
       "\tdistance\tfloat\n",
       "\trank\tint\n",
       "\n",
       "Rows: 5\n",
       "\n",
       "Data:\n",
       "+-------------+-----------------+---------------+------+\n",
       "| query_label | reference_label |    distance   | rank |\n",
       "+-------------+-----------------+---------------+------+\n",
       "|      0      |      50000      |      0.0      |  1   |\n",
       "|      0      |      20348      |  48.396766772 |  2   |\n",
       "|      0      |      25512      | 49.5122230196 |  3   |\n",
       "|      0      |      41360      | 50.0852708321 |  4   |\n",
       "|      0      |      23494      | 50.7146276021 |  5   |\n",
       "+-------------+-----------------+---------------+------+\n",
       "[5 rows x 4 columns]"
      ]
     },
     "execution_count": 32,
     "metadata": {},
     "output_type": "execute_result"
    }
   ],
   "source": [
    "sim_frame = knn_model.query(me_test)\n",
    "sim_frame"
   ]
  },
  {
   "cell_type": "code",
   "execution_count": 33,
   "metadata": {},
   "outputs": [
    {
     "data": {
      "text/html": [
       "<pre>Starting pairwise querying.</pre>"
      ],
      "text/plain": [
       "Starting pairwise querying."
      ]
     },
     "metadata": {},
     "output_type": "display_data"
    },
    {
     "data": {
      "text/html": [
       "<pre>+--------------+---------+-------------+--------------+</pre>"
      ],
      "text/plain": [
       "+--------------+---------+-------------+--------------+"
      ]
     },
     "metadata": {},
     "output_type": "display_data"
    },
    {
     "data": {
      "text/html": [
       "<pre>| Query points | # Pairs | % Complete. | Elapsed Time |</pre>"
      ],
      "text/plain": [
       "| Query points | # Pairs | % Complete. | Elapsed Time |"
      ]
     },
     "metadata": {},
     "output_type": "display_data"
    },
    {
     "data": {
      "text/html": [
       "<pre>+--------------+---------+-------------+--------------+</pre>"
      ],
      "text/plain": [
       "+--------------+---------+-------------+--------------+"
      ]
     },
     "metadata": {},
     "output_type": "display_data"
    },
    {
     "data": {
      "text/html": [
       "<pre>| 0            | 1       | 0.0498504   | 15.597ms     |</pre>"
      ],
      "text/plain": [
       "| 0            | 1       | 0.0498504   | 15.597ms     |"
      ]
     },
     "metadata": {},
     "output_type": "display_data"
    },
    {
     "data": {
      "text/html": [
       "<pre>| Done         |         | 100         | 327.006ms    |</pre>"
      ],
      "text/plain": [
       "| Done         |         | 100         | 327.006ms    |"
      ]
     },
     "metadata": {},
     "output_type": "display_data"
    },
    {
     "data": {
      "text/html": [
       "<pre>+--------------+---------+-------------+--------------+</pre>"
      ],
      "text/plain": [
       "+--------------+---------+-------------+--------------+"
      ]
     },
     "metadata": {},
     "output_type": "display_data"
    },
    {
     "data": {
      "application/javascript": [
       "$(\"head\").append($(\"<link/>\").attr({\n",
       "  rel:  \"stylesheet\",\n",
       "  type: \"text/css\",\n",
       "  href: \"//cdnjs.cloudflare.com/ajax/libs/font-awesome/4.1.0/css/font-awesome.min.css\"\n",
       "}));\n",
       "$(\"head\").append($(\"<link/>\").attr({\n",
       "  rel:  \"stylesheet\",\n",
       "  type: \"text/css\",\n",
       "  href: \"https://static.turi.com/products/graphlab-create/2.1/canvas/css/canvas.css\"\n",
       "}));\n",
       "\n",
       "            (function(){\n",
       "\n",
       "                var e = null;\n",
       "                if (typeof element == 'undefined') {\n",
       "                    var scripts = document.getElementsByTagName('script');\n",
       "                    var thisScriptTag = scripts[scripts.length-1];\n",
       "                    var parentDiv = thisScriptTag.parentNode;\n",
       "                    e = document.createElement('div');\n",
       "                    parentDiv.appendChild(e);\n",
       "                } else {\n",
       "                    e = element[0];\n",
       "                }\n",
       "\n",
       "                if (typeof requirejs !== 'undefined') {\n",
       "                    // disable load timeout; ipython_app.js is large and can take a while to load.\n",
       "                    requirejs.config({waitSeconds: 0});\n",
       "                }\n",
       "\n",
       "                require(['https://static.turi.com/products/graphlab-create/2.1/canvas/js/ipython_app.js'], function(IPythonApp){\n",
       "                    var app = new IPythonApp();\n",
       "                    app.attachView('sarray','Images', {\"ipython\": true, \"rows\": [{\"format\": \"raw\", \"value\": [255, 255, 255, 255, 255, 255, 255, 255, 255, 255, 255, 255, 255, 255, 255, 255, 255, 255, 255, 255, 255, 255, 255, 255, 255, 255, 255, 255, 255, 255, 255, 255, 255, 255, 255, 255, 255, 255, 255, 255, 255, 255, 255, 255, 255, 255, 255, 255, 255, 255, 255, 255, 255, 255, 255, 255, 255, 255, 255, 255, 255, 255, 255, 255, 255, 255, 255, 255, 255, 255, 255, 255, 255, 255, 255, 255, 255, 255, 255, 255, 255, 255, 255, 255, 255, 255, 255, 255, 255, 255, 255, 255, 255, 255, 255, 255, 255, 255, 255, 254, 254, 254, 255, 255, 255, 255, 255, 255, 255, 255, 255, 255, 255, 255, 255, 255, 255, 255, 255, 255, 255, 255, 255, 255, 255, 255, 254, 254, 254, 254, 254, 254, 254, 254, 254, 254, 254, 254, 254, 254, 254, 254, 254, 254, 251, 255, 251, 254, 255, 250, 255, 252, 249, 250, 248, 244, 247, 248, 246, 249, 249, 249, 248, 246, 243, 250, 247, 243, 255, 253, 250, 253, 252, 252, 254, 254, 254, 255, 255, 255, 255, 255, 255, 255, 255, 255, 255, 255, 255, 255, 255, 255, 255, 255, 255, 254, 254, 254, 255, 255, 255, 255, 255, 255, 255, 255, 255, 255, 255, 255, 255, 255, 255, 255, 255, 255, 255, 255, 255, 255, 255, 255, 254, 254, 254, 254, 254, 254, 254, 254, 254, 254, 254, 254, 253, 253, 253, 255, 255, 254, 244, 242, 231, 192, 178, 166, 185, 165, 156, 221, 208, 196, 247, 242, 234, 246, 240, 235, 222, 212, 203, 170, 156, 144, 218, 211, 202, 251, 251, 251, 252, 252, 253, 255, 255, 255, 255, 255, 255, 255, 255, 255, 255, 255, 255, 255, 255, 255, 255, 255, 255, 254, 254, 254, 255, 255, 255, 255, 255, 255, 255, 255, 255, 255, 255, 255, 255, 255, 255, 255, 255, 255, 255, 255, 255, 255, 255, 255, 254, 254, 254, 254, 254, 254, 254, 254, 254, 254, 254, 254, 254, 254, 253, 250, 248, 245, 178, 165, 146, 91, 62, 44, 98, 62, 49, 165, 135, 119, 234, 216, 202, 239, 222, 211, 198, 178, 162, 103, 78, 58, 137, 120, 107, 234, 232, 231, 254, 255, 254, 254, 254, 254, 255, 255, 255, 255, 255, 255, 255, 255, 255, 255, 255, 255, 255, 255, 255, 254, 254, 254, 255, 255, 255, 255, 255, 255, 255, 255, 255, 255, 255, 255, 254, 254, 254, 254, 254, 254, 254, 254, 254, 254, 254, 254, 254, 254, 254, 254, 254, 254, 254, 254, 253, 252, 254, 253, 255, 255, 251, 206, 197, 184, 123, 101, 76, 89, 68, 50, 74, 51, 43, 99, 66, 57, 160, 127, 112, 180, 151, 135, 112, 85, 68, 85, 59, 41, 116, 92, 76, 201, 187, 176, 254, 254, 249, 251, 254, 255, 254, 254, 255, 254, 254, 254, 254, 254, 254, 255, 255, 255, 255, 255, 255, 254, 254, 254, 255, 255, 255, 255, 255, 255, 255, 255, 255, 254, 254, 254, 254, 254, 254, 254, 254, 254, 254, 254, 254, 254, 254, 254, 254, 254, 254, 254, 254, 254, 254, 253, 253, 255, 255, 254, 240, 237, 229, 141, 128, 110, 105, 81, 55, 92, 73, 57, 50, 35, 32, 67, 43, 42, 75, 51, 47, 85, 65, 59, 83, 62, 52, 61, 40, 27, 86, 61, 45, 161, 141, 126, 250, 248, 242, 251, 255, 255, 254, 253, 255, 254, 254, 254, 254, 254, 254, 255, 255, 255, 255, 255, 255, 254, 254, 254, 255, 255, 255, 255, 255, 255, 255, 255, 255, 255, 255, 255, 255, 255, 255, 255, 255, 255, 255, 255, 255, 255, 255, 255, 255, 255, 255, 255, 254, 254, 254, 254, 254, 255, 255, 255, 180, 174, 163, 96, 78, 58, 99, 74, 51, 84, 64, 49, 40, 25, 21, 84, 68, 68, 101, 88, 89, 61, 50, 50, 118, 102, 96, 82, 64, 52, 81, 57, 40, 147, 126, 110, 245, 241, 233, 254, 255, 254, 254, 253, 254, 255, 254, 255, 255, 255, 255, 255, 255, 255, 255, 255, 255, 254, 254, 254, 255, 255, 255, 255, 255, 255, 255, 255, 255, 255, 255, 255, 255, 255, 255, 255, 255, 255, 255, 255, 255, 255, 255, 255, 255, 255, 255, 255, 255, 255, 254, 254, 254, 255, 255, 255, 163, 154, 142, 91, 69, 46, 94, 71, 51, 82, 60, 46, 79, 56, 45, 152, 129, 121, 136, 115, 108, 93, 71, 63, 127, 106, 94, 122, 101, 86, 90, 63, 45, 119, 96, 78, 220, 214, 205, 255, 255, 255, 254, 253, 253, 255, 255, 255, 255, 255, 255, 255, 255, 255, 255, 255, 255, 254, 254, 254, 255, 255, 255, 255, 255, 255, 255, 255, 255, 255, 255, 255, 255, 255, 255, 255, 255, 255, 255, 255, 255, 255, 255, 255, 255, 255, 255, 254, 255, 255, 253, 255, 255, 245, 243, 239, 142, 128, 114, 87, 64, 41, 85, 63, 48, 83, 59, 46, 118, 91, 76, 195, 168, 153, 143, 111, 96, 125, 92, 75, 132, 103, 86, 134, 110, 94, 89, 64, 46, 105, 82, 64, 206, 200, 190, 255, 255, 255, 254, 253, 252, 255, 255, 255, 255, 255, 255, 255, 255, 255, 255, 255, 255, 254, 254, 254, 255, 255, 255, 255, 255, 255, 255, 255, 255, 255, 255, 255, 255, 255, 255, 255, 255, 255, 255, 255, 255, 255, 255, 255, 255, 255, 255, 252, 254, 254, 253, 255, 255, 212, 206, 198, 116, 98, 81, 87, 67, 49, 79, 57, 44, 78, 55, 43, 108, 85, 70, 162, 141, 125, 146, 118, 105, 140, 107, 92, 143, 115, 97, 130, 113, 96, 88, 72, 57, 100, 83, 67, 196, 191, 179, 252, 252, 247, 253, 253, 254, 255, 255, 255, 255, 255, 255, 255, 255, 255, 255, 255, 255, 254, 254, 254, 255, 255, 255, 255, 255, 255, 255, 255, 255, 255, 255, 255, 255, 255, 255, 255, 255, 255, 255, 255, 255, 255, 255, 255, 255, 255, 255, 253, 254, 255, 251, 255, 255, 225, 221, 213, 164, 149, 135, 115, 98, 81, 85, 63, 47, 86, 63, 46, 99, 77, 56, 117, 95, 71, 144, 116, 94, 153, 120, 98, 164, 136, 111, 147, 130, 108, 135, 121, 105, 166, 153, 141, 231, 229, 219, 246, 247, 243, 253, 253, 254, 255, 255, 255, 255, 255, 255, 255, 255, 255, 255, 255, 255, 254, 254, 254, 255, 255, 255, 255, 255, 255, 255, 255, 255, 255, 255, 255, 255, 255, 255, 255, 255, 255, 254, 254, 254, 255, 255, 255, 255, 255, 255, 255, 255, 255, 253, 254, 253, 252, 251, 246, 228, 221, 211, 169, 155, 142, 106, 86, 69, 123, 100, 79, 142, 117, 92, 152, 125, 96, 155, 124, 95, 158, 124, 95, 189, 159, 130, 178, 158, 135, 212, 199, 186, 241, 232, 226, 254, 254, 249, 252, 253, 252, 255, 254, 255, 255, 255, 255, 255, 255, 255, 255, 255, 255, 255, 255, 255, 254, 254, 254, 255, 255, 255, 255, 255, 255, 255, 255, 255, 255, 255, 255, 255, 255, 255, 255, 255, 255, 254, 254, 254, 254, 254, 254, 255, 255, 255, 255, 255, 254, 255, 255, 252, 253, 254, 252, 249, 247, 241, 201, 189, 177, 162, 142, 129, 174, 150, 134, 191, 163, 140, 188, 155, 127, 189, 154, 125, 195, 158, 130, 197, 164, 138, 196, 173, 155, 231, 218, 212, 255, 250, 250, 253, 253, 252, 253, 254, 255, 255, 253, 255, 255, 255, 255, 255, 255, 255, 255, 255, 255, 255, 255, 255, 254, 254, 254, 255, 255, 255, 255, 255, 255, 255, 255, 255, 255, 255, 255, 255, 255, 255, 255, 255, 255, 254, 254, 254, 254, 254, 254, 255, 255, 255, 255, 255, 254, 254, 254, 252, 253, 254, 254, 249, 247, 243, 217, 207, 197, 188, 170, 160, 197, 175, 162, 218, 192, 172, 213, 182, 158, 201, 170, 144, 202, 169, 142, 205, 175, 151, 210, 187, 171, 234, 222, 217, 253, 250, 252, 252, 254, 254, 254, 254, 255, 255, 254, 255, 255, 255, 255, 255, 255, 255, 255, 255, 255, 255, 255, 255, 254, 254, 254, 255, 255, 255, 255, 255, 255, 255, 255, 255, 255, 255, 255, 255, 255, 255, 255, 255, 255, 254, 254, 254, 254, 254, 254, 255, 255, 255, 254, 255, 255, 252, 254, 255, 255, 254, 253, 239, 234, 230, 209, 200, 191, 209, 195, 182, 224, 207, 192, 221, 203, 185, 224, 204, 184, 220, 200, 176, 215, 193, 165, 220, 196, 171, 218, 199, 181, 235, 226, 219, 252, 252, 252, 254, 254, 254, 255, 255, 255, 255, 255, 255, 255, 255, 255, 255, 255, 255, 255, 255, 255, 255, 255, 255, 254, 254, 254, 255, 255, 255, 255, 255, 255, 255, 255, 255, 255, 255, 255, 255, 255, 255, 255, 255, 255, 254, 254, 254, 254, 254, 254, 255, 255, 255, 255, 255, 255, 254, 254, 254, 239, 237, 235, 221, 213, 207, 211, 200, 191, 217, 204, 192, 222, 207, 192, 226, 209, 193, 224, 206, 188, 219, 201, 179, 227, 207, 183, 223, 202, 179, 217, 199, 184, 236, 228, 222, 253, 253, 253, 254, 254, 254, 255, 255, 255, 255, 255, 255, 255, 255, 255, 255, 255, 255, 255, 255, 255, 255, 255, 255, 254, 254, 254, 255, 255, 255, 255, 255, 255, 255, 255, 255, 255, 255, 255, 255, 255, 255, 255, 255, 255, 255, 255, 255, 255, 255, 255, 255, 255, 255, 255, 255, 255, 242, 241, 240, 210, 205, 201, 218, 208, 200, 210, 197, 187, 216, 204, 193, 220, 208, 195, 225, 210, 195, 227, 210, 194, 221, 204, 186, 225, 206, 186, 224, 204, 185, 220, 205, 194, 242, 236, 232, 254, 254, 254, 254, 254, 254, 255, 255, 255, 255, 255, 255, 255, 255, 255, 255, 255, 255, 255, 255, 255, 255, 255, 255, 254, 254, 254, 255, 255, 255, 255, 255, 255, 255, 255, 255, 255, 255, 255, 255, 255, 255, 255, 255, 255, 255, 255, 255, 255, 255, 255, 254, 254, 254, 255, 255, 255, 207, 204, 202, 160, 154, 149, 216, 204, 195, 208, 193, 182, 214, 203, 192, 225, 215, 204, 224, 211, 198, 217, 202, 187, 223, 207, 192, 233, 216, 200, 232, 213, 199, 230, 216, 208, 248, 243, 241, 255, 255, 255, 255, 255, 255, 255, 255, 255, 255, 255, 255, 255, 255, 255, 255, 255, 255, 255, 255, 255, 255, 255, 255, 254, 254, 254, 255, 255, 255, 255, 255, 255, 255, 255, 255, 255, 255, 255, 255, 255, 255, 254, 255, 255, 255, 255, 255, 254, 254, 254, 254, 254, 254, 251, 249, 248, 176, 168, 163, 160, 149, 143, 213, 199, 191, 200, 185, 175, 211, 199, 189, 214, 203, 192, 215, 201, 188, 209, 193, 179, 211, 194, 181, 224, 207, 193, 224, 209, 196, 232, 221, 215, 252, 248, 248, 255, 255, 255, 254, 254, 254, 255, 255, 255, 255, 255, 255, 255, 255, 255, 255, 255, 255, 255, 255, 255, 255, 255, 255, 254, 254, 254, 255, 255, 255, 255, 255, 255, 255, 255, 255, 254, 254, 254, 254, 254, 254, 254, 254, 254, 254, 255, 255, 254, 254, 253, 253, 252, 250, 227, 221, 217, 135, 121, 114, 191, 176, 169, 209, 194, 187, 201, 186, 179, 207, 194, 185, 209, 196, 185, 195, 179, 166, 200, 181, 167, 201, 183, 170, 207, 191, 178, 214, 203, 190, 235, 228, 222, 254, 251, 251, 254, 254, 254, 254, 254, 254, 254, 254, 254, 254, 254, 254, 255, 255, 255, 255, 255, 255, 255, 255, 255, 255, 255, 255, 254, 254, 254, 255, 255, 255, 255, 255, 255, 255, 255, 255, 254, 254, 254, 254, 254, 254, 253, 253, 254, 254, 254, 253, 255, 252, 249, 238, 231, 226, 205, 195, 187, 101, 87, 79, 178, 164, 156, 205, 191, 182, 206, 191, 183, 208, 195, 186, 214, 200, 190, 198, 182, 169, 213, 195, 180, 210, 192, 179, 209, 195, 182, 212, 203, 190, 239, 234, 227, 254, 252, 252, 254, 254, 254, 254, 254, 254, 254, 254, 254, 254, 254, 254, 255, 255, 255, 255, 255, 255, 255, 255, 255, 255, 255, 255, 254, 254, 254, 255, 255, 255, 255, 255, 255, 255, 255, 255, 254, 254, 254, 254, 254, 254, 254, 254, 254, 255, 254, 252, 241, 235, 229, 221, 208, 198, 214, 199, 186, 167, 152, 141, 179, 165, 154, 190, 176, 165, 209, 195, 183, 218, 204, 195, 214, 200, 190, 212, 196, 183, 219, 201, 187, 226, 209, 196, 214, 202, 188, 210, 203, 189, 242, 240, 233, 255, 254, 254, 254, 254, 254, 254, 254, 254, 255, 255, 255, 255, 255, 255, 255, 255, 255, 255, 255, 255, 255, 255, 255, 255, 255, 255, 254, 254, 254, 255, 255, 255, 255, 255, 255, 255, 255, 255, 254, 254, 254, 254, 254, 254, 254, 254, 253, 253, 251, 247, 218, 208, 200, 206, 188, 174, 218, 198, 182, 203, 189, 175, 180, 166, 153, 174, 160, 146, 200, 186, 173, 225, 212, 202, 221, 207, 197, 203, 187, 174, 207, 189, 175, 213, 198, 185, 205, 195, 180, 208, 203, 188, 245, 245, 237, 254, 254, 254, 254, 254, 254, 254, 254, 254, 255, 255, 255, 255, 255, 255, 255, 255, 255, 255, 255, 255, 255, 255, 255, 255, 255, 255, 254, 254, 254, 255, 255, 255, 255, 255, 255, 255, 255, 255, 254, 254, 254, 254, 254, 254, 254, 255, 254, 247, 243, 237, 200, 185, 172, 186, 160, 142, 201, 172, 153, 198, 177, 159, 179, 161, 146, 181, 166, 154, 195, 183, 173, 213, 201, 190, 222, 210, 199, 191, 178, 165, 193, 176, 161, 197, 181, 168, 198, 185, 173, 211, 205, 192, 247, 248, 240, 253, 255, 253, 254, 254, 254, 254, 254, 254, 255, 255, 255, 255, 255, 255, 255, 255, 255, 255, 255, 255, 255, 255, 255, 255, 255, 255, 254, 254, 254, 255, 255, 255, 255, 255, 255, 255, 255, 255, 254, 254, 254, 254, 254, 254, 254, 255, 254, 238, 235, 229, 206, 189, 174, 197, 170, 153, 197, 169, 152, 184, 159, 139, 159, 139, 123, 188, 173, 162, 203, 192, 183, 207, 195, 183, 224, 211, 199, 197, 184, 172, 191, 178, 163, 188, 172, 160, 181, 165, 153, 208, 196, 185, 249, 247, 241, 253, 255, 254, 254, 254, 254, 254, 254, 254, 255, 255, 255, 255, 255, 255, 255, 255, 255, 255, 255, 255, 255, 255, 255, 255, 255, 255, 254, 254, 254, 255, 255, 255, 255, 255, 255, 255, 255, 255, 254, 254, 254, 254, 254, 254, 252, 253, 252, 222, 218, 214, 205, 191, 180, 206, 187, 173, 193, 174, 160, 165, 143, 127, 126, 107, 92, 159, 143, 130, 192, 179, 168, 204, 191, 179, 225, 210, 195, 204, 189, 174, 199, 189, 177, 213, 203, 193, 147, 131, 116, 189, 173, 158, 248, 244, 236, 253, 255, 254, 254, 254, 254, 254, 254, 254, 255, 255, 255, 255, 255, 255, 255, 255, 255, 255, 255, 255, 255, 255, 255, 255, 255, 255, 254, 254, 254, 255, 255, 255, 255, 255, 255, 255, 255, 255, 254, 254, 254, 255, 255, 255, 245, 243, 242, 161, 151, 145, 168, 152, 139, 200, 184, 170, 190, 176, 164, 153, 136, 121, 115, 96, 82, 125, 108, 94, 183, 167, 154, 204, 190, 176, 220, 202, 184, 203, 185, 169, 210, 203, 195, 230, 227, 219, 123, 107, 90, 170, 149, 129, 245, 237, 229, 254, 255, 255, 254, 254, 254, 255, 255, 255, 255, 255, 255, 255, 255, 255, 255, 255, 255, 255, 255, 255, 255, 255, 255, 255, 255, 255, 254, 254, 254, 255, 255, 255, 255, 255, 255, 255, 255, 255, 254, 254, 254, 255, 255, 255, 231, 226, 223, 117, 99, 88, 142, 121, 105, 193, 175, 159, 186, 173, 159, 139, 123, 109, 106, 88, 74, 114, 96, 82, 167, 149, 134, 193, 178, 163, 215, 195, 175, 201, 182, 164, 203, 199, 193, 224, 224, 218, 120, 105, 86, 165, 139, 116, 235, 222, 210, 255, 254, 253, 255, 255, 255, 255, 254, 254, 255, 255, 255, 255, 255, 255, 255, 255, 255, 255, 255, 255, 255, 255, 255, 255, 255, 255, 254, 254, 254, 255, 255, 255, 255, 255, 255, 255, 255, 255, 254, 254, 254, 255, 255, 255, 191, 184, 178, 124, 108, 92, 154, 136, 119, 170, 154, 136, 162, 149, 130, 125, 109, 88, 94, 77, 58, 110, 91, 78, 137, 118, 108, 178, 164, 149, 220, 200, 179, 206, 188, 168, 193, 193, 188, 238, 240, 236, 164, 152, 138, 144, 123, 100, 203, 179, 153, 229, 213, 192, 239, 232, 223, 253, 249, 251, 255, 254, 255, 253, 255, 252, 255, 255, 254, 255, 255, 255, 255, 255, 255, 255, 255, 255, 254, 254, 254, 255, 255, 255, 255, 255, 255, 255, 255, 255, 254, 254, 254, 254, 254, 254, 217, 214, 209, 170, 162, 149, 164, 156, 143, 153, 145, 132, 132, 123, 108, 136, 126, 107, 152, 142, 127, 168, 157, 148, 170, 158, 153, 186, 173, 160, 226, 206, 183, 223, 202, 179, 232, 223, 210, 252, 249, 242, 203, 195, 186, 139, 127, 111, 160, 143, 119, 174, 158, 134, 193, 184, 173, 247, 242, 244, 255, 254, 255, 253, 255, 251, 255, 255, 254, 255, 255, 255, 255, 255, 255, 255, 255, 255, 254, 254, 254, 255, 255, 255, 255, 255, 255, 255, 255, 255, 254, 254, 254, 253, 253, 253, 253, 252, 250, 245, 245, 239, 241, 240, 235, 232, 231, 226, 218, 217, 211, 224, 223, 214, 244, 243, 236, 251, 250, 247, 246, 243, 242, 215, 206, 196, 197, 179, 159, 186, 163, 139, 194, 173, 151, 225, 216, 204, 244, 240, 234, 228, 225, 218, 223, 221, 214, 228, 225, 217, 239, 235, 229, 252, 250, 251, 254, 254, 255, 254, 255, 252, 255, 255, 254, 255, 255, 255, 255, 255, 255, 255, 255, 255, 255, 255, 255, 255, 255, 255, 255, 255, 255, 255, 255, 255, 255, 255, 255, 255, 255, 255, 255, 255, 255, 255, 255, 255, 255, 255, 255, 255, 255, 255, 255, 255, 255, 255, 255, 255, 255, 255, 255, 255, 255, 255, 255, 255, 255, 247, 245, 237, 202, 194, 182, 189, 176, 160, 199, 184, 166, 223, 215, 205, 255, 255, 254, 255, 255, 255, 255, 255, 255, 255, 255, 255, 255, 255, 255, 255, 255, 255, 255, 255, 255, 255, 255, 255, 255, 255, 255, 255, 255, 255, 255, 255, 255], \"height\": 32, \"channels\": 3, \"width\": 32, \"type\": \"image\", \"id\": 139863839875600}, {\"format\": \"raw\", \"value\": [164, 141, 159, 163, 140, 158, 168, 145, 163, 181, 157, 175, 195, 172, 192, 199, 177, 196, 192, 169, 184, 180, 158, 171, 173, 149, 165, 171, 146, 166, 171, 147, 166, 171, 148, 166, 173, 150, 168, 178, 155, 173, 183, 160, 178, 186, 163, 181, 186, 163, 181, 185, 162, 180, 182, 159, 177, 181, 158, 176, 182, 159, 177, 182, 160, 179, 184, 163, 181, 185, 164, 183, 184, 164, 182, 181, 161, 179, 180, 160, 176, 180, 160, 176, 179, 158, 176, 180, 159, 178, 180, 158, 178, 179, 156, 176, 162, 139, 157, 163, 140, 158, 172, 149, 167, 188, 165, 183, 199, 176, 193, 198, 174, 188, 187, 162, 174, 174, 151, 163, 168, 147, 164, 165, 147, 167, 168, 146, 165, 171, 148, 166, 174, 151, 169, 180, 157, 175, 185, 162, 180, 186, 163, 181, 184, 161, 179, 183, 160, 178, 181, 158, 176, 181, 158, 176, 181, 159, 176, 182, 161, 177, 184, 163, 180, 186, 164, 181, 185, 162, 179, 181, 157, 175, 181, 158, 176, 179, 158, 177, 179, 157, 176, 180, 157, 177, 180, 157, 176, 178, 155, 174, 163, 140, 158, 166, 143, 161, 180, 157, 175, 195, 172, 191, 197, 169, 182, 162, 128, 134, 160, 124, 131, 177, 142, 153, 173, 147, 163, 166, 148, 167, 168, 147, 165, 173, 150, 168, 178, 155, 173, 183, 160, 178, 186, 163, 181, 184, 161, 179, 184, 161, 179, 183, 160, 178, 182, 159, 177, 182, 159, 177, 182, 159, 177, 183, 163, 178, 185, 164, 179, 188, 164, 181, 186, 159, 176, 188, 159, 177, 191, 159, 175, 183, 151, 166, 183, 153, 169, 184, 157, 175, 181, 157, 175, 178, 155, 174, 163, 140, 158, 171, 148, 166, 187, 164, 182, 201, 178, 197, 187, 153, 163, 121, 71, 70, 119, 67, 69, 144, 95, 103, 168, 132, 146, 170, 146, 165, 170, 148, 166, 175, 152, 170, 180, 157, 175, 184, 161, 179, 185, 162, 180, 184, 161, 179, 185, 162, 180, 182, 159, 177, 180, 157, 175, 182, 159, 177, 183, 161, 178, 182, 163, 176, 185, 165, 178, 188, 163, 178, 188, 159, 176, 186, 154, 171, 166, 123, 133, 138, 90, 97, 159, 119, 129, 188, 156, 170, 180, 156, 174, 178, 156, 175, 167, 144, 162, 179, 157, 175, 195, 172, 190, 201, 179, 197, 182, 147, 156, 127, 70, 69, 129, 65, 66, 120, 61, 65, 127, 82, 90, 164, 129, 141, 175, 150, 166, 177, 155, 173, 181, 160, 178, 184, 162, 180, 185, 162, 178, 185, 162, 177, 183, 161, 177, 181, 158, 174, 180, 158, 174, 182, 159, 175, 183, 161, 177, 184, 163, 178, 187, 167, 179, 187, 163, 174, 175, 141, 152, 144, 100, 111, 124, 70, 76, 121, 65, 66, 146, 100, 104, 185, 154, 166, 179, 157, 175, 178, 157, 176, 173, 150, 168, 189, 166, 184, 200, 177, 195, 197, 175, 193, 178, 145, 155, 131, 75, 76, 137, 69, 71, 124, 63, 63, 103, 53, 54, 121, 74, 80, 169, 136, 149, 182, 159, 176, 183, 162, 181, 184, 163, 180, 185, 163, 177, 185, 162, 175, 180, 158, 171, 179, 157, 170, 181, 159, 172, 182, 160, 173, 184, 162, 176, 187, 164, 181, 191, 167, 181, 165, 134, 143, 121, 77, 82, 118, 60, 64, 132, 72, 76, 138, 79, 78, 154, 106, 106, 182, 156, 167, 176, 159, 177, 179, 158, 175, 181, 158, 176, 197, 174, 192, 200, 177, 195, 190, 167, 186, 175, 142, 151, 139, 83, 83, 145, 76, 77, 134, 71, 70, 111, 57, 58, 99, 46, 51, 133, 91, 100, 185, 153, 166, 189, 162, 179, 185, 162, 179, 185, 163, 177, 184, 161, 174, 180, 158, 171, 180, 158, 171, 182, 160, 173, 183, 161, 174, 185, 163, 176, 189, 165, 177, 173, 137, 150, 124, 75, 86, 109, 54, 60, 120, 65, 67, 143, 85, 86, 145, 87, 85, 160, 114, 114, 181, 157, 169, 175, 158, 176, 182, 159, 175, 189, 166, 184, 200, 178, 196, 195, 172, 190, 182, 159, 178, 169, 136, 144, 140, 83, 81, 144, 74, 73, 141, 74, 73, 126, 67, 68, 112, 52, 58, 111, 57, 61, 162, 117, 125, 195, 161, 174, 188, 162, 177, 185, 162, 176, 183, 161, 174, 182, 159, 172, 181, 159, 172, 183, 161, 174, 183, 162, 175, 187, 164, 176, 178, 146, 155, 122, 73, 83, 113, 52, 61, 129, 65, 70, 133, 77, 76, 153, 95, 93, 151, 92, 89, 161, 118, 120, 180, 158, 172, 175, 158, 176, 184, 159, 174, 197, 174, 192, 200, 177, 195, 189, 166, 184, 176, 154, 172, 165, 132, 140, 134, 77, 73, 138, 66, 64, 137, 66, 64, 126, 63, 64, 125, 58, 63, 120, 54, 54, 121, 65, 68, 177, 136, 146, 190, 162, 176, 183, 162, 175, 182, 161, 174, 182, 160, 174, 181, 160, 173, 184, 162, 176, 185, 164, 178, 188, 161, 173, 146, 98, 105, 110, 53, 59, 126, 65, 69, 133, 70, 71, 139, 75, 75, 151, 87, 85, 147, 88, 84, 166, 124, 128, 179, 160, 176, 178, 160, 178, 187, 161, 175, 201, 178, 196, 195, 172, 190, 181, 158, 176, 171, 148, 167, 168, 136, 144, 138, 82, 78, 132, 58, 56, 130, 57, 55, 114, 49, 50, 119, 50, 56, 125, 53, 51, 109, 46, 44, 158, 110, 115, 192, 159, 168, 185, 160, 171, 185, 161, 171, 186, 161, 170, 188, 163, 174, 189, 164, 176, 190, 167, 178, 180, 145, 155, 131, 68, 75, 122, 59, 62, 122, 65, 65, 120, 60, 59, 136, 65, 65, 142, 72, 69, 136, 78, 74, 170, 131, 137, 181, 161, 179, 180, 161, 179, 190, 163, 177, 200, 177, 195, 187, 164, 182, 175, 152, 170, 169, 146, 165, 171, 143, 152, 144, 94, 91, 127, 53, 52, 122, 45, 45, 109, 45, 49, 103, 41, 51, 117, 53, 51, 145, 80, 72, 185, 121, 113, 197, 138, 133, 191, 138, 136, 186, 132, 128, 182, 128, 121, 184, 134, 131, 187, 139, 137, 192, 141, 138, 184, 127, 121, 148, 81, 76, 120, 56, 56, 114, 53, 57, 118, 53, 55, 126, 54, 51, 131, 58, 51, 141, 88, 86, 177, 147, 158, 182, 159, 181, 183, 160, 180, 187, 164, 179, 196, 173, 191, 179, 156, 174, 171, 148, 166, 168, 146, 164, 172, 145, 155, 148, 101, 102, 121, 48, 50, 119, 42, 42, 103, 36, 40, 95, 31, 40, 127, 63, 61, 176, 110, 99, 191, 120, 107, 196, 123, 110, 195, 124, 111, 186, 109, 97, 175, 92, 82, 172, 94, 86, 179, 103, 94, 188, 109, 97, 189, 112, 97, 170, 103, 91, 129, 66, 63, 108, 43, 47, 114, 45, 49, 118, 45, 43, 121, 51, 45, 155, 108, 108, 185, 160, 172, 182, 157, 179, 186, 161, 180, 187, 166, 181, 188, 165, 183, 173, 150, 168, 169, 146, 164, 168, 145, 163, 172, 147, 159, 157, 114, 120, 118, 49, 55, 114, 41, 42, 103, 36, 36, 119, 51, 51, 158, 91, 85, 182, 113, 103, 182, 109, 96, 186, 109, 93, 191, 111, 93, 185, 97, 81, 166, 73, 60, 169, 79, 65, 178, 92, 75, 185, 100, 81, 185, 105, 85, 178, 113, 98, 155, 92, 85, 114, 47, 47, 109, 39, 41, 112, 41, 41, 112, 50, 50, 164, 125, 129, 185, 162, 174, 181, 157, 177, 188, 163, 180, 187, 167, 181, 179, 156, 174, 168, 145, 163, 168, 145, 163, 169, 146, 164, 171, 149, 162, 170, 136, 144, 134, 76, 84, 104, 40, 42, 116, 53, 46, 164, 95, 86, 184, 111, 101, 172, 99, 89, 168, 94, 83, 176, 98, 83, 184, 101, 83, 169, 83, 64, 147, 61, 42, 151, 67, 45, 167, 87, 64, 175, 101, 79, 172, 103, 83, 173, 106, 91, 177, 108, 99, 148, 79, 75, 110, 43, 42, 105, 42, 42, 129, 78, 83, 180, 149, 158, 180, 161, 173, 183, 159, 177, 190, 165, 180, 187, 167, 180, 172, 149, 167, 167, 145, 162, 168, 145, 163, 169, 146, 164, 170, 152, 165, 180, 157, 165, 182, 135, 144, 130, 76, 75, 145, 88, 76, 190, 123, 105, 186, 109, 94, 171, 96, 86, 161, 89, 81, 156, 83, 73, 167, 89, 75, 154, 73, 55, 139, 57, 35, 141, 60, 37, 155, 77, 58, 164, 95, 82, 157, 92, 82, 166, 94, 81, 177, 101, 90, 177, 104, 98, 128, 64, 61, 128, 75, 73, 178, 136, 144, 185, 160, 173, 178, 161, 173, 185, 161, 177, 191, 165, 179, 188, 168, 180, 169, 146, 162, 167, 145, 160, 168, 146, 161, 171, 148, 164, 173, 155, 168, 180, 162, 172, 194, 163, 173, 187, 145, 148, 188, 134, 126, 195, 127, 111, 181, 106, 93, 156, 90, 87, 109, 54, 58, 88, 31, 35, 125, 59, 54, 136, 62, 51, 125, 48, 33, 128, 49, 33, 140, 66, 54, 132, 69, 68, 100, 46, 51, 134, 74, 75, 172, 97, 90, 185, 111, 104, 164, 107, 107, 177, 137, 141, 196, 165, 177, 183, 160, 176, 179, 159, 175, 186, 162, 179, 191, 167, 183, 189, 167, 182, 167, 145, 158, 166, 144, 157, 170, 148, 161, 176, 154, 167, 181, 160, 172, 185, 166, 178, 189, 166, 180, 197, 164, 174, 206, 154, 153, 197, 131, 121, 154, 90, 85, 99, 51, 59, 60, 27, 46, 54, 20, 38, 81, 35, 41, 106, 46, 45, 112, 45, 40, 108, 41, 34, 105, 47, 44, 84, 40, 48, 52, 22, 39, 72, 39, 52, 128, 73, 71, 172, 111, 105, 188, 146, 150, 190, 166, 175, 186, 165, 180, 182, 159, 177, 182, 159, 177, 186, 163, 181, 191, 168, 186, 189, 166, 183, 168, 146, 159, 168, 146, 159, 174, 152, 165, 181, 159, 172, 185, 163, 176, 187, 166, 180, 189, 166, 182, 193, 163, 174, 205, 158, 159, 200, 140, 134, 143, 86, 86, 87, 44, 54, 63, 34, 53, 58, 33, 52, 62, 32, 42, 87, 36, 40, 113, 48, 47, 103, 43, 42, 79, 33, 36, 59, 31, 41, 50, 34, 51, 61, 38, 55, 94, 52, 55, 156, 112, 111, 187, 159, 166, 184, 169, 180, 184, 165, 181, 182, 159, 177, 183, 160, 178, 187, 164, 182, 191, 168, 186, 189, 166, 183, 169, 147, 160, 171, 149, 162, 179, 157, 170, 185, 163, 176, 187, 164, 178, 188, 166, 181, 187, 165, 183, 189, 162, 176, 198, 158, 163, 199, 146, 142, 174, 114, 109, 115, 62, 63, 74, 32, 39, 66, 31, 39, 68, 32, 39, 103, 48, 50, 135, 65, 64, 124, 62, 60, 90, 41, 41, 64, 29, 33, 59, 32, 43, 73, 36, 53, 120, 70, 76, 173, 127, 131, 189, 159, 173, 189, 166, 184, 185, 162, 180, 181, 158, 176, 183, 160, 178, 188, 165, 183, 192, 169, 187, 189, 166, 184, 169, 147, 160, 175, 153, 166, 183, 161, 173, 187, 166, 178, 190, 166, 180, 189, 165, 181, 185, 164, 183, 185, 161, 178, 195, 161, 169, 203, 156, 154, 194, 135, 126, 164, 104, 96, 116, 59, 57, 88, 36, 38, 87, 38, 45, 113, 58, 65, 128, 66, 71, 124, 66, 70, 109, 56, 60, 85, 37, 41, 87, 39, 44, 119, 62, 68, 169, 107, 104, 191, 142, 142, 190, 161, 174, 190, 165, 185, 184, 160, 179, 180, 158, 176, 184, 160, 179, 189, 166, 184, 192, 169, 187, 188, 165, 184, 174, 151, 165, 180, 158, 172, 186, 164, 178, 190, 168, 182, 191, 167, 181, 187, 162, 179, 185, 163, 183, 184, 162, 180, 191, 160, 170, 204, 163, 163, 197, 144, 138, 192, 137, 130, 157, 102, 101, 104, 51, 58, 92, 42, 56, 105, 57, 74, 114, 67, 85, 115, 69, 86, 109, 62, 76, 97, 47, 58, 122, 68, 74, 169, 109, 106, 188, 128, 116, 194, 151, 145, 187, 166, 176, 184, 167, 184, 181, 160, 177, 180, 157, 175, 185, 162, 180, 190, 167, 185, 191, 168, 186, 187, 164, 183, 178, 155, 173, 184, 161, 178, 189, 166, 183, 191, 168, 185, 189, 166, 181, 186, 162, 177, 185, 162, 182, 186, 161, 182, 189, 158, 169, 200, 162, 163, 199, 151, 148, 196, 149, 148, 151, 107, 114, 102, 59, 72, 101, 57, 73, 102, 59, 78, 104, 63, 86, 109, 69, 92, 107, 67, 87, 101, 57, 72, 125, 78, 87, 175, 127, 129, 187, 136, 131, 192, 152, 153, 187, 166, 180, 183, 166, 183, 180, 158, 175, 180, 157, 175, 185, 162, 180, 191, 168, 186, 191, 168, 186, 186, 163, 181, 184, 160, 179, 189, 166, 184, 191, 168, 186, 190, 167, 185, 186, 163, 178, 185, 161, 176, 185, 162, 182, 183, 159, 179, 188, 158, 171, 195, 158, 162, 196, 148, 148, 184, 137, 141, 127, 85, 97, 92, 50, 68, 112, 69, 89, 85, 44, 62, 71, 34, 51, 70, 36, 55, 81, 46, 66, 105, 66, 83, 111, 68, 81, 165, 120, 123, 189, 137, 134, 182, 140, 144, 187, 164, 179, 184, 163, 181, 179, 156, 173, 180, 157, 175, 186, 163, 181, 191, 168, 186, 190, 167, 185, 185, 162, 180, 188, 165, 183, 191, 168, 186, 190, 167, 185, 186, 163, 182, 185, 162, 178, 186, 162, 178, 184, 161, 179, 182, 160, 178, 188, 161, 176, 188, 155, 163, 189, 142, 145, 176, 129, 136, 124, 82, 96, 104, 62, 83, 122, 78, 101, 92, 53, 69, 74, 42, 54, 71, 40, 57, 92, 60, 78, 114, 77, 96, 109, 66, 83, 165, 116, 119, 193, 137, 133, 141, 96, 99, 153, 126, 140, 185, 162, 178, 178, 154, 171, 180, 157, 175, 188, 165, 183, 191, 168, 186, 188, 165, 183, 184, 161, 179, 193, 169, 188, 190, 167, 185, 188, 165, 183, 185, 162, 180, 187, 162, 180, 187, 162, 179, 183, 162, 178, 183, 164, 180, 188, 165, 181, 185, 155, 169, 185, 139, 143, 185, 138, 143, 134, 92, 105, 114, 72, 91, 119, 76, 97, 90, 50, 68, 72, 37, 52, 72, 39, 56, 97, 63, 82, 121, 83, 101, 123, 80, 94, 170, 117, 120, 183, 124, 120, 123, 75, 77, 87, 57, 71, 160, 135, 151, 181, 156, 172, 181, 158, 176, 189, 166, 184, 191, 168, 186, 186, 163, 181, 182, 159, 177, 191, 168, 186, 187, 164, 182, 186, 163, 181, 184, 162, 180, 187, 162, 180, 187, 161, 178, 184, 163, 178, 184, 165, 180, 186, 165, 182, 187, 160, 176, 187, 142, 143, 187, 140, 141, 169, 127, 136, 137, 96, 110, 122, 80, 96, 103, 60, 79, 86, 46, 67, 91, 53, 75, 109, 70, 90, 129, 87, 102, 157, 110, 120, 178, 122, 124, 168, 106, 102, 151, 101, 102, 117, 84, 97, 120, 92, 107, 178, 153, 169, 184, 161, 179, 190, 167, 185, 189, 166, 184, 184, 161, 179, 180, 157, 175, 188, 165, 183, 185, 162, 180, 185, 162, 180, 185, 162, 180, 184, 161, 180, 185, 162, 180, 186, 164, 181, 187, 164, 180, 184, 162, 180, 184, 157, 173, 178, 132, 131, 190, 139, 137, 192, 146, 151, 186, 143, 151, 170, 129, 138, 146, 103, 114, 130, 84, 99, 137, 93, 109, 159, 116, 131, 164, 122, 136, 176, 129, 139, 180, 120, 120, 169, 103, 101, 158, 101, 104, 174, 131, 141, 161, 128, 140, 177, 150, 163, 186, 163, 178, 191, 168, 186, 187, 163, 183, 185, 158, 176, 183, 155, 174, 187, 164, 182, 184, 161, 179, 185, 162, 180, 184, 161, 179, 183, 161, 179, 184, 163, 182, 184, 162, 179, 183, 159, 175, 185, 162, 178, 184, 156, 169, 165, 114, 114, 187, 131, 132, 195, 145, 152, 187, 143, 152, 176, 138, 145, 160, 119, 128, 156, 111, 122, 157, 111, 123, 169, 122, 133, 171, 124, 136, 179, 128, 136, 173, 108, 106, 149, 80, 79, 163, 100, 102, 182, 129, 132, 182, 139, 142, 185, 153, 160, 189, 163, 176, 189, 166, 185, 184, 161, 182, 183, 156, 176, 182, 155, 175, 185, 162, 180, 182, 159, 177, 182, 159, 177, 184, 161, 179, 184, 161, 179, 182, 160, 178, 181, 160, 178, 184, 161, 178, 187, 162, 176, 197, 163, 174, 169, 113, 117, 166, 106, 112, 187, 135, 146, 178, 134, 147, 175, 137, 148, 161, 123, 136, 154, 112, 128, 154, 108, 122, 154, 104, 114, 165, 110, 118, 171, 112, 115, 146, 80, 78, 136, 68, 65, 176, 111, 108, 191, 131, 127, 185, 131, 125, 185, 143, 144, 193, 162, 173, 190, 164, 182, 181, 159, 180, 177, 156, 178, 178, 155, 176, 182, 159, 177, 182, 159, 177, 183, 160, 178, 183, 160, 178, 183, 160, 177, 181, 159, 176, 180, 160, 179, 184, 162, 180, 189, 160, 173, 203, 164, 170, 192, 134, 137, 141, 81, 88, 152, 98, 110, 167, 120, 134, 168, 126, 139, 156, 115, 130, 150, 106, 124, 147, 99, 112, 146, 92, 101, 149, 90, 95, 134, 71, 72, 130, 62, 59, 160, 94, 89, 186, 123, 115, 193, 131, 121, 195, 134, 123, 186, 134, 129, 189, 147, 152, 190, 158, 170, 181, 157, 175, 174, 155, 175, 175, 155, 175, 182, 159, 177, 183, 160, 178, 183, 160, 178, 181, 158, 177, 183, 159, 176, 182, 159, 177, 178, 159, 179, 181, 161, 179, 191, 160, 171, 201, 160, 161, 208, 155, 152, 174, 118, 120, 130, 75, 84, 116, 65, 77, 115, 65, 77, 117, 69, 82, 112, 63, 79, 104, 51, 64, 106, 48, 57, 115, 54, 60, 129, 63, 66, 152, 82, 78, 179, 115, 106, 187, 129, 120, 189, 133, 122, 193, 134, 125, 190, 129, 120, 188, 132, 130, 182, 140, 146, 180, 151, 164, 175, 154, 170, 174, 153, 172, 182, 159, 177, 181, 158, 176, 181, 158, 176, 181, 158, 176, 182, 158, 177, 183, 158, 177, 182, 160, 180, 183, 161, 180, 189, 157, 168, 202, 157, 156, 208, 158, 152, 204, 153, 151, 183, 133, 137, 144, 93, 102, 117, 66, 76, 105, 54, 65, 99, 48, 61, 105, 53, 65, 126, 70, 79, 154, 95, 100, 165, 100, 102, 165, 98, 93, 180, 117, 110, 184, 128, 120, 187, 133, 126, 187, 131, 125, 191, 129, 120, 192, 130, 122, 179, 128, 127, 177, 138, 146, 179, 153, 167, 172, 151, 169], \"height\": 32, \"channels\": 3, \"width\": 32, \"type\": \"image\", \"id\": 139863129604368}, {\"format\": \"raw\", \"value\": [242, 241, 243, 233, 234, 236, 236, 237, 239, 219, 220, 222, 182, 183, 185, 231, 232, 234, 236, 237, 239, 237, 238, 240, 224, 225, 227, 214, 215, 216, 237, 237, 237, 237, 237, 237, 238, 238, 238, 238, 238, 238, 237, 237, 237, 236, 236, 236, 236, 237, 238, 237, 237, 239, 236, 236, 238, 237, 236, 238, 237, 237, 239, 236, 236, 238, 237, 237, 238, 238, 238, 238, 237, 238, 237, 237, 239, 238, 237, 240, 240, 184, 183, 187, 146, 134, 139, 209, 212, 213, 234, 234, 236, 194, 195, 195, 236, 237, 239, 229, 231, 233, 230, 231, 233, 236, 237, 239, 190, 191, 193, 199, 200, 201, 233, 234, 236, 229, 230, 233, 216, 217, 222, 224, 225, 229, 235, 235, 235, 234, 234, 234, 235, 235, 235, 235, 235, 235, 234, 234, 234, 233, 233, 233, 233, 232, 234, 233, 233, 235, 237, 239, 240, 235, 235, 237, 233, 233, 235, 234, 234, 236, 234, 235, 236, 235, 235, 235, 233, 234, 234, 233, 235, 234, 231, 234, 234, 195, 201, 203, 200, 199, 201, 190, 194, 195, 173, 172, 174, 210, 211, 211, 221, 224, 228, 227, 232, 234, 233, 234, 236, 237, 237, 239, 220, 221, 223, 180, 182, 180, 225, 226, 227, 221, 224, 231, 209, 213, 218, 232, 233, 234, 236, 236, 236, 237, 237, 237, 237, 237, 237, 237, 237, 237, 237, 237, 237, 235, 235, 235, 238, 237, 238, 228, 224, 226, 205, 200, 203, 221, 220, 223, 238, 238, 240, 235, 235, 237, 236, 236, 238, 236, 237, 239, 235, 236, 238, 236, 237, 238, 227, 230, 232, 169, 169, 175, 176, 173, 176, 175, 177, 176, 155, 153, 154, 204, 202, 204, 163, 163, 168, 215, 220, 221, 233, 235, 236, 234, 233, 236, 237, 238, 240, 204, 206, 206, 179, 180, 182, 199, 203, 209, 212, 218, 220, 235, 237, 233, 235, 235, 235, 237, 237, 237, 237, 237, 237, 237, 237, 237, 237, 237, 237, 237, 239, 238, 223, 223, 221, 138, 116, 121, 96, 76, 83, 134, 127, 132, 201, 202, 204, 243, 243, 245, 236, 237, 239, 236, 237, 239, 236, 237, 239, 237, 237, 239, 220, 224, 228, 166, 167, 175, 152, 148, 150, 207, 213, 213, 180, 185, 187, 138, 134, 138, 146, 150, 156, 187, 192, 196, 233, 235, 238, 233, 234, 237, 233, 234, 237, 234, 234, 237, 170, 171, 174, 135, 139, 139, 216, 222, 219, 237, 238, 236, 234, 235, 234, 236, 236, 236, 236, 237, 238, 237, 237, 238, 237, 237, 238, 236, 237, 236, 158, 142, 142, 79, 56, 58, 58, 50, 52, 53, 46, 49, 124, 119, 121, 211, 209, 212, 237, 236, 239, 236, 236, 239, 236, 236, 239, 234, 236, 238, 220, 221, 225, 170, 166, 173, 196, 201, 202, 189, 193, 197, 159, 159, 163, 191, 194, 196, 209, 212, 222, 197, 200, 210, 211, 214, 219, 227, 231, 235, 234, 235, 240, 238, 239, 241, 214, 215, 216, 151, 153, 155, 225, 227, 226, 238, 240, 240, 236, 239, 238, 235, 237, 237, 232, 233, 238, 226, 228, 231, 232, 237, 238, 218, 214, 214, 130, 110, 110, 119, 106, 107, 122, 119, 121, 94, 83, 83, 93, 83, 83, 164, 162, 166, 216, 217, 222, 221, 224, 228, 220, 223, 226, 215, 220, 223, 180, 179, 185, 151, 144, 149, 216, 219, 222, 153, 149, 157, 202, 199, 203, 241, 243, 245, 227, 230, 240, 222, 226, 228, 211, 214, 218, 208, 215, 219, 218, 223, 228, 236, 238, 239, 220, 221, 221, 160, 163, 168, 209, 215, 216, 225, 231, 233, 220, 226, 229, 218, 224, 226, 210, 216, 220, 197, 203, 207, 214, 221, 225, 186, 176, 176, 131, 111, 108, 141, 128, 129, 173, 166, 168, 112, 110, 112, 69, 69, 69, 213, 217, 219, 223, 230, 232, 227, 234, 233, 229, 233, 232, 209, 211, 211, 157, 156, 160, 189, 186, 191, 153, 150, 160, 182, 182, 189, 242, 243, 245, 236, 236, 238, 232, 234, 239, 230, 233, 233, 231, 233, 235, 220, 227, 230, 205, 212, 215, 222, 226, 228, 220, 221, 223, 149, 152, 155, 195, 201, 203, 213, 218, 220, 211, 215, 217, 219, 224, 226, 223, 228, 230, 226, 233, 233, 217, 216, 218, 155, 137, 133, 122, 98, 91, 128, 105, 101, 119, 98, 100, 94, 80, 86, 115, 112, 114, 224, 224, 227, 238, 239, 241, 241, 241, 241, 208, 208, 207, 155, 156, 155, 189, 191, 195, 152, 149, 158, 170, 168, 174, 201, 204, 210, 211, 216, 220, 235, 237, 239, 227, 228, 230, 233, 234, 236, 232, 233, 235, 234, 237, 239, 226, 230, 234, 209, 214, 217, 201, 203, 207, 179, 181, 180, 232, 235, 236, 235, 234, 236, 235, 235, 235, 238, 238, 238, 240, 239, 240, 232, 231, 232, 157, 142, 138, 118, 94, 88, 125, 100, 93, 90, 68, 66, 75, 45, 46, 100, 66, 68, 146, 134, 136, 189, 187, 190, 234, 234, 236, 242, 242, 244, 185, 184, 185, 172, 174, 175, 183, 189, 192, 166, 168, 173, 234, 240, 242, 212, 214, 220, 172, 179, 186, 229, 235, 235, 235, 236, 238, 233, 234, 236, 233, 234, 236, 232, 233, 235, 236, 236, 237, 228, 231, 233, 161, 163, 167, 164, 166, 166, 236, 240, 240, 235, 235, 236, 236, 236, 236, 235, 234, 235, 239, 240, 239, 186, 171, 171, 107, 81, 79, 112, 88, 83, 103, 82, 76, 95, 77, 76, 136, 117, 114, 144, 121, 120, 110, 98, 102, 139, 137, 140, 216, 216, 218, 220, 220, 222, 184, 184, 185, 208, 208, 210, 154, 155, 160, 212, 214, 219, 200, 205, 208, 223, 225, 232, 196, 203, 210, 217, 226, 225, 240, 241, 243, 232, 233, 235, 232, 233, 235, 233, 234, 235, 234, 234, 234, 238, 241, 241, 174, 177, 180, 163, 166, 166, 237, 241, 241, 235, 234, 236, 236, 236, 235, 238, 238, 240, 223, 220, 221, 136, 114, 108, 96, 75, 72, 108, 82, 75, 104, 79, 75, 123, 100, 98, 129, 104, 103, 99, 77, 81, 81, 72, 77, 136, 132, 135, 202, 202, 203, 186, 182, 184, 211, 213, 213, 186, 185, 188, 175, 176, 180, 231, 232, 237, 176, 181, 185, 222, 224, 228, 229, 233, 237, 224, 230, 231, 239, 240, 242, 231, 232, 234, 232, 233, 235, 233, 234, 236, 233, 233, 236, 235, 238, 239, 198, 199, 202, 171, 173, 174, 235, 238, 238, 235, 234, 236, 236, 236, 236, 243, 243, 243, 190, 182, 186, 114, 99, 102, 101, 88, 87, 97, 75, 71, 92, 65, 63, 90, 60, 55, 86, 52, 52, 53, 35, 39, 96, 91, 94, 148, 139, 142, 180, 180, 181, 196, 194, 193, 214, 218, 216, 133, 127, 131, 195, 196, 200, 233, 236, 239, 182, 186, 191, 219, 221, 223, 237, 238, 240, 236, 237, 239, 238, 239, 241, 231, 232, 234, 232, 233, 235, 233, 234, 236, 232, 233, 236, 237, 239, 240, 197, 195, 199, 153, 152, 154, 224, 227, 228, 237, 237, 239, 235, 235, 235, 239, 238, 238, 168, 159, 160, 115, 100, 103, 121, 102, 97, 112, 89, 83, 110, 84, 79, 105, 77, 68, 90, 66, 65, 94, 85, 90, 132, 123, 129, 150, 138, 142, 154, 148, 151, 171, 167, 167, 136, 134, 135, 123, 120, 123, 185, 187, 190, 190, 191, 194, 156, 154, 162, 173, 173, 176, 225, 226, 228, 237, 238, 240, 238, 239, 241, 231, 232, 234, 232, 233, 235, 233, 234, 236, 232, 233, 235, 239, 240, 242, 198, 194, 199, 157, 157, 159, 227, 229, 232, 234, 234, 238, 233, 233, 236, 227, 224, 225, 152, 141, 140, 110, 93, 90, 108, 82, 78, 123, 97, 89, 101, 77, 73, 88, 69, 68, 96, 85, 90, 147, 140, 147, 152, 144, 151, 161, 154, 156, 133, 123, 124, 112, 102, 103, 144, 140, 141, 225, 228, 229, 223, 227, 229, 207, 209, 214, 177, 176, 186, 148, 152, 154, 167, 172, 172, 193, 197, 198, 238, 239, 241, 231, 232, 234, 232, 233, 235, 233, 234, 236, 232, 233, 235, 237, 238, 241, 193, 191, 196, 177, 178, 179, 238, 239, 244, 227, 229, 234, 229, 232, 235, 210, 202, 204, 127, 112, 110, 91, 75, 69, 113, 84, 74, 96, 69, 63, 70, 54, 54, 94, 80, 82, 120, 108, 116, 129, 120, 127, 153, 147, 151, 154, 147, 149, 119, 113, 115, 136, 134, 136, 219, 220, 221, 239, 240, 242, 236, 237, 240, 228, 231, 236, 226, 230, 235, 226, 230, 231, 216, 220, 221, 154, 159, 159, 239, 239, 241, 231, 232, 234, 232, 233, 235, 232, 233, 235, 233, 234, 236, 235, 236, 239, 184, 182, 187, 184, 185, 186, 239, 240, 244, 223, 227, 231, 225, 229, 232, 176, 165, 167, 111, 97, 91, 106, 83, 76, 114, 83, 74, 87, 66, 62, 79, 70, 69, 108, 95, 97, 117, 102, 108, 112, 100, 104, 146, 136, 136, 119, 108, 112, 90, 82, 89, 182, 181, 186, 239, 240, 244, 233, 234, 236, 233, 234, 238, 222, 226, 229, 227, 230, 229, 235, 235, 237, 239, 240, 242, 200, 205, 206, 235, 234, 237, 233, 233, 236, 232, 233, 235, 232, 233, 235, 233, 234, 236, 231, 232, 236, 166, 163, 168, 191, 193, 192, 236, 238, 241, 220, 224, 230, 210, 210, 217, 141, 129, 127, 87, 73, 68, 92, 73, 68, 92, 71, 67, 82, 69, 66, 87, 78, 78, 103, 92, 93, 112, 100, 102, 94, 79, 82, 101, 90, 92, 143, 143, 146, 158, 157, 164, 216, 213, 221, 235, 234, 241, 234, 235, 239, 232, 235, 240, 220, 225, 230, 229, 231, 232, 235, 235, 237, 235, 236, 241, 208, 212, 217, 163, 159, 160, 236, 236, 238, 231, 233, 235, 232, 233, 235, 235, 237, 238, 231, 232, 238, 167, 164, 172, 193, 194, 195, 230, 232, 234, 217, 218, 225, 179, 173, 180, 114, 100, 101, 78, 65, 66, 67, 54, 55, 68, 56, 53, 80, 68, 68, 83, 74, 75, 97, 86, 88, 103, 90, 93, 74, 63, 64, 139, 137, 139, 210, 217, 223, 202, 208, 216, 203, 209, 215, 221, 225, 231, 232, 233, 238, 229, 232, 237, 217, 223, 227, 231, 232, 235, 234, 235, 238, 232, 233, 240, 175, 174, 181, 71, 62, 63, 193, 191, 192, 243, 244, 246, 236, 236, 239, 229, 229, 233, 210, 208, 218, 158, 153, 165, 183, 184, 186, 233, 236, 238, 214, 213, 220, 120, 108, 112, 71, 58, 62, 63, 53, 56, 62, 53, 53, 66, 59, 57, 70, 58, 61, 77, 65, 68, 86, 67, 72, 79, 62, 65, 82, 75, 76, 220, 222, 222, 237, 239, 242, 214, 216, 222, 213, 219, 225, 227, 231, 236, 234, 235, 240, 225, 228, 233, 216, 222, 226, 232, 234, 236, 233, 235, 238, 225, 225, 231, 147, 141, 146, 113, 104, 113, 125, 116, 122, 164, 158, 162, 174, 169, 179, 192, 189, 204, 193, 186, 201, 148, 141, 151, 165, 162, 169, 222, 221, 227, 179, 172, 175, 80, 65, 67, 65, 55, 56, 76, 65, 69, 73, 62, 66, 49, 44, 45, 69, 58, 61, 68, 57, 61, 67, 52, 57, 62, 43, 47, 101, 92, 100, 223, 223, 225, 237, 238, 239, 219, 222, 227, 220, 224, 229, 235, 236, 239, 234, 235, 240, 218, 221, 227, 214, 219, 224, 233, 234, 237, 236, 238, 243, 207, 211, 214, 150, 149, 150, 215, 210, 219, 161, 156, 161, 61, 51, 56, 125, 116, 123, 223, 225, 231, 234, 235, 240, 174, 170, 175, 172, 166, 178, 156, 147, 162, 100, 86, 88, 76, 68, 69, 126, 121, 125, 190, 186, 185, 172, 167, 171, 71, 66, 67, 77, 72, 73, 79, 72, 77, 60, 49, 55, 88, 67, 75, 157, 152, 157, 212, 219, 223, 225, 229, 233, 219, 225, 230, 220, 224, 228, 235, 236, 239, 234, 235, 240, 218, 221, 226, 215, 221, 226, 234, 235, 237, 238, 239, 244, 190, 189, 195, 164, 164, 170, 243, 245, 246, 219, 224, 224, 143, 141, 144, 93, 80, 85, 181, 179, 177, 238, 239, 241, 183, 184, 187, 196, 198, 199, 139, 133, 139, 112, 101, 103, 173, 170, 171, 203, 203, 211, 207, 207, 216, 214, 212, 221, 147, 142, 145, 166, 163, 166, 132, 125, 133, 108, 101, 110, 116, 105, 111, 197, 197, 198, 211, 218, 225, 210, 217, 223, 197, 203, 209, 202, 206, 211, 233, 235, 239, 233, 235, 240, 221, 224, 230, 218, 223, 228, 233, 235, 238, 233, 234, 239, 177, 172, 180, 188, 189, 199, 228, 230, 234, 212, 217, 219, 213, 215, 215, 134, 127, 134, 85, 80, 79, 190, 190, 191, 191, 193, 195, 156, 150, 153, 106, 101, 102, 178, 179, 184, 240, 240, 243, 233, 233, 237, 210, 208, 217, 193, 189, 202, 164, 157, 169, 125, 116, 124, 118, 111, 117, 167, 162, 170, 152, 146, 148, 220, 226, 227, 218, 223, 228, 227, 231, 237, 198, 202, 208, 197, 200, 207, 217, 220, 227, 223, 226, 233, 221, 225, 231, 221, 227, 231, 235, 237, 243, 217, 218, 222, 184, 182, 188, 210, 214, 223, 162, 160, 163, 209, 208, 212, 198, 200, 200, 208, 211, 218, 149, 147, 149, 111, 103, 106, 151, 146, 147, 102, 93, 94, 144, 145, 150, 204, 214, 220, 223, 227, 232, 227, 229, 233, 240, 239, 240, 220, 222, 228, 184, 182, 195, 104, 92, 100, 106, 99, 102, 156, 147, 148, 174, 169, 175, 210, 218, 225, 225, 227, 232, 235, 236, 240, 220, 222, 227, 217, 220, 228, 225, 228, 235, 216, 219, 226, 212, 216, 222, 223, 229, 233, 234, 235, 239, 201, 203, 203, 199, 203, 210, 214, 220, 229, 153, 151, 152, 133, 125, 129, 133, 128, 129, 183, 185, 190, 228, 228, 231, 125, 116, 120, 66, 57, 57, 123, 120, 121, 205, 208, 217, 213, 219, 225, 215, 220, 224, 215, 220, 226, 217, 220, 227, 215, 219, 226, 168, 168, 173, 88, 79, 87, 114, 103, 114, 128, 116, 120, 190, 190, 197, 213, 220, 228, 232, 232, 237, 234, 234, 237, 220, 222, 227, 219, 223, 229, 233, 235, 240, 227, 230, 236, 205, 210, 216, 220, 225, 230, 225, 227, 231, 197, 199, 200, 220, 225, 232, 216, 221, 230, 200, 201, 205, 168, 167, 170, 190, 192, 191, 148, 150, 151, 154, 149, 153, 111, 104, 108, 74, 68, 70, 79, 72, 73, 161, 156, 162, 226, 226, 230, 226, 229, 231, 208, 215, 222, 209, 214, 224, 190, 190, 198, 101, 98, 101, 171, 169, 172, 140, 133, 140, 141, 130, 133, 234, 236, 237, 231, 236, 236, 230, 232, 236, 235, 235, 240, 218, 222, 227, 220, 225, 229, 233, 234, 237, 231, 234, 238, 209, 216, 219, 211, 215, 220, 200, 203, 205, 207, 208, 213, 232, 233, 238, 219, 221, 230, 180, 181, 182, 195, 201, 202, 240, 245, 248, 210, 211, 213, 127, 121, 125, 128, 121, 124, 126, 121, 123, 106, 100, 102, 78, 70, 74, 179, 175, 175, 235, 238, 240, 211, 217, 223, 188, 190, 197, 113, 111, 116, 150, 150, 156, 239, 239, 246, 152, 146, 149, 162, 159, 162, 233, 237, 242, 225, 228, 232, 227, 229, 233, 233, 233, 238, 217, 221, 227, 219, 224, 228, 234, 235, 239, 204, 205, 206, 181, 184, 183, 189, 196, 198, 152, 154, 149, 226, 227, 231, 232, 234, 239, 222, 224, 233, 190, 195, 197, 214, 219, 222, 231, 231, 240, 168, 170, 170, 178, 179, 181, 201, 198, 201, 110, 105, 108, 111, 105, 111, 69, 59, 66, 68, 56, 60, 178, 176, 179, 218, 222, 227, 142, 140, 146, 91, 91, 93, 197, 202, 209, 217, 219, 227, 143, 137, 137, 191, 193, 195, 220, 223, 232, 219, 226, 232, 217, 222, 228, 226, 228, 236, 223, 226, 232, 227, 230, 234, 220, 224, 229, 182, 186, 191, 171, 174, 177, 178, 185, 187, 171, 172, 169, 235, 235, 240, 233, 234, 239, 224, 227, 235, 157, 158, 158, 220, 224, 227, 205, 210, 218, 144, 148, 146, 226, 227, 229, 201, 200, 205, 160, 157, 161, 184, 181, 187, 150, 146, 150, 52, 44, 49, 58, 48, 54, 134, 130, 134, 80, 75, 80, 161, 165, 169, 208, 215, 223, 193, 194, 200, 145, 140, 140, 210, 214, 218, 200, 203, 212, 211, 218, 223, 211, 216, 224, 218, 222, 232, 225, 228, 235, 232, 233, 238, 221, 226, 231, 213, 220, 227, 204, 209, 217, 185, 191, 195, 201, 203, 204, 236, 237, 243, 233, 234, 238, 227, 231, 237, 162, 158, 161, 166, 165, 167, 136, 137, 142, 177, 178, 183, 242, 243, 245, 198, 199, 204, 174, 176, 178, 237, 239, 243, 231, 234, 235, 177, 177, 179, 72, 65, 70, 26, 19, 23, 89, 85, 86, 206, 210, 217, 215, 221, 230, 171, 166, 173, 154, 149, 152, 209, 216, 224, 185, 190, 200, 190, 190, 202, 184, 181, 193, 201, 206, 215, 221, 227, 233, 231, 232, 237, 234, 234, 239, 229, 231, 235, 213, 218, 224, 186, 192, 196, 214, 216, 217, 235, 236, 242, 233, 234, 238, 226, 229, 236, 201, 200, 208, 119, 114, 116, 130, 129, 134, 166, 166, 170, 207, 208, 210, 186, 186, 191, 177, 178, 181, 232, 232, 237, 232, 232, 234, 229, 230, 234, 185, 187, 194, 64, 62, 66, 48, 44, 44, 171, 172, 172, 215, 220, 227, 142, 135, 143, 159, 156, 165, 182, 184, 191, 172, 172, 179, 179, 180, 190, 179, 179, 190, 193, 200, 208, 209, 217, 225, 221, 227, 235, 229, 230, 234, 228, 228, 232, 206, 212, 219, 175, 181, 181, 221, 223, 224, 231, 231, 235, 231, 232, 235, 222, 224, 231, 139, 137, 142, 101, 95, 97, 217, 220, 224, 204, 205, 207, 189, 190, 192, 162, 162, 167, 151, 150, 154, 182, 182, 186, 198, 199, 201, 183, 185, 187, 165, 168, 172, 171, 171, 178, 63, 60, 62, 91, 89, 87, 173, 172, 175, 128, 121, 127, 170, 169, 178, 154, 152, 158, 139, 133, 141, 157, 154, 163, 165, 166, 173, 175, 180, 186, 200, 206, 215, 217, 222, 230, 228, 233, 238, 215, 217, 221, 152, 147, 147, 150, 150, 149, 227, 232, 237, 234, 235, 237, 233, 234, 237, 228, 228, 236], \"height\": 32, \"channels\": 3, \"width\": 32, \"type\": \"image\", \"id\": 139863129604624}, {\"format\": \"raw\", \"value\": [215, 200, 191, 215, 204, 193, 219, 206, 193, 222, 208, 193, 224, 209, 194, 225, 209, 194, 226, 210, 195, 227, 211, 195, 227, 211, 195, 228, 212, 196, 230, 213, 197, 230, 213, 197, 230, 213, 197, 230, 213, 197, 230, 213, 197, 230, 214, 196, 230, 215, 196, 230, 214, 196, 230, 214, 195, 229, 213, 194, 229, 212, 194, 229, 212, 194, 229, 212, 194, 228, 211, 192, 230, 211, 193, 223, 200, 179, 221, 199, 180, 224, 206, 189, 221, 206, 189, 220, 203, 186, 215, 200, 183, 161, 143, 120, 206, 200, 193, 219, 204, 189, 219, 205, 194, 222, 207, 194, 224, 207, 193, 225, 207, 193, 226, 208, 194, 227, 210, 194, 228, 211, 195, 229, 212, 196, 229, 213, 197, 230, 214, 198, 230, 214, 198, 230, 213, 197, 231, 214, 198, 231, 214, 197, 231, 214, 196, 231, 214, 196, 231, 214, 196, 230, 213, 195, 229, 212, 194, 230, 213, 195, 229, 212, 194, 229, 211, 192, 230, 211, 193, 224, 199, 179, 222, 198, 181, 225, 206, 190, 222, 206, 190, 220, 203, 187, 218, 202, 185, 179, 160, 140, 132, 188, 219, 186, 199, 205, 218, 205, 193, 222, 206, 193, 225, 207, 193, 225, 207, 193, 227, 209, 194, 227, 210, 195, 228, 211, 195, 229, 211, 195, 234, 209, 195, 239, 213, 200, 233, 212, 197, 231, 214, 198, 231, 214, 198, 231, 214, 197, 231, 214, 196, 231, 214, 196, 231, 214, 196, 230, 213, 195, 230, 213, 195, 230, 213, 195, 229, 212, 194, 229, 210, 192, 231, 211, 193, 224, 199, 179, 222, 198, 181, 226, 206, 190, 223, 206, 190, 221, 203, 188, 221, 204, 188, 219, 198, 182, 76, 163, 215, 104, 178, 219, 193, 198, 201, 223, 205, 193, 226, 207, 194, 225, 208, 194, 228, 209, 195, 235, 213, 199, 233, 212, 198, 230, 205, 190, 232, 192, 178, 240, 202, 189, 234, 206, 192, 231, 214, 198, 231, 214, 198, 231, 214, 198, 231, 214, 198, 231, 214, 198, 231, 214, 197, 230, 213, 195, 230, 213, 194, 230, 212, 194, 230, 211, 194, 229, 210, 193, 231, 211, 194, 223, 200, 179, 222, 198, 180, 226, 206, 191, 222, 206, 190, 221, 203, 187, 222, 205, 188, 222, 202, 185, 80, 137, 188, 61, 151, 208, 148, 180, 199, 223, 205, 194, 226, 206, 194, 224, 207, 194, 231, 206, 196, 237, 207, 196, 242, 213, 201, 236, 203, 189, 229, 183, 169, 234, 187, 171, 230, 200, 184, 231, 215, 199, 231, 214, 198, 231, 214, 198, 231, 214, 198, 231, 214, 198, 231, 214, 198, 229, 212, 195, 230, 212, 194, 230, 211, 194, 229, 210, 193, 229, 210, 193, 231, 211, 194, 223, 200, 179, 221, 197, 180, 225, 204, 189, 222, 206, 190, 221, 203, 188, 222, 205, 187, 221, 201, 183, 50, 118, 170, 43, 117, 169, 150, 164, 180, 223, 205, 189, 221, 205, 192, 224, 202, 191, 225, 190, 181, 227, 187, 177, 237, 199, 188, 236, 196, 183, 233, 189, 173, 219, 172, 153, 223, 200, 183, 231, 214, 198, 231, 214, 198, 231, 214, 198, 231, 214, 198, 231, 214, 198, 230, 213, 198, 229, 212, 196, 229, 212, 194, 230, 211, 194, 229, 210, 193, 229, 210, 193, 230, 211, 193, 223, 200, 178, 221, 197, 179, 224, 203, 188, 222, 206, 190, 221, 203, 188, 222, 205, 188, 223, 203, 185, 65, 125, 170, 104, 121, 141, 198, 186, 183, 222, 206, 194, 222, 205, 195, 221, 196, 184, 209, 164, 152, 216, 170, 159, 230, 187, 177, 236, 191, 179, 229, 181, 165, 195, 145, 128, 218, 200, 186, 230, 213, 198, 231, 214, 199, 231, 214, 198, 230, 214, 198, 231, 214, 198, 230, 212, 198, 229, 212, 197, 229, 211, 195, 229, 210, 193, 229, 210, 193, 229, 210, 193, 230, 211, 193, 222, 199, 178, 221, 197, 180, 224, 204, 189, 223, 206, 190, 220, 202, 187, 220, 203, 185, 210, 191, 173, 113, 144, 171, 173, 134, 125, 202, 164, 159, 209, 172, 166, 212, 179, 170, 211, 179, 168, 197, 149, 138, 197, 148, 135, 228, 184, 172, 234, 184, 163, 226, 173, 146, 199, 135, 111, 217, 184, 160, 231, 201, 176, 234, 204, 182, 236, 208, 181, 235, 212, 194, 231, 214, 198, 231, 213, 197, 228, 212, 194, 228, 210, 195, 230, 210, 193, 229, 210, 192, 229, 210, 193, 230, 210, 193, 222, 198, 179, 220, 198, 180, 225, 205, 189, 224, 205, 189, 220, 203, 185, 217, 200, 184, 154, 136, 113, 109, 145, 183, 182, 79, 98, 192, 95, 106, 200, 92, 106, 204, 90, 104, 218, 146, 140, 210, 162, 143, 219, 174, 149, 229, 175, 138, 223, 156, 113, 232, 169, 126, 242, 182, 139, 242, 187, 148, 244, 192, 148, 241, 188, 145, 246, 195, 150, 246, 200, 165, 237, 210, 189, 230, 213, 197, 232, 214, 195, 230, 214, 199, 229, 213, 197, 232, 214, 195, 231, 213, 195, 229, 211, 192, 222, 197, 176, 220, 197, 179, 224, 205, 188, 223, 204, 187, 221, 203, 185, 218, 200, 184, 146, 127, 104, 95, 149, 185, 185, 87, 111, 211, 75, 99, 209, 81, 100, 214, 95, 112, 225, 156, 143, 239, 190, 156, 234, 178, 138, 222, 154, 105, 214, 142, 92, 225, 153, 104, 233, 164, 116, 241, 180, 132, 234, 172, 127, 229, 169, 122, 241, 185, 142, 248, 192, 147, 246, 200, 164, 230, 200, 174, 211, 196, 183, 211, 183, 159, 198, 163, 134, 201, 167, 141, 211, 185, 163, 232, 212, 194, 219, 198, 180, 218, 196, 179, 224, 205, 188, 223, 204, 188, 221, 203, 185, 217, 199, 183, 156, 135, 112, 99, 155, 192, 137, 153, 195, 177, 118, 152, 196, 96, 112, 221, 161, 140, 227, 171, 133, 233, 169, 131, 229, 163, 119, 221, 149, 98, 210, 131, 74, 211, 129, 68, 212, 132, 73, 217, 142, 81, 199, 126, 73, 217, 152, 98, 236, 175, 130, 238, 180, 135, 246, 188, 144, 230, 175, 130, 190, 146, 112, 168, 128, 96, 130, 83, 54, 147, 89, 55, 145, 91, 58, 175, 140, 115, 218, 195, 177, 217, 195, 179, 223, 204, 187, 223, 204, 187, 220, 201, 184, 220, 202, 186, 164, 140, 119, 75, 147, 191, 91, 175, 220, 110, 187, 226, 183, 151, 179, 193, 135, 110, 208, 146, 104, 226, 166, 125, 226, 157, 108, 210, 130, 75, 202, 116, 57, 207, 124, 65, 206, 127, 69, 188, 105, 51, 144, 74, 35, 208, 139, 90, 237, 177, 133, 230, 172, 130, 242, 181, 137, 233, 166, 115, 234, 171, 117, 210, 163, 123, 124, 94, 71, 99, 63, 41, 117, 67, 42, 107, 64, 34, 168, 140, 114, 219, 197, 181, 220, 201, 186, 222, 203, 186, 224, 206, 189, 190, 171, 153, 145, 118, 94, 85, 132, 163, 83, 159, 206, 125, 169, 216, 199, 154, 172, 144, 89, 66, 194, 136, 99, 223, 159, 113, 215, 138, 84, 199, 114, 58, 197, 112, 55, 210, 130, 70, 216, 139, 84, 178, 100, 54, 97, 42, 24, 165, 108, 70, 239, 184, 139, 247, 194, 152, 240, 181, 135, 228, 160, 105, 219, 161, 115, 162, 120, 92, 97, 66, 50, 58, 41, 30, 71, 46, 31, 119, 68, 45, 122, 77, 50, 187, 164, 147, 201, 181, 165, 176, 157, 140, 141, 127, 112, 105, 81, 62, 129, 87, 56, 56, 100, 139, 40, 121, 183, 190, 162, 195, 229, 166, 181, 144, 88, 63, 200, 141, 104, 207, 136, 85, 201, 118, 62, 186, 99, 45, 190, 103, 48, 213, 132, 73, 220, 146, 94, 198, 123, 73, 125, 65, 36, 137, 78, 47, 221, 163, 120, 239, 185, 143, 224, 163, 118, 206, 130, 78, 227, 167, 119, 185, 146, 113, 109, 77, 57, 83, 55, 41, 57, 39, 28, 86, 49, 31, 103, 58, 34, 136, 99, 75, 177, 135, 104, 126, 92, 67, 68, 47, 38, 110, 77, 58, 117, 73, 44, 73, 95, 122, 71, 95, 141, 170, 139, 172, 202, 141, 155, 159, 107, 73, 208, 144, 102, 194, 116, 66, 186, 101, 50, 178, 92, 42, 191, 104, 50, 210, 129, 72, 218, 147, 93, 212, 140, 90, 168, 98, 61, 140, 80, 50, 198, 140, 103, 218, 162, 120, 192, 128, 84, 184, 110, 61, 216, 153, 105, 213, 167, 131, 140, 103, 76, 129, 87, 59, 86, 55, 39, 93, 54, 35, 105, 59, 36, 109, 66, 42, 156, 101, 67, 116, 74, 51, 81, 63, 55, 122, 87, 65, 123, 101, 78, 212, 137, 138, 206, 136, 136, 201, 142, 141, 177, 118, 112, 188, 136, 101, 218, 154, 107, 190, 110, 60, 176, 90, 42, 187, 100, 47, 203, 118, 62, 213, 134, 79, 215, 144, 90, 212, 142, 92, 199, 129, 83, 162, 99, 59, 174, 121, 85, 169, 113, 79, 181, 117, 75, 193, 119, 70, 183, 130, 86, 151, 111, 87, 147, 115, 91, 155, 114, 81, 115, 70, 48, 115, 70, 45, 113, 63, 38, 101, 60, 39, 136, 88, 60, 113, 77, 58, 113, 89, 71, 150, 129, 108, 159, 138, 116, 216, 88, 112, 220, 98, 119, 223, 100, 124, 207, 98, 111, 208, 151, 115, 218, 150, 101, 190, 110, 58, 175, 93, 43, 191, 108, 52, 203, 122, 64, 210, 134, 78, 212, 143, 89, 211, 140, 91, 206, 139, 94, 171, 108, 70, 170, 120, 87, 124, 72, 43, 164, 113, 82, 191, 121, 74, 197, 139, 99, 164, 122, 90, 170, 133, 108, 153, 111, 83, 115, 69, 45, 132, 80, 49, 128, 77, 47, 110, 66, 42, 105, 67, 46, 121, 92, 71, 176, 153, 130, 205, 187, 172, 171, 151, 126, 216, 90, 115, 216, 95, 118, 222, 96, 122, 208, 95, 109, 190, 128, 93, 196, 128, 78, 187, 107, 57, 176, 94, 48, 187, 102, 50, 188, 104, 49, 201, 122, 70, 207, 133, 82, 201, 124, 76, 193, 124, 79, 178, 114, 76, 158, 110, 80, 125, 76, 48, 122, 78, 58, 152, 99, 68, 184, 132, 90, 184, 140, 108, 197, 150, 114, 170, 124, 87, 126, 80, 51, 147, 92, 57, 152, 100, 65, 119, 75, 49, 116, 88, 68, 179, 161, 141, 215, 196, 177, 215, 198, 184, 164, 146, 123, 221, 177, 176, 221, 167, 169, 217, 136, 148, 204, 134, 139, 172, 119, 88, 187, 125, 78, 176, 100, 52, 168, 87, 45, 176, 95, 47, 186, 109, 57, 207, 137, 85, 203, 132, 80, 195, 119, 68, 186, 112, 68, 174, 107, 69, 137, 91, 63, 136, 88, 59, 139, 87, 57, 133, 89, 65, 145, 100, 69, 175, 130, 95, 206, 152, 111, 211, 157, 118, 175, 133, 105, 158, 108, 73, 157, 108, 70, 122, 76, 47, 170, 121, 87, 209, 192, 175, 208, 190, 176, 203, 186, 168, 185, 166, 151, 241, 230, 221, 241, 232, 221, 240, 232, 221, 236, 225, 216, 166, 127, 97, 147, 89, 54, 168, 98, 51, 146, 75, 38, 169, 94, 51, 185, 117, 67, 169, 100, 58, 179, 98, 50, 204, 122, 70, 188, 114, 69, 148, 88, 55, 122, 80, 53, 141, 94, 66, 167, 113, 78, 147, 102, 74, 118, 81, 60, 175, 132, 95, 213, 152, 112, 227, 173, 139, 235, 187, 156, 196, 147, 111, 154, 104, 68, 115, 70, 43, 195, 156, 130, 218, 192, 178, 221, 196, 184, 224, 203, 188, 224, 206, 192, 241, 226, 220, 244, 227, 219, 242, 226, 216, 241, 227, 220, 163, 122, 100, 87, 51, 31, 109, 60, 34, 118, 57, 29, 134, 66, 37, 144, 77, 42, 90, 44, 27, 84, 43, 31, 117, 70, 44, 130, 71, 45, 137, 76, 45, 115, 75, 53, 137, 95, 70, 170, 125, 96, 164, 120, 88, 149, 107, 76, 170, 121, 84, 206, 146, 103, 208, 154, 116, 226, 166, 123, 200, 148, 111, 168, 126, 97, 204, 177, 157, 231, 211, 194, 240, 221, 208, 244, 226, 213, 247, 231, 217, 246, 233, 218, 241, 228, 220, 240, 226, 219, 244, 236, 228, 248, 244, 239, 172, 146, 125, 129, 94, 76, 72, 53, 46, 86, 38, 17, 72, 30, 16, 88, 35, 17, 50, 31, 20, 35, 35, 33, 47, 47, 44, 135, 78, 48, 153, 82, 44, 111, 74, 49, 127, 86, 62, 149, 106, 80, 158, 111, 77, 174, 122, 82, 188, 135, 96, 175, 111, 76, 206, 139, 90, 236, 174, 132, 212, 162, 126, 216, 191, 173, 248, 234, 224, 245, 231, 222, 244, 230, 221, 245, 229, 219, 246, 230, 219, 246, 232, 220, 245, 233, 225, 245, 230, 223, 244, 225, 216, 240, 218, 211, 203, 172, 152, 165, 131, 106, 135, 84, 60, 101, 49, 25, 24, 16, 10, 73, 32, 21, 88, 44, 32, 45, 32, 33, 73, 51, 41, 157, 87, 47, 161, 83, 40, 122, 73, 43, 131, 84, 53, 148, 97, 64, 156, 102, 66, 169, 117, 77, 167, 108, 70, 174, 108, 63, 223, 154, 102, 236, 176, 128, 234, 194, 162, 247, 233, 223, 247, 236, 226, 249, 235, 225, 250, 236, 224, 250, 233, 219, 249, 235, 223, 248, 237, 225, 245, 231, 222, 246, 232, 223, 244, 224, 209, 240, 214, 197, 220, 184, 158, 163, 113, 74, 133, 73, 44, 76, 43, 26, 42, 29, 23, 37, 20, 10, 145, 76, 42, 129, 72, 42, 109, 54, 30, 132, 59, 34, 176, 100, 53, 150, 93, 57, 104, 64, 40, 118, 70, 40, 137, 89, 55, 140, 91, 61, 151, 88, 53, 208, 142, 96, 229, 167, 116, 235, 175, 130, 233, 189, 157, 248, 231, 219, 249, 235, 221, 251, 239, 228, 251, 239, 225, 249, 231, 213, 248, 229, 211, 250, 227, 207, 246, 229, 215, 246, 228, 214, 247, 224, 210, 240, 211, 192, 226, 192, 169, 195, 147, 114, 136, 82, 55, 92, 60, 43, 52, 45, 36, 32, 25, 23, 65, 34, 21, 160, 94, 55, 160, 97, 62, 140, 71, 38, 179, 108, 59, 113, 72, 47, 61, 33, 25, 101, 60, 41, 118, 76, 53, 121, 65, 33, 161, 87, 41, 204, 137, 91, 225, 164, 128, 223, 155, 111, 230, 183, 147, 249, 236, 221, 251, 234, 215, 250, 231, 210, 250, 228, 203, 255, 228, 197, 255, 226, 193, 255, 223, 187, 241, 219, 205, 246, 228, 219, 245, 224, 211, 238, 210, 191, 232, 198, 177, 211, 169, 139, 151, 106, 74, 95, 67, 49, 39, 32, 32, 44, 36, 32, 78, 45, 31, 93, 45, 28, 148, 82, 45, 204, 130, 82, 172, 113, 72, 100, 65, 42, 82, 54, 36, 88, 58, 41, 118, 84, 68, 193, 153, 126, 228, 195, 171, 224, 177, 144, 214, 150, 105, 203, 140, 89, 229, 190, 156, 254, 233, 209, 254, 229, 200, 252, 224, 190, 241, 210, 171, 220, 183, 144, 196, 157, 118, 178, 138, 99, 246, 217, 188, 246, 222, 197, 247, 220, 196, 239, 206, 180, 236, 199, 173, 214, 172, 144, 164, 120, 92, 108, 83, 71, 52, 46, 41, 66, 50, 43, 97, 65, 52, 139, 90, 58, 159, 97, 63, 193, 132, 86, 151, 99, 61, 121, 77, 47, 114, 76, 49, 102, 70, 52, 200, 172, 156, 246, 232, 222, 246, 240, 232, 246, 242, 234, 224, 189, 162, 204, 153, 107, 241, 205, 167, 241, 205, 168, 229, 192, 154, 212, 174, 139, 194, 160, 130, 189, 158, 133, 191, 161, 139, 205, 178, 158, 231, 192, 158, 236, 196, 161, 236, 195, 159, 235, 191, 156, 224, 180, 140, 211, 164, 121, 176, 127, 87, 100, 73, 56, 92, 73, 66, 95, 73, 65, 99, 72, 56, 148, 107, 79, 152, 110, 84, 109, 78, 54, 108, 68, 39, 115, 74, 43, 109, 72, 41, 132, 99, 75, 221, 198, 185, 234, 219, 211, 242, 232, 224, 238, 227, 221, 231, 215, 200, 221, 189, 158, 234, 204, 177, 230, 203, 179, 232, 208, 190, 237, 213, 198, 240, 219, 207, 243, 223, 208, 244, 224, 210, 241, 222, 208, 142, 106, 82, 159, 123, 98, 160, 125, 98, 163, 129, 102, 160, 124, 97, 162, 123, 96, 146, 105, 78, 74, 49, 31, 59, 43, 33, 71, 53, 44, 64, 46, 40, 62, 48, 36, 73, 53, 37, 84, 62, 43, 99, 72, 51, 113, 80, 57, 112, 78, 58, 123, 92, 74, 178, 151, 140, 173, 155, 147, 215, 198, 191, 180, 159, 148, 205, 181, 168, 241, 218, 203, 243, 222, 207, 243, 223, 210, 243, 223, 209, 243, 222, 208, 241, 220, 205, 239, 220, 205, 237, 218, 203, 238, 219, 204, 217, 202, 190, 219, 203, 191, 220, 201, 190, 217, 198, 188, 213, 194, 182, 208, 188, 174, 199, 178, 164, 188, 165, 148, 172, 149, 134, 157, 132, 117, 118, 97, 82, 113, 96, 80, 143, 117, 100, 174, 146, 125, 192, 164, 143, 207, 180, 157, 208, 183, 161, 194, 170, 149, 172, 145, 127, 138, 116, 98, 178, 156, 139, 172, 147, 123, 216, 196, 173, 241, 222, 207, 241, 222, 207, 242, 222, 207, 240, 220, 205, 238, 219, 204, 239, 220, 205, 239, 220, 205, 237, 218, 203, 238, 219, 204, 227, 212, 201, 228, 212, 202, 229, 212, 204, 228, 212, 203, 228, 212, 201, 225, 209, 197, 225, 209, 197, 223, 208, 199, 227, 211, 202, 231, 212, 202, 229, 211, 197, 232, 213, 200, 232, 213, 201, 229, 210, 197, 233, 213, 202, 235, 216, 205, 237, 217, 206, 238, 220, 207, 240, 220, 203, 234, 214, 196, 235, 215, 199, 241, 221, 205, 243, 225, 213, 240, 222, 209, 240, 221, 207, 240, 221, 207, 240, 222, 207, 240, 221, 206, 239, 220, 205, 239, 220, 205, 238, 219, 204, 236, 218, 202, 226, 211, 199, 228, 214, 202, 229, 213, 201, 226, 209, 197, 224, 207, 194, 227, 210, 198, 226, 208, 196, 227, 210, 197, 229, 210, 196, 230, 210, 196, 231, 213, 199, 232, 214, 201, 234, 218, 205, 233, 214, 200, 236, 216, 202, 232, 213, 198, 234, 215, 200, 238, 219, 205, 238, 219, 206, 241, 221, 208, 241, 221, 208, 240, 219, 205, 240, 219, 206, 239, 220, 204, 239, 219, 204, 240, 222, 207, 241, 221, 206, 240, 219, 203, 240, 221, 206, 239, 220, 206, 237, 218, 204, 238, 220, 205], \"height\": 32, \"channels\": 3, \"width\": 32, \"type\": \"image\", \"id\": 139863129604688}], \"selected_variable\": {\"name\": [\"<SArray>\"], \"dtype\": \"Image\", \"view_component\": \"Images\", \"view_file\": \"sarray\", \"descriptives\": {\"rows\": 4}, \"type\": \"SArray\", \"view_components\": [\"Images\"]}}, e);\n",
       "                });\n",
       "            })();\n",
       "        "
      ]
     },
     "metadata": {},
     "output_type": "display_data"
    }
   ],
   "source": [
    "def reveal_my_twin(x):\n",
    "    return gl_img.filter_by(x['reference_label'],'id')\n",
    "spirit_animal = reveal_my_twin(knn_model.query(me_test))\n",
    "spirit_animal['image'].show()"
   ]
  },
  {
   "cell_type": "code",
   "execution_count": 34,
   "metadata": {},
   "outputs": [
    {
     "data": {
      "application/javascript": [
       "$(\"head\").append($(\"<link/>\").attr({\n",
       "  rel:  \"stylesheet\",\n",
       "  type: \"text/css\",\n",
       "  href: \"//cdnjs.cloudflare.com/ajax/libs/font-awesome/4.1.0/css/font-awesome.min.css\"\n",
       "}));\n",
       "$(\"head\").append($(\"<link/>\").attr({\n",
       "  rel:  \"stylesheet\",\n",
       "  type: \"text/css\",\n",
       "  href: \"https://static.turi.com/products/graphlab-create/2.1/canvas/css/canvas.css\"\n",
       "}));\n",
       "\n",
       "            (function(){\n",
       "\n",
       "                var e = null;\n",
       "                if (typeof element == 'undefined') {\n",
       "                    var scripts = document.getElementsByTagName('script');\n",
       "                    var thisScriptTag = scripts[scripts.length-1];\n",
       "                    var parentDiv = thisScriptTag.parentNode;\n",
       "                    e = document.createElement('div');\n",
       "                    parentDiv.appendChild(e);\n",
       "                } else {\n",
       "                    e = element[0];\n",
       "                }\n",
       "\n",
       "                if (typeof requirejs !== 'undefined') {\n",
       "                    // disable load timeout; ipython_app.js is large and can take a while to load.\n",
       "                    requirejs.config({waitSeconds: 0});\n",
       "                }\n",
       "\n",
       "                require(['https://static.turi.com/products/graphlab-create/2.1/canvas/js/ipython_app.js'], function(IPythonApp){\n",
       "                    var app = new IPythonApp();\n",
       "                    app.attachView('sarray','Images', {\"ipython\": true, \"rows\": [{\"format\": \"png\", \"value\": \"image/png;base64,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\\n\", \"height\": 96, \"channels\": 3, \"width\": 96, \"type\": \"image\", \"id\": 139863839875728}], \"selected_variable\": {\"name\": [\"<SArray>\"], \"dtype\": \"Image\", \"view_component\": \"Images\", \"view_file\": \"sarray\", \"descriptives\": {\"rows\": 1}, \"type\": \"SArray\", \"view_components\": [\"Images\"]}}, e);\n",
       "                });\n",
       "            })();\n",
       "        "
      ]
     },
     "metadata": {},
     "output_type": "display_data"
    }
   ],
   "source": [
    "me_test = new_train[-1:]\n",
    "graphlab.image_analysis.resize(me_test['image'], 96,96).show()"
   ]
  },
  {
   "cell_type": "code",
   "execution_count": 35,
   "metadata": {},
   "outputs": [
    {
     "data": {
      "text/html": [
       "<pre>Starting pairwise querying.</pre>"
      ],
      "text/plain": [
       "Starting pairwise querying."
      ]
     },
     "metadata": {},
     "output_type": "display_data"
    },
    {
     "data": {
      "text/html": [
       "<pre>+--------------+---------+-------------+--------------+</pre>"
      ],
      "text/plain": [
       "+--------------+---------+-------------+--------------+"
      ]
     },
     "metadata": {},
     "output_type": "display_data"
    },
    {
     "data": {
      "text/html": [
       "<pre>| Query points | # Pairs | % Complete. | Elapsed Time |</pre>"
      ],
      "text/plain": [
       "| Query points | # Pairs | % Complete. | Elapsed Time |"
      ]
     },
     "metadata": {},
     "output_type": "display_data"
    },
    {
     "data": {
      "text/html": [
       "<pre>+--------------+---------+-------------+--------------+</pre>"
      ],
      "text/plain": [
       "+--------------+---------+-------------+--------------+"
      ]
     },
     "metadata": {},
     "output_type": "display_data"
    },
    {
     "data": {
      "text/html": [
       "<pre>| 0            | 1       | 0.0498504   | 26.318ms     |</pre>"
      ],
      "text/plain": [
       "| 0            | 1       | 0.0498504   | 26.318ms     |"
      ]
     },
     "metadata": {},
     "output_type": "display_data"
    },
    {
     "data": {
      "text/html": [
       "<pre>| Done         |         | 100         | 362.377ms    |</pre>"
      ],
      "text/plain": [
       "| Done         |         | 100         | 362.377ms    |"
      ]
     },
     "metadata": {},
     "output_type": "display_data"
    },
    {
     "data": {
      "text/html": [
       "<pre>+--------------+---------+-------------+--------------+</pre>"
      ],
      "text/plain": [
       "+--------------+---------+-------------+--------------+"
      ]
     },
     "metadata": {},
     "output_type": "display_data"
    },
    {
     "data": {
      "text/html": [
       "<div style=\"max-height:1000px;max-width:1500px;overflow:auto;\"><table frame=\"box\" rules=\"cols\">\n",
       "    <tr>\n",
       "        <th style=\"padding-left: 1em; padding-right: 1em; text-align: center\">query_label</th>\n",
       "        <th style=\"padding-left: 1em; padding-right: 1em; text-align: center\">reference_label</th>\n",
       "        <th style=\"padding-left: 1em; padding-right: 1em; text-align: center\">distance</th>\n",
       "        <th style=\"padding-left: 1em; padding-right: 1em; text-align: center\">rank</th>\n",
       "    </tr>\n",
       "    <tr>\n",
       "        <td style=\"padding-left: 1em; padding-right: 1em; text-align: center; vertical-align: top\">0</td>\n",
       "        <td style=\"padding-left: 1em; padding-right: 1em; text-align: center; vertical-align: top\">50000</td>\n",
       "        <td style=\"padding-left: 1em; padding-right: 1em; text-align: center; vertical-align: top\">0.0</td>\n",
       "        <td style=\"padding-left: 1em; padding-right: 1em; text-align: center; vertical-align: top\">1</td>\n",
       "    </tr>\n",
       "    <tr>\n",
       "        <td style=\"padding-left: 1em; padding-right: 1em; text-align: center; vertical-align: top\">0</td>\n",
       "        <td style=\"padding-left: 1em; padding-right: 1em; text-align: center; vertical-align: top\">20348</td>\n",
       "        <td style=\"padding-left: 1em; padding-right: 1em; text-align: center; vertical-align: top\">48.396766772</td>\n",
       "        <td style=\"padding-left: 1em; padding-right: 1em; text-align: center; vertical-align: top\">2</td>\n",
       "    </tr>\n",
       "    <tr>\n",
       "        <td style=\"padding-left: 1em; padding-right: 1em; text-align: center; vertical-align: top\">0</td>\n",
       "        <td style=\"padding-left: 1em; padding-right: 1em; text-align: center; vertical-align: top\">25512</td>\n",
       "        <td style=\"padding-left: 1em; padding-right: 1em; text-align: center; vertical-align: top\">49.5122230196</td>\n",
       "        <td style=\"padding-left: 1em; padding-right: 1em; text-align: center; vertical-align: top\">3</td>\n",
       "    </tr>\n",
       "    <tr>\n",
       "        <td style=\"padding-left: 1em; padding-right: 1em; text-align: center; vertical-align: top\">0</td>\n",
       "        <td style=\"padding-left: 1em; padding-right: 1em; text-align: center; vertical-align: top\">41360</td>\n",
       "        <td style=\"padding-left: 1em; padding-right: 1em; text-align: center; vertical-align: top\">50.0852708321</td>\n",
       "        <td style=\"padding-left: 1em; padding-right: 1em; text-align: center; vertical-align: top\">4</td>\n",
       "    </tr>\n",
       "    <tr>\n",
       "        <td style=\"padding-left: 1em; padding-right: 1em; text-align: center; vertical-align: top\">0</td>\n",
       "        <td style=\"padding-left: 1em; padding-right: 1em; text-align: center; vertical-align: top\">23494</td>\n",
       "        <td style=\"padding-left: 1em; padding-right: 1em; text-align: center; vertical-align: top\">50.7146276021</td>\n",
       "        <td style=\"padding-left: 1em; padding-right: 1em; text-align: center; vertical-align: top\">5</td>\n",
       "    </tr>\n",
       "</table>\n",
       "[5 rows x 4 columns]<br/>\n",
       "</div>"
      ],
      "text/plain": [
       "Columns:\n",
       "\tquery_label\tint\n",
       "\treference_label\tint\n",
       "\tdistance\tfloat\n",
       "\trank\tint\n",
       "\n",
       "Rows: 5\n",
       "\n",
       "Data:\n",
       "+-------------+-----------------+---------------+------+\n",
       "| query_label | reference_label |    distance   | rank |\n",
       "+-------------+-----------------+---------------+------+\n",
       "|      0      |      50000      |      0.0      |  1   |\n",
       "|      0      |      20348      |  48.396766772 |  2   |\n",
       "|      0      |      25512      | 49.5122230196 |  3   |\n",
       "|      0      |      41360      | 50.0852708321 |  4   |\n",
       "|      0      |      23494      | 50.7146276021 |  5   |\n",
       "+-------------+-----------------+---------------+------+\n",
       "[5 rows x 4 columns]"
      ]
     },
     "execution_count": 35,
     "metadata": {},
     "output_type": "execute_result"
    }
   ],
   "source": [
    "sim_frame = knn_model.query(me_test)\n",
    "sim_frame"
   ]
  },
  {
   "cell_type": "code",
   "execution_count": 36,
   "metadata": {},
   "outputs": [
    {
     "data": {
      "text/html": [
       "<pre>Starting pairwise querying.</pre>"
      ],
      "text/plain": [
       "Starting pairwise querying."
      ]
     },
     "metadata": {},
     "output_type": "display_data"
    },
    {
     "data": {
      "text/html": [
       "<pre>+--------------+---------+-------------+--------------+</pre>"
      ],
      "text/plain": [
       "+--------------+---------+-------------+--------------+"
      ]
     },
     "metadata": {},
     "output_type": "display_data"
    },
    {
     "data": {
      "text/html": [
       "<pre>| Query points | # Pairs | % Complete. | Elapsed Time |</pre>"
      ],
      "text/plain": [
       "| Query points | # Pairs | % Complete. | Elapsed Time |"
      ]
     },
     "metadata": {},
     "output_type": "display_data"
    },
    {
     "data": {
      "text/html": [
       "<pre>+--------------+---------+-------------+--------------+</pre>"
      ],
      "text/plain": [
       "+--------------+---------+-------------+--------------+"
      ]
     },
     "metadata": {},
     "output_type": "display_data"
    },
    {
     "data": {
      "text/html": [
       "<pre>| 0            | 1       | 0.0498504   | 31.526ms     |</pre>"
      ],
      "text/plain": [
       "| 0            | 1       | 0.0498504   | 31.526ms     |"
      ]
     },
     "metadata": {},
     "output_type": "display_data"
    },
    {
     "data": {
      "text/html": [
       "<pre>| Done         |         | 100         | 328.605ms    |</pre>"
      ],
      "text/plain": [
       "| Done         |         | 100         | 328.605ms    |"
      ]
     },
     "metadata": {},
     "output_type": "display_data"
    },
    {
     "data": {
      "text/html": [
       "<pre>+--------------+---------+-------------+--------------+</pre>"
      ],
      "text/plain": [
       "+--------------+---------+-------------+--------------+"
      ]
     },
     "metadata": {},
     "output_type": "display_data"
    },
    {
     "data": {
      "application/javascript": [
       "$(\"head\").append($(\"<link/>\").attr({\n",
       "  rel:  \"stylesheet\",\n",
       "  type: \"text/css\",\n",
       "  href: \"//cdnjs.cloudflare.com/ajax/libs/font-awesome/4.1.0/css/font-awesome.min.css\"\n",
       "}));\n",
       "$(\"head\").append($(\"<link/>\").attr({\n",
       "  rel:  \"stylesheet\",\n",
       "  type: \"text/css\",\n",
       "  href: \"https://static.turi.com/products/graphlab-create/2.1/canvas/css/canvas.css\"\n",
       "}));\n",
       "\n",
       "            (function(){\n",
       "\n",
       "                var e = null;\n",
       "                if (typeof element == 'undefined') {\n",
       "                    var scripts = document.getElementsByTagName('script');\n",
       "                    var thisScriptTag = scripts[scripts.length-1];\n",
       "                    var parentDiv = thisScriptTag.parentNode;\n",
       "                    e = document.createElement('div');\n",
       "                    parentDiv.appendChild(e);\n",
       "                } else {\n",
       "                    e = element[0];\n",
       "                }\n",
       "\n",
       "                if (typeof requirejs !== 'undefined') {\n",
       "                    // disable load timeout; ipython_app.js is large and can take a while to load.\n",
       "                    requirejs.config({waitSeconds: 0});\n",
       "                }\n",
       "\n",
       "                require(['https://static.turi.com/products/graphlab-create/2.1/canvas/js/ipython_app.js'], function(IPythonApp){\n",
       "                    var app = new IPythonApp();\n",
       "                    app.attachView('sarray','Images', {\"ipython\": true, \"rows\": [{\"format\": \"raw\", \"value\": [255, 255, 255, 255, 255, 255, 255, 255, 255, 255, 255, 255, 255, 255, 255, 255, 255, 255, 255, 255, 255, 255, 255, 255, 255, 255, 255, 255, 255, 255, 255, 255, 255, 255, 255, 255, 255, 255, 255, 255, 255, 255, 255, 255, 255, 255, 255, 255, 255, 255, 255, 255, 255, 255, 255, 255, 255, 255, 255, 255, 255, 255, 255, 255, 255, 255, 255, 255, 255, 255, 255, 255, 255, 255, 255, 255, 255, 255, 255, 255, 255, 255, 255, 255, 255, 255, 255, 255, 255, 255, 255, 255, 255, 255, 255, 255, 255, 255, 255, 254, 254, 254, 255, 255, 255, 255, 255, 255, 255, 255, 255, 255, 255, 255, 255, 255, 255, 255, 255, 255, 255, 255, 255, 255, 255, 255, 254, 254, 254, 254, 254, 254, 254, 254, 254, 254, 254, 254, 254, 254, 254, 254, 254, 254, 251, 255, 251, 254, 255, 250, 255, 252, 249, 250, 248, 244, 247, 248, 246, 249, 249, 249, 248, 246, 243, 250, 247, 243, 255, 253, 250, 253, 252, 252, 254, 254, 254, 255, 255, 255, 255, 255, 255, 255, 255, 255, 255, 255, 255, 255, 255, 255, 255, 255, 255, 254, 254, 254, 255, 255, 255, 255, 255, 255, 255, 255, 255, 255, 255, 255, 255, 255, 255, 255, 255, 255, 255, 255, 255, 255, 255, 255, 254, 254, 254, 254, 254, 254, 254, 254, 254, 254, 254, 254, 253, 253, 253, 255, 255, 254, 244, 242, 231, 192, 178, 166, 185, 165, 156, 221, 208, 196, 247, 242, 234, 246, 240, 235, 222, 212, 203, 170, 156, 144, 218, 211, 202, 251, 251, 251, 252, 252, 253, 255, 255, 255, 255, 255, 255, 255, 255, 255, 255, 255, 255, 255, 255, 255, 255, 255, 255, 254, 254, 254, 255, 255, 255, 255, 255, 255, 255, 255, 255, 255, 255, 255, 255, 255, 255, 255, 255, 255, 255, 255, 255, 255, 255, 255, 254, 254, 254, 254, 254, 254, 254, 254, 254, 254, 254, 254, 254, 254, 253, 250, 248, 245, 178, 165, 146, 91, 62, 44, 98, 62, 49, 165, 135, 119, 234, 216, 202, 239, 222, 211, 198, 178, 162, 103, 78, 58, 137, 120, 107, 234, 232, 231, 254, 255, 254, 254, 254, 254, 255, 255, 255, 255, 255, 255, 255, 255, 255, 255, 255, 255, 255, 255, 255, 254, 254, 254, 255, 255, 255, 255, 255, 255, 255, 255, 255, 255, 255, 255, 254, 254, 254, 254, 254, 254, 254, 254, 254, 254, 254, 254, 254, 254, 254, 254, 254, 254, 254, 254, 253, 252, 254, 253, 255, 255, 251, 206, 197, 184, 123, 101, 76, 89, 68, 50, 74, 51, 43, 99, 66, 57, 160, 127, 112, 180, 151, 135, 112, 85, 68, 85, 59, 41, 116, 92, 76, 201, 187, 176, 254, 254, 249, 251, 254, 255, 254, 254, 255, 254, 254, 254, 254, 254, 254, 255, 255, 255, 255, 255, 255, 254, 254, 254, 255, 255, 255, 255, 255, 255, 255, 255, 255, 254, 254, 254, 254, 254, 254, 254, 254, 254, 254, 254, 254, 254, 254, 254, 254, 254, 254, 254, 254, 254, 254, 253, 253, 255, 255, 254, 240, 237, 229, 141, 128, 110, 105, 81, 55, 92, 73, 57, 50, 35, 32, 67, 43, 42, 75, 51, 47, 85, 65, 59, 83, 62, 52, 61, 40, 27, 86, 61, 45, 161, 141, 126, 250, 248, 242, 251, 255, 255, 254, 253, 255, 254, 254, 254, 254, 254, 254, 255, 255, 255, 255, 255, 255, 254, 254, 254, 255, 255, 255, 255, 255, 255, 255, 255, 255, 255, 255, 255, 255, 255, 255, 255, 255, 255, 255, 255, 255, 255, 255, 255, 255, 255, 255, 255, 254, 254, 254, 254, 254, 255, 255, 255, 180, 174, 163, 96, 78, 58, 99, 74, 51, 84, 64, 49, 40, 25, 21, 84, 68, 68, 101, 88, 89, 61, 50, 50, 118, 102, 96, 82, 64, 52, 81, 57, 40, 147, 126, 110, 245, 241, 233, 254, 255, 254, 254, 253, 254, 255, 254, 255, 255, 255, 255, 255, 255, 255, 255, 255, 255, 254, 254, 254, 255, 255, 255, 255, 255, 255, 255, 255, 255, 255, 255, 255, 255, 255, 255, 255, 255, 255, 255, 255, 255, 255, 255, 255, 255, 255, 255, 255, 255, 255, 254, 254, 254, 255, 255, 255, 163, 154, 142, 91, 69, 46, 94, 71, 51, 82, 60, 46, 79, 56, 45, 152, 129, 121, 136, 115, 108, 93, 71, 63, 127, 106, 94, 122, 101, 86, 90, 63, 45, 119, 96, 78, 220, 214, 205, 255, 255, 255, 254, 253, 253, 255, 255, 255, 255, 255, 255, 255, 255, 255, 255, 255, 255, 254, 254, 254, 255, 255, 255, 255, 255, 255, 255, 255, 255, 255, 255, 255, 255, 255, 255, 255, 255, 255, 255, 255, 255, 255, 255, 255, 255, 255, 255, 254, 255, 255, 253, 255, 255, 245, 243, 239, 142, 128, 114, 87, 64, 41, 85, 63, 48, 83, 59, 46, 118, 91, 76, 195, 168, 153, 143, 111, 96, 125, 92, 75, 132, 103, 86, 134, 110, 94, 89, 64, 46, 105, 82, 64, 206, 200, 190, 255, 255, 255, 254, 253, 252, 255, 255, 255, 255, 255, 255, 255, 255, 255, 255, 255, 255, 254, 254, 254, 255, 255, 255, 255, 255, 255, 255, 255, 255, 255, 255, 255, 255, 255, 255, 255, 255, 255, 255, 255, 255, 255, 255, 255, 255, 255, 255, 252, 254, 254, 253, 255, 255, 212, 206, 198, 116, 98, 81, 87, 67, 49, 79, 57, 44, 78, 55, 43, 108, 85, 70, 162, 141, 125, 146, 118, 105, 140, 107, 92, 143, 115, 97, 130, 113, 96, 88, 72, 57, 100, 83, 67, 196, 191, 179, 252, 252, 247, 253, 253, 254, 255, 255, 255, 255, 255, 255, 255, 255, 255, 255, 255, 255, 254, 254, 254, 255, 255, 255, 255, 255, 255, 255, 255, 255, 255, 255, 255, 255, 255, 255, 255, 255, 255, 255, 255, 255, 255, 255, 255, 255, 255, 255, 253, 254, 255, 251, 255, 255, 225, 221, 213, 164, 149, 135, 115, 98, 81, 85, 63, 47, 86, 63, 46, 99, 77, 56, 117, 95, 71, 144, 116, 94, 153, 120, 98, 164, 136, 111, 147, 130, 108, 135, 121, 105, 166, 153, 141, 231, 229, 219, 246, 247, 243, 253, 253, 254, 255, 255, 255, 255, 255, 255, 255, 255, 255, 255, 255, 255, 254, 254, 254, 255, 255, 255, 255, 255, 255, 255, 255, 255, 255, 255, 255, 255, 255, 255, 255, 255, 255, 254, 254, 254, 255, 255, 255, 255, 255, 255, 255, 255, 255, 253, 254, 253, 252, 251, 246, 228, 221, 211, 169, 155, 142, 106, 86, 69, 123, 100, 79, 142, 117, 92, 152, 125, 96, 155, 124, 95, 158, 124, 95, 189, 159, 130, 178, 158, 135, 212, 199, 186, 241, 232, 226, 254, 254, 249, 252, 253, 252, 255, 254, 255, 255, 255, 255, 255, 255, 255, 255, 255, 255, 255, 255, 255, 254, 254, 254, 255, 255, 255, 255, 255, 255, 255, 255, 255, 255, 255, 255, 255, 255, 255, 255, 255, 255, 254, 254, 254, 254, 254, 254, 255, 255, 255, 255, 255, 254, 255, 255, 252, 253, 254, 252, 249, 247, 241, 201, 189, 177, 162, 142, 129, 174, 150, 134, 191, 163, 140, 188, 155, 127, 189, 154, 125, 195, 158, 130, 197, 164, 138, 196, 173, 155, 231, 218, 212, 255, 250, 250, 253, 253, 252, 253, 254, 255, 255, 253, 255, 255, 255, 255, 255, 255, 255, 255, 255, 255, 255, 255, 255, 254, 254, 254, 255, 255, 255, 255, 255, 255, 255, 255, 255, 255, 255, 255, 255, 255, 255, 255, 255, 255, 254, 254, 254, 254, 254, 254, 255, 255, 255, 255, 255, 254, 254, 254, 252, 253, 254, 254, 249, 247, 243, 217, 207, 197, 188, 170, 160, 197, 175, 162, 218, 192, 172, 213, 182, 158, 201, 170, 144, 202, 169, 142, 205, 175, 151, 210, 187, 171, 234, 222, 217, 253, 250, 252, 252, 254, 254, 254, 254, 255, 255, 254, 255, 255, 255, 255, 255, 255, 255, 255, 255, 255, 255, 255, 255, 254, 254, 254, 255, 255, 255, 255, 255, 255, 255, 255, 255, 255, 255, 255, 255, 255, 255, 255, 255, 255, 254, 254, 254, 254, 254, 254, 255, 255, 255, 254, 255, 255, 252, 254, 255, 255, 254, 253, 239, 234, 230, 209, 200, 191, 209, 195, 182, 224, 207, 192, 221, 203, 185, 224, 204, 184, 220, 200, 176, 215, 193, 165, 220, 196, 171, 218, 199, 181, 235, 226, 219, 252, 252, 252, 254, 254, 254, 255, 255, 255, 255, 255, 255, 255, 255, 255, 255, 255, 255, 255, 255, 255, 255, 255, 255, 254, 254, 254, 255, 255, 255, 255, 255, 255, 255, 255, 255, 255, 255, 255, 255, 255, 255, 255, 255, 255, 254, 254, 254, 254, 254, 254, 255, 255, 255, 255, 255, 255, 254, 254, 254, 239, 237, 235, 221, 213, 207, 211, 200, 191, 217, 204, 192, 222, 207, 192, 226, 209, 193, 224, 206, 188, 219, 201, 179, 227, 207, 183, 223, 202, 179, 217, 199, 184, 236, 228, 222, 253, 253, 253, 254, 254, 254, 255, 255, 255, 255, 255, 255, 255, 255, 255, 255, 255, 255, 255, 255, 255, 255, 255, 255, 254, 254, 254, 255, 255, 255, 255, 255, 255, 255, 255, 255, 255, 255, 255, 255, 255, 255, 255, 255, 255, 255, 255, 255, 255, 255, 255, 255, 255, 255, 255, 255, 255, 242, 241, 240, 210, 205, 201, 218, 208, 200, 210, 197, 187, 216, 204, 193, 220, 208, 195, 225, 210, 195, 227, 210, 194, 221, 204, 186, 225, 206, 186, 224, 204, 185, 220, 205, 194, 242, 236, 232, 254, 254, 254, 254, 254, 254, 255, 255, 255, 255, 255, 255, 255, 255, 255, 255, 255, 255, 255, 255, 255, 255, 255, 255, 254, 254, 254, 255, 255, 255, 255, 255, 255, 255, 255, 255, 255, 255, 255, 255, 255, 255, 255, 255, 255, 255, 255, 255, 255, 255, 255, 254, 254, 254, 255, 255, 255, 207, 204, 202, 160, 154, 149, 216, 204, 195, 208, 193, 182, 214, 203, 192, 225, 215, 204, 224, 211, 198, 217, 202, 187, 223, 207, 192, 233, 216, 200, 232, 213, 199, 230, 216, 208, 248, 243, 241, 255, 255, 255, 255, 255, 255, 255, 255, 255, 255, 255, 255, 255, 255, 255, 255, 255, 255, 255, 255, 255, 255, 255, 255, 254, 254, 254, 255, 255, 255, 255, 255, 255, 255, 255, 255, 255, 255, 255, 255, 255, 255, 254, 255, 255, 255, 255, 255, 254, 254, 254, 254, 254, 254, 251, 249, 248, 176, 168, 163, 160, 149, 143, 213, 199, 191, 200, 185, 175, 211, 199, 189, 214, 203, 192, 215, 201, 188, 209, 193, 179, 211, 194, 181, 224, 207, 193, 224, 209, 196, 232, 221, 215, 252, 248, 248, 255, 255, 255, 254, 254, 254, 255, 255, 255, 255, 255, 255, 255, 255, 255, 255, 255, 255, 255, 255, 255, 255, 255, 255, 254, 254, 254, 255, 255, 255, 255, 255, 255, 255, 255, 255, 254, 254, 254, 254, 254, 254, 254, 254, 254, 254, 255, 255, 254, 254, 253, 253, 252, 250, 227, 221, 217, 135, 121, 114, 191, 176, 169, 209, 194, 187, 201, 186, 179, 207, 194, 185, 209, 196, 185, 195, 179, 166, 200, 181, 167, 201, 183, 170, 207, 191, 178, 214, 203, 190, 235, 228, 222, 254, 251, 251, 254, 254, 254, 254, 254, 254, 254, 254, 254, 254, 254, 254, 255, 255, 255, 255, 255, 255, 255, 255, 255, 255, 255, 255, 254, 254, 254, 255, 255, 255, 255, 255, 255, 255, 255, 255, 254, 254, 254, 254, 254, 254, 253, 253, 254, 254, 254, 253, 255, 252, 249, 238, 231, 226, 205, 195, 187, 101, 87, 79, 178, 164, 156, 205, 191, 182, 206, 191, 183, 208, 195, 186, 214, 200, 190, 198, 182, 169, 213, 195, 180, 210, 192, 179, 209, 195, 182, 212, 203, 190, 239, 234, 227, 254, 252, 252, 254, 254, 254, 254, 254, 254, 254, 254, 254, 254, 254, 254, 255, 255, 255, 255, 255, 255, 255, 255, 255, 255, 255, 255, 254, 254, 254, 255, 255, 255, 255, 255, 255, 255, 255, 255, 254, 254, 254, 254, 254, 254, 254, 254, 254, 255, 254, 252, 241, 235, 229, 221, 208, 198, 214, 199, 186, 167, 152, 141, 179, 165, 154, 190, 176, 165, 209, 195, 183, 218, 204, 195, 214, 200, 190, 212, 196, 183, 219, 201, 187, 226, 209, 196, 214, 202, 188, 210, 203, 189, 242, 240, 233, 255, 254, 254, 254, 254, 254, 254, 254, 254, 255, 255, 255, 255, 255, 255, 255, 255, 255, 255, 255, 255, 255, 255, 255, 255, 255, 255, 254, 254, 254, 255, 255, 255, 255, 255, 255, 255, 255, 255, 254, 254, 254, 254, 254, 254, 254, 254, 253, 253, 251, 247, 218, 208, 200, 206, 188, 174, 218, 198, 182, 203, 189, 175, 180, 166, 153, 174, 160, 146, 200, 186, 173, 225, 212, 202, 221, 207, 197, 203, 187, 174, 207, 189, 175, 213, 198, 185, 205, 195, 180, 208, 203, 188, 245, 245, 237, 254, 254, 254, 254, 254, 254, 254, 254, 254, 255, 255, 255, 255, 255, 255, 255, 255, 255, 255, 255, 255, 255, 255, 255, 255, 255, 255, 254, 254, 254, 255, 255, 255, 255, 255, 255, 255, 255, 255, 254, 254, 254, 254, 254, 254, 254, 255, 254, 247, 243, 237, 200, 185, 172, 186, 160, 142, 201, 172, 153, 198, 177, 159, 179, 161, 146, 181, 166, 154, 195, 183, 173, 213, 201, 190, 222, 210, 199, 191, 178, 165, 193, 176, 161, 197, 181, 168, 198, 185, 173, 211, 205, 192, 247, 248, 240, 253, 255, 253, 254, 254, 254, 254, 254, 254, 255, 255, 255, 255, 255, 255, 255, 255, 255, 255, 255, 255, 255, 255, 255, 255, 255, 255, 254, 254, 254, 255, 255, 255, 255, 255, 255, 255, 255, 255, 254, 254, 254, 254, 254, 254, 254, 255, 254, 238, 235, 229, 206, 189, 174, 197, 170, 153, 197, 169, 152, 184, 159, 139, 159, 139, 123, 188, 173, 162, 203, 192, 183, 207, 195, 183, 224, 211, 199, 197, 184, 172, 191, 178, 163, 188, 172, 160, 181, 165, 153, 208, 196, 185, 249, 247, 241, 253, 255, 254, 254, 254, 254, 254, 254, 254, 255, 255, 255, 255, 255, 255, 255, 255, 255, 255, 255, 255, 255, 255, 255, 255, 255, 255, 254, 254, 254, 255, 255, 255, 255, 255, 255, 255, 255, 255, 254, 254, 254, 254, 254, 254, 252, 253, 252, 222, 218, 214, 205, 191, 180, 206, 187, 173, 193, 174, 160, 165, 143, 127, 126, 107, 92, 159, 143, 130, 192, 179, 168, 204, 191, 179, 225, 210, 195, 204, 189, 174, 199, 189, 177, 213, 203, 193, 147, 131, 116, 189, 173, 158, 248, 244, 236, 253, 255, 254, 254, 254, 254, 254, 254, 254, 255, 255, 255, 255, 255, 255, 255, 255, 255, 255, 255, 255, 255, 255, 255, 255, 255, 255, 254, 254, 254, 255, 255, 255, 255, 255, 255, 255, 255, 255, 254, 254, 254, 255, 255, 255, 245, 243, 242, 161, 151, 145, 168, 152, 139, 200, 184, 170, 190, 176, 164, 153, 136, 121, 115, 96, 82, 125, 108, 94, 183, 167, 154, 204, 190, 176, 220, 202, 184, 203, 185, 169, 210, 203, 195, 230, 227, 219, 123, 107, 90, 170, 149, 129, 245, 237, 229, 254, 255, 255, 254, 254, 254, 255, 255, 255, 255, 255, 255, 255, 255, 255, 255, 255, 255, 255, 255, 255, 255, 255, 255, 255, 255, 255, 254, 254, 254, 255, 255, 255, 255, 255, 255, 255, 255, 255, 254, 254, 254, 255, 255, 255, 231, 226, 223, 117, 99, 88, 142, 121, 105, 193, 175, 159, 186, 173, 159, 139, 123, 109, 106, 88, 74, 114, 96, 82, 167, 149, 134, 193, 178, 163, 215, 195, 175, 201, 182, 164, 203, 199, 193, 224, 224, 218, 120, 105, 86, 165, 139, 116, 235, 222, 210, 255, 254, 253, 255, 255, 255, 255, 254, 254, 255, 255, 255, 255, 255, 255, 255, 255, 255, 255, 255, 255, 255, 255, 255, 255, 255, 255, 254, 254, 254, 255, 255, 255, 255, 255, 255, 255, 255, 255, 254, 254, 254, 255, 255, 255, 191, 184, 178, 124, 108, 92, 154, 136, 119, 170, 154, 136, 162, 149, 130, 125, 109, 88, 94, 77, 58, 110, 91, 78, 137, 118, 108, 178, 164, 149, 220, 200, 179, 206, 188, 168, 193, 193, 188, 238, 240, 236, 164, 152, 138, 144, 123, 100, 203, 179, 153, 229, 213, 192, 239, 232, 223, 253, 249, 251, 255, 254, 255, 253, 255, 252, 255, 255, 254, 255, 255, 255, 255, 255, 255, 255, 255, 255, 254, 254, 254, 255, 255, 255, 255, 255, 255, 255, 255, 255, 254, 254, 254, 254, 254, 254, 217, 214, 209, 170, 162, 149, 164, 156, 143, 153, 145, 132, 132, 123, 108, 136, 126, 107, 152, 142, 127, 168, 157, 148, 170, 158, 153, 186, 173, 160, 226, 206, 183, 223, 202, 179, 232, 223, 210, 252, 249, 242, 203, 195, 186, 139, 127, 111, 160, 143, 119, 174, 158, 134, 193, 184, 173, 247, 242, 244, 255, 254, 255, 253, 255, 251, 255, 255, 254, 255, 255, 255, 255, 255, 255, 255, 255, 255, 254, 254, 254, 255, 255, 255, 255, 255, 255, 255, 255, 255, 254, 254, 254, 253, 253, 253, 253, 252, 250, 245, 245, 239, 241, 240, 235, 232, 231, 226, 218, 217, 211, 224, 223, 214, 244, 243, 236, 251, 250, 247, 246, 243, 242, 215, 206, 196, 197, 179, 159, 186, 163, 139, 194, 173, 151, 225, 216, 204, 244, 240, 234, 228, 225, 218, 223, 221, 214, 228, 225, 217, 239, 235, 229, 252, 250, 251, 254, 254, 255, 254, 255, 252, 255, 255, 254, 255, 255, 255, 255, 255, 255, 255, 255, 255, 255, 255, 255, 255, 255, 255, 255, 255, 255, 255, 255, 255, 255, 255, 255, 255, 255, 255, 255, 255, 255, 255, 255, 255, 255, 255, 255, 255, 255, 255, 255, 255, 255, 255, 255, 255, 255, 255, 255, 255, 255, 255, 255, 255, 255, 247, 245, 237, 202, 194, 182, 189, 176, 160, 199, 184, 166, 223, 215, 205, 255, 255, 254, 255, 255, 255, 255, 255, 255, 255, 255, 255, 255, 255, 255, 255, 255, 255, 255, 255, 255, 255, 255, 255, 255, 255, 255, 255, 255, 255, 255, 255, 255], \"height\": 32, \"channels\": 3, \"width\": 32, \"type\": \"image\", \"id\": 139863840184464}, {\"format\": \"raw\", \"value\": [164, 141, 159, 163, 140, 158, 168, 145, 163, 181, 157, 175, 195, 172, 192, 199, 177, 196, 192, 169, 184, 180, 158, 171, 173, 149, 165, 171, 146, 166, 171, 147, 166, 171, 148, 166, 173, 150, 168, 178, 155, 173, 183, 160, 178, 186, 163, 181, 186, 163, 181, 185, 162, 180, 182, 159, 177, 181, 158, 176, 182, 159, 177, 182, 160, 179, 184, 163, 181, 185, 164, 183, 184, 164, 182, 181, 161, 179, 180, 160, 176, 180, 160, 176, 179, 158, 176, 180, 159, 178, 180, 158, 178, 179, 156, 176, 162, 139, 157, 163, 140, 158, 172, 149, 167, 188, 165, 183, 199, 176, 193, 198, 174, 188, 187, 162, 174, 174, 151, 163, 168, 147, 164, 165, 147, 167, 168, 146, 165, 171, 148, 166, 174, 151, 169, 180, 157, 175, 185, 162, 180, 186, 163, 181, 184, 161, 179, 183, 160, 178, 181, 158, 176, 181, 158, 176, 181, 159, 176, 182, 161, 177, 184, 163, 180, 186, 164, 181, 185, 162, 179, 181, 157, 175, 181, 158, 176, 179, 158, 177, 179, 157, 176, 180, 157, 177, 180, 157, 176, 178, 155, 174, 163, 140, 158, 166, 143, 161, 180, 157, 175, 195, 172, 191, 197, 169, 182, 162, 128, 134, 160, 124, 131, 177, 142, 153, 173, 147, 163, 166, 148, 167, 168, 147, 165, 173, 150, 168, 178, 155, 173, 183, 160, 178, 186, 163, 181, 184, 161, 179, 184, 161, 179, 183, 160, 178, 182, 159, 177, 182, 159, 177, 182, 159, 177, 183, 163, 178, 185, 164, 179, 188, 164, 181, 186, 159, 176, 188, 159, 177, 191, 159, 175, 183, 151, 166, 183, 153, 169, 184, 157, 175, 181, 157, 175, 178, 155, 174, 163, 140, 158, 171, 148, 166, 187, 164, 182, 201, 178, 197, 187, 153, 163, 121, 71, 70, 119, 67, 69, 144, 95, 103, 168, 132, 146, 170, 146, 165, 170, 148, 166, 175, 152, 170, 180, 157, 175, 184, 161, 179, 185, 162, 180, 184, 161, 179, 185, 162, 180, 182, 159, 177, 180, 157, 175, 182, 159, 177, 183, 161, 178, 182, 163, 176, 185, 165, 178, 188, 163, 178, 188, 159, 176, 186, 154, 171, 166, 123, 133, 138, 90, 97, 159, 119, 129, 188, 156, 170, 180, 156, 174, 178, 156, 175, 167, 144, 162, 179, 157, 175, 195, 172, 190, 201, 179, 197, 182, 147, 156, 127, 70, 69, 129, 65, 66, 120, 61, 65, 127, 82, 90, 164, 129, 141, 175, 150, 166, 177, 155, 173, 181, 160, 178, 184, 162, 180, 185, 162, 178, 185, 162, 177, 183, 161, 177, 181, 158, 174, 180, 158, 174, 182, 159, 175, 183, 161, 177, 184, 163, 178, 187, 167, 179, 187, 163, 174, 175, 141, 152, 144, 100, 111, 124, 70, 76, 121, 65, 66, 146, 100, 104, 185, 154, 166, 179, 157, 175, 178, 157, 176, 173, 150, 168, 189, 166, 184, 200, 177, 195, 197, 175, 193, 178, 145, 155, 131, 75, 76, 137, 69, 71, 124, 63, 63, 103, 53, 54, 121, 74, 80, 169, 136, 149, 182, 159, 176, 183, 162, 181, 184, 163, 180, 185, 163, 177, 185, 162, 175, 180, 158, 171, 179, 157, 170, 181, 159, 172, 182, 160, 173, 184, 162, 176, 187, 164, 181, 191, 167, 181, 165, 134, 143, 121, 77, 82, 118, 60, 64, 132, 72, 76, 138, 79, 78, 154, 106, 106, 182, 156, 167, 176, 159, 177, 179, 158, 175, 181, 158, 176, 197, 174, 192, 200, 177, 195, 190, 167, 186, 175, 142, 151, 139, 83, 83, 145, 76, 77, 134, 71, 70, 111, 57, 58, 99, 46, 51, 133, 91, 100, 185, 153, 166, 189, 162, 179, 185, 162, 179, 185, 163, 177, 184, 161, 174, 180, 158, 171, 180, 158, 171, 182, 160, 173, 183, 161, 174, 185, 163, 176, 189, 165, 177, 173, 137, 150, 124, 75, 86, 109, 54, 60, 120, 65, 67, 143, 85, 86, 145, 87, 85, 160, 114, 114, 181, 157, 169, 175, 158, 176, 182, 159, 175, 189, 166, 184, 200, 178, 196, 195, 172, 190, 182, 159, 178, 169, 136, 144, 140, 83, 81, 144, 74, 73, 141, 74, 73, 126, 67, 68, 112, 52, 58, 111, 57, 61, 162, 117, 125, 195, 161, 174, 188, 162, 177, 185, 162, 176, 183, 161, 174, 182, 159, 172, 181, 159, 172, 183, 161, 174, 183, 162, 175, 187, 164, 176, 178, 146, 155, 122, 73, 83, 113, 52, 61, 129, 65, 70, 133, 77, 76, 153, 95, 93, 151, 92, 89, 161, 118, 120, 180, 158, 172, 175, 158, 176, 184, 159, 174, 197, 174, 192, 200, 177, 195, 189, 166, 184, 176, 154, 172, 165, 132, 140, 134, 77, 73, 138, 66, 64, 137, 66, 64, 126, 63, 64, 125, 58, 63, 120, 54, 54, 121, 65, 68, 177, 136, 146, 190, 162, 176, 183, 162, 175, 182, 161, 174, 182, 160, 174, 181, 160, 173, 184, 162, 176, 185, 164, 178, 188, 161, 173, 146, 98, 105, 110, 53, 59, 126, 65, 69, 133, 70, 71, 139, 75, 75, 151, 87, 85, 147, 88, 84, 166, 124, 128, 179, 160, 176, 178, 160, 178, 187, 161, 175, 201, 178, 196, 195, 172, 190, 181, 158, 176, 171, 148, 167, 168, 136, 144, 138, 82, 78, 132, 58, 56, 130, 57, 55, 114, 49, 50, 119, 50, 56, 125, 53, 51, 109, 46, 44, 158, 110, 115, 192, 159, 168, 185, 160, 171, 185, 161, 171, 186, 161, 170, 188, 163, 174, 189, 164, 176, 190, 167, 178, 180, 145, 155, 131, 68, 75, 122, 59, 62, 122, 65, 65, 120, 60, 59, 136, 65, 65, 142, 72, 69, 136, 78, 74, 170, 131, 137, 181, 161, 179, 180, 161, 179, 190, 163, 177, 200, 177, 195, 187, 164, 182, 175, 152, 170, 169, 146, 165, 171, 143, 152, 144, 94, 91, 127, 53, 52, 122, 45, 45, 109, 45, 49, 103, 41, 51, 117, 53, 51, 145, 80, 72, 185, 121, 113, 197, 138, 133, 191, 138, 136, 186, 132, 128, 182, 128, 121, 184, 134, 131, 187, 139, 137, 192, 141, 138, 184, 127, 121, 148, 81, 76, 120, 56, 56, 114, 53, 57, 118, 53, 55, 126, 54, 51, 131, 58, 51, 141, 88, 86, 177, 147, 158, 182, 159, 181, 183, 160, 180, 187, 164, 179, 196, 173, 191, 179, 156, 174, 171, 148, 166, 168, 146, 164, 172, 145, 155, 148, 101, 102, 121, 48, 50, 119, 42, 42, 103, 36, 40, 95, 31, 40, 127, 63, 61, 176, 110, 99, 191, 120, 107, 196, 123, 110, 195, 124, 111, 186, 109, 97, 175, 92, 82, 172, 94, 86, 179, 103, 94, 188, 109, 97, 189, 112, 97, 170, 103, 91, 129, 66, 63, 108, 43, 47, 114, 45, 49, 118, 45, 43, 121, 51, 45, 155, 108, 108, 185, 160, 172, 182, 157, 179, 186, 161, 180, 187, 166, 181, 188, 165, 183, 173, 150, 168, 169, 146, 164, 168, 145, 163, 172, 147, 159, 157, 114, 120, 118, 49, 55, 114, 41, 42, 103, 36, 36, 119, 51, 51, 158, 91, 85, 182, 113, 103, 182, 109, 96, 186, 109, 93, 191, 111, 93, 185, 97, 81, 166, 73, 60, 169, 79, 65, 178, 92, 75, 185, 100, 81, 185, 105, 85, 178, 113, 98, 155, 92, 85, 114, 47, 47, 109, 39, 41, 112, 41, 41, 112, 50, 50, 164, 125, 129, 185, 162, 174, 181, 157, 177, 188, 163, 180, 187, 167, 181, 179, 156, 174, 168, 145, 163, 168, 145, 163, 169, 146, 164, 171, 149, 162, 170, 136, 144, 134, 76, 84, 104, 40, 42, 116, 53, 46, 164, 95, 86, 184, 111, 101, 172, 99, 89, 168, 94, 83, 176, 98, 83, 184, 101, 83, 169, 83, 64, 147, 61, 42, 151, 67, 45, 167, 87, 64, 175, 101, 79, 172, 103, 83, 173, 106, 91, 177, 108, 99, 148, 79, 75, 110, 43, 42, 105, 42, 42, 129, 78, 83, 180, 149, 158, 180, 161, 173, 183, 159, 177, 190, 165, 180, 187, 167, 180, 172, 149, 167, 167, 145, 162, 168, 145, 163, 169, 146, 164, 170, 152, 165, 180, 157, 165, 182, 135, 144, 130, 76, 75, 145, 88, 76, 190, 123, 105, 186, 109, 94, 171, 96, 86, 161, 89, 81, 156, 83, 73, 167, 89, 75, 154, 73, 55, 139, 57, 35, 141, 60, 37, 155, 77, 58, 164, 95, 82, 157, 92, 82, 166, 94, 81, 177, 101, 90, 177, 104, 98, 128, 64, 61, 128, 75, 73, 178, 136, 144, 185, 160, 173, 178, 161, 173, 185, 161, 177, 191, 165, 179, 188, 168, 180, 169, 146, 162, 167, 145, 160, 168, 146, 161, 171, 148, 164, 173, 155, 168, 180, 162, 172, 194, 163, 173, 187, 145, 148, 188, 134, 126, 195, 127, 111, 181, 106, 93, 156, 90, 87, 109, 54, 58, 88, 31, 35, 125, 59, 54, 136, 62, 51, 125, 48, 33, 128, 49, 33, 140, 66, 54, 132, 69, 68, 100, 46, 51, 134, 74, 75, 172, 97, 90, 185, 111, 104, 164, 107, 107, 177, 137, 141, 196, 165, 177, 183, 160, 176, 179, 159, 175, 186, 162, 179, 191, 167, 183, 189, 167, 182, 167, 145, 158, 166, 144, 157, 170, 148, 161, 176, 154, 167, 181, 160, 172, 185, 166, 178, 189, 166, 180, 197, 164, 174, 206, 154, 153, 197, 131, 121, 154, 90, 85, 99, 51, 59, 60, 27, 46, 54, 20, 38, 81, 35, 41, 106, 46, 45, 112, 45, 40, 108, 41, 34, 105, 47, 44, 84, 40, 48, 52, 22, 39, 72, 39, 52, 128, 73, 71, 172, 111, 105, 188, 146, 150, 190, 166, 175, 186, 165, 180, 182, 159, 177, 182, 159, 177, 186, 163, 181, 191, 168, 186, 189, 166, 183, 168, 146, 159, 168, 146, 159, 174, 152, 165, 181, 159, 172, 185, 163, 176, 187, 166, 180, 189, 166, 182, 193, 163, 174, 205, 158, 159, 200, 140, 134, 143, 86, 86, 87, 44, 54, 63, 34, 53, 58, 33, 52, 62, 32, 42, 87, 36, 40, 113, 48, 47, 103, 43, 42, 79, 33, 36, 59, 31, 41, 50, 34, 51, 61, 38, 55, 94, 52, 55, 156, 112, 111, 187, 159, 166, 184, 169, 180, 184, 165, 181, 182, 159, 177, 183, 160, 178, 187, 164, 182, 191, 168, 186, 189, 166, 183, 169, 147, 160, 171, 149, 162, 179, 157, 170, 185, 163, 176, 187, 164, 178, 188, 166, 181, 187, 165, 183, 189, 162, 176, 198, 158, 163, 199, 146, 142, 174, 114, 109, 115, 62, 63, 74, 32, 39, 66, 31, 39, 68, 32, 39, 103, 48, 50, 135, 65, 64, 124, 62, 60, 90, 41, 41, 64, 29, 33, 59, 32, 43, 73, 36, 53, 120, 70, 76, 173, 127, 131, 189, 159, 173, 189, 166, 184, 185, 162, 180, 181, 158, 176, 183, 160, 178, 188, 165, 183, 192, 169, 187, 189, 166, 184, 169, 147, 160, 175, 153, 166, 183, 161, 173, 187, 166, 178, 190, 166, 180, 189, 165, 181, 185, 164, 183, 185, 161, 178, 195, 161, 169, 203, 156, 154, 194, 135, 126, 164, 104, 96, 116, 59, 57, 88, 36, 38, 87, 38, 45, 113, 58, 65, 128, 66, 71, 124, 66, 70, 109, 56, 60, 85, 37, 41, 87, 39, 44, 119, 62, 68, 169, 107, 104, 191, 142, 142, 190, 161, 174, 190, 165, 185, 184, 160, 179, 180, 158, 176, 184, 160, 179, 189, 166, 184, 192, 169, 187, 188, 165, 184, 174, 151, 165, 180, 158, 172, 186, 164, 178, 190, 168, 182, 191, 167, 181, 187, 162, 179, 185, 163, 183, 184, 162, 180, 191, 160, 170, 204, 163, 163, 197, 144, 138, 192, 137, 130, 157, 102, 101, 104, 51, 58, 92, 42, 56, 105, 57, 74, 114, 67, 85, 115, 69, 86, 109, 62, 76, 97, 47, 58, 122, 68, 74, 169, 109, 106, 188, 128, 116, 194, 151, 145, 187, 166, 176, 184, 167, 184, 181, 160, 177, 180, 157, 175, 185, 162, 180, 190, 167, 185, 191, 168, 186, 187, 164, 183, 178, 155, 173, 184, 161, 178, 189, 166, 183, 191, 168, 185, 189, 166, 181, 186, 162, 177, 185, 162, 182, 186, 161, 182, 189, 158, 169, 200, 162, 163, 199, 151, 148, 196, 149, 148, 151, 107, 114, 102, 59, 72, 101, 57, 73, 102, 59, 78, 104, 63, 86, 109, 69, 92, 107, 67, 87, 101, 57, 72, 125, 78, 87, 175, 127, 129, 187, 136, 131, 192, 152, 153, 187, 166, 180, 183, 166, 183, 180, 158, 175, 180, 157, 175, 185, 162, 180, 191, 168, 186, 191, 168, 186, 186, 163, 181, 184, 160, 179, 189, 166, 184, 191, 168, 186, 190, 167, 185, 186, 163, 178, 185, 161, 176, 185, 162, 182, 183, 159, 179, 188, 158, 171, 195, 158, 162, 196, 148, 148, 184, 137, 141, 127, 85, 97, 92, 50, 68, 112, 69, 89, 85, 44, 62, 71, 34, 51, 70, 36, 55, 81, 46, 66, 105, 66, 83, 111, 68, 81, 165, 120, 123, 189, 137, 134, 182, 140, 144, 187, 164, 179, 184, 163, 181, 179, 156, 173, 180, 157, 175, 186, 163, 181, 191, 168, 186, 190, 167, 185, 185, 162, 180, 188, 165, 183, 191, 168, 186, 190, 167, 185, 186, 163, 182, 185, 162, 178, 186, 162, 178, 184, 161, 179, 182, 160, 178, 188, 161, 176, 188, 155, 163, 189, 142, 145, 176, 129, 136, 124, 82, 96, 104, 62, 83, 122, 78, 101, 92, 53, 69, 74, 42, 54, 71, 40, 57, 92, 60, 78, 114, 77, 96, 109, 66, 83, 165, 116, 119, 193, 137, 133, 141, 96, 99, 153, 126, 140, 185, 162, 178, 178, 154, 171, 180, 157, 175, 188, 165, 183, 191, 168, 186, 188, 165, 183, 184, 161, 179, 193, 169, 188, 190, 167, 185, 188, 165, 183, 185, 162, 180, 187, 162, 180, 187, 162, 179, 183, 162, 178, 183, 164, 180, 188, 165, 181, 185, 155, 169, 185, 139, 143, 185, 138, 143, 134, 92, 105, 114, 72, 91, 119, 76, 97, 90, 50, 68, 72, 37, 52, 72, 39, 56, 97, 63, 82, 121, 83, 101, 123, 80, 94, 170, 117, 120, 183, 124, 120, 123, 75, 77, 87, 57, 71, 160, 135, 151, 181, 156, 172, 181, 158, 176, 189, 166, 184, 191, 168, 186, 186, 163, 181, 182, 159, 177, 191, 168, 186, 187, 164, 182, 186, 163, 181, 184, 162, 180, 187, 162, 180, 187, 161, 178, 184, 163, 178, 184, 165, 180, 186, 165, 182, 187, 160, 176, 187, 142, 143, 187, 140, 141, 169, 127, 136, 137, 96, 110, 122, 80, 96, 103, 60, 79, 86, 46, 67, 91, 53, 75, 109, 70, 90, 129, 87, 102, 157, 110, 120, 178, 122, 124, 168, 106, 102, 151, 101, 102, 117, 84, 97, 120, 92, 107, 178, 153, 169, 184, 161, 179, 190, 167, 185, 189, 166, 184, 184, 161, 179, 180, 157, 175, 188, 165, 183, 185, 162, 180, 185, 162, 180, 185, 162, 180, 184, 161, 180, 185, 162, 180, 186, 164, 181, 187, 164, 180, 184, 162, 180, 184, 157, 173, 178, 132, 131, 190, 139, 137, 192, 146, 151, 186, 143, 151, 170, 129, 138, 146, 103, 114, 130, 84, 99, 137, 93, 109, 159, 116, 131, 164, 122, 136, 176, 129, 139, 180, 120, 120, 169, 103, 101, 158, 101, 104, 174, 131, 141, 161, 128, 140, 177, 150, 163, 186, 163, 178, 191, 168, 186, 187, 163, 183, 185, 158, 176, 183, 155, 174, 187, 164, 182, 184, 161, 179, 185, 162, 180, 184, 161, 179, 183, 161, 179, 184, 163, 182, 184, 162, 179, 183, 159, 175, 185, 162, 178, 184, 156, 169, 165, 114, 114, 187, 131, 132, 195, 145, 152, 187, 143, 152, 176, 138, 145, 160, 119, 128, 156, 111, 122, 157, 111, 123, 169, 122, 133, 171, 124, 136, 179, 128, 136, 173, 108, 106, 149, 80, 79, 163, 100, 102, 182, 129, 132, 182, 139, 142, 185, 153, 160, 189, 163, 176, 189, 166, 185, 184, 161, 182, 183, 156, 176, 182, 155, 175, 185, 162, 180, 182, 159, 177, 182, 159, 177, 184, 161, 179, 184, 161, 179, 182, 160, 178, 181, 160, 178, 184, 161, 178, 187, 162, 176, 197, 163, 174, 169, 113, 117, 166, 106, 112, 187, 135, 146, 178, 134, 147, 175, 137, 148, 161, 123, 136, 154, 112, 128, 154, 108, 122, 154, 104, 114, 165, 110, 118, 171, 112, 115, 146, 80, 78, 136, 68, 65, 176, 111, 108, 191, 131, 127, 185, 131, 125, 185, 143, 144, 193, 162, 173, 190, 164, 182, 181, 159, 180, 177, 156, 178, 178, 155, 176, 182, 159, 177, 182, 159, 177, 183, 160, 178, 183, 160, 178, 183, 160, 177, 181, 159, 176, 180, 160, 179, 184, 162, 180, 189, 160, 173, 203, 164, 170, 192, 134, 137, 141, 81, 88, 152, 98, 110, 167, 120, 134, 168, 126, 139, 156, 115, 130, 150, 106, 124, 147, 99, 112, 146, 92, 101, 149, 90, 95, 134, 71, 72, 130, 62, 59, 160, 94, 89, 186, 123, 115, 193, 131, 121, 195, 134, 123, 186, 134, 129, 189, 147, 152, 190, 158, 170, 181, 157, 175, 174, 155, 175, 175, 155, 175, 182, 159, 177, 183, 160, 178, 183, 160, 178, 181, 158, 177, 183, 159, 176, 182, 159, 177, 178, 159, 179, 181, 161, 179, 191, 160, 171, 201, 160, 161, 208, 155, 152, 174, 118, 120, 130, 75, 84, 116, 65, 77, 115, 65, 77, 117, 69, 82, 112, 63, 79, 104, 51, 64, 106, 48, 57, 115, 54, 60, 129, 63, 66, 152, 82, 78, 179, 115, 106, 187, 129, 120, 189, 133, 122, 193, 134, 125, 190, 129, 120, 188, 132, 130, 182, 140, 146, 180, 151, 164, 175, 154, 170, 174, 153, 172, 182, 159, 177, 181, 158, 176, 181, 158, 176, 181, 158, 176, 182, 158, 177, 183, 158, 177, 182, 160, 180, 183, 161, 180, 189, 157, 168, 202, 157, 156, 208, 158, 152, 204, 153, 151, 183, 133, 137, 144, 93, 102, 117, 66, 76, 105, 54, 65, 99, 48, 61, 105, 53, 65, 126, 70, 79, 154, 95, 100, 165, 100, 102, 165, 98, 93, 180, 117, 110, 184, 128, 120, 187, 133, 126, 187, 131, 125, 191, 129, 120, 192, 130, 122, 179, 128, 127, 177, 138, 146, 179, 153, 167, 172, 151, 169], \"height\": 32, \"channels\": 3, \"width\": 32, \"type\": \"image\", \"id\": 139863129605072}, {\"format\": \"raw\", \"value\": [242, 241, 243, 233, 234, 236, 236, 237, 239, 219, 220, 222, 182, 183, 185, 231, 232, 234, 236, 237, 239, 237, 238, 240, 224, 225, 227, 214, 215, 216, 237, 237, 237, 237, 237, 237, 238, 238, 238, 238, 238, 238, 237, 237, 237, 236, 236, 236, 236, 237, 238, 237, 237, 239, 236, 236, 238, 237, 236, 238, 237, 237, 239, 236, 236, 238, 237, 237, 238, 238, 238, 238, 237, 238, 237, 237, 239, 238, 237, 240, 240, 184, 183, 187, 146, 134, 139, 209, 212, 213, 234, 234, 236, 194, 195, 195, 236, 237, 239, 229, 231, 233, 230, 231, 233, 236, 237, 239, 190, 191, 193, 199, 200, 201, 233, 234, 236, 229, 230, 233, 216, 217, 222, 224, 225, 229, 235, 235, 235, 234, 234, 234, 235, 235, 235, 235, 235, 235, 234, 234, 234, 233, 233, 233, 233, 232, 234, 233, 233, 235, 237, 239, 240, 235, 235, 237, 233, 233, 235, 234, 234, 236, 234, 235, 236, 235, 235, 235, 233, 234, 234, 233, 235, 234, 231, 234, 234, 195, 201, 203, 200, 199, 201, 190, 194, 195, 173, 172, 174, 210, 211, 211, 221, 224, 228, 227, 232, 234, 233, 234, 236, 237, 237, 239, 220, 221, 223, 180, 182, 180, 225, 226, 227, 221, 224, 231, 209, 213, 218, 232, 233, 234, 236, 236, 236, 237, 237, 237, 237, 237, 237, 237, 237, 237, 237, 237, 237, 235, 235, 235, 238, 237, 238, 228, 224, 226, 205, 200, 203, 221, 220, 223, 238, 238, 240, 235, 235, 237, 236, 236, 238, 236, 237, 239, 235, 236, 238, 236, 237, 238, 227, 230, 232, 169, 169, 175, 176, 173, 176, 175, 177, 176, 155, 153, 154, 204, 202, 204, 163, 163, 168, 215, 220, 221, 233, 235, 236, 234, 233, 236, 237, 238, 240, 204, 206, 206, 179, 180, 182, 199, 203, 209, 212, 218, 220, 235, 237, 233, 235, 235, 235, 237, 237, 237, 237, 237, 237, 237, 237, 237, 237, 237, 237, 237, 239, 238, 223, 223, 221, 138, 116, 121, 96, 76, 83, 134, 127, 132, 201, 202, 204, 243, 243, 245, 236, 237, 239, 236, 237, 239, 236, 237, 239, 237, 237, 239, 220, 224, 228, 166, 167, 175, 152, 148, 150, 207, 213, 213, 180, 185, 187, 138, 134, 138, 146, 150, 156, 187, 192, 196, 233, 235, 238, 233, 234, 237, 233, 234, 237, 234, 234, 237, 170, 171, 174, 135, 139, 139, 216, 222, 219, 237, 238, 236, 234, 235, 234, 236, 236, 236, 236, 237, 238, 237, 237, 238, 237, 237, 238, 236, 237, 236, 158, 142, 142, 79, 56, 58, 58, 50, 52, 53, 46, 49, 124, 119, 121, 211, 209, 212, 237, 236, 239, 236, 236, 239, 236, 236, 239, 234, 236, 238, 220, 221, 225, 170, 166, 173, 196, 201, 202, 189, 193, 197, 159, 159, 163, 191, 194, 196, 209, 212, 222, 197, 200, 210, 211, 214, 219, 227, 231, 235, 234, 235, 240, 238, 239, 241, 214, 215, 216, 151, 153, 155, 225, 227, 226, 238, 240, 240, 236, 239, 238, 235, 237, 237, 232, 233, 238, 226, 228, 231, 232, 237, 238, 218, 214, 214, 130, 110, 110, 119, 106, 107, 122, 119, 121, 94, 83, 83, 93, 83, 83, 164, 162, 166, 216, 217, 222, 221, 224, 228, 220, 223, 226, 215, 220, 223, 180, 179, 185, 151, 144, 149, 216, 219, 222, 153, 149, 157, 202, 199, 203, 241, 243, 245, 227, 230, 240, 222, 226, 228, 211, 214, 218, 208, 215, 219, 218, 223, 228, 236, 238, 239, 220, 221, 221, 160, 163, 168, 209, 215, 216, 225, 231, 233, 220, 226, 229, 218, 224, 226, 210, 216, 220, 197, 203, 207, 214, 221, 225, 186, 176, 176, 131, 111, 108, 141, 128, 129, 173, 166, 168, 112, 110, 112, 69, 69, 69, 213, 217, 219, 223, 230, 232, 227, 234, 233, 229, 233, 232, 209, 211, 211, 157, 156, 160, 189, 186, 191, 153, 150, 160, 182, 182, 189, 242, 243, 245, 236, 236, 238, 232, 234, 239, 230, 233, 233, 231, 233, 235, 220, 227, 230, 205, 212, 215, 222, 226, 228, 220, 221, 223, 149, 152, 155, 195, 201, 203, 213, 218, 220, 211, 215, 217, 219, 224, 226, 223, 228, 230, 226, 233, 233, 217, 216, 218, 155, 137, 133, 122, 98, 91, 128, 105, 101, 119, 98, 100, 94, 80, 86, 115, 112, 114, 224, 224, 227, 238, 239, 241, 241, 241, 241, 208, 208, 207, 155, 156, 155, 189, 191, 195, 152, 149, 158, 170, 168, 174, 201, 204, 210, 211, 216, 220, 235, 237, 239, 227, 228, 230, 233, 234, 236, 232, 233, 235, 234, 237, 239, 226, 230, 234, 209, 214, 217, 201, 203, 207, 179, 181, 180, 232, 235, 236, 235, 234, 236, 235, 235, 235, 238, 238, 238, 240, 239, 240, 232, 231, 232, 157, 142, 138, 118, 94, 88, 125, 100, 93, 90, 68, 66, 75, 45, 46, 100, 66, 68, 146, 134, 136, 189, 187, 190, 234, 234, 236, 242, 242, 244, 185, 184, 185, 172, 174, 175, 183, 189, 192, 166, 168, 173, 234, 240, 242, 212, 214, 220, 172, 179, 186, 229, 235, 235, 235, 236, 238, 233, 234, 236, 233, 234, 236, 232, 233, 235, 236, 236, 237, 228, 231, 233, 161, 163, 167, 164, 166, 166, 236, 240, 240, 235, 235, 236, 236, 236, 236, 235, 234, 235, 239, 240, 239, 186, 171, 171, 107, 81, 79, 112, 88, 83, 103, 82, 76, 95, 77, 76, 136, 117, 114, 144, 121, 120, 110, 98, 102, 139, 137, 140, 216, 216, 218, 220, 220, 222, 184, 184, 185, 208, 208, 210, 154, 155, 160, 212, 214, 219, 200, 205, 208, 223, 225, 232, 196, 203, 210, 217, 226, 225, 240, 241, 243, 232, 233, 235, 232, 233, 235, 233, 234, 235, 234, 234, 234, 238, 241, 241, 174, 177, 180, 163, 166, 166, 237, 241, 241, 235, 234, 236, 236, 236, 235, 238, 238, 240, 223, 220, 221, 136, 114, 108, 96, 75, 72, 108, 82, 75, 104, 79, 75, 123, 100, 98, 129, 104, 103, 99, 77, 81, 81, 72, 77, 136, 132, 135, 202, 202, 203, 186, 182, 184, 211, 213, 213, 186, 185, 188, 175, 176, 180, 231, 232, 237, 176, 181, 185, 222, 224, 228, 229, 233, 237, 224, 230, 231, 239, 240, 242, 231, 232, 234, 232, 233, 235, 233, 234, 236, 233, 233, 236, 235, 238, 239, 198, 199, 202, 171, 173, 174, 235, 238, 238, 235, 234, 236, 236, 236, 236, 243, 243, 243, 190, 182, 186, 114, 99, 102, 101, 88, 87, 97, 75, 71, 92, 65, 63, 90, 60, 55, 86, 52, 52, 53, 35, 39, 96, 91, 94, 148, 139, 142, 180, 180, 181, 196, 194, 193, 214, 218, 216, 133, 127, 131, 195, 196, 200, 233, 236, 239, 182, 186, 191, 219, 221, 223, 237, 238, 240, 236, 237, 239, 238, 239, 241, 231, 232, 234, 232, 233, 235, 233, 234, 236, 232, 233, 236, 237, 239, 240, 197, 195, 199, 153, 152, 154, 224, 227, 228, 237, 237, 239, 235, 235, 235, 239, 238, 238, 168, 159, 160, 115, 100, 103, 121, 102, 97, 112, 89, 83, 110, 84, 79, 105, 77, 68, 90, 66, 65, 94, 85, 90, 132, 123, 129, 150, 138, 142, 154, 148, 151, 171, 167, 167, 136, 134, 135, 123, 120, 123, 185, 187, 190, 190, 191, 194, 156, 154, 162, 173, 173, 176, 225, 226, 228, 237, 238, 240, 238, 239, 241, 231, 232, 234, 232, 233, 235, 233, 234, 236, 232, 233, 235, 239, 240, 242, 198, 194, 199, 157, 157, 159, 227, 229, 232, 234, 234, 238, 233, 233, 236, 227, 224, 225, 152, 141, 140, 110, 93, 90, 108, 82, 78, 123, 97, 89, 101, 77, 73, 88, 69, 68, 96, 85, 90, 147, 140, 147, 152, 144, 151, 161, 154, 156, 133, 123, 124, 112, 102, 103, 144, 140, 141, 225, 228, 229, 223, 227, 229, 207, 209, 214, 177, 176, 186, 148, 152, 154, 167, 172, 172, 193, 197, 198, 238, 239, 241, 231, 232, 234, 232, 233, 235, 233, 234, 236, 232, 233, 235, 237, 238, 241, 193, 191, 196, 177, 178, 179, 238, 239, 244, 227, 229, 234, 229, 232, 235, 210, 202, 204, 127, 112, 110, 91, 75, 69, 113, 84, 74, 96, 69, 63, 70, 54, 54, 94, 80, 82, 120, 108, 116, 129, 120, 127, 153, 147, 151, 154, 147, 149, 119, 113, 115, 136, 134, 136, 219, 220, 221, 239, 240, 242, 236, 237, 240, 228, 231, 236, 226, 230, 235, 226, 230, 231, 216, 220, 221, 154, 159, 159, 239, 239, 241, 231, 232, 234, 232, 233, 235, 232, 233, 235, 233, 234, 236, 235, 236, 239, 184, 182, 187, 184, 185, 186, 239, 240, 244, 223, 227, 231, 225, 229, 232, 176, 165, 167, 111, 97, 91, 106, 83, 76, 114, 83, 74, 87, 66, 62, 79, 70, 69, 108, 95, 97, 117, 102, 108, 112, 100, 104, 146, 136, 136, 119, 108, 112, 90, 82, 89, 182, 181, 186, 239, 240, 244, 233, 234, 236, 233, 234, 238, 222, 226, 229, 227, 230, 229, 235, 235, 237, 239, 240, 242, 200, 205, 206, 235, 234, 237, 233, 233, 236, 232, 233, 235, 232, 233, 235, 233, 234, 236, 231, 232, 236, 166, 163, 168, 191, 193, 192, 236, 238, 241, 220, 224, 230, 210, 210, 217, 141, 129, 127, 87, 73, 68, 92, 73, 68, 92, 71, 67, 82, 69, 66, 87, 78, 78, 103, 92, 93, 112, 100, 102, 94, 79, 82, 101, 90, 92, 143, 143, 146, 158, 157, 164, 216, 213, 221, 235, 234, 241, 234, 235, 239, 232, 235, 240, 220, 225, 230, 229, 231, 232, 235, 235, 237, 235, 236, 241, 208, 212, 217, 163, 159, 160, 236, 236, 238, 231, 233, 235, 232, 233, 235, 235, 237, 238, 231, 232, 238, 167, 164, 172, 193, 194, 195, 230, 232, 234, 217, 218, 225, 179, 173, 180, 114, 100, 101, 78, 65, 66, 67, 54, 55, 68, 56, 53, 80, 68, 68, 83, 74, 75, 97, 86, 88, 103, 90, 93, 74, 63, 64, 139, 137, 139, 210, 217, 223, 202, 208, 216, 203, 209, 215, 221, 225, 231, 232, 233, 238, 229, 232, 237, 217, 223, 227, 231, 232, 235, 234, 235, 238, 232, 233, 240, 175, 174, 181, 71, 62, 63, 193, 191, 192, 243, 244, 246, 236, 236, 239, 229, 229, 233, 210, 208, 218, 158, 153, 165, 183, 184, 186, 233, 236, 238, 214, 213, 220, 120, 108, 112, 71, 58, 62, 63, 53, 56, 62, 53, 53, 66, 59, 57, 70, 58, 61, 77, 65, 68, 86, 67, 72, 79, 62, 65, 82, 75, 76, 220, 222, 222, 237, 239, 242, 214, 216, 222, 213, 219, 225, 227, 231, 236, 234, 235, 240, 225, 228, 233, 216, 222, 226, 232, 234, 236, 233, 235, 238, 225, 225, 231, 147, 141, 146, 113, 104, 113, 125, 116, 122, 164, 158, 162, 174, 169, 179, 192, 189, 204, 193, 186, 201, 148, 141, 151, 165, 162, 169, 222, 221, 227, 179, 172, 175, 80, 65, 67, 65, 55, 56, 76, 65, 69, 73, 62, 66, 49, 44, 45, 69, 58, 61, 68, 57, 61, 67, 52, 57, 62, 43, 47, 101, 92, 100, 223, 223, 225, 237, 238, 239, 219, 222, 227, 220, 224, 229, 235, 236, 239, 234, 235, 240, 218, 221, 227, 214, 219, 224, 233, 234, 237, 236, 238, 243, 207, 211, 214, 150, 149, 150, 215, 210, 219, 161, 156, 161, 61, 51, 56, 125, 116, 123, 223, 225, 231, 234, 235, 240, 174, 170, 175, 172, 166, 178, 156, 147, 162, 100, 86, 88, 76, 68, 69, 126, 121, 125, 190, 186, 185, 172, 167, 171, 71, 66, 67, 77, 72, 73, 79, 72, 77, 60, 49, 55, 88, 67, 75, 157, 152, 157, 212, 219, 223, 225, 229, 233, 219, 225, 230, 220, 224, 228, 235, 236, 239, 234, 235, 240, 218, 221, 226, 215, 221, 226, 234, 235, 237, 238, 239, 244, 190, 189, 195, 164, 164, 170, 243, 245, 246, 219, 224, 224, 143, 141, 144, 93, 80, 85, 181, 179, 177, 238, 239, 241, 183, 184, 187, 196, 198, 199, 139, 133, 139, 112, 101, 103, 173, 170, 171, 203, 203, 211, 207, 207, 216, 214, 212, 221, 147, 142, 145, 166, 163, 166, 132, 125, 133, 108, 101, 110, 116, 105, 111, 197, 197, 198, 211, 218, 225, 210, 217, 223, 197, 203, 209, 202, 206, 211, 233, 235, 239, 233, 235, 240, 221, 224, 230, 218, 223, 228, 233, 235, 238, 233, 234, 239, 177, 172, 180, 188, 189, 199, 228, 230, 234, 212, 217, 219, 213, 215, 215, 134, 127, 134, 85, 80, 79, 190, 190, 191, 191, 193, 195, 156, 150, 153, 106, 101, 102, 178, 179, 184, 240, 240, 243, 233, 233, 237, 210, 208, 217, 193, 189, 202, 164, 157, 169, 125, 116, 124, 118, 111, 117, 167, 162, 170, 152, 146, 148, 220, 226, 227, 218, 223, 228, 227, 231, 237, 198, 202, 208, 197, 200, 207, 217, 220, 227, 223, 226, 233, 221, 225, 231, 221, 227, 231, 235, 237, 243, 217, 218, 222, 184, 182, 188, 210, 214, 223, 162, 160, 163, 209, 208, 212, 198, 200, 200, 208, 211, 218, 149, 147, 149, 111, 103, 106, 151, 146, 147, 102, 93, 94, 144, 145, 150, 204, 214, 220, 223, 227, 232, 227, 229, 233, 240, 239, 240, 220, 222, 228, 184, 182, 195, 104, 92, 100, 106, 99, 102, 156, 147, 148, 174, 169, 175, 210, 218, 225, 225, 227, 232, 235, 236, 240, 220, 222, 227, 217, 220, 228, 225, 228, 235, 216, 219, 226, 212, 216, 222, 223, 229, 233, 234, 235, 239, 201, 203, 203, 199, 203, 210, 214, 220, 229, 153, 151, 152, 133, 125, 129, 133, 128, 129, 183, 185, 190, 228, 228, 231, 125, 116, 120, 66, 57, 57, 123, 120, 121, 205, 208, 217, 213, 219, 225, 215, 220, 224, 215, 220, 226, 217, 220, 227, 215, 219, 226, 168, 168, 173, 88, 79, 87, 114, 103, 114, 128, 116, 120, 190, 190, 197, 213, 220, 228, 232, 232, 237, 234, 234, 237, 220, 222, 227, 219, 223, 229, 233, 235, 240, 227, 230, 236, 205, 210, 216, 220, 225, 230, 225, 227, 231, 197, 199, 200, 220, 225, 232, 216, 221, 230, 200, 201, 205, 168, 167, 170, 190, 192, 191, 148, 150, 151, 154, 149, 153, 111, 104, 108, 74, 68, 70, 79, 72, 73, 161, 156, 162, 226, 226, 230, 226, 229, 231, 208, 215, 222, 209, 214, 224, 190, 190, 198, 101, 98, 101, 171, 169, 172, 140, 133, 140, 141, 130, 133, 234, 236, 237, 231, 236, 236, 230, 232, 236, 235, 235, 240, 218, 222, 227, 220, 225, 229, 233, 234, 237, 231, 234, 238, 209, 216, 219, 211, 215, 220, 200, 203, 205, 207, 208, 213, 232, 233, 238, 219, 221, 230, 180, 181, 182, 195, 201, 202, 240, 245, 248, 210, 211, 213, 127, 121, 125, 128, 121, 124, 126, 121, 123, 106, 100, 102, 78, 70, 74, 179, 175, 175, 235, 238, 240, 211, 217, 223, 188, 190, 197, 113, 111, 116, 150, 150, 156, 239, 239, 246, 152, 146, 149, 162, 159, 162, 233, 237, 242, 225, 228, 232, 227, 229, 233, 233, 233, 238, 217, 221, 227, 219, 224, 228, 234, 235, 239, 204, 205, 206, 181, 184, 183, 189, 196, 198, 152, 154, 149, 226, 227, 231, 232, 234, 239, 222, 224, 233, 190, 195, 197, 214, 219, 222, 231, 231, 240, 168, 170, 170, 178, 179, 181, 201, 198, 201, 110, 105, 108, 111, 105, 111, 69, 59, 66, 68, 56, 60, 178, 176, 179, 218, 222, 227, 142, 140, 146, 91, 91, 93, 197, 202, 209, 217, 219, 227, 143, 137, 137, 191, 193, 195, 220, 223, 232, 219, 226, 232, 217, 222, 228, 226, 228, 236, 223, 226, 232, 227, 230, 234, 220, 224, 229, 182, 186, 191, 171, 174, 177, 178, 185, 187, 171, 172, 169, 235, 235, 240, 233, 234, 239, 224, 227, 235, 157, 158, 158, 220, 224, 227, 205, 210, 218, 144, 148, 146, 226, 227, 229, 201, 200, 205, 160, 157, 161, 184, 181, 187, 150, 146, 150, 52, 44, 49, 58, 48, 54, 134, 130, 134, 80, 75, 80, 161, 165, 169, 208, 215, 223, 193, 194, 200, 145, 140, 140, 210, 214, 218, 200, 203, 212, 211, 218, 223, 211, 216, 224, 218, 222, 232, 225, 228, 235, 232, 233, 238, 221, 226, 231, 213, 220, 227, 204, 209, 217, 185, 191, 195, 201, 203, 204, 236, 237, 243, 233, 234, 238, 227, 231, 237, 162, 158, 161, 166, 165, 167, 136, 137, 142, 177, 178, 183, 242, 243, 245, 198, 199, 204, 174, 176, 178, 237, 239, 243, 231, 234, 235, 177, 177, 179, 72, 65, 70, 26, 19, 23, 89, 85, 86, 206, 210, 217, 215, 221, 230, 171, 166, 173, 154, 149, 152, 209, 216, 224, 185, 190, 200, 190, 190, 202, 184, 181, 193, 201, 206, 215, 221, 227, 233, 231, 232, 237, 234, 234, 239, 229, 231, 235, 213, 218, 224, 186, 192, 196, 214, 216, 217, 235, 236, 242, 233, 234, 238, 226, 229, 236, 201, 200, 208, 119, 114, 116, 130, 129, 134, 166, 166, 170, 207, 208, 210, 186, 186, 191, 177, 178, 181, 232, 232, 237, 232, 232, 234, 229, 230, 234, 185, 187, 194, 64, 62, 66, 48, 44, 44, 171, 172, 172, 215, 220, 227, 142, 135, 143, 159, 156, 165, 182, 184, 191, 172, 172, 179, 179, 180, 190, 179, 179, 190, 193, 200, 208, 209, 217, 225, 221, 227, 235, 229, 230, 234, 228, 228, 232, 206, 212, 219, 175, 181, 181, 221, 223, 224, 231, 231, 235, 231, 232, 235, 222, 224, 231, 139, 137, 142, 101, 95, 97, 217, 220, 224, 204, 205, 207, 189, 190, 192, 162, 162, 167, 151, 150, 154, 182, 182, 186, 198, 199, 201, 183, 185, 187, 165, 168, 172, 171, 171, 178, 63, 60, 62, 91, 89, 87, 173, 172, 175, 128, 121, 127, 170, 169, 178, 154, 152, 158, 139, 133, 141, 157, 154, 163, 165, 166, 173, 175, 180, 186, 200, 206, 215, 217, 222, 230, 228, 233, 238, 215, 217, 221, 152, 147, 147, 150, 150, 149, 227, 232, 237, 234, 235, 237, 233, 234, 237, 228, 228, 236], \"height\": 32, \"channels\": 3, \"width\": 32, \"type\": \"image\", \"id\": 139863129604496}, {\"format\": \"raw\", \"value\": [215, 200, 191, 215, 204, 193, 219, 206, 193, 222, 208, 193, 224, 209, 194, 225, 209, 194, 226, 210, 195, 227, 211, 195, 227, 211, 195, 228, 212, 196, 230, 213, 197, 230, 213, 197, 230, 213, 197, 230, 213, 197, 230, 213, 197, 230, 214, 196, 230, 215, 196, 230, 214, 196, 230, 214, 195, 229, 213, 194, 229, 212, 194, 229, 212, 194, 229, 212, 194, 228, 211, 192, 230, 211, 193, 223, 200, 179, 221, 199, 180, 224, 206, 189, 221, 206, 189, 220, 203, 186, 215, 200, 183, 161, 143, 120, 206, 200, 193, 219, 204, 189, 219, 205, 194, 222, 207, 194, 224, 207, 193, 225, 207, 193, 226, 208, 194, 227, 210, 194, 228, 211, 195, 229, 212, 196, 229, 213, 197, 230, 214, 198, 230, 214, 198, 230, 213, 197, 231, 214, 198, 231, 214, 197, 231, 214, 196, 231, 214, 196, 231, 214, 196, 230, 213, 195, 229, 212, 194, 230, 213, 195, 229, 212, 194, 229, 211, 192, 230, 211, 193, 224, 199, 179, 222, 198, 181, 225, 206, 190, 222, 206, 190, 220, 203, 187, 218, 202, 185, 179, 160, 140, 132, 188, 219, 186, 199, 205, 218, 205, 193, 222, 206, 193, 225, 207, 193, 225, 207, 193, 227, 209, 194, 227, 210, 195, 228, 211, 195, 229, 211, 195, 234, 209, 195, 239, 213, 200, 233, 212, 197, 231, 214, 198, 231, 214, 198, 231, 214, 197, 231, 214, 196, 231, 214, 196, 231, 214, 196, 230, 213, 195, 230, 213, 195, 230, 213, 195, 229, 212, 194, 229, 210, 192, 231, 211, 193, 224, 199, 179, 222, 198, 181, 226, 206, 190, 223, 206, 190, 221, 203, 188, 221, 204, 188, 219, 198, 182, 76, 163, 215, 104, 178, 219, 193, 198, 201, 223, 205, 193, 226, 207, 194, 225, 208, 194, 228, 209, 195, 235, 213, 199, 233, 212, 198, 230, 205, 190, 232, 192, 178, 240, 202, 189, 234, 206, 192, 231, 214, 198, 231, 214, 198, 231, 214, 198, 231, 214, 198, 231, 214, 198, 231, 214, 197, 230, 213, 195, 230, 213, 194, 230, 212, 194, 230, 211, 194, 229, 210, 193, 231, 211, 194, 223, 200, 179, 222, 198, 180, 226, 206, 191, 222, 206, 190, 221, 203, 187, 222, 205, 188, 222, 202, 185, 80, 137, 188, 61, 151, 208, 148, 180, 199, 223, 205, 194, 226, 206, 194, 224, 207, 194, 231, 206, 196, 237, 207, 196, 242, 213, 201, 236, 203, 189, 229, 183, 169, 234, 187, 171, 230, 200, 184, 231, 215, 199, 231, 214, 198, 231, 214, 198, 231, 214, 198, 231, 214, 198, 231, 214, 198, 229, 212, 195, 230, 212, 194, 230, 211, 194, 229, 210, 193, 229, 210, 193, 231, 211, 194, 223, 200, 179, 221, 197, 180, 225, 204, 189, 222, 206, 190, 221, 203, 188, 222, 205, 187, 221, 201, 183, 50, 118, 170, 43, 117, 169, 150, 164, 180, 223, 205, 189, 221, 205, 192, 224, 202, 191, 225, 190, 181, 227, 187, 177, 237, 199, 188, 236, 196, 183, 233, 189, 173, 219, 172, 153, 223, 200, 183, 231, 214, 198, 231, 214, 198, 231, 214, 198, 231, 214, 198, 231, 214, 198, 230, 213, 198, 229, 212, 196, 229, 212, 194, 230, 211, 194, 229, 210, 193, 229, 210, 193, 230, 211, 193, 223, 200, 178, 221, 197, 179, 224, 203, 188, 222, 206, 190, 221, 203, 188, 222, 205, 188, 223, 203, 185, 65, 125, 170, 104, 121, 141, 198, 186, 183, 222, 206, 194, 222, 205, 195, 221, 196, 184, 209, 164, 152, 216, 170, 159, 230, 187, 177, 236, 191, 179, 229, 181, 165, 195, 145, 128, 218, 200, 186, 230, 213, 198, 231, 214, 199, 231, 214, 198, 230, 214, 198, 231, 214, 198, 230, 212, 198, 229, 212, 197, 229, 211, 195, 229, 210, 193, 229, 210, 193, 229, 210, 193, 230, 211, 193, 222, 199, 178, 221, 197, 180, 224, 204, 189, 223, 206, 190, 220, 202, 187, 220, 203, 185, 210, 191, 173, 113, 144, 171, 173, 134, 125, 202, 164, 159, 209, 172, 166, 212, 179, 170, 211, 179, 168, 197, 149, 138, 197, 148, 135, 228, 184, 172, 234, 184, 163, 226, 173, 146, 199, 135, 111, 217, 184, 160, 231, 201, 176, 234, 204, 182, 236, 208, 181, 235, 212, 194, 231, 214, 198, 231, 213, 197, 228, 212, 194, 228, 210, 195, 230, 210, 193, 229, 210, 192, 229, 210, 193, 230, 210, 193, 222, 198, 179, 220, 198, 180, 225, 205, 189, 224, 205, 189, 220, 203, 185, 217, 200, 184, 154, 136, 113, 109, 145, 183, 182, 79, 98, 192, 95, 106, 200, 92, 106, 204, 90, 104, 218, 146, 140, 210, 162, 143, 219, 174, 149, 229, 175, 138, 223, 156, 113, 232, 169, 126, 242, 182, 139, 242, 187, 148, 244, 192, 148, 241, 188, 145, 246, 195, 150, 246, 200, 165, 237, 210, 189, 230, 213, 197, 232, 214, 195, 230, 214, 199, 229, 213, 197, 232, 214, 195, 231, 213, 195, 229, 211, 192, 222, 197, 176, 220, 197, 179, 224, 205, 188, 223, 204, 187, 221, 203, 185, 218, 200, 184, 146, 127, 104, 95, 149, 185, 185, 87, 111, 211, 75, 99, 209, 81, 100, 214, 95, 112, 225, 156, 143, 239, 190, 156, 234, 178, 138, 222, 154, 105, 214, 142, 92, 225, 153, 104, 233, 164, 116, 241, 180, 132, 234, 172, 127, 229, 169, 122, 241, 185, 142, 248, 192, 147, 246, 200, 164, 230, 200, 174, 211, 196, 183, 211, 183, 159, 198, 163, 134, 201, 167, 141, 211, 185, 163, 232, 212, 194, 219, 198, 180, 218, 196, 179, 224, 205, 188, 223, 204, 188, 221, 203, 185, 217, 199, 183, 156, 135, 112, 99, 155, 192, 137, 153, 195, 177, 118, 152, 196, 96, 112, 221, 161, 140, 227, 171, 133, 233, 169, 131, 229, 163, 119, 221, 149, 98, 210, 131, 74, 211, 129, 68, 212, 132, 73, 217, 142, 81, 199, 126, 73, 217, 152, 98, 236, 175, 130, 238, 180, 135, 246, 188, 144, 230, 175, 130, 190, 146, 112, 168, 128, 96, 130, 83, 54, 147, 89, 55, 145, 91, 58, 175, 140, 115, 218, 195, 177, 217, 195, 179, 223, 204, 187, 223, 204, 187, 220, 201, 184, 220, 202, 186, 164, 140, 119, 75, 147, 191, 91, 175, 220, 110, 187, 226, 183, 151, 179, 193, 135, 110, 208, 146, 104, 226, 166, 125, 226, 157, 108, 210, 130, 75, 202, 116, 57, 207, 124, 65, 206, 127, 69, 188, 105, 51, 144, 74, 35, 208, 139, 90, 237, 177, 133, 230, 172, 130, 242, 181, 137, 233, 166, 115, 234, 171, 117, 210, 163, 123, 124, 94, 71, 99, 63, 41, 117, 67, 42, 107, 64, 34, 168, 140, 114, 219, 197, 181, 220, 201, 186, 222, 203, 186, 224, 206, 189, 190, 171, 153, 145, 118, 94, 85, 132, 163, 83, 159, 206, 125, 169, 216, 199, 154, 172, 144, 89, 66, 194, 136, 99, 223, 159, 113, 215, 138, 84, 199, 114, 58, 197, 112, 55, 210, 130, 70, 216, 139, 84, 178, 100, 54, 97, 42, 24, 165, 108, 70, 239, 184, 139, 247, 194, 152, 240, 181, 135, 228, 160, 105, 219, 161, 115, 162, 120, 92, 97, 66, 50, 58, 41, 30, 71, 46, 31, 119, 68, 45, 122, 77, 50, 187, 164, 147, 201, 181, 165, 176, 157, 140, 141, 127, 112, 105, 81, 62, 129, 87, 56, 56, 100, 139, 40, 121, 183, 190, 162, 195, 229, 166, 181, 144, 88, 63, 200, 141, 104, 207, 136, 85, 201, 118, 62, 186, 99, 45, 190, 103, 48, 213, 132, 73, 220, 146, 94, 198, 123, 73, 125, 65, 36, 137, 78, 47, 221, 163, 120, 239, 185, 143, 224, 163, 118, 206, 130, 78, 227, 167, 119, 185, 146, 113, 109, 77, 57, 83, 55, 41, 57, 39, 28, 86, 49, 31, 103, 58, 34, 136, 99, 75, 177, 135, 104, 126, 92, 67, 68, 47, 38, 110, 77, 58, 117, 73, 44, 73, 95, 122, 71, 95, 141, 170, 139, 172, 202, 141, 155, 159, 107, 73, 208, 144, 102, 194, 116, 66, 186, 101, 50, 178, 92, 42, 191, 104, 50, 210, 129, 72, 218, 147, 93, 212, 140, 90, 168, 98, 61, 140, 80, 50, 198, 140, 103, 218, 162, 120, 192, 128, 84, 184, 110, 61, 216, 153, 105, 213, 167, 131, 140, 103, 76, 129, 87, 59, 86, 55, 39, 93, 54, 35, 105, 59, 36, 109, 66, 42, 156, 101, 67, 116, 74, 51, 81, 63, 55, 122, 87, 65, 123, 101, 78, 212, 137, 138, 206, 136, 136, 201, 142, 141, 177, 118, 112, 188, 136, 101, 218, 154, 107, 190, 110, 60, 176, 90, 42, 187, 100, 47, 203, 118, 62, 213, 134, 79, 215, 144, 90, 212, 142, 92, 199, 129, 83, 162, 99, 59, 174, 121, 85, 169, 113, 79, 181, 117, 75, 193, 119, 70, 183, 130, 86, 151, 111, 87, 147, 115, 91, 155, 114, 81, 115, 70, 48, 115, 70, 45, 113, 63, 38, 101, 60, 39, 136, 88, 60, 113, 77, 58, 113, 89, 71, 150, 129, 108, 159, 138, 116, 216, 88, 112, 220, 98, 119, 223, 100, 124, 207, 98, 111, 208, 151, 115, 218, 150, 101, 190, 110, 58, 175, 93, 43, 191, 108, 52, 203, 122, 64, 210, 134, 78, 212, 143, 89, 211, 140, 91, 206, 139, 94, 171, 108, 70, 170, 120, 87, 124, 72, 43, 164, 113, 82, 191, 121, 74, 197, 139, 99, 164, 122, 90, 170, 133, 108, 153, 111, 83, 115, 69, 45, 132, 80, 49, 128, 77, 47, 110, 66, 42, 105, 67, 46, 121, 92, 71, 176, 153, 130, 205, 187, 172, 171, 151, 126, 216, 90, 115, 216, 95, 118, 222, 96, 122, 208, 95, 109, 190, 128, 93, 196, 128, 78, 187, 107, 57, 176, 94, 48, 187, 102, 50, 188, 104, 49, 201, 122, 70, 207, 133, 82, 201, 124, 76, 193, 124, 79, 178, 114, 76, 158, 110, 80, 125, 76, 48, 122, 78, 58, 152, 99, 68, 184, 132, 90, 184, 140, 108, 197, 150, 114, 170, 124, 87, 126, 80, 51, 147, 92, 57, 152, 100, 65, 119, 75, 49, 116, 88, 68, 179, 161, 141, 215, 196, 177, 215, 198, 184, 164, 146, 123, 221, 177, 176, 221, 167, 169, 217, 136, 148, 204, 134, 139, 172, 119, 88, 187, 125, 78, 176, 100, 52, 168, 87, 45, 176, 95, 47, 186, 109, 57, 207, 137, 85, 203, 132, 80, 195, 119, 68, 186, 112, 68, 174, 107, 69, 137, 91, 63, 136, 88, 59, 139, 87, 57, 133, 89, 65, 145, 100, 69, 175, 130, 95, 206, 152, 111, 211, 157, 118, 175, 133, 105, 158, 108, 73, 157, 108, 70, 122, 76, 47, 170, 121, 87, 209, 192, 175, 208, 190, 176, 203, 186, 168, 185, 166, 151, 241, 230, 221, 241, 232, 221, 240, 232, 221, 236, 225, 216, 166, 127, 97, 147, 89, 54, 168, 98, 51, 146, 75, 38, 169, 94, 51, 185, 117, 67, 169, 100, 58, 179, 98, 50, 204, 122, 70, 188, 114, 69, 148, 88, 55, 122, 80, 53, 141, 94, 66, 167, 113, 78, 147, 102, 74, 118, 81, 60, 175, 132, 95, 213, 152, 112, 227, 173, 139, 235, 187, 156, 196, 147, 111, 154, 104, 68, 115, 70, 43, 195, 156, 130, 218, 192, 178, 221, 196, 184, 224, 203, 188, 224, 206, 192, 241, 226, 220, 244, 227, 219, 242, 226, 216, 241, 227, 220, 163, 122, 100, 87, 51, 31, 109, 60, 34, 118, 57, 29, 134, 66, 37, 144, 77, 42, 90, 44, 27, 84, 43, 31, 117, 70, 44, 130, 71, 45, 137, 76, 45, 115, 75, 53, 137, 95, 70, 170, 125, 96, 164, 120, 88, 149, 107, 76, 170, 121, 84, 206, 146, 103, 208, 154, 116, 226, 166, 123, 200, 148, 111, 168, 126, 97, 204, 177, 157, 231, 211, 194, 240, 221, 208, 244, 226, 213, 247, 231, 217, 246, 233, 218, 241, 228, 220, 240, 226, 219, 244, 236, 228, 248, 244, 239, 172, 146, 125, 129, 94, 76, 72, 53, 46, 86, 38, 17, 72, 30, 16, 88, 35, 17, 50, 31, 20, 35, 35, 33, 47, 47, 44, 135, 78, 48, 153, 82, 44, 111, 74, 49, 127, 86, 62, 149, 106, 80, 158, 111, 77, 174, 122, 82, 188, 135, 96, 175, 111, 76, 206, 139, 90, 236, 174, 132, 212, 162, 126, 216, 191, 173, 248, 234, 224, 245, 231, 222, 244, 230, 221, 245, 229, 219, 246, 230, 219, 246, 232, 220, 245, 233, 225, 245, 230, 223, 244, 225, 216, 240, 218, 211, 203, 172, 152, 165, 131, 106, 135, 84, 60, 101, 49, 25, 24, 16, 10, 73, 32, 21, 88, 44, 32, 45, 32, 33, 73, 51, 41, 157, 87, 47, 161, 83, 40, 122, 73, 43, 131, 84, 53, 148, 97, 64, 156, 102, 66, 169, 117, 77, 167, 108, 70, 174, 108, 63, 223, 154, 102, 236, 176, 128, 234, 194, 162, 247, 233, 223, 247, 236, 226, 249, 235, 225, 250, 236, 224, 250, 233, 219, 249, 235, 223, 248, 237, 225, 245, 231, 222, 246, 232, 223, 244, 224, 209, 240, 214, 197, 220, 184, 158, 163, 113, 74, 133, 73, 44, 76, 43, 26, 42, 29, 23, 37, 20, 10, 145, 76, 42, 129, 72, 42, 109, 54, 30, 132, 59, 34, 176, 100, 53, 150, 93, 57, 104, 64, 40, 118, 70, 40, 137, 89, 55, 140, 91, 61, 151, 88, 53, 208, 142, 96, 229, 167, 116, 235, 175, 130, 233, 189, 157, 248, 231, 219, 249, 235, 221, 251, 239, 228, 251, 239, 225, 249, 231, 213, 248, 229, 211, 250, 227, 207, 246, 229, 215, 246, 228, 214, 247, 224, 210, 240, 211, 192, 226, 192, 169, 195, 147, 114, 136, 82, 55, 92, 60, 43, 52, 45, 36, 32, 25, 23, 65, 34, 21, 160, 94, 55, 160, 97, 62, 140, 71, 38, 179, 108, 59, 113, 72, 47, 61, 33, 25, 101, 60, 41, 118, 76, 53, 121, 65, 33, 161, 87, 41, 204, 137, 91, 225, 164, 128, 223, 155, 111, 230, 183, 147, 249, 236, 221, 251, 234, 215, 250, 231, 210, 250, 228, 203, 255, 228, 197, 255, 226, 193, 255, 223, 187, 241, 219, 205, 246, 228, 219, 245, 224, 211, 238, 210, 191, 232, 198, 177, 211, 169, 139, 151, 106, 74, 95, 67, 49, 39, 32, 32, 44, 36, 32, 78, 45, 31, 93, 45, 28, 148, 82, 45, 204, 130, 82, 172, 113, 72, 100, 65, 42, 82, 54, 36, 88, 58, 41, 118, 84, 68, 193, 153, 126, 228, 195, 171, 224, 177, 144, 214, 150, 105, 203, 140, 89, 229, 190, 156, 254, 233, 209, 254, 229, 200, 252, 224, 190, 241, 210, 171, 220, 183, 144, 196, 157, 118, 178, 138, 99, 246, 217, 188, 246, 222, 197, 247, 220, 196, 239, 206, 180, 236, 199, 173, 214, 172, 144, 164, 120, 92, 108, 83, 71, 52, 46, 41, 66, 50, 43, 97, 65, 52, 139, 90, 58, 159, 97, 63, 193, 132, 86, 151, 99, 61, 121, 77, 47, 114, 76, 49, 102, 70, 52, 200, 172, 156, 246, 232, 222, 246, 240, 232, 246, 242, 234, 224, 189, 162, 204, 153, 107, 241, 205, 167, 241, 205, 168, 229, 192, 154, 212, 174, 139, 194, 160, 130, 189, 158, 133, 191, 161, 139, 205, 178, 158, 231, 192, 158, 236, 196, 161, 236, 195, 159, 235, 191, 156, 224, 180, 140, 211, 164, 121, 176, 127, 87, 100, 73, 56, 92, 73, 66, 95, 73, 65, 99, 72, 56, 148, 107, 79, 152, 110, 84, 109, 78, 54, 108, 68, 39, 115, 74, 43, 109, 72, 41, 132, 99, 75, 221, 198, 185, 234, 219, 211, 242, 232, 224, 238, 227, 221, 231, 215, 200, 221, 189, 158, 234, 204, 177, 230, 203, 179, 232, 208, 190, 237, 213, 198, 240, 219, 207, 243, 223, 208, 244, 224, 210, 241, 222, 208, 142, 106, 82, 159, 123, 98, 160, 125, 98, 163, 129, 102, 160, 124, 97, 162, 123, 96, 146, 105, 78, 74, 49, 31, 59, 43, 33, 71, 53, 44, 64, 46, 40, 62, 48, 36, 73, 53, 37, 84, 62, 43, 99, 72, 51, 113, 80, 57, 112, 78, 58, 123, 92, 74, 178, 151, 140, 173, 155, 147, 215, 198, 191, 180, 159, 148, 205, 181, 168, 241, 218, 203, 243, 222, 207, 243, 223, 210, 243, 223, 209, 243, 222, 208, 241, 220, 205, 239, 220, 205, 237, 218, 203, 238, 219, 204, 217, 202, 190, 219, 203, 191, 220, 201, 190, 217, 198, 188, 213, 194, 182, 208, 188, 174, 199, 178, 164, 188, 165, 148, 172, 149, 134, 157, 132, 117, 118, 97, 82, 113, 96, 80, 143, 117, 100, 174, 146, 125, 192, 164, 143, 207, 180, 157, 208, 183, 161, 194, 170, 149, 172, 145, 127, 138, 116, 98, 178, 156, 139, 172, 147, 123, 216, 196, 173, 241, 222, 207, 241, 222, 207, 242, 222, 207, 240, 220, 205, 238, 219, 204, 239, 220, 205, 239, 220, 205, 237, 218, 203, 238, 219, 204, 227, 212, 201, 228, 212, 202, 229, 212, 204, 228, 212, 203, 228, 212, 201, 225, 209, 197, 225, 209, 197, 223, 208, 199, 227, 211, 202, 231, 212, 202, 229, 211, 197, 232, 213, 200, 232, 213, 201, 229, 210, 197, 233, 213, 202, 235, 216, 205, 237, 217, 206, 238, 220, 207, 240, 220, 203, 234, 214, 196, 235, 215, 199, 241, 221, 205, 243, 225, 213, 240, 222, 209, 240, 221, 207, 240, 221, 207, 240, 222, 207, 240, 221, 206, 239, 220, 205, 239, 220, 205, 238, 219, 204, 236, 218, 202, 226, 211, 199, 228, 214, 202, 229, 213, 201, 226, 209, 197, 224, 207, 194, 227, 210, 198, 226, 208, 196, 227, 210, 197, 229, 210, 196, 230, 210, 196, 231, 213, 199, 232, 214, 201, 234, 218, 205, 233, 214, 200, 236, 216, 202, 232, 213, 198, 234, 215, 200, 238, 219, 205, 238, 219, 206, 241, 221, 208, 241, 221, 208, 240, 219, 205, 240, 219, 206, 239, 220, 204, 239, 219, 204, 240, 222, 207, 241, 221, 206, 240, 219, 203, 240, 221, 206, 239, 220, 206, 237, 218, 204, 238, 220, 205], \"height\": 32, \"channels\": 3, \"width\": 32, \"type\": \"image\", \"id\": 139863129605328}], \"selected_variable\": {\"name\": [\"<SArray>\"], \"dtype\": \"Image\", \"view_component\": \"Images\", \"view_file\": \"sarray\", \"descriptives\": {\"rows\": 4}, \"type\": \"SArray\", \"view_components\": [\"Images\"]}}, e);\n",
       "                });\n",
       "            })();\n",
       "        "
      ]
     },
     "metadata": {},
     "output_type": "display_data"
    }
   ],
   "source": [
    "def reveal_my_twin(x):\n",
    "    return gl_img.filter_by(x['reference_label'],'id')\n",
    "spirit_animal = reveal_my_twin(knn_model.query(me_test))\n",
    "spirit_animal['image'].show()"
   ]
  },
  {
   "cell_type": "code",
   "execution_count": 37,
   "metadata": {},
   "outputs": [
    {
     "data": {
      "application/javascript": [
       "$(\"head\").append($(\"<link/>\").attr({\n",
       "  rel:  \"stylesheet\",\n",
       "  type: \"text/css\",\n",
       "  href: \"//cdnjs.cloudflare.com/ajax/libs/font-awesome/4.1.0/css/font-awesome.min.css\"\n",
       "}));\n",
       "$(\"head\").append($(\"<link/>\").attr({\n",
       "  rel:  \"stylesheet\",\n",
       "  type: \"text/css\",\n",
       "  href: \"https://static.turi.com/products/graphlab-create/2.1/canvas/css/canvas.css\"\n",
       "}));\n",
       "\n",
       "            (function(){\n",
       "\n",
       "                var e = null;\n",
       "                if (typeof element == 'undefined') {\n",
       "                    var scripts = document.getElementsByTagName('script');\n",
       "                    var thisScriptTag = scripts[scripts.length-1];\n",
       "                    var parentDiv = thisScriptTag.parentNode;\n",
       "                    e = document.createElement('div');\n",
       "                    parentDiv.appendChild(e);\n",
       "                } else {\n",
       "                    e = element[0];\n",
       "                }\n",
       "\n",
       "                if (typeof requirejs !== 'undefined') {\n",
       "                    // disable load timeout; ipython_app.js is large and can take a while to load.\n",
       "                    requirejs.config({waitSeconds: 0});\n",
       "                }\n",
       "\n",
       "                require(['https://static.turi.com/products/graphlab-create/2.1/canvas/js/ipython_app.js'], function(IPythonApp){\n",
       "                    var app = new IPythonApp();\n",
       "                    app.attachView('sarray','Images', {\"ipython\": true, \"rows\": [{\"format\": \"png\", \"value\": \"image/png;base64,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\\n\", \"height\": 96, \"channels\": 3, \"width\": 96, \"type\": \"image\", \"id\": 139863129572432}], \"selected_variable\": {\"name\": [\"<SArray>\"], \"dtype\": \"Image\", \"view_component\": \"Images\", \"view_file\": \"sarray\", \"descriptives\": {\"rows\": 1}, \"type\": \"SArray\", \"view_components\": [\"Images\"]}}, e);\n",
       "                });\n",
       "            })();\n",
       "        "
      ]
     },
     "metadata": {},
     "output_type": "display_data"
    }
   ],
   "source": [
    "graphlab.image_analysis.resize(spirit_animal['image'][0:1],96,96).show()"
   ]
  },
  {
   "cell_type": "code",
   "execution_count": null,
   "metadata": {},
   "outputs": [],
   "source": []
  }
 ],
 "metadata": {
  "kernelspec": {
   "display_name": "Python 2",
   "language": "python",
   "name": "python2"
  },
  "language_info": {
   "codemirror_mode": {
    "name": "ipython",
    "version": 2
   },
   "file_extension": ".py",
   "mimetype": "text/x-python",
   "name": "python",
   "nbconvert_exporter": "python",
   "pygments_lexer": "ipython2",
   "version": "2.7.13"
  }
 },
 "nbformat": 4,
 "nbformat_minor": 2
}
